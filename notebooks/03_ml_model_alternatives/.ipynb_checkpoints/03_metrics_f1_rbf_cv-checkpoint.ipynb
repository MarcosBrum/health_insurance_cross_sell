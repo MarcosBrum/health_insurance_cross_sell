{
 "cells": [
  {
   "cell_type": "markdown",
   "metadata": {
    "heading_collapsed": true
   },
   "source": [
    "# 0.0 Imports"
   ]
  },
  {
   "cell_type": "code",
   "execution_count": 1,
   "metadata": {
    "executionInfo": {
     "elapsed": 946,
     "status": "ok",
     "timestamp": 1612209064533,
     "user": {
      "displayName": "Marcos Brum",
      "photoUrl": "",
      "userId": "01128907480799177332"
     },
     "user_tz": 180
    },
    "hidden": true,
    "id": "RrUDSxxyDLEF"
   },
   "outputs": [],
   "source": [
    "import pandas as pd\n",
    "import numpy as np\n",
    "#!python3 -m pip install pickle5\n",
    "import pickle\n",
    "\n",
    "from sklearn.linear_model import SGDClassifier as sgd\n",
    "from sklearn.kernel_approximation import RBFSampler as rbf_s\n",
    "from sklearn.metrics import accuracy_score, balanced_accuracy_score, precision_score, recall_score, f1_score\n",
    "from sklearn.model_selection import StratifiedShuffleSplit as sss"
   ]
  },
  {
   "cell_type": "markdown",
   "metadata": {
    "heading_collapsed": true,
    "hidden": true,
    "id": "Ks7HfSw5CzQ2"
   },
   "source": [
    "## 0.1 Load data"
   ]
  },
  {
   "cell_type": "code",
   "execution_count": 2,
   "metadata": {
    "executionInfo": {
     "elapsed": 944,
     "status": "ok",
     "timestamp": 1612209064536,
     "user": {
      "displayName": "Marcos Brum",
      "photoUrl": "",
      "userId": "01128907480799177332"
     },
     "user_tz": 180
    },
    "hidden": true,
    "id": "dg9T3VAtCQGM"
   },
   "outputs": [],
   "source": [
    "## 0.1 Load data\n",
    "\n",
    "df_train_res = pd.read_pickle(\"df_train_to_colab.pkl\")\n",
    "\n",
    "cols_selected_boruta_resampled = pickle.load(open(\"cols_selected_boruta_resampled_nn.pkl\", \"rb\"))"
   ]
  },
  {
   "cell_type": "code",
   "execution_count": 3,
   "metadata": {
    "executionInfo": {
     "elapsed": 944,
     "status": "ok",
     "timestamp": 1612209064539,
     "user": {
      "displayName": "Marcos Brum",
      "photoUrl": "",
      "userId": "01128907480799177332"
     },
     "user_tz": 180
    },
    "hidden": true,
    "id": "RSjNan-aJZgK"
   },
   "outputs": [],
   "source": [
    "resp = ['response']\n",
    "cols_selected_boruta_resampled_full = cols_selected_boruta_resampled.copy()\n",
    "cols_selected_boruta_resampled_full.extend(resp)"
   ]
  },
  {
   "cell_type": "code",
   "execution_count": 4,
   "metadata": {
    "executionInfo": {
     "elapsed": 1347,
     "status": "ok",
     "timestamp": 1612209064946,
     "user": {
      "displayName": "Marcos Brum",
      "photoUrl": "",
      "userId": "01128907480799177332"
     },
     "user_tz": 180
    },
    "hidden": true,
    "id": "Cu9LoybGCED7"
   },
   "outputs": [],
   "source": [
    "df7 = df_train_res[cols_selected_boruta_resampled_full].copy()"
   ]
  },
  {
   "cell_type": "markdown",
   "metadata": {
    "heading_collapsed": true,
    "hidden": true,
    "id": "cbegDCc9CuQH"
   },
   "source": [
    "## 0.2 Helper functions"
   ]
  },
  {
   "cell_type": "code",
   "execution_count": 5,
   "metadata": {
    "executionInfo": {
     "elapsed": 1347,
     "status": "ok",
     "timestamp": 1612209064950,
     "user": {
      "displayName": "Marcos Brum",
      "photoUrl": "",
      "userId": "01128907480799177332"
     },
     "user_tz": 180
    },
    "hidden": true,
    "id": "MO07ns0kCmfo"
   },
   "outputs": [],
   "source": [
    "## 0.2 Helper Functions\n",
    "\n",
    "def metric_scores(y_true, y_pred):\n",
    "    return pd.DataFrame({'accuracy':accuracy_score(y_true, y_pred),\n",
    "                        'balanced_accuracy':balanced_accuracy_score(y_true, y_pred),\n",
    "                        'precision':precision_score(y_true, y_pred),\n",
    "                        'precision_0':precision_score(y_true, y_pred, pos_label=0),\n",
    "                        'recall':recall_score(y_true, y_pred),\n",
    "                        'specificity':recall_score(y_true, y_pred, pos_label=0),\n",
    "                        'F1':f1_score(y_true, y_pred),\n",
    "                        'F1_weighted':f1_score(y_true, y_pred, average='weighted'),\n",
    "                        'G_mean':np.sqrt(recall_score(y_true, y_pred)*recall_score(y_true, y_pred, pos_label=0))},\n",
    "                        index=[0])\n",
    "\n",
    "\n",
    "def cross_validation(training_data, kfolds, model, model_name, verbose=False):\n",
    "    xtraining = training_data.drop(['response'], axis=1)\n",
    "    ytraining = training_data.response\n",
    "    \n",
    "    cv = sss(n_splits=kfolds)\n",
    "    acc_list = []\n",
    "    bal_acc_list = []\n",
    "    prec_list = []\n",
    "    prec0_list = []\n",
    "    rec_list = []\n",
    "    spec_list = []\n",
    "    f1_list = []\n",
    "    f1w_list = []\n",
    "    g_list = []\n",
    "    for train_index, prim_val_index in cv.split(xtraining, ytraining):\n",
    "        X_training, X_prim_val = xtraining.iloc[train_index], xtraining.iloc[prim_val_index]\n",
    "        y_training, y_prim_val = ytraining.iloc[train_index], ytraining.iloc[prim_val_index]\n",
    "        \n",
    "        m = model.fit(X_training, y_training)\n",
    "        yhat = m.predict(X_prim_val)\n",
    "        \n",
    "        score_table = metric_scores(y_prim_val, yhat)\n",
    "        acc_list.append(score_table['accuracy'])\n",
    "        bal_acc_list.append(score_table['balanced_accuracy'])\n",
    "        prec_list.append(score_table['precision'])\n",
    "        prec0_list.append(score_table['precision_0'])\n",
    "        rec_list.append(score_table['recall'])\n",
    "        spec_list.append(score_table['specificity'])\n",
    "        f1_list.append(score_table['F1'])\n",
    "        f1w_list.append(score_table['F1_weighted'])\n",
    "        g_list.append(score_table['G_mean'])\n",
    "    \n",
    "    acc_pred = np.round(np.mean(acc_list), 4).astype(str) + '+/-' + np.round(np.std(acc_list), 4).astype(str)\n",
    "    bal_acc_pred = np.round(np.mean(bal_acc_list), 4).astype(str) + '+/-' + np.round(np.std(bal_acc_list), 4).astype(str)\n",
    "    prec_pred = np.round(np.mean(prec_list), 4).astype(str) + '+/-' + np.round(np.std(prec_list), 4).astype(str)\n",
    "    prec0_pred = np.round(np.mean(prec0_list), 4).astype(str) + '+/-' + np.round(np.std(prec0_list), 4).astype(str)\n",
    "    rec_pred = np.round(np.mean(rec_list), 4).astype(str) + '+/-' + np.round(np.std(rec_list), 4).astype(str)\n",
    "    spec_pred = np.round(np.mean(spec_list), 4).astype(str) + '+/-' + np.round(np.std(spec_list), 4).astype(str)\n",
    "    f1_pred = np.round(np.mean(f1_list), 4).astype(str) + '+/-' + np.round(np.std(f1_list), 4).astype(str)\n",
    "    f1w_pred = np.round(np.mean(f1w_list), 4).astype(str) + '+/-' + np.round(np.std(f1w_list), 4).astype(str)\n",
    "    g_pred = np.round(np.mean(g_list), 4).astype(str) + '+/-' + np.round(np.std(g_list), 4).astype(str)\n",
    "    return pd.DataFrame({'Model name':model_name,\n",
    "                         'accuracy':acc_pred,\n",
    "                         'balanced_accuracy':bal_acc_pred,\n",
    "                         'precision':prec_pred,\n",
    "                         'precision_0':prec0_pred,\n",
    "                         'recall':rec_pred,\n",
    "                         'specificity':spec_pred,\n",
    "                         'F1':f1_pred,\n",
    "                         'F1_weighted':f1w_pred,\n",
    "                         'G_mean':g_pred}, index=[0])"
   ]
  },
  {
   "cell_type": "markdown",
   "metadata": {
    "heading_collapsed": true,
    "id": "aMn1SZSZC7Vk"
   },
   "source": [
    "# 7.0 Machine Learning Models"
   ]
  },
  {
   "cell_type": "code",
   "execution_count": 6,
   "metadata": {
    "executionInfo": {
     "elapsed": 12561,
     "status": "ok",
     "timestamp": 1612209076168,
     "user": {
      "displayName": "Marcos Brum",
      "photoUrl": "",
      "userId": "01128907480799177332"
     },
     "user_tz": 180
    },
    "hidden": true,
    "id": "aKwRK0SPBimF"
   },
   "outputs": [],
   "source": [
    "### 7.6.2 Approximation kernel - rbf\n",
    "\n",
    "# rbf\n",
    "df7_data = df7.copy().drop(['response'], axis=1)\n",
    "df7_target = df7.response\n",
    "\n",
    "data_rbf = rbf_s(random_state=30, n_components=500).fit_transform(df7_data)\n",
    "data_rbf_df = pd.DataFrame(data_rbf)\n",
    "\n",
    "df7_rbf = pd.concat([data_rbf_df, df7_target], axis=1)"
   ]
  },
  {
   "cell_type": "code",
   "execution_count": 7,
   "metadata": {
    "colab": {
     "base_uri": "https://localhost:8080/",
     "height": 81
    },
    "executionInfo": {
     "elapsed": 54194,
     "status": "ok",
     "timestamp": 1612209117804,
     "user": {
      "displayName": "Marcos Brum",
      "photoUrl": "",
      "userId": "01128907480799177332"
     },
     "user_tz": 180
    },
    "hidden": true,
    "id": "mDBmgsuLB2Z4",
    "outputId": "9aceaa14-c84f-4cf2-e44a-55bc9b504359"
   },
   "outputs": [
    {
     "data": {
      "text/html": [
       "<div>\n",
       "<style scoped>\n",
       "    .dataframe tbody tr th:only-of-type {\n",
       "        vertical-align: middle;\n",
       "    }\n",
       "\n",
       "    .dataframe tbody tr th {\n",
       "        vertical-align: top;\n",
       "    }\n",
       "\n",
       "    .dataframe thead th {\n",
       "        text-align: right;\n",
       "    }\n",
       "</style>\n",
       "<table border=\"1\" class=\"dataframe\">\n",
       "  <thead>\n",
       "    <tr style=\"text-align: right;\">\n",
       "      <th></th>\n",
       "      <th>Model name</th>\n",
       "      <th>accuracy</th>\n",
       "      <th>balanced_accuracy</th>\n",
       "      <th>precision</th>\n",
       "      <th>precision_0</th>\n",
       "      <th>recall</th>\n",
       "      <th>specificity</th>\n",
       "      <th>F1</th>\n",
       "      <th>F1_weighted</th>\n",
       "      <th>G_mean</th>\n",
       "    </tr>\n",
       "  </thead>\n",
       "  <tbody>\n",
       "    <tr>\n",
       "      <th>0</th>\n",
       "      <td>SGD Classifier - rbf, hinge</td>\n",
       "      <td>0.7956+/-0.0016</td>\n",
       "      <td>0.8038+/-0.0017</td>\n",
       "      <td>0.7187+/-0.0012</td>\n",
       "      <td>0.9098+/-0.0032</td>\n",
       "      <td>0.922+/-0.003</td>\n",
       "      <td>0.6855+/-0.0017</td>\n",
       "      <td>0.8077+/-0.0017</td>\n",
       "      <td>0.7939+/-0.0016</td>\n",
       "      <td>0.795+/-0.0016</td>\n",
       "    </tr>\n",
       "  </tbody>\n",
       "</table>\n",
       "</div>"
      ],
      "text/plain": [
       "                    Model name  ...          G_mean\n",
       "0  SGD Classifier - rbf, hinge  ...  0.795+/-0.0016\n",
       "\n",
       "[1 rows x 10 columns]"
      ]
     },
     "execution_count": 7,
     "metadata": {
      "tags": []
     },
     "output_type": "execute_result"
    }
   ],
   "source": [
    "# SGD Classifier - rbf, hinge loss\n",
    "model = sgd(loss='hinge', random_state=30, n_jobs=-1)\n",
    "sgd_rbf_hinge_cv = cross_validation(df7_rbf, 5, model, 'SGD Classifier - rbf, hinge')\n",
    "sgd_rbf_hinge_cv"
   ]
  },
  {
   "cell_type": "code",
   "execution_count": 8,
   "metadata": {
    "executionInfo": {
     "elapsed": 54193,
     "status": "ok",
     "timestamp": 1612209117806,
     "user": {
      "displayName": "Marcos Brum",
      "photoUrl": "",
      "userId": "01128907480799177332"
     },
     "user_tz": 180
    },
    "hidden": true,
    "id": "q55BfpUuDYpz"
   },
   "outputs": [],
   "source": [
    "sgd_rbf_hinge_cv.to_pickle('sgd_rbf_hinge_cv.pkl')"
   ]
  },
  {
   "cell_type": "code",
   "execution_count": 9,
   "metadata": {
    "colab": {
     "base_uri": "https://localhost:8080/",
     "height": 81
    },
    "executionInfo": {
     "elapsed": 88537,
     "status": "ok",
     "timestamp": 1612209152152,
     "user": {
      "displayName": "Marcos Brum",
      "photoUrl": "",
      "userId": "01128907480799177332"
     },
     "user_tz": 180
    },
    "hidden": true,
    "id": "Xz7YU_aTB0Cs",
    "outputId": "0107768c-9e7a-4914-e606-ffb9ae9f2018"
   },
   "outputs": [
    {
     "data": {
      "text/html": [
       "<div>\n",
       "<style scoped>\n",
       "    .dataframe tbody tr th:only-of-type {\n",
       "        vertical-align: middle;\n",
       "    }\n",
       "\n",
       "    .dataframe tbody tr th {\n",
       "        vertical-align: top;\n",
       "    }\n",
       "\n",
       "    .dataframe thead th {\n",
       "        text-align: right;\n",
       "    }\n",
       "</style>\n",
       "<table border=\"1\" class=\"dataframe\">\n",
       "  <thead>\n",
       "    <tr style=\"text-align: right;\">\n",
       "      <th></th>\n",
       "      <th>Model name</th>\n",
       "      <th>accuracy</th>\n",
       "      <th>balanced_accuracy</th>\n",
       "      <th>precision</th>\n",
       "      <th>precision_0</th>\n",
       "      <th>recall</th>\n",
       "      <th>specificity</th>\n",
       "      <th>F1</th>\n",
       "      <th>F1_weighted</th>\n",
       "      <th>G_mean</th>\n",
       "    </tr>\n",
       "  </thead>\n",
       "  <tbody>\n",
       "    <tr>\n",
       "      <th>0</th>\n",
       "      <td>SGD Classifier - rbf, perceptron</td>\n",
       "      <td>0.7312+/-0.0355</td>\n",
       "      <td>0.733+/-0.0455</td>\n",
       "      <td>0.7086+/-0.0466</td>\n",
       "      <td>0.8162+/-0.1319</td>\n",
       "      <td>0.758+/-0.2154</td>\n",
       "      <td>0.7079+/-0.1366</td>\n",
       "      <td>0.7091+/-0.0911</td>\n",
       "      <td>0.7227+/-0.0408</td>\n",
       "      <td>0.7109+/-0.0535</td>\n",
       "    </tr>\n",
       "  </tbody>\n",
       "</table>\n",
       "</div>"
      ],
      "text/plain": [
       "                         Model name  ...           G_mean\n",
       "0  SGD Classifier - rbf, perceptron  ...  0.7109+/-0.0535\n",
       "\n",
       "[1 rows x 10 columns]"
      ]
     },
     "execution_count": 9,
     "metadata": {
      "tags": []
     },
     "output_type": "execute_result"
    }
   ],
   "source": [
    "# SGD Classifier - rbf, perceptron loss\n",
    "model = sgd(loss='perceptron', eta0=1.0, learning_rate='constant', random_state=30, n_jobs=-1)\n",
    "sgd_rbf_perc_cv = cross_validation(df7_rbf, 5, model, 'SGD Classifier - rbf, perceptron')\n",
    "sgd_rbf_perc_cv"
   ]
  },
  {
   "cell_type": "code",
   "execution_count": 10,
   "metadata": {
    "executionInfo": {
     "elapsed": 88537,
     "status": "ok",
     "timestamp": 1612209152155,
     "user": {
      "displayName": "Marcos Brum",
      "photoUrl": "",
      "userId": "01128907480799177332"
     },
     "user_tz": 180
    },
    "hidden": true,
    "id": "N13S04eyDkYe"
   },
   "outputs": [],
   "source": [
    "sgd_rbf_perc_cv.to_pickle('sgd_rbf_perc_cv.pkl')"
   ]
  }
 ],
 "metadata": {
  "colab": {
   "authorship_tag": "ABX9TyPOZhlRh+o0BpN8t0Gjhezi",
   "name": "03_rbf_cv.ipynb",
   "provenance": []
  },
  "kernelspec": {
   "display_name": "Python 3",
   "language": "python",
   "name": "python3"
  },
  "language_info": {
   "codemirror_mode": {
    "name": "ipython",
    "version": 3
   },
   "file_extension": ".py",
   "mimetype": "text/x-python",
   "name": "python",
   "nbconvert_exporter": "python",
   "pygments_lexer": "ipython3",
   "version": "3.8.7"
  }
 },
 "nbformat": 4,
 "nbformat_minor": 1
}
