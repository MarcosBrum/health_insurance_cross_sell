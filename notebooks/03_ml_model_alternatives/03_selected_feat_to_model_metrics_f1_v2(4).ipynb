{
 "cells": [
  {
   "cell_type": "markdown",
   "metadata": {
    "heading_collapsed": true
   },
   "source": [
    "# 0.0 Imports"
   ]
  },
  {
   "cell_type": "code",
   "execution_count": 1,
   "metadata": {
    "ExecuteTime": {
     "end_time": "2021-02-01T20:49:22.261399Z",
     "start_time": "2021-02-01T20:49:21.683669Z"
    },
    "hidden": true
   },
   "outputs": [],
   "source": [
    "import pandas as pd\n",
    "import numpy as np\n",
    "import pickle\n",
    "\n",
    "from sklearn.linear_model import LogisticRegression as LogReg\n",
    "from sklearn.linear_model import SGDClassifier as sgd\n",
    "from sklearn.kernel_approximation import RBFSampler as rbf_s\n",
    "from sklearn.metrics import accuracy_score, balanced_accuracy_score, precision_score, recall_score, f1_score\n",
    "from sklearn.model_selection import StratifiedShuffleSplit as sss\n",
    "\n",
    "import xgboost as xgb\n",
    "\n",
    "from imblearn.ensemble import BalancedRandomForestClassifier as bal_rf"
   ]
  },
  {
   "cell_type": "markdown",
   "metadata": {
    "heading_collapsed": true,
    "hidden": true
   },
   "source": [
    "## 0.1 Load data"
   ]
  },
  {
   "cell_type": "code",
   "execution_count": 2,
   "metadata": {
    "ExecuteTime": {
     "end_time": "2021-02-01T20:49:22.305778Z",
     "start_time": "2021-02-01T20:49:22.262763Z"
    },
    "hidden": true
   },
   "outputs": [],
   "source": [
    "df_train_res = pd.read_pickle(\"data_in_progress/df_train_res_nn.pkl\")\n",
    "\n",
    "df_val = pd.read_pickle(\"data_in_progress/df_val.pkl\")\n",
    "\n",
    "cols_selected_boruta_resampled = pickle.load(open(\"data_in_progress/cols_selected_boruta_resampled_nn.pkl\", \"rb\"))"
   ]
  },
  {
   "cell_type": "code",
   "execution_count": 3,
   "metadata": {
    "ExecuteTime": {
     "end_time": "2021-02-01T20:49:22.313007Z",
     "start_time": "2021-02-01T20:49:22.307183Z"
    },
    "hidden": true
   },
   "outputs": [
    {
     "data": {
      "text/plain": [
       "['age', 'region_code', 'previously_insured', 'annual_premium', 'vintage']"
      ]
     },
     "execution_count": 3,
     "metadata": {},
     "output_type": "execute_result"
    }
   ],
   "source": [
    "cols_selected_boruta_resampled"
   ]
  },
  {
   "cell_type": "code",
   "execution_count": 4,
   "metadata": {
    "ExecuteTime": {
     "end_time": "2021-02-01T20:49:22.316994Z",
     "start_time": "2021-02-01T20:49:22.314238Z"
    },
    "hidden": true
   },
   "outputs": [],
   "source": [
    "resp = ['response']\n",
    "cols_selected_boruta_resampled_full = cols_selected_boruta_resampled.copy()\n",
    "cols_selected_boruta_resampled_full.extend(resp)"
   ]
  },
  {
   "cell_type": "markdown",
   "metadata": {
    "heading_collapsed": true,
    "hidden": true
   },
   "source": [
    "## 0.2 Helper Functions"
   ]
  },
  {
   "cell_type": "code",
   "execution_count": 5,
   "metadata": {
    "ExecuteTime": {
     "end_time": "2021-02-01T20:49:22.327911Z",
     "start_time": "2021-02-01T20:49:22.318151Z"
    },
    "hidden": true
   },
   "outputs": [],
   "source": [
    "def metric_scores(y_true, y_pred):\n",
    "    return pd.DataFrame({'accuracy':accuracy_score(y_true, y_pred),\n",
    "                        'balanced_accuracy':balanced_accuracy_score(y_true, y_pred),\n",
    "                        'precision':precision_score(y_true, y_pred),\n",
    "                        'precision_0':precision_score(y_true, y_pred, pos_label=0),\n",
    "                        'recall':recall_score(y_true, y_pred),\n",
    "                        'specificity':recall_score(y_true, y_pred, pos_label=0),\n",
    "                        'F1':f1_score(y_true, y_pred),\n",
    "                        'F1_weighted':f1_score(y_true, y_pred, average='weighted'),\n",
    "                        'G_mean':np.sqrt(recall_score(y_true, y_pred)*recall_score(y_true, y_pred, pos_label=0))},\n",
    "                        index=[0])\n",
    "\n",
    "\n",
    "def imb_scores(y_true, y_pred):\n",
    "    return imb_cl_rep(y_true, y_pred)\n",
    "\n",
    "\n",
    "def cross_validation(training_data, kfolds, model, model_name, verbose=False):\n",
    "    xtraining = training_data.drop(['response'], axis=1)\n",
    "    ytraining = training_data.response\n",
    "    \n",
    "    cv = sss(n_splits=kfolds)\n",
    "    acc_list = []\n",
    "    bal_acc_list = []\n",
    "    prec_list = []\n",
    "    prec0_list = []\n",
    "    rec_list = []\n",
    "    spec_list = []\n",
    "    f1_list = []\n",
    "    f1w_list = []\n",
    "    g_list = []\n",
    "    for train_index, prim_val_index in cv.split(xtraining, ytraining):\n",
    "        X_training, X_prim_val = xtraining.iloc[train_index], xtraining.iloc[prim_val_index]\n",
    "        y_training, y_prim_val = ytraining.iloc[train_index], ytraining.iloc[prim_val_index]\n",
    "        \n",
    "        m = model.fit(X_training, y_training)\n",
    "        yhat = m.predict(X_prim_val)\n",
    "        \n",
    "        score_table = metric_scores(y_prim_val, yhat)\n",
    "        acc_list.append(score_table['accuracy'])\n",
    "        bal_acc_list.append(score_table['balanced_accuracy'])\n",
    "        prec_list.append(score_table['precision'])\n",
    "        prec0_list.append(score_table['precision_0'])\n",
    "        rec_list.append(score_table['recall'])\n",
    "        spec_list.append(score_table['specificity'])\n",
    "        f1_list.append(score_table['F1'])\n",
    "        f1w_list.append(score_table['F1_weighted'])\n",
    "        g_list.append(score_table['G_mean'])\n",
    "    \n",
    "    acc_pred = np.round(np.mean(acc_list), 4).astype(str) + '+/-' + np.round(np.std(acc_list), 4).astype(str)\n",
    "    bal_acc_pred = np.round(np.mean(bal_acc_list), 4).astype(str) + '+/-' + np.round(np.std(bal_acc_list), 4).astype(str)\n",
    "    prec_pred = np.round(np.mean(prec_list), 4).astype(str) + '+/-' + np.round(np.std(prec_list), 4).astype(str)\n",
    "    prec0_pred = np.round(np.mean(prec0_list), 4).astype(str) + '+/-' + np.round(np.std(prec0_list), 4).astype(str)\n",
    "    rec_pred = np.round(np.mean(rec_list), 4).astype(str) + '+/-' + np.round(np.std(rec_list), 4).astype(str)\n",
    "    spec_pred = np.round(np.mean(spec_list), 4).astype(str) + '+/-' + np.round(np.std(spec_list), 4).astype(str)\n",
    "    f1_pred = np.round(np.mean(f1_list), 4).astype(str) + '+/-' + np.round(np.std(f1_list), 4).astype(str)\n",
    "    f1w_pred = np.round(np.mean(f1w_list), 4).astype(str) + '+/-' + np.round(np.std(f1w_list), 4).astype(str)\n",
    "    g_pred = np.round(np.mean(g_list), 4).astype(str) + '+/-' + np.round(np.std(g_list), 4).astype(str)\n",
    "    return pd.DataFrame({'Model name':model_name,\n",
    "                         'accuracy':acc_pred,\n",
    "                         'balanced_accuracy':bal_acc_pred,\n",
    "                         'precision':prec_pred,\n",
    "                         'precision_0':prec0_pred,\n",
    "                         'recall':rec_pred,\n",
    "                         'specificity':spec_pred,\n",
    "                         'F1':f1_pred,\n",
    "                         'F1_weighted':f1w_pred,\n",
    "                         'G_mean':g_pred}, index=[0])"
   ]
  },
  {
   "cell_type": "markdown",
   "metadata": {},
   "source": [
    "# 7.0 Machine Learning Model"
   ]
  },
  {
   "cell_type": "markdown",
   "metadata": {
    "heading_collapsed": true
   },
   "source": [
    "## 7.0.1 Separate train and validation data"
   ]
  },
  {
   "cell_type": "code",
   "execution_count": 6,
   "metadata": {
    "ExecuteTime": {
     "end_time": "2021-02-01T20:49:22.349485Z",
     "start_time": "2021-02-01T20:49:22.329012Z"
    },
    "hidden": true
   },
   "outputs": [],
   "source": [
    "df7 = df_train_res[cols_selected_boruta_resampled_full].copy()"
   ]
  },
  {
   "cell_type": "code",
   "execution_count": 7,
   "metadata": {
    "ExecuteTime": {
     "end_time": "2021-02-01T20:49:22.356224Z",
     "start_time": "2021-02-01T20:49:22.350545Z"
    },
    "hidden": true
   },
   "outputs": [],
   "source": [
    "X_train_res = df7.drop(['response'], axis=1)\n",
    "y_train_res = df7.response"
   ]
  },
  {
   "cell_type": "code",
   "execution_count": 8,
   "metadata": {
    "ExecuteTime": {
     "end_time": "2021-02-01T20:49:22.363079Z",
     "start_time": "2021-02-01T20:49:22.357930Z"
    },
    "hidden": true
   },
   "outputs": [],
   "source": [
    "df7_val = df_val[cols_selected_boruta_resampled_full].copy()"
   ]
  },
  {
   "cell_type": "code",
   "execution_count": 9,
   "metadata": {
    "ExecuteTime": {
     "end_time": "2021-02-01T20:49:22.367172Z",
     "start_time": "2021-02-01T20:49:22.364402Z"
    },
    "hidden": true
   },
   "outputs": [],
   "source": [
    "X_val = df7_val.drop(['response'], axis=1)\n",
    "y_val = df7_val.response"
   ]
  },
  {
   "cell_type": "markdown",
   "metadata": {
    "heading_collapsed": true
   },
   "source": [
    "## 7.1 Logistic Classifier"
   ]
  },
  {
   "cell_type": "code",
   "execution_count": 10,
   "metadata": {
    "ExecuteTime": {
     "end_time": "2021-02-01T20:49:26.021300Z",
     "start_time": "2021-02-01T20:49:22.368077Z"
    },
    "hidden": true
   },
   "outputs": [
    {
     "data": {
      "text/html": [
       "<div>\n",
       "<style scoped>\n",
       "    .dataframe tbody tr th:only-of-type {\n",
       "        vertical-align: middle;\n",
       "    }\n",
       "\n",
       "    .dataframe tbody tr th {\n",
       "        vertical-align: top;\n",
       "    }\n",
       "\n",
       "    .dataframe thead th {\n",
       "        text-align: right;\n",
       "    }\n",
       "</style>\n",
       "<table border=\"1\" class=\"dataframe\">\n",
       "  <thead>\n",
       "    <tr style=\"text-align: right;\">\n",
       "      <th></th>\n",
       "      <th>accuracy</th>\n",
       "      <th>balanced_accuracy</th>\n",
       "      <th>precision</th>\n",
       "      <th>precision_0</th>\n",
       "      <th>recall</th>\n",
       "      <th>specificity</th>\n",
       "      <th>F1</th>\n",
       "      <th>F1_weighted</th>\n",
       "      <th>G_mean</th>\n",
       "    </tr>\n",
       "  </thead>\n",
       "  <tbody>\n",
       "    <tr>\n",
       "      <th>0</th>\n",
       "      <td>0.580095</td>\n",
       "      <td>0.759293</td>\n",
       "      <td>0.225524</td>\n",
       "      <td>0.999113</td>\n",
       "      <td>0.996682</td>\n",
       "      <td>0.521905</td>\n",
       "      <td>0.36782</td>\n",
       "      <td>0.646695</td>\n",
       "      <td>0.72123</td>\n",
       "    </tr>\n",
       "  </tbody>\n",
       "</table>\n",
       "</div>"
      ],
      "text/plain": [
       "   accuracy  balanced_accuracy  precision  precision_0    recall  specificity  \\\n",
       "0  0.580095           0.759293   0.225524     0.999113  0.996682     0.521905   \n",
       "\n",
       "        F1  F1_weighted   G_mean  \n",
       "0  0.36782     0.646695  0.72123  "
      ]
     },
     "execution_count": 10,
     "metadata": {},
     "output_type": "execute_result"
    }
   ],
   "source": [
    "logreg = LogReg(random_state=30, solver='saga', n_jobs=-1).fit(X_train_res, y_train_res)\n",
    "\n",
    "yhat_logreg = logreg.predict(X_val)\n",
    "\n",
    "score_table_logreg = metric_scores(y_val, yhat_logreg)\n",
    "score_table_logreg"
   ]
  },
  {
   "cell_type": "markdown",
   "metadata": {
    "hidden": true
   },
   "source": [
    "There are many false positives."
   ]
  },
  {
   "cell_type": "markdown",
   "metadata": {
    "heading_collapsed": true
   },
   "source": [
    "## 7.2 SGD Classifier"
   ]
  },
  {
   "cell_type": "markdown",
   "metadata": {
    "hidden": true
   },
   "source": [
    "### 7.2.1 Hinge - linear SVC"
   ]
  },
  {
   "cell_type": "code",
   "execution_count": 11,
   "metadata": {
    "ExecuteTime": {
     "end_time": "2021-02-01T20:49:26.934378Z",
     "start_time": "2021-02-01T20:49:26.022696Z"
    },
    "hidden": true
   },
   "outputs": [
    {
     "data": {
      "text/html": [
       "<div>\n",
       "<style scoped>\n",
       "    .dataframe tbody tr th:only-of-type {\n",
       "        vertical-align: middle;\n",
       "    }\n",
       "\n",
       "    .dataframe tbody tr th {\n",
       "        vertical-align: top;\n",
       "    }\n",
       "\n",
       "    .dataframe thead th {\n",
       "        text-align: right;\n",
       "    }\n",
       "</style>\n",
       "<table border=\"1\" class=\"dataframe\">\n",
       "  <thead>\n",
       "    <tr style=\"text-align: right;\">\n",
       "      <th></th>\n",
       "      <th>accuracy</th>\n",
       "      <th>balanced_accuracy</th>\n",
       "      <th>precision</th>\n",
       "      <th>precision_0</th>\n",
       "      <th>recall</th>\n",
       "      <th>specificity</th>\n",
       "      <th>F1</th>\n",
       "      <th>F1_weighted</th>\n",
       "      <th>G_mean</th>\n",
       "    </tr>\n",
       "  </thead>\n",
       "  <tbody>\n",
       "    <tr>\n",
       "      <th>0</th>\n",
       "      <td>0.580095</td>\n",
       "      <td>0.759293</td>\n",
       "      <td>0.225524</td>\n",
       "      <td>0.999113</td>\n",
       "      <td>0.996682</td>\n",
       "      <td>0.521905</td>\n",
       "      <td>0.36782</td>\n",
       "      <td>0.646695</td>\n",
       "      <td>0.72123</td>\n",
       "    </tr>\n",
       "  </tbody>\n",
       "</table>\n",
       "</div>"
      ],
      "text/plain": [
       "   accuracy  balanced_accuracy  precision  precision_0    recall  specificity  \\\n",
       "0  0.580095           0.759293   0.225524     0.999113  0.996682     0.521905   \n",
       "\n",
       "        F1  F1_weighted   G_mean  \n",
       "0  0.36782     0.646695  0.72123  "
      ]
     },
     "execution_count": 11,
     "metadata": {},
     "output_type": "execute_result"
    }
   ],
   "source": [
    "sgd_svc = sgd(loss='hinge', random_state=30, n_jobs=-1).fit(X_train_res, y_train_res)\n",
    "\n",
    "yhat_sgd_svc = sgd_svc.predict(X_val)\n",
    "\n",
    "score_table_sgd_svc = metric_scores(y_val, yhat_sgd_svc)\n",
    "score_table_sgd_svc"
   ]
  },
  {
   "cell_type": "markdown",
   "metadata": {
    "hidden": true
   },
   "source": [
    "The documentation says that the SGDClassifier with loss='hinge' is equivalent to a SVC classifier with linear kernel, but the result is exactly that of the logistic regression."
   ]
  },
  {
   "cell_type": "markdown",
   "metadata": {
    "hidden": true
   },
   "source": [
    "### 7.2.2 Perceptron"
   ]
  },
  {
   "cell_type": "code",
   "execution_count": 12,
   "metadata": {
    "ExecuteTime": {
     "end_time": "2021-02-01T20:49:27.589142Z",
     "start_time": "2021-02-01T20:49:26.935632Z"
    },
    "hidden": true
   },
   "outputs": [
    {
     "data": {
      "text/html": [
       "<div>\n",
       "<style scoped>\n",
       "    .dataframe tbody tr th:only-of-type {\n",
       "        vertical-align: middle;\n",
       "    }\n",
       "\n",
       "    .dataframe tbody tr th {\n",
       "        vertical-align: top;\n",
       "    }\n",
       "\n",
       "    .dataframe thead th {\n",
       "        text-align: right;\n",
       "    }\n",
       "</style>\n",
       "<table border=\"1\" class=\"dataframe\">\n",
       "  <thead>\n",
       "    <tr style=\"text-align: right;\">\n",
       "      <th></th>\n",
       "      <th>accuracy</th>\n",
       "      <th>balanced_accuracy</th>\n",
       "      <th>precision</th>\n",
       "      <th>precision_0</th>\n",
       "      <th>recall</th>\n",
       "      <th>specificity</th>\n",
       "      <th>F1</th>\n",
       "      <th>F1_weighted</th>\n",
       "      <th>G_mean</th>\n",
       "    </tr>\n",
       "  </thead>\n",
       "  <tbody>\n",
       "    <tr>\n",
       "      <th>0</th>\n",
       "      <td>0.733017</td>\n",
       "      <td>0.601518</td>\n",
       "      <td>0.210194</td>\n",
       "      <td>0.906518</td>\n",
       "      <td>0.427317</td>\n",
       "      <td>0.775718</td>\n",
       "      <td>0.281782</td>\n",
       "      <td>0.768102</td>\n",
       "      <td>0.575741</td>\n",
       "    </tr>\n",
       "  </tbody>\n",
       "</table>\n",
       "</div>"
      ],
      "text/plain": [
       "   accuracy  balanced_accuracy  precision  precision_0    recall  specificity  \\\n",
       "0  0.733017           0.601518   0.210194     0.906518  0.427317     0.775718   \n",
       "\n",
       "         F1  F1_weighted    G_mean  \n",
       "0  0.281782     0.768102  0.575741  "
      ]
     },
     "execution_count": 12,
     "metadata": {},
     "output_type": "execute_result"
    }
   ],
   "source": [
    "#sgd_per = sgd(loss='perceptron', random_state=30, n_jobs=-1).fit(X_train_res, y_train_res)\n",
    "sgd_per = sgd(loss='perceptron', eta0=1.0, learning_rate='constant', random_state=30, n_jobs=-1).fit(X_train_res, y_train_res)\n",
    "\n",
    "yhat_sgd_per = sgd_per.predict(X_val)\n",
    "\n",
    "score_table_sgd_per = metric_scores(y_val, yhat_sgd_per)\n",
    "score_table_sgd_per"
   ]
  },
  {
   "cell_type": "markdown",
   "metadata": {},
   "source": [
    "## 7.3 SGD with kernel approximation"
   ]
  },
  {
   "cell_type": "markdown",
   "metadata": {
    "heading_collapsed": true
   },
   "source": [
    "### 7.3.1 RBFSampler"
   ]
  },
  {
   "cell_type": "code",
   "execution_count": 13,
   "metadata": {
    "ExecuteTime": {
     "end_time": "2021-02-01T20:49:34.536421Z",
     "start_time": "2021-02-01T20:49:27.590304Z"
    },
    "hidden": true
   },
   "outputs": [],
   "source": [
    "X_train_rbf = rbf_s(random_state=30, n_components=500).fit_transform(X_train_res)\n",
    "\n",
    "X_val_rbf = rbf_s(random_state=30, n_components=500).fit_transform(X_val)"
   ]
  },
  {
   "cell_type": "markdown",
   "metadata": {
    "hidden": true
   },
   "source": [
    "#### 7.3.1.1 hinge loss"
   ]
  },
  {
   "cell_type": "code",
   "execution_count": 14,
   "metadata": {
    "ExecuteTime": {
     "end_time": "2021-02-01T20:49:38.914638Z",
     "start_time": "2021-02-01T20:49:34.537576Z"
    },
    "hidden": true
   },
   "outputs": [
    {
     "data": {
      "text/html": [
       "<div>\n",
       "<style scoped>\n",
       "    .dataframe tbody tr th:only-of-type {\n",
       "        vertical-align: middle;\n",
       "    }\n",
       "\n",
       "    .dataframe tbody tr th {\n",
       "        vertical-align: top;\n",
       "    }\n",
       "\n",
       "    .dataframe thead th {\n",
       "        text-align: right;\n",
       "    }\n",
       "</style>\n",
       "<table border=\"1\" class=\"dataframe\">\n",
       "  <thead>\n",
       "    <tr style=\"text-align: right;\">\n",
       "      <th></th>\n",
       "      <th>accuracy</th>\n",
       "      <th>balanced_accuracy</th>\n",
       "      <th>precision</th>\n",
       "      <th>precision_0</th>\n",
       "      <th>recall</th>\n",
       "      <th>specificity</th>\n",
       "      <th>F1</th>\n",
       "      <th>F1_weighted</th>\n",
       "      <th>G_mean</th>\n",
       "    </tr>\n",
       "  </thead>\n",
       "  <tbody>\n",
       "    <tr>\n",
       "      <th>0</th>\n",
       "      <td>0.581145</td>\n",
       "      <td>0.758878</td>\n",
       "      <td>0.225669</td>\n",
       "      <td>0.998488</td>\n",
       "      <td>0.994327</td>\n",
       "      <td>0.52343</td>\n",
       "      <td>0.367852</td>\n",
       "      <td>0.647723</td>\n",
       "      <td>0.721429</td>\n",
       "    </tr>\n",
       "  </tbody>\n",
       "</table>\n",
       "</div>"
      ],
      "text/plain": [
       "   accuracy  balanced_accuracy  precision  precision_0    recall  specificity  \\\n",
       "0  0.581145           0.758878   0.225669     0.998488  0.994327      0.52343   \n",
       "\n",
       "         F1  F1_weighted    G_mean  \n",
       "0  0.367852     0.647723  0.721429  "
      ]
     },
     "execution_count": 14,
     "metadata": {},
     "output_type": "execute_result"
    }
   ],
   "source": [
    "sgd_rbf_hinge = sgd(loss='hinge', random_state=30, n_jobs=-1).fit(X_train_rbf, y_train_res)\n",
    "\n",
    "yhat_sgd_rbf_hinge = sgd_rbf_hinge.predict(X_val_rbf)\n",
    "\n",
    "score_table_sgd_rbf_hinge = metric_scores(y_val, yhat_sgd_rbf_hinge)\n",
    "score_table_sgd_rbf_hinge"
   ]
  },
  {
   "cell_type": "markdown",
   "metadata": {
    "hidden": true
   },
   "source": [
    "#### 7.3.1.2 perceptron loss"
   ]
  },
  {
   "cell_type": "code",
   "execution_count": 15,
   "metadata": {
    "ExecuteTime": {
     "end_time": "2021-02-01T20:49:41.981772Z",
     "start_time": "2021-02-01T20:49:38.916290Z"
    },
    "hidden": true
   },
   "outputs": [
    {
     "data": {
      "text/html": [
       "<div>\n",
       "<style scoped>\n",
       "    .dataframe tbody tr th:only-of-type {\n",
       "        vertical-align: middle;\n",
       "    }\n",
       "\n",
       "    .dataframe tbody tr th {\n",
       "        vertical-align: top;\n",
       "    }\n",
       "\n",
       "    .dataframe thead th {\n",
       "        text-align: right;\n",
       "    }\n",
       "</style>\n",
       "<table border=\"1\" class=\"dataframe\">\n",
       "  <thead>\n",
       "    <tr style=\"text-align: right;\">\n",
       "      <th></th>\n",
       "      <th>accuracy</th>\n",
       "      <th>balanced_accuracy</th>\n",
       "      <th>precision</th>\n",
       "      <th>precision_0</th>\n",
       "      <th>recall</th>\n",
       "      <th>specificity</th>\n",
       "      <th>F1</th>\n",
       "      <th>F1_weighted</th>\n",
       "      <th>G_mean</th>\n",
       "    </tr>\n",
       "  </thead>\n",
       "  <tbody>\n",
       "    <tr>\n",
       "      <th>0</th>\n",
       "      <td>0.592336</td>\n",
       "      <td>0.75135</td>\n",
       "      <td>0.226344</td>\n",
       "      <td>0.990279</td>\n",
       "      <td>0.962</td>\n",
       "      <td>0.5407</td>\n",
       "      <td>0.366465</td>\n",
       "      <td>0.658664</td>\n",
       "      <td>0.721216</td>\n",
       "    </tr>\n",
       "  </tbody>\n",
       "</table>\n",
       "</div>"
      ],
      "text/plain": [
       "   accuracy  balanced_accuracy  precision  precision_0  recall  specificity  \\\n",
       "0  0.592336            0.75135   0.226344     0.990279   0.962       0.5407   \n",
       "\n",
       "         F1  F1_weighted    G_mean  \n",
       "0  0.366465     0.658664  0.721216  "
      ]
     },
     "execution_count": 15,
     "metadata": {},
     "output_type": "execute_result"
    }
   ],
   "source": [
    "sgd_rbf_perc = sgd(loss='perceptron', eta0=1.0, learning_rate='constant', random_state=30, n_jobs=-1).fit(X_train_rbf, y_train_res)\n",
    "\n",
    "yhat_sgd_rbf_perc = sgd_rbf_perc.predict(X_val_rbf)\n",
    "\n",
    "score_table_sgd_rbf_perc = metric_scores(y_val, yhat_sgd_rbf_perc)\n",
    "score_table_sgd_rbf_perc"
   ]
  },
  {
   "cell_type": "markdown",
   "metadata": {
    "heading_collapsed": true
   },
   "source": [
    "## 7.4 XGBoost classifier"
   ]
  },
  {
   "cell_type": "code",
   "execution_count": 16,
   "metadata": {
    "ExecuteTime": {
     "end_time": "2021-02-01T20:49:59.548011Z",
     "start_time": "2021-02-01T20:49:41.983433Z"
    },
    "hidden": true
   },
   "outputs": [
    {
     "data": {
      "text/html": [
       "<div>\n",
       "<style scoped>\n",
       "    .dataframe tbody tr th:only-of-type {\n",
       "        vertical-align: middle;\n",
       "    }\n",
       "\n",
       "    .dataframe tbody tr th {\n",
       "        vertical-align: top;\n",
       "    }\n",
       "\n",
       "    .dataframe thead th {\n",
       "        text-align: right;\n",
       "    }\n",
       "</style>\n",
       "<table border=\"1\" class=\"dataframe\">\n",
       "  <thead>\n",
       "    <tr style=\"text-align: right;\">\n",
       "      <th></th>\n",
       "      <th>accuracy</th>\n",
       "      <th>balanced_accuracy</th>\n",
       "      <th>precision</th>\n",
       "      <th>precision_0</th>\n",
       "      <th>recall</th>\n",
       "      <th>specificity</th>\n",
       "      <th>F1</th>\n",
       "      <th>F1_weighted</th>\n",
       "      <th>G_mean</th>\n",
       "    </tr>\n",
       "  </thead>\n",
       "  <tbody>\n",
       "    <tr>\n",
       "      <th>0</th>\n",
       "      <td>0.654535</td>\n",
       "      <td>0.715653</td>\n",
       "      <td>0.233482</td>\n",
       "      <td>0.957157</td>\n",
       "      <td>0.796617</td>\n",
       "      <td>0.634689</td>\n",
       "      <td>0.361122</td>\n",
       "      <td>0.713974</td>\n",
       "      <td>0.711059</td>\n",
       "    </tr>\n",
       "  </tbody>\n",
       "</table>\n",
       "</div>"
      ],
      "text/plain": [
       "   accuracy  balanced_accuracy  precision  precision_0    recall  specificity  \\\n",
       "0  0.654535           0.715653   0.233482     0.957157  0.796617     0.634689   \n",
       "\n",
       "         F1  F1_weighted    G_mean  \n",
       "0  0.361122     0.713974  0.711059  "
      ]
     },
     "execution_count": 16,
     "metadata": {},
     "output_type": "execute_result"
    }
   ],
   "source": [
    "xgb_cl = xgb.XGBClassifier(objective='binary:logistic',\n",
    "                              use_label_encoder=False,\n",
    "                              n_estimators=100,\n",
    "                              eta=0.01,\n",
    "                              max_depth=10,\n",
    "                              n_jobs=-1,\n",
    "                              subsample=0.7,\n",
    "                              colsample_bytree=0.9).fit(X_train_res, y_train_res, eval_metric='logloss')\n",
    "\n",
    "yhat_xgb = xgb_cl.predict(X_val)\n",
    "\n",
    "score_table_xgb = metric_scores(y_val, yhat_xgb)\n",
    "score_table_xgb"
   ]
  },
  {
   "cell_type": "markdown",
   "metadata": {
    "heading_collapsed": true
   },
   "source": [
    "## 7.5 Balanced Random Forest"
   ]
  },
  {
   "cell_type": "code",
   "execution_count": 17,
   "metadata": {
    "ExecuteTime": {
     "end_time": "2021-02-01T20:50:19.582851Z",
     "start_time": "2021-02-01T20:49:59.549087Z"
    },
    "hidden": true
   },
   "outputs": [
    {
     "data": {
      "text/html": [
       "<div>\n",
       "<style scoped>\n",
       "    .dataframe tbody tr th:only-of-type {\n",
       "        vertical-align: middle;\n",
       "    }\n",
       "\n",
       "    .dataframe tbody tr th {\n",
       "        vertical-align: top;\n",
       "    }\n",
       "\n",
       "    .dataframe thead th {\n",
       "        text-align: right;\n",
       "    }\n",
       "</style>\n",
       "<table border=\"1\" class=\"dataframe\">\n",
       "  <thead>\n",
       "    <tr style=\"text-align: right;\">\n",
       "      <th></th>\n",
       "      <th>accuracy</th>\n",
       "      <th>balanced_accuracy</th>\n",
       "      <th>precision</th>\n",
       "      <th>precision_0</th>\n",
       "      <th>recall</th>\n",
       "      <th>specificity</th>\n",
       "      <th>F1</th>\n",
       "      <th>F1_weighted</th>\n",
       "      <th>G_mean</th>\n",
       "    </tr>\n",
       "  </thead>\n",
       "  <tbody>\n",
       "    <tr>\n",
       "      <th>0</th>\n",
       "      <td>0.622078</td>\n",
       "      <td>0.741131</td>\n",
       "      <td>0.23159</td>\n",
       "      <td>0.976354</td>\n",
       "      <td>0.898844</td>\n",
       "      <td>0.583418</td>\n",
       "      <td>0.368289</td>\n",
       "      <td>0.686012</td>\n",
       "      <td>0.724156</td>\n",
       "    </tr>\n",
       "  </tbody>\n",
       "</table>\n",
       "</div>"
      ],
      "text/plain": [
       "   accuracy  balanced_accuracy  precision  precision_0    recall  specificity  \\\n",
       "0  0.622078           0.741131    0.23159     0.976354  0.898844     0.583418   \n",
       "\n",
       "         F1  F1_weighted    G_mean  \n",
       "0  0.368289     0.686012  0.724156  "
      ]
     },
     "execution_count": 17,
     "metadata": {},
     "output_type": "execute_result"
    }
   ],
   "source": [
    "brf_clf = bal_rf(n_estimators = 100, max_depth=10, random_state=42, n_jobs=-1).fit(X_train_res, y_train_res)\n",
    "\n",
    "yhat_brf = brf_clf.predict(X_val)\n",
    "\n",
    "score_table_brf = metric_scores(y_val, yhat_brf)\n",
    "score_table_brf"
   ]
  },
  {
   "cell_type": "markdown",
   "metadata": {},
   "source": [
    "## 7.6 Cross-Validation"
   ]
  },
  {
   "cell_type": "markdown",
   "metadata": {
    "heading_collapsed": true
   },
   "source": [
    "### 7.6.1 Linear models with linear kernels"
   ]
  },
  {
   "cell_type": "code",
   "execution_count": 18,
   "metadata": {
    "ExecuteTime": {
     "end_time": "2021-02-01T20:50:35.130587Z",
     "start_time": "2021-02-01T20:50:19.584088Z"
    },
    "hidden": true
   },
   "outputs": [
    {
     "data": {
      "text/html": [
       "<div>\n",
       "<style scoped>\n",
       "    .dataframe tbody tr th:only-of-type {\n",
       "        vertical-align: middle;\n",
       "    }\n",
       "\n",
       "    .dataframe tbody tr th {\n",
       "        vertical-align: top;\n",
       "    }\n",
       "\n",
       "    .dataframe thead th {\n",
       "        text-align: right;\n",
       "    }\n",
       "</style>\n",
       "<table border=\"1\" class=\"dataframe\">\n",
       "  <thead>\n",
       "    <tr style=\"text-align: right;\">\n",
       "      <th></th>\n",
       "      <th>Model name</th>\n",
       "      <th>accuracy</th>\n",
       "      <th>balanced_accuracy</th>\n",
       "      <th>precision</th>\n",
       "      <th>precision_0</th>\n",
       "      <th>recall</th>\n",
       "      <th>specificity</th>\n",
       "      <th>F1</th>\n",
       "      <th>F1_weighted</th>\n",
       "      <th>G_mean</th>\n",
       "    </tr>\n",
       "  </thead>\n",
       "  <tbody>\n",
       "    <tr>\n",
       "      <th>0</th>\n",
       "      <td>Logistic Classifier</td>\n",
       "      <td>0.7439+/-0.0015</td>\n",
       "      <td>0.7603+/-0.0014</td>\n",
       "      <td>0.6453+/-0.0013</td>\n",
       "      <td>0.9991+/-0.0002</td>\n",
       "      <td>0.9995+/-0.0001</td>\n",
       "      <td>0.5212+/-0.0028</td>\n",
       "      <td>0.7842+/-0.0009</td>\n",
       "      <td>0.7312+/-0.0017</td>\n",
       "      <td>0.7218+/-0.0019</td>\n",
       "    </tr>\n",
       "  </tbody>\n",
       "</table>\n",
       "</div>"
      ],
      "text/plain": [
       "            Model name         accuracy balanced_accuracy        precision  \\\n",
       "0  Logistic Classifier  0.7439+/-0.0015   0.7603+/-0.0014  0.6453+/-0.0013   \n",
       "\n",
       "       precision_0           recall      specificity               F1  \\\n",
       "0  0.9991+/-0.0002  0.9995+/-0.0001  0.5212+/-0.0028  0.7842+/-0.0009   \n",
       "\n",
       "       F1_weighted           G_mean  \n",
       "0  0.7312+/-0.0017  0.7218+/-0.0019  "
      ]
     },
     "execution_count": 18,
     "metadata": {},
     "output_type": "execute_result"
    }
   ],
   "source": [
    "# Logistic classifier\n",
    "model = LogReg(random_state=30, solver='saga', n_jobs=-1)\n",
    "log_cv = cross_validation(df7, 5, model, 'Logistic Classifier')\n",
    "log_cv"
   ]
  },
  {
   "cell_type": "code",
   "execution_count": 19,
   "metadata": {
    "ExecuteTime": {
     "end_time": "2021-02-01T20:50:39.308274Z",
     "start_time": "2021-02-01T20:50:35.132065Z"
    },
    "hidden": true
   },
   "outputs": [
    {
     "data": {
      "text/html": [
       "<div>\n",
       "<style scoped>\n",
       "    .dataframe tbody tr th:only-of-type {\n",
       "        vertical-align: middle;\n",
       "    }\n",
       "\n",
       "    .dataframe tbody tr th {\n",
       "        vertical-align: top;\n",
       "    }\n",
       "\n",
       "    .dataframe thead th {\n",
       "        text-align: right;\n",
       "    }\n",
       "</style>\n",
       "<table border=\"1\" class=\"dataframe\">\n",
       "  <thead>\n",
       "    <tr style=\"text-align: right;\">\n",
       "      <th></th>\n",
       "      <th>Model name</th>\n",
       "      <th>accuracy</th>\n",
       "      <th>balanced_accuracy</th>\n",
       "      <th>precision</th>\n",
       "      <th>precision_0</th>\n",
       "      <th>recall</th>\n",
       "      <th>specificity</th>\n",
       "      <th>F1</th>\n",
       "      <th>F1_weighted</th>\n",
       "      <th>G_mean</th>\n",
       "    </tr>\n",
       "  </thead>\n",
       "  <tbody>\n",
       "    <tr>\n",
       "      <th>0</th>\n",
       "      <td>SGD Classifier - hinge</td>\n",
       "      <td>0.7452+/-0.0017</td>\n",
       "      <td>0.7616+/-0.0016</td>\n",
       "      <td>0.6464+/-0.0015</td>\n",
       "      <td>0.9992+/-0.0002</td>\n",
       "      <td>0.9995+/-0.0001</td>\n",
       "      <td>0.5236+/-0.0032</td>\n",
       "      <td>0.7851+/-0.0011</td>\n",
       "      <td>0.7327+/-0.002</td>\n",
       "      <td>0.7234+/-0.0022</td>\n",
       "    </tr>\n",
       "  </tbody>\n",
       "</table>\n",
       "</div>"
      ],
      "text/plain": [
       "               Model name         accuracy balanced_accuracy        precision  \\\n",
       "0  SGD Classifier - hinge  0.7452+/-0.0017   0.7616+/-0.0016  0.6464+/-0.0015   \n",
       "\n",
       "       precision_0           recall      specificity               F1  \\\n",
       "0  0.9992+/-0.0002  0.9995+/-0.0001  0.5236+/-0.0032  0.7851+/-0.0011   \n",
       "\n",
       "      F1_weighted           G_mean  \n",
       "0  0.7327+/-0.002  0.7234+/-0.0022  "
      ]
     },
     "execution_count": 19,
     "metadata": {},
     "output_type": "execute_result"
    }
   ],
   "source": [
    "# SGD Classifier - hinge loss\n",
    "model = sgd(loss='hinge', random_state=30, n_jobs=-1)\n",
    "sgd_hinge_cv = cross_validation(df7, 5, model, 'SGD Classifier - hinge')\n",
    "sgd_hinge_cv"
   ]
  },
  {
   "cell_type": "code",
   "execution_count": 20,
   "metadata": {
    "ExecuteTime": {
     "end_time": "2021-02-01T20:50:43.183730Z",
     "start_time": "2021-02-01T20:50:39.309628Z"
    },
    "hidden": true
   },
   "outputs": [
    {
     "data": {
      "text/html": [
       "<div>\n",
       "<style scoped>\n",
       "    .dataframe tbody tr th:only-of-type {\n",
       "        vertical-align: middle;\n",
       "    }\n",
       "\n",
       "    .dataframe tbody tr th {\n",
       "        vertical-align: top;\n",
       "    }\n",
       "\n",
       "    .dataframe thead th {\n",
       "        text-align: right;\n",
       "    }\n",
       "</style>\n",
       "<table border=\"1\" class=\"dataframe\">\n",
       "  <thead>\n",
       "    <tr style=\"text-align: right;\">\n",
       "      <th></th>\n",
       "      <th>Model name</th>\n",
       "      <th>accuracy</th>\n",
       "      <th>balanced_accuracy</th>\n",
       "      <th>precision</th>\n",
       "      <th>precision_0</th>\n",
       "      <th>recall</th>\n",
       "      <th>specificity</th>\n",
       "      <th>F1</th>\n",
       "      <th>F1_weighted</th>\n",
       "      <th>G_mean</th>\n",
       "    </tr>\n",
       "  </thead>\n",
       "  <tbody>\n",
       "    <tr>\n",
       "      <th>0</th>\n",
       "      <td>SGD Classifier - perceptron</td>\n",
       "      <td>0.6981+/-0.0541</td>\n",
       "      <td>0.7032+/-0.0674</td>\n",
       "      <td>0.6473+/-0.0045</td>\n",
       "      <td>0.8264+/-0.1501</td>\n",
       "      <td>0.7772+/-0.2612</td>\n",
       "      <td>0.6292+/-0.1265</td>\n",
       "      <td>0.6794+/-0.1433</td>\n",
       "      <td>0.6847+/-0.0646</td>\n",
       "      <td>0.6698+/-0.0853</td>\n",
       "    </tr>\n",
       "  </tbody>\n",
       "</table>\n",
       "</div>"
      ],
      "text/plain": [
       "                    Model name         accuracy balanced_accuracy  \\\n",
       "0  SGD Classifier - perceptron  0.6981+/-0.0541   0.7032+/-0.0674   \n",
       "\n",
       "         precision      precision_0           recall      specificity  \\\n",
       "0  0.6473+/-0.0045  0.8264+/-0.1501  0.7772+/-0.2612  0.6292+/-0.1265   \n",
       "\n",
       "                F1      F1_weighted           G_mean  \n",
       "0  0.6794+/-0.1433  0.6847+/-0.0646  0.6698+/-0.0853  "
      ]
     },
     "execution_count": 20,
     "metadata": {},
     "output_type": "execute_result"
    }
   ],
   "source": [
    "# SGD Classifier - perceptron loss\n",
    "model = sgd(loss='perceptron', eta0=1.0, learning_rate='constant', random_state=30, n_jobs=-1)\n",
    "sgd_perc_cv = cross_validation(df7, 5, model, 'SGD Classifier - perceptron')\n",
    "sgd_perc_cv"
   ]
  },
  {
   "cell_type": "markdown",
   "metadata": {
    "heading_collapsed": true
   },
   "source": [
    "### 7.6.2 Approximation kernel - rbf"
   ]
  },
  {
   "cell_type": "code",
   "execution_count": 21,
   "metadata": {
    "ExecuteTime": {
     "end_time": "2021-02-01T20:50:43.186958Z",
     "start_time": "2021-02-01T20:50:43.185148Z"
    },
    "hidden": true
   },
   "outputs": [],
   "source": [
    "# rbf\n",
    "#df7_data = df7.copy().drop(['response'], axis=1)\n",
    "#df7_target = df7.response\n",
    "\n",
    "#data_rbf = rbf_s(random_state=30, n_components=500).fit_transform(df7_data)\n",
    "#data_rbf_df = pd.DataFrame(data_rbf)\n",
    "\n",
    "#df7_rbf = pd.concat([data_rbf_df, df7_target], axis=1)"
   ]
  },
  {
   "cell_type": "code",
   "execution_count": 22,
   "metadata": {
    "ExecuteTime": {
     "end_time": "2021-02-01T20:50:43.195270Z",
     "start_time": "2021-02-01T20:50:43.188057Z"
    },
    "hidden": true
   },
   "outputs": [],
   "source": [
    "# SGD Classifier - rbf, hinge loss\n",
    "#model = sgd(loss='hinge', random_state=30, n_jobs=-1)\n",
    "#sgd_rbf_hinge_cv = cross_validation(df7_rbf, 5, model, 'SGD Classifier - rbf, hinge')\n",
    "#sgd_rbf_hinge_cv"
   ]
  },
  {
   "cell_type": "code",
   "execution_count": 23,
   "metadata": {
    "ExecuteTime": {
     "end_time": "2021-02-01T20:50:43.199735Z",
     "start_time": "2021-02-01T20:50:43.197594Z"
    },
    "hidden": true
   },
   "outputs": [],
   "source": [
    "# SGD Classifier - rbf, perceptron loss\n",
    "#model = sgd(loss='perceptron', eta0=1.0, learning_rate='constant', random_state=30, n_jobs=-1)\n",
    "#sgd_rbf_perc_cv = cross_validation(df7_rbf, 5, model, 'SGD Classifier - rbf, perceptron')\n",
    "#sgd_rbf_perc_cv"
   ]
  },
  {
   "cell_type": "markdown",
   "metadata": {
    "heading_collapsed": true
   },
   "source": [
    "### 7.6.3 XGBoost"
   ]
  },
  {
   "cell_type": "code",
   "execution_count": 24,
   "metadata": {
    "ExecuteTime": {
     "end_time": "2021-02-01T20:50:43.203127Z",
     "start_time": "2021-02-01T20:50:43.201198Z"
    },
    "hidden": true
   },
   "outputs": [],
   "source": [
    "# XGBoost Classifier\n",
    "#model = xgb.XGBClassifier(objective='binary:logistic',\n",
    "#                              use_label_encoder=False,\n",
    "#                              n_estimators=100,\n",
    "#                              eta=0.01,\n",
    "#                              max_depth=10,\n",
    "#                              n_jobs=-1,\n",
    "#                              subsample=0.7,\n",
    "#                              colsample_bytree=0.9)\n",
    "#xgb_cv = cross_validation(df7, 5, model, 'XGBoost Classifier')\n",
    "#xgb_cv"
   ]
  },
  {
   "cell_type": "markdown",
   "metadata": {
    "heading_collapsed": true
   },
   "source": [
    "### 7.6.4 Balanced Random Forest"
   ]
  },
  {
   "cell_type": "code",
   "execution_count": 25,
   "metadata": {
    "ExecuteTime": {
     "end_time": "2021-02-01T20:50:43.206014Z",
     "start_time": "2021-02-01T20:50:43.204403Z"
    },
    "hidden": true
   },
   "outputs": [],
   "source": [
    "# Balanced Random Forest Classifier\n",
    "#model = bal_rf(n_estimators = 100, max_depth=10, random_state=42, n_jobs=-1)\n",
    "#bal_rf_cv = cross_validation(df7, 5, model, 'Balanced Random Forest Classifier')\n",
    "#bal_rf_cv"
   ]
  },
  {
   "cell_type": "markdown",
   "metadata": {},
   "source": [
    "### 7.6.5 Gather results"
   ]
  },
  {
   "cell_type": "code",
   "execution_count": 26,
   "metadata": {
    "ExecuteTime": {
     "end_time": "2021-02-01T20:50:43.212646Z",
     "start_time": "2021-02-01T20:50:43.207184Z"
    }
   },
   "outputs": [],
   "source": [
    "# SGD - rbf\n",
    "sgd_rbf_hinge_cv = pd.read_pickle('data_in_progress/sgd_rbf_hinge_cv.pkl')\n",
    "sgd_rbf_perc_cv = pd.read_pickle('data_in_progress/sgd_rbf_perc_cv.pkl')\n",
    "\n",
    "# xgboost\n",
    "xgb_cv = pd.read_pickle('data_in_progress/xgb_cv.pkl')\n",
    "\n",
    "# bal_rf\n",
    "bal_rf_cv = pd.read_pickle('data_in_progress/bal_rf_cv.pkl')"
   ]
  },
  {
   "cell_type": "code",
   "execution_count": 27,
   "metadata": {
    "ExecuteTime": {
     "end_time": "2021-02-01T20:50:43.228588Z",
     "start_time": "2021-02-01T20:50:43.213676Z"
    }
   },
   "outputs": [
    {
     "data": {
      "text/html": [
       "<div>\n",
       "<style scoped>\n",
       "    .dataframe tbody tr th:only-of-type {\n",
       "        vertical-align: middle;\n",
       "    }\n",
       "\n",
       "    .dataframe tbody tr th {\n",
       "        vertical-align: top;\n",
       "    }\n",
       "\n",
       "    .dataframe thead th {\n",
       "        text-align: right;\n",
       "    }\n",
       "</style>\n",
       "<table border=\"1\" class=\"dataframe\">\n",
       "  <thead>\n",
       "    <tr style=\"text-align: right;\">\n",
       "      <th></th>\n",
       "      <th>Model name</th>\n",
       "      <th>accuracy</th>\n",
       "      <th>balanced_accuracy</th>\n",
       "      <th>precision</th>\n",
       "      <th>precision_0</th>\n",
       "      <th>recall</th>\n",
       "      <th>specificity</th>\n",
       "      <th>F1</th>\n",
       "      <th>F1_weighted</th>\n",
       "      <th>G_mean</th>\n",
       "    </tr>\n",
       "  </thead>\n",
       "  <tbody>\n",
       "    <tr>\n",
       "      <th>0</th>\n",
       "      <td>XGBoost Classifier</td>\n",
       "      <td>0.8196+/-0.0011</td>\n",
       "      <td>0.8239+/-0.0011</td>\n",
       "      <td>0.7644+/-0.0013</td>\n",
       "      <td>0.8843+/-0.001</td>\n",
       "      <td>0.8855+/-0.001</td>\n",
       "      <td>0.7622+/-0.0016</td>\n",
       "      <td>0.8205+/-0.001</td>\n",
       "      <td>0.8196+/-0.0011</td>\n",
       "      <td>0.8216+/-0.0011</td>\n",
       "    </tr>\n",
       "    <tr>\n",
       "      <th>0</th>\n",
       "      <td>Balanced Random Forest Classifier</td>\n",
       "      <td>0.8109+/-0.0013</td>\n",
       "      <td>0.8178+/-0.0013</td>\n",
       "      <td>0.7392+/-0.0014</td>\n",
       "      <td>0.9093+/-0.0018</td>\n",
       "      <td>0.9178+/-0.0017</td>\n",
       "      <td>0.7178+/-0.0019</td>\n",
       "      <td>0.8189+/-0.0013</td>\n",
       "      <td>0.81+/-0.0014</td>\n",
       "      <td>0.8117+/-0.0014</td>\n",
       "    </tr>\n",
       "    <tr>\n",
       "      <th>0</th>\n",
       "      <td>SGD Classifier - rbf, hinge</td>\n",
       "      <td>0.7956+/-0.0016</td>\n",
       "      <td>0.8038+/-0.0017</td>\n",
       "      <td>0.7187+/-0.0012</td>\n",
       "      <td>0.9098+/-0.0032</td>\n",
       "      <td>0.922+/-0.003</td>\n",
       "      <td>0.6855+/-0.0017</td>\n",
       "      <td>0.8077+/-0.0017</td>\n",
       "      <td>0.7939+/-0.0016</td>\n",
       "      <td>0.795+/-0.0016</td>\n",
       "    </tr>\n",
       "    <tr>\n",
       "      <th>0</th>\n",
       "      <td>SGD Classifier - hinge</td>\n",
       "      <td>0.7452+/-0.0017</td>\n",
       "      <td>0.7616+/-0.0016</td>\n",
       "      <td>0.6464+/-0.0015</td>\n",
       "      <td>0.9992+/-0.0002</td>\n",
       "      <td>0.9995+/-0.0001</td>\n",
       "      <td>0.5236+/-0.0032</td>\n",
       "      <td>0.7851+/-0.0011</td>\n",
       "      <td>0.7327+/-0.002</td>\n",
       "      <td>0.7234+/-0.0022</td>\n",
       "    </tr>\n",
       "    <tr>\n",
       "      <th>0</th>\n",
       "      <td>Logistic Classifier</td>\n",
       "      <td>0.7439+/-0.0015</td>\n",
       "      <td>0.7603+/-0.0014</td>\n",
       "      <td>0.6453+/-0.0013</td>\n",
       "      <td>0.9991+/-0.0002</td>\n",
       "      <td>0.9995+/-0.0001</td>\n",
       "      <td>0.5212+/-0.0028</td>\n",
       "      <td>0.7842+/-0.0009</td>\n",
       "      <td>0.7312+/-0.0017</td>\n",
       "      <td>0.7218+/-0.0019</td>\n",
       "    </tr>\n",
       "    <tr>\n",
       "      <th>0</th>\n",
       "      <td>SGD Classifier - rbf, perceptron</td>\n",
       "      <td>0.7312+/-0.0355</td>\n",
       "      <td>0.733+/-0.0455</td>\n",
       "      <td>0.7086+/-0.0466</td>\n",
       "      <td>0.8162+/-0.1319</td>\n",
       "      <td>0.758+/-0.2154</td>\n",
       "      <td>0.7079+/-0.1366</td>\n",
       "      <td>0.7091+/-0.0911</td>\n",
       "      <td>0.7227+/-0.0408</td>\n",
       "      <td>0.7109+/-0.0535</td>\n",
       "    </tr>\n",
       "    <tr>\n",
       "      <th>0</th>\n",
       "      <td>SGD Classifier - perceptron</td>\n",
       "      <td>0.6981+/-0.0541</td>\n",
       "      <td>0.7032+/-0.0674</td>\n",
       "      <td>0.6473+/-0.0045</td>\n",
       "      <td>0.8264+/-0.1501</td>\n",
       "      <td>0.7772+/-0.2612</td>\n",
       "      <td>0.6292+/-0.1265</td>\n",
       "      <td>0.6794+/-0.1433</td>\n",
       "      <td>0.6847+/-0.0646</td>\n",
       "      <td>0.6698+/-0.0853</td>\n",
       "    </tr>\n",
       "  </tbody>\n",
       "</table>\n",
       "</div>"
      ],
      "text/plain": [
       "                          Model name         accuracy balanced_accuracy  \\\n",
       "0                 XGBoost Classifier  0.8196+/-0.0011   0.8239+/-0.0011   \n",
       "0  Balanced Random Forest Classifier  0.8109+/-0.0013   0.8178+/-0.0013   \n",
       "0        SGD Classifier - rbf, hinge  0.7956+/-0.0016   0.8038+/-0.0017   \n",
       "0             SGD Classifier - hinge  0.7452+/-0.0017   0.7616+/-0.0016   \n",
       "0                Logistic Classifier  0.7439+/-0.0015   0.7603+/-0.0014   \n",
       "0   SGD Classifier - rbf, perceptron  0.7312+/-0.0355    0.733+/-0.0455   \n",
       "0        SGD Classifier - perceptron  0.6981+/-0.0541   0.7032+/-0.0674   \n",
       "\n",
       "         precision      precision_0           recall      specificity  \\\n",
       "0  0.7644+/-0.0013   0.8843+/-0.001   0.8855+/-0.001  0.7622+/-0.0016   \n",
       "0  0.7392+/-0.0014  0.9093+/-0.0018  0.9178+/-0.0017  0.7178+/-0.0019   \n",
       "0  0.7187+/-0.0012  0.9098+/-0.0032    0.922+/-0.003  0.6855+/-0.0017   \n",
       "0  0.6464+/-0.0015  0.9992+/-0.0002  0.9995+/-0.0001  0.5236+/-0.0032   \n",
       "0  0.6453+/-0.0013  0.9991+/-0.0002  0.9995+/-0.0001  0.5212+/-0.0028   \n",
       "0  0.7086+/-0.0466  0.8162+/-0.1319   0.758+/-0.2154  0.7079+/-0.1366   \n",
       "0  0.6473+/-0.0045  0.8264+/-0.1501  0.7772+/-0.2612  0.6292+/-0.1265   \n",
       "\n",
       "                F1      F1_weighted           G_mean  \n",
       "0   0.8205+/-0.001  0.8196+/-0.0011  0.8216+/-0.0011  \n",
       "0  0.8189+/-0.0013    0.81+/-0.0014  0.8117+/-0.0014  \n",
       "0  0.8077+/-0.0017  0.7939+/-0.0016   0.795+/-0.0016  \n",
       "0  0.7851+/-0.0011   0.7327+/-0.002  0.7234+/-0.0022  \n",
       "0  0.7842+/-0.0009  0.7312+/-0.0017  0.7218+/-0.0019  \n",
       "0  0.7091+/-0.0911  0.7227+/-0.0408  0.7109+/-0.0535  \n",
       "0  0.6794+/-0.1433  0.6847+/-0.0646  0.6698+/-0.0853  "
      ]
     },
     "execution_count": 27,
     "metadata": {},
     "output_type": "execute_result"
    }
   ],
   "source": [
    "cv_results = pd.concat([log_cv, sgd_hinge_cv, sgd_perc_cv, sgd_rbf_hinge_cv, sgd_rbf_perc_cv, xgb_cv, bal_rf_cv])\n",
    "cv_results.sort_values(['F1'], ascending=False, inplace=True)\n",
    "cv_results"
   ]
  },
  {
   "cell_type": "markdown",
   "metadata": {},
   "source": [
    "## 7.7 Export Data"
   ]
  },
  {
   "cell_type": "code",
   "execution_count": 28,
   "metadata": {
    "ExecuteTime": {
     "end_time": "2021-02-01T20:50:43.232905Z",
     "start_time": "2021-02-01T20:50:43.229614Z"
    }
   },
   "outputs": [],
   "source": [
    "cv_results.to_pickle('data_in_progress/cv_results.pkl')"
   ]
  }
 ],
 "metadata": {
  "kernelspec": {
   "display_name": "Python 3",
   "language": "python",
   "name": "python3"
  },
  "language_info": {
   "codemirror_mode": {
    "name": "ipython",
    "version": 3
   },
   "file_extension": ".py",
   "mimetype": "text/x-python",
   "name": "python",
   "nbconvert_exporter": "python",
   "pygments_lexer": "ipython3",
   "version": "3.8.5"
  }
 },
 "nbformat": 4,
 "nbformat_minor": 4
}
