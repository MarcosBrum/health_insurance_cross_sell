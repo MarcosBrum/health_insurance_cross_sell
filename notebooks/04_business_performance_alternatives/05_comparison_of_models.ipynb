{
 "cells": [
  {
   "cell_type": "markdown",
   "id": "innocent-recommendation",
   "metadata": {
    "heading_collapsed": true
   },
   "source": [
    "# 0.0 Imports"
   ]
  },
  {
   "cell_type": "code",
   "execution_count": 1,
   "id": "bacterial-count",
   "metadata": {
    "ExecuteTime": {
     "end_time": "2021-02-25T21:11:35.323909Z",
     "start_time": "2021-02-25T21:11:34.993912Z"
    },
    "hidden": true
   },
   "outputs": [],
   "source": [
    "import pandas as pd\n",
    "import numpy as np"
   ]
  },
  {
   "cell_type": "markdown",
   "id": "separated-speed",
   "metadata": {
    "heading_collapsed": true,
    "hidden": true
   },
   "source": [
    "## 0.1 Import data"
   ]
  },
  {
   "cell_type": "code",
   "execution_count": 2,
   "id": "foster-mustang",
   "metadata": {
    "ExecuteTime": {
     "end_time": "2021-02-25T21:11:35.328612Z",
     "start_time": "2021-02-25T21:11:35.325684Z"
    },
    "hidden": true
   },
   "outputs": [],
   "source": [
    "home_path = \"/home/marcos/Documentos/comunidade_DS/pa004_health_insurance_cross_sell/\""
   ]
  },
  {
   "cell_type": "code",
   "execution_count": 3,
   "id": "missing-external",
   "metadata": {
    "ExecuteTime": {
     "end_time": "2021-02-25T21:11:35.374973Z",
     "start_time": "2021-02-25T21:11:35.330391Z"
    },
    "hidden": true
   },
   "outputs": [],
   "source": [
    "predictions_tree = pd.read_pickle(home_path + 'interim/predictions_tree.pkl')\n",
    "predictions_nn_boruta = pd.read_pickle(home_path + 'interim/predictions_nn_boruta.pkl')\n",
    "predictions_new_features_tree = pd.read_pickle(home_path + 'interim/predictions_new-features_tree.pkl')\n",
    "predictions_new_features_nn_boruta = pd.read_pickle(home_path + 'interim/predictions_nn_boruta_new.pkl')"
   ]
  },
  {
   "cell_type": "markdown",
   "id": "electronic-closer",
   "metadata": {
    "heading_collapsed": true
   },
   "source": [
    "# 1.0 Slices"
   ]
  },
  {
   "cell_type": "code",
   "execution_count": 4,
   "id": "parental-symbol",
   "metadata": {
    "ExecuteTime": {
     "end_time": "2021-02-25T21:11:35.386068Z",
     "start_time": "2021-02-25T21:11:35.376633Z"
    },
    "hidden": true
   },
   "outputs": [],
   "source": [
    "pred_new_tree_20 = predictions_new_features_tree.loc[0:20000, ['id']].copy().to_numpy()\n",
    "\n",
    "pred_new_boruta_20 = predictions_new_features_nn_boruta.loc[0:20000, ['id']].copy().to_numpy()\n",
    "\n",
    "pred_boruta_20 = predictions_nn_boruta.loc[0:20000, ['id']].copy().to_numpy()\n",
    "\n",
    "pred_tree_20 = predictions_tree.loc[0:20000, ['id']].copy().to_numpy()"
   ]
  },
  {
   "cell_type": "code",
   "execution_count": 5,
   "id": "opposite-survival",
   "metadata": {
    "ExecuteTime": {
     "end_time": "2021-02-25T21:11:35.395532Z",
     "start_time": "2021-02-25T21:11:35.387505Z"
    },
    "hidden": true
   },
   "outputs": [],
   "source": [
    "pred_new_tree_40 = predictions_new_features_tree.loc[0:40000, ['id']].copy().to_numpy()\n",
    "\n",
    "pred_new_boruta_40 = predictions_new_features_nn_boruta.loc[0:40000, ['id']].copy().to_numpy()\n",
    "\n",
    "pred_boruta_40 = predictions_nn_boruta.loc[0:40000, ['id']].copy().to_numpy()\n",
    "\n",
    "pred_tree_40 = predictions_tree.loc[0:40000, ['id']].copy().to_numpy()"
   ]
  },
  {
   "cell_type": "markdown",
   "id": "unlike-closer",
   "metadata": {
    "heading_collapsed": true
   },
   "source": [
    "# 2.0 Comparison"
   ]
  },
  {
   "cell_type": "code",
   "execution_count": 6,
   "id": "arranged-cycle",
   "metadata": {
    "ExecuteTime": {
     "end_time": "2021-02-25T21:11:35.400604Z",
     "start_time": "2021-02-25T21:11:35.397137Z"
    },
    "hidden": true
   },
   "outputs": [],
   "source": [
    "def count_equals(pred1, pred2):\n",
    "    counter = 0\n",
    "    for i in range(len(pred1)):\n",
    "        if pred1[i] in pred2:\n",
    "            counter +=1\n",
    "    return counter / len(pred1)    "
   ]
  },
  {
   "cell_type": "markdown",
   "id": "medieval-niger",
   "metadata": {
    "heading_collapsed": true,
    "hidden": true
   },
   "source": [
    "## 2.1 At 20,000"
   ]
  },
  {
   "cell_type": "code",
   "execution_count": 7,
   "id": "invisible-reminder",
   "metadata": {
    "ExecuteTime": {
     "end_time": "2021-02-25T21:11:35.681152Z",
     "start_time": "2021-02-25T21:11:35.402166Z"
    },
    "hidden": true
   },
   "outputs": [
    {
     "data": {
      "text/plain": [
       "0.664366781660917"
      ]
     },
     "execution_count": 7,
     "metadata": {},
     "output_type": "execute_result"
    }
   ],
   "source": [
    "count_equals(pred_new_tree_20, pred_new_boruta_20)"
   ]
  },
  {
   "cell_type": "code",
   "execution_count": 8,
   "id": "contemporary-american",
   "metadata": {
    "ExecuteTime": {
     "end_time": "2021-02-25T21:11:35.966862Z",
     "start_time": "2021-02-25T21:11:35.685139Z"
    },
    "hidden": true
   },
   "outputs": [
    {
     "data": {
      "text/plain": [
       "0.6110694465276736"
      ]
     },
     "execution_count": 8,
     "metadata": {},
     "output_type": "execute_result"
    }
   ],
   "source": [
    "count_equals(pred_new_tree_20, pred_boruta_20)"
   ]
  },
  {
   "cell_type": "code",
   "execution_count": 9,
   "id": "duplicate-principle",
   "metadata": {
    "ExecuteTime": {
     "end_time": "2021-02-25T21:11:36.236465Z",
     "start_time": "2021-02-25T21:11:35.969022Z"
    },
    "hidden": true
   },
   "outputs": [
    {
     "data": {
      "text/plain": [
       "0.8910054497275136"
      ]
     },
     "execution_count": 9,
     "metadata": {},
     "output_type": "execute_result"
    }
   ],
   "source": [
    "count_equals(pred_new_tree_20, pred_tree_20)"
   ]
  },
  {
   "cell_type": "code",
   "execution_count": 10,
   "id": "civil-transmission",
   "metadata": {
    "ExecuteTime": {
     "end_time": "2021-02-25T21:11:36.501677Z",
     "start_time": "2021-02-25T21:11:36.238508Z"
    },
    "hidden": true
   },
   "outputs": [
    {
     "data": {
      "text/plain": [
       "0.8196090195490225"
      ]
     },
     "execution_count": 10,
     "metadata": {},
     "output_type": "execute_result"
    }
   ],
   "source": [
    "count_equals(pred_new_boruta_20, pred_boruta_20)"
   ]
  },
  {
   "cell_type": "code",
   "execution_count": 11,
   "id": "documented-pointer",
   "metadata": {
    "ExecuteTime": {
     "end_time": "2021-02-25T21:11:36.771482Z",
     "start_time": "2021-02-25T21:11:36.504298Z"
    },
    "hidden": true
   },
   "outputs": [
    {
     "data": {
      "text/plain": [
       "0.6464676766161692"
      ]
     },
     "execution_count": 11,
     "metadata": {},
     "output_type": "execute_result"
    }
   ],
   "source": [
    "count_equals(pred_new_boruta_20, pred_tree_20)"
   ]
  },
  {
   "cell_type": "code",
   "execution_count": 12,
   "id": "sweet-supplier",
   "metadata": {
    "ExecuteTime": {
     "end_time": "2021-02-25T21:11:37.040691Z",
     "start_time": "2021-02-25T21:11:36.773169Z"
    },
    "hidden": true
   },
   "outputs": [
    {
     "data": {
      "text/plain": [
       "0.6025698715064247"
      ]
     },
     "execution_count": 12,
     "metadata": {},
     "output_type": "execute_result"
    }
   ],
   "source": [
    "count_equals(pred_boruta_20, pred_tree_20)"
   ]
  },
  {
   "cell_type": "markdown",
   "id": "lasting-associate",
   "metadata": {
    "heading_collapsed": true,
    "hidden": true
   },
   "source": [
    "## 2.2 At 40,000"
   ]
  },
  {
   "cell_type": "code",
   "execution_count": 13,
   "id": "checked-cleaning",
   "metadata": {
    "ExecuteTime": {
     "end_time": "2021-02-25T21:11:37.761731Z",
     "start_time": "2021-02-25T21:11:37.042278Z"
    },
    "hidden": true
   },
   "outputs": [
    {
     "data": {
      "text/plain": [
       "0.9148021299467514"
      ]
     },
     "execution_count": 13,
     "metadata": {},
     "output_type": "execute_result"
    }
   ],
   "source": [
    "count_equals(pred_new_tree_40, pred_new_boruta_40)"
   ]
  },
  {
   "cell_type": "code",
   "execution_count": 14,
   "id": "solar-amplifier",
   "metadata": {
    "ExecuteTime": {
     "end_time": "2021-02-25T21:11:38.473436Z",
     "start_time": "2021-02-25T21:11:37.763579Z"
    },
    "hidden": true
   },
   "outputs": [
    {
     "data": {
      "text/plain": [
       "0.8527786805329867"
      ]
     },
     "execution_count": 14,
     "metadata": {},
     "output_type": "execute_result"
    }
   ],
   "source": [
    "count_equals(pred_new_tree_40, pred_boruta_40)"
   ]
  },
  {
   "cell_type": "code",
   "execution_count": 15,
   "id": "enclosed-stephen",
   "metadata": {
    "ExecuteTime": {
     "end_time": "2021-02-25T21:11:39.225882Z",
     "start_time": "2021-02-25T21:11:38.475112Z"
    },
    "hidden": true
   },
   "outputs": [
    {
     "data": {
      "text/plain": [
       "0.9694757631059223"
      ]
     },
     "execution_count": 15,
     "metadata": {},
     "output_type": "execute_result"
    }
   ],
   "source": [
    "count_equals(pred_new_tree_40, pred_tree_40)"
   ]
  },
  {
   "cell_type": "code",
   "execution_count": 16,
   "id": "neural-smell",
   "metadata": {
    "ExecuteTime": {
     "end_time": "2021-02-25T21:11:39.996610Z",
     "start_time": "2021-02-25T21:11:39.227944Z"
    },
    "hidden": true
   },
   "outputs": [
    {
     "data": {
      "text/plain": [
       "0.9018774530636734"
      ]
     },
     "execution_count": 16,
     "metadata": {},
     "output_type": "execute_result"
    }
   ],
   "source": [
    "count_equals(pred_new_boruta_40, pred_boruta_40)"
   ]
  },
  {
   "cell_type": "code",
   "execution_count": 17,
   "id": "corporate-enforcement",
   "metadata": {
    "ExecuteTime": {
     "end_time": "2021-02-25T21:11:40.759933Z",
     "start_time": "2021-02-25T21:11:39.998562Z"
    },
    "hidden": true
   },
   "outputs": [
    {
     "data": {
      "text/plain": [
       "0.9067773305667358"
      ]
     },
     "execution_count": 17,
     "metadata": {},
     "output_type": "execute_result"
    }
   ],
   "source": [
    "count_equals(pred_new_boruta_40, pred_tree_40)"
   ]
  },
  {
   "cell_type": "code",
   "execution_count": 18,
   "id": "outdoor-journey",
   "metadata": {
    "ExecuteTime": {
     "end_time": "2021-02-25T21:11:41.504790Z",
     "start_time": "2021-02-25T21:11:40.762542Z"
    },
    "hidden": true
   },
   "outputs": [
    {
     "data": {
      "text/plain": [
       "0.8466788330291742"
      ]
     },
     "execution_count": 18,
     "metadata": {},
     "output_type": "execute_result"
    }
   ],
   "source": [
    "count_equals(pred_boruta_40, pred_tree_40)"
   ]
  }
 ],
 "metadata": {
  "kernelspec": {
   "display_name": "Python 3",
   "language": "python",
   "name": "python3"
  },
  "language_info": {
   "codemirror_mode": {
    "name": "ipython",
    "version": 3
   },
   "file_extension": ".py",
   "mimetype": "text/x-python",
   "name": "python",
   "nbconvert_exporter": "python",
   "pygments_lexer": "ipython3",
   "version": "3.8.5"
  }
 },
 "nbformat": 4,
 "nbformat_minor": 5
}
