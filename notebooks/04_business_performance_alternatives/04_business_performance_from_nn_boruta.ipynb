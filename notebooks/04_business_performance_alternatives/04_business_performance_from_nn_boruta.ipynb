{
 "cells": [
  {
   "cell_type": "markdown",
   "metadata": {
    "heading_collapsed": true
   },
   "source": [
    "# 0.0 Imports"
   ]
  },
  {
   "cell_type": "code",
   "execution_count": 1,
   "metadata": {
    "ExecuteTime": {
     "end_time": "2021-02-25T22:19:18.841271Z",
     "start_time": "2021-02-25T22:19:17.862081Z"
    },
    "hidden": true
   },
   "outputs": [],
   "source": [
    "import pandas as pd\n",
    "import numpy as np\n",
    "import pickle\n",
    "import random\n",
    "\n",
    "import matplotlib.pyplot as plt\n",
    "import seaborn as sns\n",
    "import scikitplot as skplt\n",
    "\n",
    "import xgboost as xgb"
   ]
  },
  {
   "cell_type": "markdown",
   "metadata": {
    "heading_collapsed": true,
    "hidden": true
   },
   "source": [
    "### 0.0.1 Problema"
   ]
  },
  {
   "cell_type": "markdown",
   "metadata": {
    "hidden": true
   },
   "source": [
    "Uma seguradora de planos de saúde pretende passar a vender, também, seguros de automóveis.\n",
    "\n",
    "A seguradora realizou pesquisa com cerca de 380.000 clientes para saber se teriam interesse, ou não, em contratar o novo seguro. Todos os clientes responderam.\n",
    "\n",
    "A seguradora selecionou cerca de 127.000 potenciais clientes para participar de uma campanha. Este grupo receberá a oferta de adesão ao seguro de automóvel via ligação telefônica.\n",
    "\n",
    "**Problema**: o time de vendas tem condições de ligar para, somente, 20.000 pessoas. Como selecionar, dentre os potenciais clientes, aqueles que tem maior probabilidade de adquirir o seguro?"
   ]
  },
  {
   "cell_type": "markdown",
   "metadata": {
    "hidden": true
   },
   "source": [
    "O *relatório* deve responder às seguintes questões:\n",
    "\n",
    "1. Fornecer *insights* sobre os atributos mais relevantes de clientes interessados em adquirir o seguro.\n",
    "\n",
    "2. Qual porcentagem dos potenciais clientes interessados o time de vendas vai conseguir contatar fazendo 20.000 ligações?\n",
    "\n",
    "3. Se o time de vendas fizer 40.000 ligações, qual será a porcentagem de clientes interessados contatada?\n",
    "\n",
    "4. Quantas ligações o time de vendas precisariaria fazer para contatar 80% dos potenciais clientes interessados?"
   ]
  },
  {
   "cell_type": "markdown",
   "metadata": {
    "heading_collapsed": true,
    "hidden": true
   },
   "source": [
    "## 0.1 Load Data"
   ]
  },
  {
   "cell_type": "code",
   "execution_count": 2,
   "metadata": {
    "ExecuteTime": {
     "end_time": "2021-02-25T22:19:18.845967Z",
     "start_time": "2021-02-25T22:19:18.843266Z"
    },
    "hidden": true
   },
   "outputs": [],
   "source": [
    "home_path = \"/home/marcos/Documentos/comunidade_DS/pa004_health_insurance_cross_sell/\""
   ]
  },
  {
   "cell_type": "code",
   "execution_count": 3,
   "metadata": {
    "ExecuteTime": {
     "end_time": "2021-02-25T22:19:18.954314Z",
     "start_time": "2021-02-25T22:19:18.848089Z"
    },
    "hidden": true
   },
   "outputs": [],
   "source": [
    "df_test_raw = pd.read_csv(home_path + \"data/test.csv\")"
   ]
  },
  {
   "cell_type": "code",
   "execution_count": 4,
   "metadata": {
    "ExecuteTime": {
     "end_time": "2021-02-25T22:19:18.962929Z",
     "start_time": "2021-02-25T22:19:18.956595Z"
    },
    "hidden": true
   },
   "outputs": [
    {
     "data": {
      "text/plain": [
       "Index(['id', 'Gender', 'Age', 'Driving_License', 'Region_Code',\n",
       "       'Previously_Insured', 'Vehicle_Age', 'Vehicle_Damage', 'Annual_Premium',\n",
       "       'Policy_Sales_Channel', 'Vintage'],\n",
       "      dtype='object')"
      ]
     },
     "execution_count": 4,
     "metadata": {},
     "output_type": "execute_result"
    }
   ],
   "source": [
    "df_test_raw.columns"
   ]
  },
  {
   "cell_type": "code",
   "execution_count": 5,
   "metadata": {
    "ExecuteTime": {
     "end_time": "2021-02-25T22:19:18.979284Z",
     "start_time": "2021-02-25T22:19:18.964490Z"
    },
    "hidden": true
   },
   "outputs": [],
   "source": [
    "df_validation = pd.read_pickle(home_path + \"interim/df_val.pkl\")"
   ]
  },
  {
   "cell_type": "code",
   "execution_count": 6,
   "metadata": {
    "ExecuteTime": {
     "end_time": "2021-02-25T22:19:18.989137Z",
     "start_time": "2021-02-25T22:19:18.980682Z"
    },
    "hidden": true
   },
   "outputs": [
    {
     "data": {
      "text/plain": [
       "id                      0\n",
       "age                     0\n",
       "region_code             0\n",
       "policy_sales_channel    0\n",
       "driving_license         0\n",
       "vehicle_age             0\n",
       "vehicle_damage          0\n",
       "previously_insured      0\n",
       "annual_premium          0\n",
       "vintage                 0\n",
       "gender_Female           0\n",
       "gender_Male             0\n",
       "response                0\n",
       "dtype: int64"
      ]
     },
     "execution_count": 6,
     "metadata": {},
     "output_type": "execute_result"
    }
   ],
   "source": [
    "df_validation.isna().sum()"
   ]
  },
  {
   "cell_type": "code",
   "execution_count": 7,
   "metadata": {
    "ExecuteTime": {
     "end_time": "2021-02-25T22:19:18.993834Z",
     "start_time": "2021-02-25T22:19:18.991027Z"
    },
    "hidden": true
   },
   "outputs": [],
   "source": [
    "cols_selected_boruta_resampled = pickle.load(open(home_path + \"interim/cols_selected_boruta_resampled_nn.pkl\", \"rb\"))"
   ]
  },
  {
   "cell_type": "code",
   "execution_count": 8,
   "metadata": {
    "ExecuteTime": {
     "end_time": "2021-02-25T22:19:18.999001Z",
     "start_time": "2021-02-25T22:19:18.996422Z"
    },
    "hidden": true
   },
   "outputs": [],
   "source": [
    "id_gender = ['id', 'gender_Female']\n",
    "cols_selected_boruta_resampled_full = cols_selected_boruta_resampled.copy()\n",
    "cols_selected_boruta_resampled_full.extend(id_gender)"
   ]
  },
  {
   "cell_type": "code",
   "execution_count": 9,
   "metadata": {
    "ExecuteTime": {
     "end_time": "2021-02-25T22:19:19.004601Z",
     "start_time": "2021-02-25T22:19:19.001068Z"
    },
    "hidden": true
   },
   "outputs": [],
   "source": [
    "col_resp = ['response']\n",
    "cols_selected_boruta_resampled_resp = cols_selected_boruta_resampled_full.copy()\n",
    "cols_selected_boruta_resampled_resp.extend(col_resp)"
   ]
  },
  {
   "cell_type": "markdown",
   "metadata": {
    "heading_collapsed": true,
    "hidden": true
   },
   "source": [
    "### 0.1.1 Load encoders"
   ]
  },
  {
   "cell_type": "code",
   "execution_count": 10,
   "metadata": {
    "ExecuteTime": {
     "end_time": "2021-02-25T22:19:19.014135Z",
     "start_time": "2021-02-25T22:19:19.006767Z"
    },
    "hidden": true
   },
   "outputs": [],
   "source": [
    "# vehicle_age - LabelEncoder\n",
    "age_encoder = pickle.load(open(home_path + \"encoders/v_age_encoder.pkl\", \"rb\"))\n",
    "\n",
    "# vehicle_damage - LabelEncoder\n",
    "damage_encoder = pickle.load(open(home_path + \"encoders/v_dam_encoder.pkl\", \"rb\"))\n",
    "\n",
    "# age - MinMaxScaler\n",
    "mms_age = pickle.load(open(home_path + \"encoders/age_scaler.pkl\", \"rb\"))\n",
    "\n",
    "# region_code - frequency encoding\n",
    "region_freq = pickle.load(open(home_path + \"encoders/region_freq_scaler.pkl\", \"rb\"))\n",
    "\n",
    "# annual_premium - StandardScaler\n",
    "ss_premium = pickle.load(open(home_path + \"encoders/premium_scaler.pkl\", \"rb\"))\n",
    "\n",
    "# vintage - MinMaxScaler\n",
    "mms_vintage = pickle.load(open(home_path + \"encoders/vintage_scaler.pkl\", \"rb\"))"
   ]
  },
  {
   "cell_type": "markdown",
   "metadata": {
    "heading_collapsed": true,
    "hidden": true
   },
   "source": [
    "### 0.1.2 Load trained model"
   ]
  },
  {
   "cell_type": "code",
   "execution_count": 11,
   "metadata": {
    "ExecuteTime": {
     "end_time": "2021-02-25T22:19:19.233800Z",
     "start_time": "2021-02-25T22:19:19.015732Z"
    },
    "hidden": true
   },
   "outputs": [],
   "source": [
    "xgb_validated = pickle.load(open(home_path + \"ml_models_comp/xgb_validated.pkl\", \"rb\"))"
   ]
  },
  {
   "cell_type": "markdown",
   "metadata": {
    "heading_collapsed": true,
    "hidden": true
   },
   "source": [
    "## 0.2 Helper Functions"
   ]
  },
  {
   "cell_type": "code",
   "execution_count": 12,
   "metadata": {
    "ExecuteTime": {
     "end_time": "2021-02-25T22:19:19.245797Z",
     "start_time": "2021-02-25T22:19:19.235897Z"
    },
    "hidden": true
   },
   "outputs": [],
   "source": [
    "# model predict\n",
    "def model_predict(trained_model, data_test):\n",
    "    # drop id\n",
    "    data_testing = data_test.drop(['id'], axis=1).copy()\n",
    "    # predict_proba:\n",
    "    yhat_proba = trained_model.predict_proba(data_testing)\n",
    "    \n",
    "    # transform yhat_proba to 1D-array\n",
    "    yhat_proba_1d = yhat_proba[:, 1].tolist()\n",
    "    \n",
    "    # include in dataframe\n",
    "    testing_data = data_test.copy()\n",
    "    testing_data['score'] = yhat_proba_1d\n",
    "    # sort\n",
    "    testing_data = testing_data.sort_values('score', ascending=False)\n",
    "    # reset index\n",
    "    testing_data.reset_index(drop=True, inplace=True)\n",
    "    return testing_data\n",
    "\n",
    "\n",
    "# precision_at_k, recall_at_k, cumulative_gain and lift_curve on training data\n",
    "# precision_at_k\n",
    "def precision_at_k(data, k):\n",
    "    data = data.reset_index(drop=True)\n",
    "    data['n_samples'] = data.index + 1\n",
    "    data['precision_at_k'] = data['response'].cumsum() / data['n_samples']\n",
    "    return data.loc[k, 'precision_at_k']\n",
    "\n",
    "\n",
    "# recall_at_k\n",
    "def recall_at_k(data, k):\n",
    "    data = data.reset_index(drop=True)\n",
    "    data['recall_at_k'] = data['response'].cumsum() / data['response'].sum()\n",
    "    return data.loc[k, 'recall_at_k']\n",
    "\n",
    "\n",
    "# validation metrics\n",
    "def validation_metrics(trained_model, data_val, k):\n",
    "    # separate X and Y data:\n",
    "    xval = data_val.drop(['id', 'response'], axis=1)\n",
    "    yval = data_val.response\n",
    "    \n",
    "    # predict_proba:\n",
    "    yhat_proba = trained_model.predict_proba(xval)\n",
    "    \n",
    "    # transform yhat_proba to 1D-array\n",
    "    yhat_proba_1d = yhat_proba[:, 1].tolist()\n",
    "    \n",
    "    # include in dataframe\n",
    "    validation_data = data_val.copy()\n",
    "    validation_data['score'] = yhat_proba_1d\n",
    "    # sort\n",
    "    validation_data = validation_data.sort_values('score', ascending=False)\n",
    "    \n",
    "    return pd.DataFrame({'precision_at_{}'.format(k):precision_at_k(validation_data, k),\n",
    "                         'recall_at_{}'.format(k):recall_at_k(validation_data, k)}, index=['ranking_metrics']).T\n",
    "\n",
    "\n",
    "# gain plots\n",
    "# def gain_plots(trained_model, data_val):\n",
    "#     # separate X and Y data:\n",
    "#     xval = data_val.drop(['id', 'response'], axis=1)\n",
    "#     yval = data_val.response\n",
    "    \n",
    "#     # predict_proba:\n",
    "#     yhat_proba = trained_model.predict_proba(xval)\n",
    "    \n",
    "#     # plot\n",
    "#     skplt.metrics.plot_cumulative_gain(yval, yhat_proba);\n",
    "#     skplt.metrics.plot_lift_curve(yval, yhat_proba);\n",
    "    \n",
    "#     return None"
   ]
  },
  {
   "cell_type": "markdown",
   "metadata": {
    "heading_collapsed": true,
    "hidden": true
   },
   "source": [
    "## 0.3 Apply encoders and feature selection to data"
   ]
  },
  {
   "cell_type": "code",
   "execution_count": 13,
   "metadata": {
    "ExecuteTime": {
     "end_time": "2021-02-25T22:19:19.254579Z",
     "start_time": "2021-02-25T22:19:19.248383Z"
    },
    "hidden": true
   },
   "outputs": [],
   "source": [
    "df9 = df_test_raw.copy()"
   ]
  },
  {
   "cell_type": "code",
   "execution_count": 14,
   "metadata": {
    "ExecuteTime": {
     "end_time": "2021-02-25T22:19:19.259739Z",
     "start_time": "2021-02-25T22:19:19.256443Z"
    },
    "hidden": true
   },
   "outputs": [],
   "source": [
    "cols_list = df9.columns.tolist()\n",
    "cols_lower = [x.lower() for x in cols_list]\n",
    "df9.columns = cols_lower"
   ]
  },
  {
   "cell_type": "code",
   "execution_count": 15,
   "metadata": {
    "ExecuteTime": {
     "end_time": "2021-02-25T22:19:19.266917Z",
     "start_time": "2021-02-25T22:19:19.261518Z"
    },
    "hidden": true
   },
   "outputs": [
    {
     "data": {
      "text/plain": [
       "id                        int64\n",
       "gender                   object\n",
       "age                       int64\n",
       "driving_license           int64\n",
       "region_code             float64\n",
       "previously_insured        int64\n",
       "vehicle_age              object\n",
       "vehicle_damage           object\n",
       "annual_premium          float64\n",
       "policy_sales_channel    float64\n",
       "vintage                   int64\n",
       "dtype: object"
      ]
     },
     "execution_count": 15,
     "metadata": {},
     "output_type": "execute_result"
    }
   ],
   "source": [
    "df9.dtypes"
   ]
  },
  {
   "cell_type": "code",
   "execution_count": 16,
   "metadata": {
    "ExecuteTime": {
     "end_time": "2021-02-25T22:19:19.275748Z",
     "start_time": "2021-02-25T22:19:19.268810Z"
    },
    "hidden": true
   },
   "outputs": [],
   "source": [
    "df9['region_code'] = df9['region_code'].astype(int)\n",
    "df9['policy_sales_channel'] = df9['policy_sales_channel'].astype(int)"
   ]
  },
  {
   "cell_type": "code",
   "execution_count": 17,
   "metadata": {
    "ExecuteTime": {
     "end_time": "2021-02-25T22:19:19.304072Z",
     "start_time": "2021-02-25T22:19:19.277461Z"
    },
    "hidden": true
   },
   "outputs": [
    {
     "data": {
      "text/plain": [
       "id                      0\n",
       "gender                  0\n",
       "age                     0\n",
       "driving_license         0\n",
       "region_code             0\n",
       "previously_insured      0\n",
       "vehicle_age             0\n",
       "vehicle_damage          0\n",
       "annual_premium          0\n",
       "policy_sales_channel    0\n",
       "vintage                 0\n",
       "dtype: int64"
      ]
     },
     "execution_count": 17,
     "metadata": {},
     "output_type": "execute_result"
    }
   ],
   "source": [
    "df9.isna().sum()"
   ]
  },
  {
   "cell_type": "code",
   "execution_count": 18,
   "metadata": {
    "ExecuteTime": {
     "end_time": "2021-02-25T22:19:19.418427Z",
     "start_time": "2021-02-25T22:19:19.306048Z"
    },
    "hidden": true
   },
   "outputs": [],
   "source": [
    "#gender: \"One-hot\" encoder\n",
    "df9 = pd.get_dummies(df9, prefix='gender', columns=['gender'])\n",
    "\n",
    "# vehicle_age - LabelEncoder\n",
    "df9['vehicle_age'] = age_encoder.transform(df9['vehicle_age'])\n",
    "\n",
    "# vehicle_damage - LabelEncoder\n",
    "df9['vehicle_damage'] = damage_encoder.transform(df9['vehicle_damage'])\n",
    "\n",
    "# age - MinMaxScaler\n",
    "df9['age'] = mms_age.transform(df9[['age']].values)\n",
    "\n",
    "# region_code - frequency encoding\n",
    "df9['region_code'] = df9['region_code'].map(region_freq)\n",
    "\n",
    "# annual_premium - StandardScaler\n",
    "df9['annual_premium'] = ss_premium.transform(df9[['annual_premium']].values)\n",
    "\n",
    "# vintage - MinMaxScaler\n",
    "df9['vintage'] = mms_vintage.transform(df9[['vintage']].values)"
   ]
  },
  {
   "cell_type": "code",
   "execution_count": 19,
   "metadata": {
    "ExecuteTime": {
     "end_time": "2021-02-25T22:19:19.430148Z",
     "start_time": "2021-02-25T22:19:19.421040Z"
    },
    "hidden": true
   },
   "outputs": [],
   "source": [
    "df9 = df9[cols_selected_boruta_resampled_full].copy()"
   ]
  },
  {
   "cell_type": "code",
   "execution_count": 20,
   "metadata": {
    "ExecuteTime": {
     "end_time": "2021-02-25T22:19:19.438430Z",
     "start_time": "2021-02-25T22:19:19.431544Z"
    },
    "hidden": true
   },
   "outputs": [],
   "source": [
    "df_validation = df_validation[cols_selected_boruta_resampled_resp].copy()"
   ]
  },
  {
   "cell_type": "markdown",
   "metadata": {
    "heading_collapsed": true
   },
   "source": [
    "# 9.0 Business Performance"
   ]
  },
  {
   "cell_type": "markdown",
   "metadata": {
    "heading_collapsed": true,
    "hidden": true
   },
   "source": [
    "## 9.1 Model Performance - metrics on validation"
   ]
  },
  {
   "cell_type": "code",
   "execution_count": 21,
   "metadata": {
    "ExecuteTime": {
     "end_time": "2021-02-25T22:19:19.921121Z",
     "start_time": "2021-02-25T22:19:19.440375Z"
    },
    "cell_style": "center",
    "hidden": true,
    "hide_input": false,
    "scrolled": true
   },
   "outputs": [
    {
     "data": {
      "text/html": [
       "<div>\n",
       "<style scoped>\n",
       "    .dataframe tbody tr th:only-of-type {\n",
       "        vertical-align: middle;\n",
       "    }\n",
       "\n",
       "    .dataframe tbody tr th {\n",
       "        vertical-align: top;\n",
       "    }\n",
       "\n",
       "    .dataframe thead th {\n",
       "        text-align: right;\n",
       "    }\n",
       "</style>\n",
       "<table border=\"1\" class=\"dataframe\">\n",
       "  <thead>\n",
       "    <tr style=\"text-align: right;\">\n",
       "      <th></th>\n",
       "      <th>ranking_metrics</th>\n",
       "    </tr>\n",
       "  </thead>\n",
       "  <tbody>\n",
       "    <tr>\n",
       "      <th>precision_at_20000</th>\n",
       "      <td>0.302835</td>\n",
       "    </tr>\n",
       "    <tr>\n",
       "      <th>recall_at_20000</th>\n",
       "      <td>0.648362</td>\n",
       "    </tr>\n",
       "  </tbody>\n",
       "</table>\n",
       "</div>"
      ],
      "text/plain": [
       "                    ranking_metrics\n",
       "precision_at_20000         0.302835\n",
       "recall_at_20000            0.648362"
      ]
     },
     "execution_count": 21,
     "metadata": {},
     "output_type": "execute_result"
    }
   ],
   "source": [
    "metrics = validation_metrics(xgb_validated, df_validation, 20000)\n",
    "metrics"
   ]
  },
  {
   "cell_type": "code",
   "execution_count": 22,
   "metadata": {
    "ExecuteTime": {
     "end_time": "2021-02-25T22:19:20.357587Z",
     "start_time": "2021-02-25T22:19:19.923233Z"
    },
    "cell_style": "center",
    "hidden": true,
    "hide_input": false,
    "scrolled": true
   },
   "outputs": [
    {
     "data": {
      "text/html": [
       "<div>\n",
       "<style scoped>\n",
       "    .dataframe tbody tr th:only-of-type {\n",
       "        vertical-align: middle;\n",
       "    }\n",
       "\n",
       "    .dataframe tbody tr th {\n",
       "        vertical-align: top;\n",
       "    }\n",
       "\n",
       "    .dataframe thead th {\n",
       "        text-align: right;\n",
       "    }\n",
       "</style>\n",
       "<table border=\"1\" class=\"dataframe\">\n",
       "  <thead>\n",
       "    <tr style=\"text-align: right;\">\n",
       "      <th></th>\n",
       "      <th>ranking_metrics</th>\n",
       "    </tr>\n",
       "  </thead>\n",
       "  <tbody>\n",
       "    <tr>\n",
       "      <th>precision_at_40000</th>\n",
       "      <td>0.231419</td>\n",
       "    </tr>\n",
       "    <tr>\n",
       "      <th>recall_at_40000</th>\n",
       "      <td>0.990901</td>\n",
       "    </tr>\n",
       "  </tbody>\n",
       "</table>\n",
       "</div>"
      ],
      "text/plain": [
       "                    ranking_metrics\n",
       "precision_at_40000         0.231419\n",
       "recall_at_40000            0.990901"
      ]
     },
     "execution_count": 22,
     "metadata": {},
     "output_type": "execute_result"
    }
   ],
   "source": [
    "metrics = validation_metrics(xgb_validated, df_validation, 40000)\n",
    "metrics"
   ]
  },
  {
   "cell_type": "code",
   "execution_count": 23,
   "metadata": {
    "ExecuteTime": {
     "end_time": "2021-02-25T22:19:20.730974Z",
     "start_time": "2021-02-25T22:19:20.360387Z"
    },
    "hidden": true,
    "hide_input": false
   },
   "outputs": [],
   "source": [
    "# separate X and Y data:\n",
    "xval = df_validation.drop(['id', 'response'], axis=1)\n",
    "yval = df_validation.response\n",
    "\n",
    "# predict_proba:\n",
    "yhat_proba = xgb_validated.predict_proba(xval)"
   ]
  },
  {
   "cell_type": "code",
   "execution_count": 24,
   "metadata": {
    "ExecuteTime": {
     "end_time": "2021-02-25T22:19:20.919741Z",
     "start_time": "2021-02-25T22:19:20.732780Z"
    },
    "cell_style": "center",
    "hidden": true,
    "hide_input": false,
    "scrolled": false
   },
   "outputs": [
    {
     "data": {
      "image/png": "[encoded data removed]",
      "text/plain": [
       "<Figure size 432x288 with 1 Axes>"
      ]
     },
     "metadata": {
      "needs_background": "light"
     },
     "output_type": "display_data"
    }
   ],
   "source": [
    "skplt.metrics.plot_cumulative_gain(yval, yhat_proba);"
   ]
  },
  {
   "cell_type": "code",
   "execution_count": 25,
   "metadata": {
    "ExecuteTime": {
     "end_time": "2021-02-25T22:19:21.133390Z",
     "start_time": "2021-02-25T22:19:20.922225Z"
    },
    "cell_style": "center",
    "hidden": true,
    "hide_input": false,
    "scrolled": true
   },
   "outputs": [
    {
     "data": {
      "image/png": "[encoded data removed]",
      "text/plain": [
       "<Figure size 432x288 with 1 Axes>"
      ]
     },
     "metadata": {
      "needs_background": "light"
     },
     "output_type": "display_data"
    }
   ],
   "source": [
    "skplt.metrics.plot_lift_curve(yval, yhat_proba);"
   ]
  },
  {
   "cell_type": "code",
   "execution_count": 26,
   "metadata": {
    "ExecuteTime": {
     "end_time": "2021-02-25T22:19:21.378927Z",
     "start_time": "2021-02-25T22:19:21.135150Z"
    },
    "cell_style": "center",
    "hidden": true,
    "hide_input": false,
    "scrolled": false
   },
   "outputs": [
    {
     "data": {
      "image/png": "[encoded data removed]",
      "text/plain": [
       "<Figure size 432x288 with 1 Axes>"
      ]
     },
     "metadata": {
      "needs_background": "light"
     },
     "output_type": "display_data"
    }
   ],
   "source": [
    "skplt.metrics.plot_roc(yval, yhat_proba);"
   ]
  },
  {
   "cell_type": "markdown",
   "metadata": {
    "heading_collapsed": true,
    "hidden": true
   },
   "source": [
    "### 9.1.1 80% of potentially interested"
   ]
  },
  {
   "cell_type": "code",
   "execution_count": 27,
   "metadata": {
    "ExecuteTime": {
     "end_time": "2021-02-25T22:19:21.814503Z",
     "start_time": "2021-02-25T22:19:21.380577Z"
    },
    "cell_style": "center",
    "hidden": true,
    "hide_input": false,
    "scrolled": true
   },
   "outputs": [
    {
     "data": {
      "text/html": [
       "<div>\n",
       "<style scoped>\n",
       "    .dataframe tbody tr th:only-of-type {\n",
       "        vertical-align: middle;\n",
       "    }\n",
       "\n",
       "    .dataframe tbody tr th {\n",
       "        vertical-align: top;\n",
       "    }\n",
       "\n",
       "    .dataframe thead th {\n",
       "        text-align: right;\n",
       "    }\n",
       "</style>\n",
       "<table border=\"1\" class=\"dataframe\">\n",
       "  <thead>\n",
       "    <tr style=\"text-align: right;\">\n",
       "      <th></th>\n",
       "      <th>ranking_metrics</th>\n",
       "    </tr>\n",
       "  </thead>\n",
       "  <tbody>\n",
       "    <tr>\n",
       "      <th>precision_at_26000</th>\n",
       "      <td>0.288258</td>\n",
       "    </tr>\n",
       "    <tr>\n",
       "      <th>recall_at_26000</th>\n",
       "      <td>0.802291</td>\n",
       "    </tr>\n",
       "  </tbody>\n",
       "</table>\n",
       "</div>"
      ],
      "text/plain": [
       "                    ranking_metrics\n",
       "precision_at_26000         0.288258\n",
       "recall_at_26000            0.802291"
      ]
     },
     "execution_count": 27,
     "metadata": {},
     "output_type": "execute_result"
    }
   ],
   "source": [
    "metrics = validation_metrics(xgb_validated, df_validation, 26000)\n",
    "metrics"
   ]
  },
  {
   "cell_type": "markdown",
   "metadata": {
    "heading_collapsed": true,
    "hidden": true
   },
   "source": [
    "## 9.2 Business performance"
   ]
  },
  {
   "cell_type": "code",
   "execution_count": 28,
   "metadata": {
    "ExecuteTime": {
     "end_time": "2021-02-25T22:19:22.530419Z",
     "start_time": "2021-02-25T22:19:21.816161Z"
    },
    "hidden": true
   },
   "outputs": [],
   "source": [
    "df9_predictions = model_predict(xgb_validated, df9)"
   ]
  },
  {
   "cell_type": "code",
   "execution_count": 29,
   "metadata": {
    "ExecuteTime": {
     "end_time": "2021-02-25T22:19:22.548067Z",
     "start_time": "2021-02-25T22:19:22.531840Z"
    },
    "hidden": true
   },
   "outputs": [
    {
     "data": {
      "text/html": [
       "<div>\n",
       "<style scoped>\n",
       "    .dataframe tbody tr th:only-of-type {\n",
       "        vertical-align: middle;\n",
       "    }\n",
       "\n",
       "    .dataframe tbody tr th {\n",
       "        vertical-align: top;\n",
       "    }\n",
       "\n",
       "    .dataframe thead th {\n",
       "        text-align: right;\n",
       "    }\n",
       "</style>\n",
       "<table border=\"1\" class=\"dataframe\">\n",
       "  <thead>\n",
       "    <tr style=\"text-align: right;\">\n",
       "      <th></th>\n",
       "      <th>age</th>\n",
       "      <th>policy_sales_channel</th>\n",
       "      <th>vehicle_age</th>\n",
       "      <th>previously_insured</th>\n",
       "      <th>annual_premium</th>\n",
       "      <th>vintage</th>\n",
       "      <th>gender_Male</th>\n",
       "      <th>id</th>\n",
       "      <th>gender_Female</th>\n",
       "      <th>score</th>\n",
       "    </tr>\n",
       "  </thead>\n",
       "  <tbody>\n",
       "    <tr>\n",
       "      <th>0</th>\n",
       "      <td>-0.714286</td>\n",
       "      <td>136</td>\n",
       "      <td>0</td>\n",
       "      <td>0</td>\n",
       "      <td>-0.027413</td>\n",
       "      <td>0.667820</td>\n",
       "      <td>1</td>\n",
       "      <td>465845</td>\n",
       "      <td>0</td>\n",
       "      <td>0.989623</td>\n",
       "    </tr>\n",
       "    <tr>\n",
       "      <th>1</th>\n",
       "      <td>-0.619048</td>\n",
       "      <td>136</td>\n",
       "      <td>0</td>\n",
       "      <td>0</td>\n",
       "      <td>-0.423452</td>\n",
       "      <td>0.418685</td>\n",
       "      <td>0</td>\n",
       "      <td>493989</td>\n",
       "      <td>1</td>\n",
       "      <td>0.989585</td>\n",
       "    </tr>\n",
       "    <tr>\n",
       "      <th>2</th>\n",
       "      <td>0.238095</td>\n",
       "      <td>74</td>\n",
       "      <td>0</td>\n",
       "      <td>0</td>\n",
       "      <td>1.517004</td>\n",
       "      <td>0.512111</td>\n",
       "      <td>1</td>\n",
       "      <td>381182</td>\n",
       "      <td>0</td>\n",
       "      <td>0.988201</td>\n",
       "    </tr>\n",
       "    <tr>\n",
       "      <th>3</th>\n",
       "      <td>0.857143</td>\n",
       "      <td>120</td>\n",
       "      <td>1</td>\n",
       "      <td>0</td>\n",
       "      <td>-0.243411</td>\n",
       "      <td>0.487889</td>\n",
       "      <td>1</td>\n",
       "      <td>439911</td>\n",
       "      <td>0</td>\n",
       "      <td>0.988006</td>\n",
       "    </tr>\n",
       "    <tr>\n",
       "      <th>4</th>\n",
       "      <td>-0.047619</td>\n",
       "      <td>91</td>\n",
       "      <td>0</td>\n",
       "      <td>0</td>\n",
       "      <td>-0.193033</td>\n",
       "      <td>0.532872</td>\n",
       "      <td>1</td>\n",
       "      <td>489069</td>\n",
       "      <td>0</td>\n",
       "      <td>0.986842</td>\n",
       "    </tr>\n",
       "    <tr>\n",
       "      <th>...</th>\n",
       "      <td>...</td>\n",
       "      <td>...</td>\n",
       "      <td>...</td>\n",
       "      <td>...</td>\n",
       "      <td>...</td>\n",
       "      <td>...</td>\n",
       "      <td>...</td>\n",
       "      <td>...</td>\n",
       "      <td>...</td>\n",
       "      <td>...</td>\n",
       "    </tr>\n",
       "    <tr>\n",
       "      <th>127032</th>\n",
       "      <td>-0.714286</td>\n",
       "      <td>1</td>\n",
       "      <td>1</td>\n",
       "      <td>1</td>\n",
       "      <td>-1.893392</td>\n",
       "      <td>0.903114</td>\n",
       "      <td>1</td>\n",
       "      <td>469584</td>\n",
       "      <td>0</td>\n",
       "      <td>0.000080</td>\n",
       "    </tr>\n",
       "    <tr>\n",
       "      <th>127033</th>\n",
       "      <td>-0.952381</td>\n",
       "      <td>1</td>\n",
       "      <td>1</td>\n",
       "      <td>1</td>\n",
       "      <td>-1.893392</td>\n",
       "      <td>0.093426</td>\n",
       "      <td>0</td>\n",
       "      <td>399153</td>\n",
       "      <td>1</td>\n",
       "      <td>0.000077</td>\n",
       "    </tr>\n",
       "    <tr>\n",
       "      <th>127034</th>\n",
       "      <td>-0.952381</td>\n",
       "      <td>1</td>\n",
       "      <td>1</td>\n",
       "      <td>1</td>\n",
       "      <td>-1.893392</td>\n",
       "      <td>0.647059</td>\n",
       "      <td>1</td>\n",
       "      <td>402689</td>\n",
       "      <td>0</td>\n",
       "      <td>0.000073</td>\n",
       "    </tr>\n",
       "    <tr>\n",
       "      <th>127035</th>\n",
       "      <td>-0.952381</td>\n",
       "      <td>1</td>\n",
       "      <td>1</td>\n",
       "      <td>1</td>\n",
       "      <td>-1.893392</td>\n",
       "      <td>0.698962</td>\n",
       "      <td>1</td>\n",
       "      <td>414385</td>\n",
       "      <td>0</td>\n",
       "      <td>0.000069</td>\n",
       "    </tr>\n",
       "    <tr>\n",
       "      <th>127036</th>\n",
       "      <td>-0.952381</td>\n",
       "      <td>1</td>\n",
       "      <td>1</td>\n",
       "      <td>1</td>\n",
       "      <td>-1.893392</td>\n",
       "      <td>0.775087</td>\n",
       "      <td>1</td>\n",
       "      <td>435584</td>\n",
       "      <td>0</td>\n",
       "      <td>0.000067</td>\n",
       "    </tr>\n",
       "  </tbody>\n",
       "</table>\n",
       "<p>127037 rows × 10 columns</p>\n",
       "</div>"
      ],
      "text/plain": [
       "             age  policy_sales_channel  vehicle_age  previously_insured  \\\n",
       "0      -0.714286                   136            0                   0   \n",
       "1      -0.619048                   136            0                   0   \n",
       "2       0.238095                    74            0                   0   \n",
       "3       0.857143                   120            1                   0   \n",
       "4      -0.047619                    91            0                   0   \n",
       "...          ...                   ...          ...                 ...   \n",
       "127032 -0.714286                     1            1                   1   \n",
       "127033 -0.952381                     1            1                   1   \n",
       "127034 -0.952381                     1            1                   1   \n",
       "127035 -0.952381                     1            1                   1   \n",
       "127036 -0.952381                     1            1                   1   \n",
       "\n",
       "        annual_premium   vintage  gender_Male      id  gender_Female     score  \n",
       "0            -0.027413  0.667820            1  465845              0  0.989623  \n",
       "1            -0.423452  0.418685            0  493989              1  0.989585  \n",
       "2             1.517004  0.512111            1  381182              0  0.988201  \n",
       "3            -0.243411  0.487889            1  439911              0  0.988006  \n",
       "4            -0.193033  0.532872            1  489069              0  0.986842  \n",
       "...                ...       ...          ...     ...            ...       ...  \n",
       "127032       -1.893392  0.903114            1  469584              0  0.000080  \n",
       "127033       -1.893392  0.093426            0  399153              1  0.000077  \n",
       "127034       -1.893392  0.647059            1  402689              0  0.000073  \n",
       "127035       -1.893392  0.698962            1  414385              0  0.000069  \n",
       "127036       -1.893392  0.775087            1  435584              0  0.000067  \n",
       "\n",
       "[127037 rows x 10 columns]"
      ]
     },
     "execution_count": 29,
     "metadata": {},
     "output_type": "execute_result"
    }
   ],
   "source": [
    "df9_predictions"
   ]
  },
  {
   "cell_type": "code",
   "execution_count": 30,
   "metadata": {
    "ExecuteTime": {
     "end_time": "2021-02-25T22:19:22.560419Z",
     "start_time": "2021-02-25T22:19:22.549558Z"
    },
    "hidden": true
   },
   "outputs": [],
   "source": [
    "df9_predictions.to_pickle(home_path + '/interim/predictions_nn_boruta.pkl')"
   ]
  }
 ],
 "metadata": {
  "kernelspec": {
   "display_name": "Python 3",
   "language": "python",
   "name": "python3"
  },
  "language_info": {
   "codemirror_mode": {
    "name": "ipython",
    "version": 3
   },
   "file_extension": ".py",
   "mimetype": "text/x-python",
   "name": "python",
   "nbconvert_exporter": "python",
   "pygments_lexer": "ipython3",
   "version": "3.8.5"
  }
 },
 "nbformat": 4,
 "nbformat_minor": 4
}
