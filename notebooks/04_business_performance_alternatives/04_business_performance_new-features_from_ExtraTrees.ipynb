{
 "cells": [
  {
   "cell_type": "markdown",
   "metadata": {
    "heading_collapsed": true
   },
   "source": [
    "# 0.0 Imports"
   ]
  },
  {
   "cell_type": "code",
   "execution_count": 1,
   "metadata": {
    "ExecuteTime": {
     "end_time": "2021-02-25T22:20:46.283081Z",
     "start_time": "2021-02-25T22:20:45.195131Z"
    },
    "hidden": true
   },
   "outputs": [],
   "source": [
    "import pandas as pd\n",
    "import numpy as np\n",
    "import pickle\n",
    "import random\n",
    "\n",
    "import matplotlib.pyplot as plt\n",
    "import seaborn as sns\n",
    "import scikitplot as skplt\n",
    "\n",
    "import xgboost as xgb"
   ]
  },
  {
   "cell_type": "markdown",
   "metadata": {
    "heading_collapsed": true,
    "hidden": true
   },
   "source": [
    "### 0.0.1 Problema"
   ]
  },
  {
   "cell_type": "markdown",
   "metadata": {
    "hidden": true
   },
   "source": [
    "Uma seguradora de planos de saúde pretende passar a vender, também, seguros de automóveis.\n",
    "\n",
    "A seguradora realizou pesquisa com cerca de 380.000 clientes para saber se teriam interesse, ou não, em contratar o novo seguro. Todos os clientes responderam.\n",
    "\n",
    "A seguradora selecionou cerca de 127.000 potenciais clientes para participar de uma campanha. Este grupo receberá a oferta de adesão ao seguro de automóvel via ligação telefônica.\n",
    "\n",
    "**Problema**: o time de vendas tem condições de ligar para, somente, 20.000 pessoas. Como selecionar, dentre os potenciais clientes, aqueles que tem maior probabilidade de adquirir o seguro?"
   ]
  },
  {
   "cell_type": "markdown",
   "metadata": {
    "hidden": true
   },
   "source": [
    "O *relatório* deve responder às seguintes questões:\n",
    "\n",
    "1. Fornecer *insights* sobre os atributos mais relevantes de clientes interessados em adquirir o seguro.\n",
    "\n",
    "2. Qual porcentagem dos potenciais clientes interessados o time de vendas vai conseguir contatar fazendo 20.000 ligações?\n",
    "\n",
    "3. Se o time de vendas fizer 40.000 ligações, qual será a porcentagem de clientes interessados contatada?\n",
    "\n",
    "4. Quantas ligações o time de vendas precisariaria fazer para contatar 80% dos potenciais clientes interessados?"
   ]
  },
  {
   "cell_type": "markdown",
   "metadata": {
    "heading_collapsed": true,
    "hidden": true
   },
   "source": [
    "## 0.1 Load Data"
   ]
  },
  {
   "cell_type": "code",
   "execution_count": 2,
   "metadata": {
    "ExecuteTime": {
     "end_time": "2021-02-25T22:20:46.287614Z",
     "start_time": "2021-02-25T22:20:46.284845Z"
    },
    "hidden": true
   },
   "outputs": [],
   "source": [
    "home_path = \"/home/marcos/Documentos/comunidade_DS/pa004_health_insurance_cross_sell/\""
   ]
  },
  {
   "cell_type": "code",
   "execution_count": 3,
   "metadata": {
    "ExecuteTime": {
     "end_time": "2021-02-25T22:20:46.403328Z",
     "start_time": "2021-02-25T22:20:46.289937Z"
    },
    "hidden": true
   },
   "outputs": [],
   "source": [
    "df_test_raw = pd.read_csv(home_path + \"data/test.csv\")"
   ]
  },
  {
   "cell_type": "code",
   "execution_count": 4,
   "metadata": {
    "ExecuteTime": {
     "end_time": "2021-02-25T22:20:46.410211Z",
     "start_time": "2021-02-25T22:20:46.405043Z"
    },
    "hidden": true
   },
   "outputs": [
    {
     "data": {
      "text/plain": [
       "Index(['id', 'Gender', 'Age', 'Driving_License', 'Region_Code',\n",
       "       'Previously_Insured', 'Vehicle_Age', 'Vehicle_Damage', 'Annual_Premium',\n",
       "       'Policy_Sales_Channel', 'Vintage'],\n",
       "      dtype='object')"
      ]
     },
     "execution_count": 4,
     "metadata": {},
     "output_type": "execute_result"
    }
   ],
   "source": [
    "df_test_raw.columns"
   ]
  },
  {
   "cell_type": "code",
   "execution_count": 5,
   "metadata": {
    "ExecuteTime": {
     "end_time": "2021-02-25T22:20:46.425224Z",
     "start_time": "2021-02-25T22:20:46.411716Z"
    },
    "hidden": true
   },
   "outputs": [],
   "source": [
    "df_tree_validation = pd.read_pickle(home_path + \"interim/df6_new_tree_val.pkl\")"
   ]
  },
  {
   "cell_type": "code",
   "execution_count": 6,
   "metadata": {
    "ExecuteTime": {
     "end_time": "2021-02-25T22:20:46.433232Z",
     "start_time": "2021-02-25T22:20:46.426820Z"
    },
    "hidden": true
   },
   "outputs": [
    {
     "data": {
      "text/plain": [
       "vintage                 0\n",
       "annual_premium          0\n",
       "age                     0\n",
       "region_code             0\n",
       "policy_sales_channel    3\n",
       "vehicle_hist            0\n",
       "vehicle_damage          0\n",
       "previously_insured      0\n",
       "id                      0\n",
       "response                0\n",
       "dtype: int64"
      ]
     },
     "execution_count": 6,
     "metadata": {},
     "output_type": "execute_result"
    }
   ],
   "source": [
    "df_tree_validation.isna().sum()"
   ]
  },
  {
   "cell_type": "code",
   "execution_count": 7,
   "metadata": {
    "ExecuteTime": {
     "end_time": "2021-02-25T22:20:46.449356Z",
     "start_time": "2021-02-25T22:20:46.434672Z"
    },
    "hidden": true
   },
   "outputs": [
    {
     "data": {
      "text/plain": [
       "vintage                 0\n",
       "annual_premium          0\n",
       "age                     0\n",
       "region_code             0\n",
       "policy_sales_channel    0\n",
       "vehicle_hist            0\n",
       "vehicle_damage          0\n",
       "previously_insured      0\n",
       "id                      0\n",
       "response                0\n",
       "dtype: int64"
      ]
     },
     "execution_count": 7,
     "metadata": {},
     "output_type": "execute_result"
    }
   ],
   "source": [
    "df_tree_validation.dropna(axis=0, inplace=True)\n",
    "df_tree_validation.isna().sum()"
   ]
  },
  {
   "cell_type": "markdown",
   "metadata": {
    "hidden": true
   },
   "source": [
    "Validation data is already encoded, rescaled, and the features are already selected! No transformation is needed in this dataframe."
   ]
  },
  {
   "cell_type": "code",
   "execution_count": 8,
   "metadata": {
    "ExecuteTime": {
     "end_time": "2021-02-25T22:20:46.454101Z",
     "start_time": "2021-02-25T22:20:46.451670Z"
    },
    "hidden": true
   },
   "outputs": [],
   "source": [
    "cols_selected_new_tree = ['vintage', 'annual_premium', 'age', 'region_code', 'policy_sales_channel',\n",
    "                          'vehicle_hist', 'vehicle_damage', 'previously_insured']"
   ]
  },
  {
   "cell_type": "code",
   "execution_count": 9,
   "metadata": {
    "ExecuteTime": {
     "end_time": "2021-02-25T22:20:46.458693Z",
     "start_time": "2021-02-25T22:20:46.456269Z"
    },
    "hidden": true
   },
   "outputs": [],
   "source": [
    "col_id = ['id']\n",
    "\n",
    "cols_selected_tree_full = cols_selected_new_tree.copy()\n",
    "cols_selected_tree_full.extend(col_id)"
   ]
  },
  {
   "cell_type": "markdown",
   "metadata": {
    "heading_collapsed": true,
    "hidden": true
   },
   "source": [
    "### 0.1.1 Load encoders"
   ]
  },
  {
   "cell_type": "code",
   "execution_count": 10,
   "metadata": {
    "ExecuteTime": {
     "end_time": "2021-02-25T22:20:46.466919Z",
     "start_time": "2021-02-25T22:20:46.460376Z"
    },
    "hidden": true
   },
   "outputs": [],
   "source": [
    "# age - MinMaxScaler\n",
    "mms_age = pickle.load(open(home_path + \"encoders/age_new_tree_scaler.pkl\", \"rb\"))\n",
    "\n",
    "# vintage - MinMaxScaler\n",
    "mms_vintage = pickle.load(open(home_path + \"encoders/vintage_new_tree_scaler.pkl\", \"rb\"))\n",
    "\n",
    "# region_code - frequency encoding\n",
    "region_freq = pickle.load(open(home_path + \"encoders/region_freq_new_tree_scaler.pkl\", \"rb\"))\n",
    "\n",
    "# annual_premium - StandardScaler\n",
    "ss_premium = pickle.load(open(home_path + \"encoders/premium_new_tree_scaler.pkl\", \"rb\"))\n",
    "\n",
    "# policy_sales_channel - frequency encoding\n",
    "channel_freq = pickle.load(open(home_path + \"encoders/channel_new_tree_scaler.pkl\", \"rb\"))\n",
    "\n",
    "# vehicle_damage - LabelEncoder\n",
    "damage_encoder = pickle.load(open(home_path + \"encoders/v_dam_new_tree_scaler.pkl\", \"rb\"))"
   ]
  },
  {
   "cell_type": "markdown",
   "metadata": {
    "heading_collapsed": true,
    "hidden": true
   },
   "source": [
    "### 0.1.2 Load trained model"
   ]
  },
  {
   "cell_type": "code",
   "execution_count": 11,
   "metadata": {
    "ExecuteTime": {
     "end_time": "2021-02-25T22:20:47.321035Z",
     "start_time": "2021-02-25T22:20:46.468627Z"
    },
    "hidden": true
   },
   "outputs": [],
   "source": [
    "xgb_validated = pickle.load(open(home_path + \"ml_models_comp/xgb_validated_new_tree.pkl\", \"rb\"))"
   ]
  },
  {
   "cell_type": "markdown",
   "metadata": {
    "heading_collapsed": true,
    "hidden": true
   },
   "source": [
    "## 0.2 Helper Functions"
   ]
  },
  {
   "cell_type": "code",
   "execution_count": 12,
   "metadata": {
    "ExecuteTime": {
     "end_time": "2021-02-25T22:20:47.332982Z",
     "start_time": "2021-02-25T22:20:47.323966Z"
    },
    "hidden": true
   },
   "outputs": [],
   "source": [
    "# model predict\n",
    "def model_predict(trained_model, data_test):\n",
    "    # drop id\n",
    "    data_testing = data_test.drop(['id'], axis=1).copy()\n",
    "    # predict_proba:\n",
    "    yhat_proba = trained_model.predict_proba(data_testing)\n",
    "    \n",
    "    # transform yhat_proba to 1D-array\n",
    "    yhat_proba_1d = yhat_proba[:, 1].tolist()\n",
    "    \n",
    "    # include in dataframe\n",
    "    testing_data = data_test.copy()\n",
    "    testing_data['score'] = yhat_proba_1d\n",
    "    # sort\n",
    "    testing_data = testing_data.sort_values('score', ascending=False)\n",
    "    # reset index\n",
    "    testing_data.reset_index(drop=True, inplace=True)\n",
    "    return testing_data\n",
    "\n",
    "\n",
    "# precision_at_k, recall_at_k, cumulative_gain and lift_curve on training data\n",
    "# precision_at_k\n",
    "def precision_at_k(data, k):\n",
    "    data = data.reset_index(drop=True)\n",
    "    data['n_samples'] = data.index + 1\n",
    "    data['precision_at_k'] = data['response'].cumsum() / data['n_samples']\n",
    "    return data.loc[k, 'precision_at_k']\n",
    "\n",
    "\n",
    "# recall_at_k\n",
    "def recall_at_k(data, k):\n",
    "    data = data.reset_index(drop=True)\n",
    "    data['recall_at_k'] = data['response'].cumsum() / data['response'].sum()\n",
    "    return data.loc[k, 'recall_at_k']\n",
    "\n",
    "\n",
    "# validation metrics\n",
    "def validation_metrics(trained_model, data_val, k):\n",
    "    # separate X and Y data:\n",
    "    xval = data_val.drop(['id', 'response'], axis=1)\n",
    "    yval = data_val.response\n",
    "    \n",
    "    # predict_proba:\n",
    "    yhat_proba = trained_model.predict_proba(xval)\n",
    "    \n",
    "    # transform yhat_proba to 1D-array\n",
    "    yhat_proba_1d = yhat_proba[:, 1].tolist()\n",
    "    \n",
    "    # include in dataframe\n",
    "    validation_data = data_val.copy()\n",
    "    validation_data['score'] = yhat_proba_1d\n",
    "    # sort\n",
    "    validation_data = validation_data.sort_values('score', ascending=False)\n",
    "    \n",
    "    return pd.DataFrame({'precision_at_{}'.format(k):precision_at_k(validation_data, k),\n",
    "                         'recall_at_{}'.format(k):recall_at_k(validation_data, k)}, index=['ranking_metrics']).T\n",
    "\n",
    "\n",
    "# gain plots\n",
    "# def gain_plots(trained_model, data_val):\n",
    "#     # separate X and Y data:\n",
    "#     xval = data_val.drop(['id', 'response'], axis=1)\n",
    "#     yval = data_val.response\n",
    "    \n",
    "#     # predict_proba:\n",
    "#     yhat_proba = trained_model.predict_proba(xval)\n",
    "    \n",
    "#     # plot\n",
    "#     skplt.metrics.plot_cumulative_gain(yval, yhat_proba);\n",
    "#     skplt.metrics.plot_lift_curve(yval, yhat_proba);\n",
    "    \n",
    "#     return None"
   ]
  },
  {
   "cell_type": "markdown",
   "metadata": {
    "heading_collapsed": true,
    "hidden": true
   },
   "source": [
    "## 0.3 Apply encoders and feature selection to data"
   ]
  },
  {
   "cell_type": "code",
   "execution_count": 13,
   "metadata": {
    "ExecuteTime": {
     "end_time": "2021-02-25T22:20:47.341406Z",
     "start_time": "2021-02-25T22:20:47.334608Z"
    },
    "hidden": true
   },
   "outputs": [],
   "source": [
    "df9 = df_test_raw.copy()"
   ]
  },
  {
   "cell_type": "code",
   "execution_count": 14,
   "metadata": {
    "ExecuteTime": {
     "end_time": "2021-02-25T22:20:47.349170Z",
     "start_time": "2021-02-25T22:20:47.343954Z"
    },
    "hidden": true
   },
   "outputs": [],
   "source": [
    "cols_list = df9.columns.tolist()\n",
    "cols_lower = [x.lower() for x in cols_list]\n",
    "df9.columns = cols_lower"
   ]
  },
  {
   "cell_type": "code",
   "execution_count": 15,
   "metadata": {
    "ExecuteTime": {
     "end_time": "2021-02-25T22:20:47.357261Z",
     "start_time": "2021-02-25T22:20:47.351027Z"
    },
    "hidden": true
   },
   "outputs": [
    {
     "data": {
      "text/plain": [
       "id                        int64\n",
       "gender                   object\n",
       "age                       int64\n",
       "driving_license           int64\n",
       "region_code             float64\n",
       "previously_insured        int64\n",
       "vehicle_age              object\n",
       "vehicle_damage           object\n",
       "annual_premium          float64\n",
       "policy_sales_channel    float64\n",
       "vintage                   int64\n",
       "dtype: object"
      ]
     },
     "execution_count": 15,
     "metadata": {},
     "output_type": "execute_result"
    }
   ],
   "source": [
    "df9.dtypes"
   ]
  },
  {
   "cell_type": "code",
   "execution_count": 16,
   "metadata": {
    "ExecuteTime": {
     "end_time": "2021-02-25T22:20:47.364416Z",
     "start_time": "2021-02-25T22:20:47.359573Z"
    },
    "hidden": true
   },
   "outputs": [],
   "source": [
    "df9['region_code'] = df9['region_code'].astype(int)\n",
    "df9['policy_sales_channel'] = df9['policy_sales_channel'].astype(int)"
   ]
  },
  {
   "cell_type": "code",
   "execution_count": 17,
   "metadata": {
    "ExecuteTime": {
     "end_time": "2021-02-25T22:20:47.390926Z",
     "start_time": "2021-02-25T22:20:47.366169Z"
    },
    "hidden": true
   },
   "outputs": [
    {
     "data": {
      "text/plain": [
       "id                      0\n",
       "gender                  0\n",
       "age                     0\n",
       "driving_license         0\n",
       "region_code             0\n",
       "previously_insured      0\n",
       "vehicle_age             0\n",
       "vehicle_damage          0\n",
       "annual_premium          0\n",
       "policy_sales_channel    0\n",
       "vintage                 0\n",
       "dtype: int64"
      ]
     },
     "execution_count": 17,
     "metadata": {},
     "output_type": "execute_result"
    }
   ],
   "source": [
    "df9.isna().sum()"
   ]
  },
  {
   "cell_type": "code",
   "execution_count": 18,
   "metadata": {
    "ExecuteTime": {
     "end_time": "2021-02-25T22:20:47.396053Z",
     "start_time": "2021-02-25T22:20:47.392967Z"
    },
    "hidden": true
   },
   "outputs": [],
   "source": [
    "def damage_map(damage):\n",
    "    if damage == 'Yes':\n",
    "        return 1\n",
    "    else:\n",
    "        return 0"
   ]
  },
  {
   "cell_type": "code",
   "execution_count": 19,
   "metadata": {
    "ExecuteTime": {
     "end_time": "2021-02-25T22:20:47.452035Z",
     "start_time": "2021-02-25T22:20:47.398447Z"
    },
    "hidden": true
   },
   "outputs": [],
   "source": [
    "df9['vehicle_hist'] = df9['vehicle_damage'].map(damage_map) + 1 - df9['previously_insured']"
   ]
  },
  {
   "cell_type": "code",
   "execution_count": 20,
   "metadata": {
    "ExecuteTime": {
     "end_time": "2021-02-25T22:20:47.466915Z",
     "start_time": "2021-02-25T22:20:47.453618Z"
    },
    "hidden": true
   },
   "outputs": [],
   "source": [
    "df9 = df9[cols_selected_tree_full].copy()"
   ]
  },
  {
   "cell_type": "code",
   "execution_count": 21,
   "metadata": {
    "ExecuteTime": {
     "end_time": "2021-02-25T22:20:47.509441Z",
     "start_time": "2021-02-25T22:20:47.468418Z"
    },
    "hidden": true
   },
   "outputs": [],
   "source": [
    "# age - MinMaxScaler\n",
    "df9['age'] = mms_age.transform(df9[['age']].values)\n",
    "\n",
    "# vintage - MinMaxScaler\n",
    "df9['vintage'] = mms_vintage.transform(df9[['vintage']].values)\n",
    "\n",
    "# region_code - frequency encoding\n",
    "df9['region_code'] = df9['region_code'].map(region_freq)\n",
    "\n",
    "# annual_premium - StandardScaler\n",
    "df9['annual_premium'] = ss_premium.transform(df9[['annual_premium']].values)\n",
    "\n",
    "# policy_sales_channel - frequency encoding\n",
    "df9['policy_sales_channel'] = df9['policy_sales_channel'].map(channel_freq)\n",
    "\n",
    "# vehicle_damage - LabelEncoder\n",
    "df9['vehicle_damage'] = damage_encoder.transform(df9['vehicle_damage'])"
   ]
  },
  {
   "cell_type": "code",
   "execution_count": 22,
   "metadata": {
    "ExecuteTime": {
     "end_time": "2021-02-25T22:20:47.514735Z",
     "start_time": "2021-02-25T22:20:47.511244Z"
    },
    "hidden": true
   },
   "outputs": [],
   "source": [
    "df_validation = df_tree_validation.copy()"
   ]
  },
  {
   "cell_type": "markdown",
   "metadata": {
    "heading_collapsed": true
   },
   "source": [
    "# 9.0 Business Performance"
   ]
  },
  {
   "cell_type": "markdown",
   "metadata": {
    "heading_collapsed": true,
    "hidden": true
   },
   "source": [
    "## 9.1 Model Performance - metrics on validation"
   ]
  },
  {
   "cell_type": "code",
   "execution_count": 23,
   "metadata": {
    "ExecuteTime": {
     "end_time": "2021-02-25T22:20:48.146311Z",
     "start_time": "2021-02-25T22:20:47.518950Z"
    },
    "cell_style": "center",
    "hidden": true,
    "hide_input": false,
    "scrolled": true
   },
   "outputs": [
    {
     "data": {
      "text/html": [
       "<div>\n",
       "<style scoped>\n",
       "    .dataframe tbody tr th:only-of-type {\n",
       "        vertical-align: middle;\n",
       "    }\n",
       "\n",
       "    .dataframe tbody tr th {\n",
       "        vertical-align: top;\n",
       "    }\n",
       "\n",
       "    .dataframe thead th {\n",
       "        text-align: right;\n",
       "    }\n",
       "</style>\n",
       "<table border=\"1\" class=\"dataframe\">\n",
       "  <thead>\n",
       "    <tr style=\"text-align: right;\">\n",
       "      <th></th>\n",
       "      <th>ranking_metrics</th>\n",
       "    </tr>\n",
       "  </thead>\n",
       "  <tbody>\n",
       "    <tr>\n",
       "      <th>precision_at_20000</th>\n",
       "      <td>0.333783</td>\n",
       "    </tr>\n",
       "    <tr>\n",
       "      <th>recall_at_20000</th>\n",
       "      <td>0.714622</td>\n",
       "    </tr>\n",
       "  </tbody>\n",
       "</table>\n",
       "</div>"
      ],
      "text/plain": [
       "                    ranking_metrics\n",
       "precision_at_20000         0.333783\n",
       "recall_at_20000            0.714622"
      ]
     },
     "execution_count": 23,
     "metadata": {},
     "output_type": "execute_result"
    }
   ],
   "source": [
    "metrics = validation_metrics(xgb_validated, df_validation, 20000)\n",
    "metrics"
   ]
  },
  {
   "cell_type": "code",
   "execution_count": 24,
   "metadata": {
    "ExecuteTime": {
     "end_time": "2021-02-25T22:20:48.727953Z",
     "start_time": "2021-02-25T22:20:48.148957Z"
    },
    "cell_style": "center",
    "hidden": true,
    "hide_input": false,
    "scrolled": true
   },
   "outputs": [
    {
     "data": {
      "text/html": [
       "<div>\n",
       "<style scoped>\n",
       "    .dataframe tbody tr th:only-of-type {\n",
       "        vertical-align: middle;\n",
       "    }\n",
       "\n",
       "    .dataframe tbody tr th {\n",
       "        vertical-align: top;\n",
       "    }\n",
       "\n",
       "    .dataframe thead th {\n",
       "        text-align: right;\n",
       "    }\n",
       "</style>\n",
       "<table border=\"1\" class=\"dataframe\">\n",
       "  <thead>\n",
       "    <tr style=\"text-align: right;\">\n",
       "      <th></th>\n",
       "      <th>ranking_metrics</th>\n",
       "    </tr>\n",
       "  </thead>\n",
       "  <tbody>\n",
       "    <tr>\n",
       "      <th>precision_at_40000</th>\n",
       "      <td>0.232444</td>\n",
       "    </tr>\n",
       "    <tr>\n",
       "      <th>recall_at_40000</th>\n",
       "      <td>0.995290</td>\n",
       "    </tr>\n",
       "  </tbody>\n",
       "</table>\n",
       "</div>"
      ],
      "text/plain": [
       "                    ranking_metrics\n",
       "precision_at_40000         0.232444\n",
       "recall_at_40000            0.995290"
      ]
     },
     "execution_count": 24,
     "metadata": {},
     "output_type": "execute_result"
    }
   ],
   "source": [
    "metrics = validation_metrics(xgb_validated, df_validation, 40000)\n",
    "metrics"
   ]
  },
  {
   "cell_type": "code",
   "execution_count": 25,
   "metadata": {
    "ExecuteTime": {
     "end_time": "2021-02-25T22:20:49.318534Z",
     "start_time": "2021-02-25T22:20:48.730063Z"
    },
    "hidden": true,
    "hide_input": false
   },
   "outputs": [],
   "source": [
    "# separate X and Y data:\n",
    "xval = df_validation.drop(['id', 'response'], axis=1)\n",
    "yval = df_validation.response\n",
    "\n",
    "# predict_proba:\n",
    "yhat_proba = xgb_validated.predict_proba(xval)"
   ]
  },
  {
   "cell_type": "code",
   "execution_count": 26,
   "metadata": {
    "ExecuteTime": {
     "end_time": "2021-02-25T22:20:49.551493Z",
     "start_time": "2021-02-25T22:20:49.330695Z"
    },
    "cell_style": "center",
    "hidden": true,
    "hide_input": false,
    "scrolled": false
   },
   "outputs": [
    {
     "data": {
      "image/png": "[encoded data removed]",
      "text/plain": [
       "<Figure size 432x288 with 1 Axes>"
      ]
     },
     "metadata": {
      "needs_background": "light"
     },
     "output_type": "display_data"
    }
   ],
   "source": [
    "skplt.metrics.plot_cumulative_gain(yval, yhat_proba);"
   ]
  },
  {
   "cell_type": "code",
   "execution_count": 27,
   "metadata": {
    "ExecuteTime": {
     "end_time": "2021-02-25T22:20:49.729160Z",
     "start_time": "2021-02-25T22:20:49.553136Z"
    },
    "cell_style": "center",
    "hidden": true,
    "hide_input": false,
    "scrolled": true
   },
   "outputs": [
    {
     "data": {
      "image/png": "[encoded data removed]",
      "text/plain": [
       "<Figure size 432x288 with 1 Axes>"
      ]
     },
     "metadata": {
      "needs_background": "light"
     },
     "output_type": "display_data"
    }
   ],
   "source": [
    "skplt.metrics.plot_lift_curve(yval, yhat_proba);"
   ]
  },
  {
   "cell_type": "code",
   "execution_count": 28,
   "metadata": {
    "ExecuteTime": {
     "end_time": "2021-02-25T22:20:49.961377Z",
     "start_time": "2021-02-25T22:20:49.731485Z"
    },
    "cell_style": "center",
    "hidden": true,
    "hide_input": false,
    "scrolled": false
   },
   "outputs": [
    {
     "data": {
      "image/png": "[encoded data removed]",
      "text/plain": [
       "<Figure size 432x288 with 1 Axes>"
      ]
     },
     "metadata": {
      "needs_background": "light"
     },
     "output_type": "display_data"
    }
   ],
   "source": [
    "skplt.metrics.plot_roc(yval, yhat_proba);"
   ]
  },
  {
   "cell_type": "markdown",
   "metadata": {
    "heading_collapsed": true,
    "hidden": true
   },
   "source": [
    "### 9.1.1 80% of potentially interested"
   ]
  },
  {
   "cell_type": "code",
   "execution_count": 29,
   "metadata": {
    "ExecuteTime": {
     "end_time": "2021-02-25T22:20:50.586115Z",
     "start_time": "2021-02-25T22:20:49.963063Z"
    },
    "cell_style": "center",
    "hidden": true,
    "hide_input": false,
    "scrolled": true
   },
   "outputs": [
    {
     "data": {
      "text/html": [
       "<div>\n",
       "<style scoped>\n",
       "    .dataframe tbody tr th:only-of-type {\n",
       "        vertical-align: middle;\n",
       "    }\n",
       "\n",
       "    .dataframe tbody tr th {\n",
       "        vertical-align: top;\n",
       "    }\n",
       "\n",
       "    .dataframe thead th {\n",
       "        text-align: right;\n",
       "    }\n",
       "</style>\n",
       "<table border=\"1\" class=\"dataframe\">\n",
       "  <thead>\n",
       "    <tr style=\"text-align: right;\">\n",
       "      <th></th>\n",
       "      <th>ranking_metrics</th>\n",
       "    </tr>\n",
       "  </thead>\n",
       "  <tbody>\n",
       "    <tr>\n",
       "      <th>precision_at_24000</th>\n",
       "      <td>0.314570</td>\n",
       "    </tr>\n",
       "    <tr>\n",
       "      <th>recall_at_24000</th>\n",
       "      <td>0.808178</td>\n",
       "    </tr>\n",
       "  </tbody>\n",
       "</table>\n",
       "</div>"
      ],
      "text/plain": [
       "                    ranking_metrics\n",
       "precision_at_24000         0.314570\n",
       "recall_at_24000            0.808178"
      ]
     },
     "execution_count": 29,
     "metadata": {},
     "output_type": "execute_result"
    }
   ],
   "source": [
    "metrics = validation_metrics(xgb_validated, df_validation, 24000)\n",
    "metrics"
   ]
  },
  {
   "cell_type": "markdown",
   "metadata": {
    "heading_collapsed": true,
    "hidden": true
   },
   "source": [
    "## 9.2 Business performance"
   ]
  },
  {
   "cell_type": "code",
   "execution_count": 30,
   "metadata": {
    "ExecuteTime": {
     "end_time": "2021-02-25T22:20:51.479567Z",
     "start_time": "2021-02-25T22:20:50.588341Z"
    },
    "hidden": true
   },
   "outputs": [],
   "source": [
    "df9_predictions = model_predict(xgb_validated, df9)"
   ]
  },
  {
   "cell_type": "code",
   "execution_count": 31,
   "metadata": {
    "ExecuteTime": {
     "end_time": "2021-02-25T22:20:51.501162Z",
     "start_time": "2021-02-25T22:20:51.481282Z"
    },
    "hidden": true
   },
   "outputs": [
    {
     "data": {
      "text/html": [
       "<div>\n",
       "<style scoped>\n",
       "    .dataframe tbody tr th:only-of-type {\n",
       "        vertical-align: middle;\n",
       "    }\n",
       "\n",
       "    .dataframe tbody tr th {\n",
       "        vertical-align: top;\n",
       "    }\n",
       "\n",
       "    .dataframe thead th {\n",
       "        text-align: right;\n",
       "    }\n",
       "</style>\n",
       "<table border=\"1\" class=\"dataframe\">\n",
       "  <thead>\n",
       "    <tr style=\"text-align: right;\">\n",
       "      <th></th>\n",
       "      <th>vintage</th>\n",
       "      <th>annual_premium</th>\n",
       "      <th>age</th>\n",
       "      <th>region_code</th>\n",
       "      <th>policy_sales_channel</th>\n",
       "      <th>vehicle_hist</th>\n",
       "      <th>vehicle_damage</th>\n",
       "      <th>previously_insured</th>\n",
       "      <th>id</th>\n",
       "      <th>score</th>\n",
       "    </tr>\n",
       "  </thead>\n",
       "  <tbody>\n",
       "    <tr>\n",
       "      <th>0</th>\n",
       "      <td>0.747405</td>\n",
       "      <td>-0.393546</td>\n",
       "      <td>0.153846</td>\n",
       "      <td>0.024025</td>\n",
       "      <td>0.003234</td>\n",
       "      <td>2</td>\n",
       "      <td>1</td>\n",
       "      <td>0</td>\n",
       "      <td>394143</td>\n",
       "      <td>0.567730</td>\n",
       "    </tr>\n",
       "    <tr>\n",
       "      <th>1</th>\n",
       "      <td>0.968858</td>\n",
       "      <td>-0.302471</td>\n",
       "      <td>0.153846</td>\n",
       "      <td>0.024025</td>\n",
       "      <td>0.194265</td>\n",
       "      <td>2</td>\n",
       "      <td>1</td>\n",
       "      <td>0</td>\n",
       "      <td>398434</td>\n",
       "      <td>0.561194</td>\n",
       "    </tr>\n",
       "    <tr>\n",
       "      <th>2</th>\n",
       "      <td>0.885813</td>\n",
       "      <td>-0.540680</td>\n",
       "      <td>0.215385</td>\n",
       "      <td>0.024025</td>\n",
       "      <td>0.003234</td>\n",
       "      <td>2</td>\n",
       "      <td>1</td>\n",
       "      <td>0</td>\n",
       "      <td>469680</td>\n",
       "      <td>0.560308</td>\n",
       "    </tr>\n",
       "    <tr>\n",
       "      <th>3</th>\n",
       "      <td>0.065744</td>\n",
       "      <td>-0.403691</td>\n",
       "      <td>0.200000</td>\n",
       "      <td>0.018233</td>\n",
       "      <td>0.007514</td>\n",
       "      <td>2</td>\n",
       "      <td>1</td>\n",
       "      <td>0</td>\n",
       "      <td>408078</td>\n",
       "      <td>0.552571</td>\n",
       "    </tr>\n",
       "    <tr>\n",
       "      <th>4</th>\n",
       "      <td>0.671280</td>\n",
       "      <td>-0.605261</td>\n",
       "      <td>0.261538</td>\n",
       "      <td>0.024025</td>\n",
       "      <td>0.003234</td>\n",
       "      <td>2</td>\n",
       "      <td>1</td>\n",
       "      <td>0</td>\n",
       "      <td>421495</td>\n",
       "      <td>0.549035</td>\n",
       "    </tr>\n",
       "    <tr>\n",
       "      <th>...</th>\n",
       "      <td>...</td>\n",
       "      <td>...</td>\n",
       "      <td>...</td>\n",
       "      <td>...</td>\n",
       "      <td>...</td>\n",
       "      <td>...</td>\n",
       "      <td>...</td>\n",
       "      <td>...</td>\n",
       "      <td>...</td>\n",
       "      <td>...</td>\n",
       "    </tr>\n",
       "    <tr>\n",
       "      <th>127032</th>\n",
       "      <td>0.692042</td>\n",
       "      <td>2.945265</td>\n",
       "      <td>0.046154</td>\n",
       "      <td>0.089377</td>\n",
       "      <td>0.353259</td>\n",
       "      <td>0</td>\n",
       "      <td>0</td>\n",
       "      <td>1</td>\n",
       "      <td>397718</td>\n",
       "      <td>0.000263</td>\n",
       "    </tr>\n",
       "    <tr>\n",
       "      <th>127033</th>\n",
       "      <td>0.297578</td>\n",
       "      <td>2.890539</td>\n",
       "      <td>0.015385</td>\n",
       "      <td>0.089377</td>\n",
       "      <td>0.353259</td>\n",
       "      <td>0</td>\n",
       "      <td>0</td>\n",
       "      <td>1</td>\n",
       "      <td>415804</td>\n",
       "      <td>0.000260</td>\n",
       "    </tr>\n",
       "    <tr>\n",
       "      <th>127034</th>\n",
       "      <td>0.754325</td>\n",
       "      <td>2.920684</td>\n",
       "      <td>0.061538</td>\n",
       "      <td>0.089377</td>\n",
       "      <td>0.353259</td>\n",
       "      <td>0</td>\n",
       "      <td>0</td>\n",
       "      <td>1</td>\n",
       "      <td>382304</td>\n",
       "      <td>0.000258</td>\n",
       "    </tr>\n",
       "    <tr>\n",
       "      <th>127035</th>\n",
       "      <td>0.813149</td>\n",
       "      <td>-1.619490</td>\n",
       "      <td>0.876923</td>\n",
       "      <td>0.089377</td>\n",
       "      <td>0.353259</td>\n",
       "      <td>0</td>\n",
       "      <td>0</td>\n",
       "      <td>1</td>\n",
       "      <td>479824</td>\n",
       "      <td>0.000256</td>\n",
       "    </tr>\n",
       "    <tr>\n",
       "      <th>127036</th>\n",
       "      <td>0.730104</td>\n",
       "      <td>2.800681</td>\n",
       "      <td>0.061538</td>\n",
       "      <td>0.089377</td>\n",
       "      <td>0.353259</td>\n",
       "      <td>0</td>\n",
       "      <td>0</td>\n",
       "      <td>1</td>\n",
       "      <td>491866</td>\n",
       "      <td>0.000256</td>\n",
       "    </tr>\n",
       "  </tbody>\n",
       "</table>\n",
       "<p>127037 rows × 10 columns</p>\n",
       "</div>"
      ],
      "text/plain": [
       "         vintage  annual_premium       age  region_code  policy_sales_channel  \\\n",
       "0       0.747405       -0.393546  0.153846     0.024025              0.003234   \n",
       "1       0.968858       -0.302471  0.153846     0.024025              0.194265   \n",
       "2       0.885813       -0.540680  0.215385     0.024025              0.003234   \n",
       "3       0.065744       -0.403691  0.200000     0.018233              0.007514   \n",
       "4       0.671280       -0.605261  0.261538     0.024025              0.003234   \n",
       "...          ...             ...       ...          ...                   ...   \n",
       "127032  0.692042        2.945265  0.046154     0.089377              0.353259   \n",
       "127033  0.297578        2.890539  0.015385     0.089377              0.353259   \n",
       "127034  0.754325        2.920684  0.061538     0.089377              0.353259   \n",
       "127035  0.813149       -1.619490  0.876923     0.089377              0.353259   \n",
       "127036  0.730104        2.800681  0.061538     0.089377              0.353259   \n",
       "\n",
       "        vehicle_hist  vehicle_damage  previously_insured      id     score  \n",
       "0                  2               1                   0  394143  0.567730  \n",
       "1                  2               1                   0  398434  0.561194  \n",
       "2                  2               1                   0  469680  0.560308  \n",
       "3                  2               1                   0  408078  0.552571  \n",
       "4                  2               1                   0  421495  0.549035  \n",
       "...              ...             ...                 ...     ...       ...  \n",
       "127032             0               0                   1  397718  0.000263  \n",
       "127033             0               0                   1  415804  0.000260  \n",
       "127034             0               0                   1  382304  0.000258  \n",
       "127035             0               0                   1  479824  0.000256  \n",
       "127036             0               0                   1  491866  0.000256  \n",
       "\n",
       "[127037 rows x 10 columns]"
      ]
     },
     "execution_count": 31,
     "metadata": {},
     "output_type": "execute_result"
    }
   ],
   "source": [
    "df9_predictions"
   ]
  },
  {
   "cell_type": "code",
   "execution_count": 32,
   "metadata": {
    "ExecuteTime": {
     "end_time": "2021-02-25T22:20:51.518544Z",
     "start_time": "2021-02-25T22:20:51.502945Z"
    },
    "hidden": true
   },
   "outputs": [],
   "source": [
    "df9_predictions.to_pickle(home_path + '/interim/predictions_new-features_tree.pkl')"
   ]
  }
 ],
 "metadata": {
  "kernelspec": {
   "display_name": "Python 3",
   "language": "python",
   "name": "python3"
  },
  "language_info": {
   "codemirror_mode": {
    "name": "ipython",
    "version": 3
   },
   "file_extension": ".py",
   "mimetype": "text/x-python",
   "name": "python",
   "nbconvert_exporter": "python",
   "pygments_lexer": "ipython3",
   "version": "3.8.5"
  }
 },
 "nbformat": 4,
 "nbformat_minor": 4
}
