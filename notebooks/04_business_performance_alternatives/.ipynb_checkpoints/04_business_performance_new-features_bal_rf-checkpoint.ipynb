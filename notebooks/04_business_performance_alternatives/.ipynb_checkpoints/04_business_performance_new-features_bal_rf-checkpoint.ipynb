{
 "cells": [
  {
   "cell_type": "markdown",
   "metadata": {
    "heading_collapsed": true,
    "tags": []
   },
   "source": [
    "# 0.0 Imports"
   ]
  },
  {
   "cell_type": "code",
   "execution_count": 1,
   "metadata": {
    "ExecuteTime": {
     "end_time": "2021-03-07T01:12:51.249740Z",
     "start_time": "2021-03-07T01:12:50.319568Z"
    },
    "hidden": true
   },
   "outputs": [],
   "source": [
    "import pandas as pd\n",
    "import numpy as np\n",
    "import pickle\n",
    "import random\n",
    "\n",
    "import matplotlib.pyplot as plt\n",
    "import seaborn as sns\n",
    "import scikitplot as skplt\n",
    "\n",
    "import xgboost as xgb"
   ]
  },
  {
   "cell_type": "markdown",
   "metadata": {
    "heading_collapsed": true,
    "hidden": true,
    "tags": []
   },
   "source": [
    "### 0.0.1 Problema"
   ]
  },
  {
   "cell_type": "markdown",
   "metadata": {
    "hidden": true
   },
   "source": [
    "Uma seguradora de planos de saúde pretende passar a vender, também, seguros de automóveis.\n",
    "\n",
    "A seguradora realizou pesquisa com cerca de 380.000 clientes para saber se teriam interesse, ou não, em contratar o novo seguro. Todos os clientes responderam.\n",
    "\n",
    "A seguradora selecionou cerca de 127.000 potenciais clientes para participar de uma campanha. Este grupo receberá a oferta de adesão ao seguro de automóvel via ligação telefônica.\n",
    "\n",
    "**Problema**: o time de vendas tem condições de ligar para, somente, 20.000 pessoas. Como selecionar, dentre os potenciais clientes, aqueles que tem maior probabilidade de adquirir o seguro?"
   ]
  },
  {
   "cell_type": "markdown",
   "metadata": {
    "hidden": true
   },
   "source": [
    "O *relatório* deve responder às seguintes questões:\n",
    "\n",
    "1. Fornecer *insights* sobre os atributos mais relevantes de clientes interessados em adquirir o seguro.\n",
    "\n",
    "2. Qual porcentagem dos potenciais clientes interessados o time de vendas vai conseguir contatar fazendo 20.000 ligações?\n",
    "\n",
    "3. Se o time de vendas fizer 40.000 ligações, qual será a porcentagem de clientes interessados contatada?\n",
    "\n",
    "4. Quantas ligações o time de vendas precisariaria fazer para contatar 80% dos potenciais clientes interessados?"
   ]
  },
  {
   "cell_type": "markdown",
   "metadata": {
    "heading_collapsed": true,
    "hidden": true
   },
   "source": [
    "## 0.1 Load Data"
   ]
  },
  {
   "cell_type": "code",
   "execution_count": 2,
   "metadata": {
    "ExecuteTime": {
     "end_time": "2021-03-07T01:12:51.253038Z",
     "start_time": "2021-03-07T01:12:51.250962Z"
    },
    "hidden": true
   },
   "outputs": [],
   "source": [
    "home_path = \"/home/marcos/Documentos/comunidade_DS/pa004_health_insurance_cross_sell/\""
   ]
  },
  {
   "cell_type": "code",
   "execution_count": 3,
   "metadata": {
    "ExecuteTime": {
     "end_time": "2021-03-07T01:12:51.341898Z",
     "start_time": "2021-03-07T01:12:51.254468Z"
    },
    "hidden": true
   },
   "outputs": [],
   "source": [
    "df_test_raw = pd.read_csv(home_path + \"data/test.csv\")"
   ]
  },
  {
   "cell_type": "code",
   "execution_count": 4,
   "metadata": {
    "ExecuteTime": {
     "end_time": "2021-03-07T01:12:51.347974Z",
     "start_time": "2021-03-07T01:12:51.343467Z"
    },
    "hidden": true
   },
   "outputs": [
    {
     "data": {
      "text/plain": [
       "Index(['id', 'Gender', 'Age', 'Driving_License', 'Region_Code',\n",
       "       'Previously_Insured', 'Vehicle_Age', 'Vehicle_Damage', 'Annual_Premium',\n",
       "       'Policy_Sales_Channel', 'Vintage'],\n",
       "      dtype='object')"
      ]
     },
     "execution_count": 4,
     "metadata": {},
     "output_type": "execute_result"
    }
   ],
   "source": [
    "df_test_raw.columns"
   ]
  },
  {
   "cell_type": "code",
   "execution_count": 5,
   "metadata": {
    "ExecuteTime": {
     "end_time": "2021-03-07T01:12:51.361666Z",
     "start_time": "2021-03-07T01:12:51.349170Z"
    },
    "hidden": true
   },
   "outputs": [],
   "source": [
    "df_tree_validation = pd.read_pickle(home_path + \"interim/df6_bal_tree_val.pkl\")"
   ]
  },
  {
   "cell_type": "code",
   "execution_count": 6,
   "metadata": {
    "ExecuteTime": {
     "end_time": "2021-03-07T01:12:51.368176Z",
     "start_time": "2021-03-07T01:12:51.362853Z"
    },
    "hidden": true
   },
   "outputs": [
    {
     "data": {
      "text/plain": [
       "vintage                 0\n",
       "annual_premium          0\n",
       "age                     0\n",
       "region_code             0\n",
       "policy_sales_channel    3\n",
       "vehicle_hist            0\n",
       "vehicle_damage          0\n",
       "previously_insured      0\n",
       "weight_ages             0\n",
       "id                      0\n",
       "response                0\n",
       "dtype: int64"
      ]
     },
     "execution_count": 6,
     "metadata": {},
     "output_type": "execute_result"
    }
   ],
   "source": [
    "df_tree_validation.isna().sum()"
   ]
  },
  {
   "cell_type": "code",
   "execution_count": 7,
   "metadata": {
    "ExecuteTime": {
     "end_time": "2021-03-07T01:12:51.382725Z",
     "start_time": "2021-03-07T01:12:51.369337Z"
    },
    "hidden": true
   },
   "outputs": [
    {
     "data": {
      "text/plain": [
       "vintage                 0\n",
       "annual_premium          0\n",
       "age                     0\n",
       "region_code             0\n",
       "policy_sales_channel    0\n",
       "vehicle_hist            0\n",
       "vehicle_damage          0\n",
       "previously_insured      0\n",
       "weight_ages             0\n",
       "id                      0\n",
       "response                0\n",
       "dtype: int64"
      ]
     },
     "execution_count": 7,
     "metadata": {},
     "output_type": "execute_result"
    }
   ],
   "source": [
    "df_tree_validation.dropna(axis=0, inplace=True)\n",
    "df_tree_validation.isna().sum()"
   ]
  },
  {
   "cell_type": "markdown",
   "metadata": {
    "hidden": true
   },
   "source": [
    "Validation data is already encoded, rescaled, and the features are already selected! No transformation is needed in this dataframe."
   ]
  },
  {
   "cell_type": "code",
   "execution_count": 8,
   "metadata": {
    "ExecuteTime": {
     "end_time": "2021-03-07T01:12:51.386279Z",
     "start_time": "2021-03-07T01:12:51.384486Z"
    },
    "hidden": true
   },
   "outputs": [],
   "source": [
    "cols_selected_bal_tree = ['vintage', 'annual_premium', 'age', 'region_code', 'policy_sales_channel',\n",
    "                          'vehicle_hist', 'vehicle_damage', 'previously_insured', 'weight_ages']"
   ]
  },
  {
   "cell_type": "code",
   "execution_count": 9,
   "metadata": {
    "ExecuteTime": {
     "end_time": "2021-03-07T01:12:51.390580Z",
     "start_time": "2021-03-07T01:12:51.387751Z"
    },
    "hidden": true
   },
   "outputs": [],
   "source": [
    "col_id = ['id']\n",
    "\n",
    "cols_selected_bal_full = cols_selected_bal_tree.copy()\n",
    "cols_selected_bal_full.extend(col_id)"
   ]
  },
  {
   "cell_type": "markdown",
   "metadata": {
    "heading_collapsed": true,
    "hidden": true
   },
   "source": [
    "### 0.1.1 Load encoders"
   ]
  },
  {
   "cell_type": "code",
   "execution_count": 10,
   "metadata": {
    "ExecuteTime": {
     "end_time": "2021-03-07T01:12:51.398462Z",
     "start_time": "2021-03-07T01:12:51.392160Z"
    },
    "hidden": true
   },
   "outputs": [],
   "source": [
    "# age - MinMaxScaler\n",
    "mms_age = pickle.load(open(home_path + \"encoders/age_new_tree_scaler.pkl\", \"rb\"))\n",
    "\n",
    "# vintage - MinMaxScaler\n",
    "mms_vintage = pickle.load(open(home_path + \"encoders/vintage_new_tree_scaler.pkl\", \"rb\"))\n",
    "\n",
    "# region_code - frequency encoding\n",
    "region_freq = pickle.load(open(home_path + \"encoders/region_freq_new_tree_scaler.pkl\", \"rb\"))\n",
    "\n",
    "# annual_premium - StandardScaler\n",
    "ss_premium = pickle.load(open(home_path + \"encoders/premium_new_tree_scaler.pkl\", \"rb\"))\n",
    "\n",
    "# policy_sales_channel - frequency encoding\n",
    "channel_freq = pickle.load(open(home_path + \"encoders/channel_new_tree_scaler.pkl\", \"rb\"))\n",
    "\n",
    "# vehicle_damage - LabelEncoder\n",
    "damage_encoder = pickle.load(open(home_path + \"encoders/v_dam_new_tree_scaler.pkl\", \"rb\"))"
   ]
  },
  {
   "cell_type": "markdown",
   "metadata": {
    "heading_collapsed": true,
    "hidden": true
   },
   "source": [
    "### 0.1.2 Load trained model"
   ]
  },
  {
   "cell_type": "code",
   "execution_count": 11,
   "metadata": {
    "ExecuteTime": {
     "end_time": "2021-03-07T01:12:52.720229Z",
     "start_time": "2021-03-07T01:12:51.399601Z"
    },
    "hidden": true
   },
   "outputs": [],
   "source": [
    "bal_rf_validated = pickle.load(open(home_path + \"ml_models_comp/giant/bal_rf_validated.pkl\", \"rb\"))"
   ]
  },
  {
   "cell_type": "markdown",
   "metadata": {
    "heading_collapsed": true,
    "hidden": true,
    "tags": []
   },
   "source": [
    "## 0.2 Helper Functions"
   ]
  },
  {
   "cell_type": "code",
   "execution_count": 12,
   "metadata": {
    "ExecuteTime": {
     "end_time": "2021-03-07T01:12:52.727026Z",
     "start_time": "2021-03-07T01:12:52.721463Z"
    },
    "hidden": true
   },
   "outputs": [],
   "source": [
    "# model predict\n",
    "def model_predict(trained_model, data_test):\n",
    "    # drop id\n",
    "    data_testing = data_test.drop(['id'], axis=1).copy()\n",
    "    # predict_proba:\n",
    "    yhat_proba = trained_model.predict_proba(data_testing)\n",
    "    \n",
    "    # transform yhat_proba to 1D-array\n",
    "    yhat_proba_1d = yhat_proba[:, 1].tolist()\n",
    "    \n",
    "    # include in dataframe\n",
    "    testing_data = data_test.copy()\n",
    "    testing_data['score'] = yhat_proba_1d\n",
    "    # sort\n",
    "    testing_data = testing_data.sort_values('score', ascending=False)\n",
    "    # reset index\n",
    "    testing_data.reset_index(drop=True, inplace=True)\n",
    "    return testing_data\n",
    "\n",
    "\n",
    "# precision_at_k, recall_at_k\n",
    "# precision_at_k\n",
    "# def precision_at_k(data, k):\n",
    "#     data = data.reset_index(drop=True)\n",
    "#     data['n_samples'] = data.index + 1\n",
    "#     data['precision_at_k'] = data['response'].cumsum() / data['n_samples']\n",
    "#     return data.loc[k, 'precision_at_k']\n",
    "\n",
    "\n",
    "# # recall_at_k\n",
    "# def recall_at_k(data, k):\n",
    "#     data = data.reset_index(drop=True)\n",
    "#     data['recall_at_k'] = data['response'].cumsum() / data['response'].sum()\n",
    "#     return data.loc[k, 'recall_at_k']\n",
    "\n",
    "\n",
    "# validation data\n",
    "def validation_data(trained_model, data_val):\n",
    "    # separate X and Y data:\n",
    "    xval = data_val.drop(['id', 'response'], axis=1)\n",
    "    yval = data_val.response\n",
    "    \n",
    "    # predict_proba:\n",
    "    yhat_proba = trained_model.predict_proba(xval)\n",
    "    \n",
    "    # transform yhat_proba to 1D-array\n",
    "    yhat_proba_1d = yhat_proba[:, 1].tolist()\n",
    "    \n",
    "    # include in dataframe\n",
    "    validation_data = data_val.copy()\n",
    "    validation_data['score'] = yhat_proba_1d\n",
    "    # sort\n",
    "    validation_data = validation_data.sort_values('score', ascending=False)\n",
    "    # precision and recall\n",
    "    validation_data = validation_data.reset_index(drop=True)\n",
    "    validation_data['n_samples'] = validation_data.index + 1\n",
    "    validation_data['precision_at_k'] = validation_data['response'].cumsum() / validation_data['n_samples']\n",
    "    validation_data['recall_at_k'] = validation_data['response'].cumsum() / validation_data['response'].sum()\n",
    "    \n",
    "    return validation_data\n",
    "\n",
    "\n",
    "# validation metrics\n",
    "def validation_metrics(validated_data, k):    \n",
    "    return pd.DataFrame({'precision_at_{}'.format(k):validated_data.loc[k, 'precision_at_k'],\n",
    "                         'recall_at_{}'.format(k):validated_data.loc[k, 'recall_at_k']},\n",
    "                         index=['ranking_metrics']).T"
   ]
  },
  {
   "cell_type": "markdown",
   "metadata": {
    "heading_collapsed": true,
    "hidden": true,
    "tags": []
   },
   "source": [
    "## 0.3 Apply encoders and feature selection to data"
   ]
  },
  {
   "cell_type": "code",
   "execution_count": 13,
   "metadata": {
    "ExecuteTime": {
     "end_time": "2021-03-07T01:12:52.734683Z",
     "start_time": "2021-03-07T01:12:52.728220Z"
    },
    "hidden": true
   },
   "outputs": [],
   "source": [
    "df9 = df_test_raw.copy()"
   ]
  },
  {
   "cell_type": "code",
   "execution_count": 14,
   "metadata": {
    "ExecuteTime": {
     "end_time": "2021-03-07T01:12:52.738119Z",
     "start_time": "2021-03-07T01:12:52.735785Z"
    },
    "hidden": true
   },
   "outputs": [],
   "source": [
    "cols_list = df9.columns.tolist()\n",
    "cols_lower = [x.lower() for x in cols_list]\n",
    "df9.columns = cols_lower"
   ]
  },
  {
   "cell_type": "code",
   "execution_count": 15,
   "metadata": {
    "ExecuteTime": {
     "end_time": "2021-03-07T01:12:52.743741Z",
     "start_time": "2021-03-07T01:12:52.739578Z"
    },
    "hidden": true
   },
   "outputs": [
    {
     "data": {
      "text/plain": [
       "id                        int64\n",
       "gender                   object\n",
       "age                       int64\n",
       "driving_license           int64\n",
       "region_code             float64\n",
       "previously_insured        int64\n",
       "vehicle_age              object\n",
       "vehicle_damage           object\n",
       "annual_premium          float64\n",
       "policy_sales_channel    float64\n",
       "vintage                   int64\n",
       "dtype: object"
      ]
     },
     "execution_count": 15,
     "metadata": {},
     "output_type": "execute_result"
    }
   ],
   "source": [
    "df9.dtypes"
   ]
  },
  {
   "cell_type": "code",
   "execution_count": 16,
   "metadata": {
    "ExecuteTime": {
     "end_time": "2021-03-07T01:12:52.750256Z",
     "start_time": "2021-03-07T01:12:52.744810Z"
    },
    "hidden": true
   },
   "outputs": [],
   "source": [
    "df9['region_code'] = df9['region_code'].astype(int)\n",
    "df9['policy_sales_channel'] = df9['policy_sales_channel'].astype(int)"
   ]
  },
  {
   "cell_type": "code",
   "execution_count": 17,
   "metadata": {
    "ExecuteTime": {
     "end_time": "2021-03-07T01:12:52.768424Z",
     "start_time": "2021-03-07T01:12:52.751293Z"
    },
    "hidden": true
   },
   "outputs": [
    {
     "data": {
      "text/plain": [
       "id                      0\n",
       "gender                  0\n",
       "age                     0\n",
       "driving_license         0\n",
       "region_code             0\n",
       "previously_insured      0\n",
       "vehicle_age             0\n",
       "vehicle_damage          0\n",
       "annual_premium          0\n",
       "policy_sales_channel    0\n",
       "vintage                 0\n",
       "dtype: int64"
      ]
     },
     "execution_count": 17,
     "metadata": {},
     "output_type": "execute_result"
    }
   ],
   "source": [
    "df9.isna().sum()"
   ]
  },
  {
   "cell_type": "code",
   "execution_count": 18,
   "metadata": {
    "ExecuteTime": {
     "end_time": "2021-03-07T01:12:52.773265Z",
     "start_time": "2021-03-07T01:12:52.769435Z"
    },
    "hidden": true
   },
   "outputs": [],
   "source": [
    "def age_map(age):\n",
    "    if age <= 25:\n",
    "        return 1\n",
    "    elif (age > 25) and (age <= 30):\n",
    "        return 2\n",
    "    elif (age > 30) and (age <= 35):\n",
    "        return 3\n",
    "    elif (age > 35) and (age <= 40):\n",
    "        return 4\n",
    "    elif (age > 40) and (age <= 50):\n",
    "        return 5\n",
    "    elif (age > 50) and (age <= 55):\n",
    "        return 4\n",
    "    elif (age > 55) and (age <= 65):\n",
    "        return 3\n",
    "    else:\n",
    "        return 0"
   ]
  },
  {
   "cell_type": "code",
   "execution_count": 19,
   "metadata": {
    "ExecuteTime": {
     "end_time": "2021-03-07T01:12:52.778576Z",
     "start_time": "2021-03-07T01:12:52.774541Z"
    },
    "hidden": true
   },
   "outputs": [],
   "source": [
    "def vehicle_age_map (v_age):\n",
    "    if v_age == '< 1 Year':\n",
    "        return 3\n",
    "    elif v_age == '1-2 Year':\n",
    "        return 2\n",
    "    else:\n",
    "        return 0"
   ]
  },
  {
   "cell_type": "code",
   "execution_count": 20,
   "metadata": {
    "ExecuteTime": {
     "end_time": "2021-03-07T01:12:52.860371Z",
     "start_time": "2021-03-07T01:12:52.779719Z"
    },
    "hidden": true
   },
   "outputs": [],
   "source": [
    "weight_ages = df9['age'].map(age_map) + df9['vehicle_age'].map(vehicle_age_map)"
   ]
  },
  {
   "cell_type": "code",
   "execution_count": 21,
   "metadata": {
    "ExecuteTime": {
     "end_time": "2021-03-07T01:12:52.863576Z",
     "start_time": "2021-03-07T01:12:52.861587Z"
    },
    "hidden": true
   },
   "outputs": [],
   "source": [
    "def damage_map(damage):\n",
    "    if damage == 'Yes':\n",
    "        return 1\n",
    "    else:\n",
    "        return 0"
   ]
  },
  {
   "cell_type": "code",
   "execution_count": 22,
   "metadata": {
    "ExecuteTime": {
     "end_time": "2021-03-07T01:12:52.897698Z",
     "start_time": "2021-03-07T01:12:52.864614Z"
    },
    "hidden": true
   },
   "outputs": [],
   "source": [
    "vehicle_hist = df9['vehicle_damage'].map(damage_map) + 1 - df9['previously_insured']"
   ]
  },
  {
   "cell_type": "code",
   "execution_count": 23,
   "metadata": {
    "ExecuteTime": {
     "end_time": "2021-03-07T01:12:52.902425Z",
     "start_time": "2021-03-07T01:12:52.900011Z"
    },
    "hidden": true
   },
   "outputs": [],
   "source": [
    "df9.insert(loc=len(df9.columns)-1, column='weight_ages', value=weight_ages)"
   ]
  },
  {
   "cell_type": "code",
   "execution_count": 24,
   "metadata": {
    "ExecuteTime": {
     "end_time": "2021-03-07T01:12:52.907294Z",
     "start_time": "2021-03-07T01:12:52.903524Z"
    },
    "hidden": true
   },
   "outputs": [],
   "source": [
    "df9.insert(loc=len(df9.columns)-1, column='vehicle_hist', value=vehicle_hist)"
   ]
  },
  {
   "cell_type": "code",
   "execution_count": 25,
   "metadata": {
    "ExecuteTime": {
     "end_time": "2021-03-07T01:12:52.925013Z",
     "start_time": "2021-03-07T01:12:52.908802Z"
    },
    "hidden": true
   },
   "outputs": [],
   "source": [
    "df9 = df9[cols_selected_bal_full].copy()"
   ]
  },
  {
   "cell_type": "code",
   "execution_count": 26,
   "metadata": {
    "ExecuteTime": {
     "end_time": "2021-03-07T01:12:52.954690Z",
     "start_time": "2021-03-07T01:12:52.926198Z"
    },
    "hidden": true
   },
   "outputs": [],
   "source": [
    "# age - MinMaxScaler\n",
    "df9['age'] = mms_age.transform(df9[['age']].values)\n",
    "\n",
    "# vintage - MinMaxScaler\n",
    "df9['vintage'] = mms_vintage.transform(df9[['vintage']].values)\n",
    "\n",
    "# region_code - frequency encoding\n",
    "df9['region_code'] = df9['region_code'].map(region_freq)\n",
    "\n",
    "# annual_premium - StandardScaler\n",
    "df9['annual_premium'] = ss_premium.transform(df9[['annual_premium']].values)\n",
    "\n",
    "# policy_sales_channel - frequency encoding\n",
    "df9['policy_sales_channel'] = df9['policy_sales_channel'].map(channel_freq)\n",
    "\n",
    "# vehicle_damage - LabelEncoder\n",
    "df9['vehicle_damage'] = damage_encoder.transform(df9['vehicle_damage'])"
   ]
  },
  {
   "cell_type": "code",
   "execution_count": 27,
   "metadata": {
    "ExecuteTime": {
     "end_time": "2021-03-07T01:12:52.964905Z",
     "start_time": "2021-03-07T01:12:52.956427Z"
    },
    "hidden": true
   },
   "outputs": [
    {
     "data": {
      "text/plain": [
       "vintage                 0\n",
       "annual_premium          0\n",
       "age                     0\n",
       "region_code             0\n",
       "policy_sales_channel    3\n",
       "vehicle_hist            0\n",
       "vehicle_damage          0\n",
       "previously_insured      0\n",
       "weight_ages             0\n",
       "id                      0\n",
       "dtype: int64"
      ]
     },
     "execution_count": 27,
     "metadata": {},
     "output_type": "execute_result"
    }
   ],
   "source": [
    "df9.isna().sum()"
   ]
  },
  {
   "cell_type": "code",
   "execution_count": 28,
   "metadata": {
    "ExecuteTime": {
     "end_time": "2021-03-07T01:12:52.982287Z",
     "start_time": "2021-03-07T01:12:52.965979Z"
    },
    "hidden": true
   },
   "outputs": [
    {
     "data": {
      "text/plain": [
       "vintage                 0\n",
       "annual_premium          0\n",
       "age                     0\n",
       "region_code             0\n",
       "policy_sales_channel    0\n",
       "vehicle_hist            0\n",
       "vehicle_damage          0\n",
       "previously_insured      0\n",
       "weight_ages             0\n",
       "id                      0\n",
       "dtype: int64"
      ]
     },
     "execution_count": 28,
     "metadata": {},
     "output_type": "execute_result"
    }
   ],
   "source": [
    "df9.dropna(axis=0, inplace=True)\n",
    "df9.isna().sum()"
   ]
  },
  {
   "cell_type": "code",
   "execution_count": 29,
   "metadata": {
    "ExecuteTime": {
     "end_time": "2021-03-07T01:12:52.987299Z",
     "start_time": "2021-03-07T01:12:52.983260Z"
    },
    "hidden": true
   },
   "outputs": [],
   "source": [
    "df_validation = df_tree_validation.copy()"
   ]
  },
  {
   "cell_type": "markdown",
   "metadata": {
    "heading_collapsed": true
   },
   "source": [
    "# 9.0 Business Performance"
   ]
  },
  {
   "cell_type": "code",
   "execution_count": 30,
   "metadata": {
    "ExecuteTime": {
     "end_time": "2021-03-07T01:12:53.444183Z",
     "start_time": "2021-03-07T01:12:52.989256Z"
    },
    "hidden": true
   },
   "outputs": [],
   "source": [
    "df_validated = validation_data(bal_rf_validated, df_validation)"
   ]
  },
  {
   "cell_type": "markdown",
   "metadata": {
    "heading_collapsed": true,
    "hidden": true
   },
   "source": [
    "## 9.1 Model Performance - metrics on validation"
   ]
  },
  {
   "cell_type": "code",
   "execution_count": 31,
   "metadata": {
    "ExecuteTime": {
     "end_time": "2021-03-07T01:12:53.454547Z",
     "start_time": "2021-03-07T01:12:53.445374Z"
    },
    "cell_style": "center",
    "hidden": true,
    "hide_input": false,
    "scrolled": true
   },
   "outputs": [
    {
     "data": {
      "text/html": [
       "<div>\n",
       "<style scoped>\n",
       "    .dataframe tbody tr th:only-of-type {\n",
       "        vertical-align: middle;\n",
       "    }\n",
       "\n",
       "    .dataframe tbody tr th {\n",
       "        vertical-align: top;\n",
       "    }\n",
       "\n",
       "    .dataframe thead th {\n",
       "        text-align: right;\n",
       "    }\n",
       "</style>\n",
       "<table border=\"1\" class=\"dataframe\">\n",
       "  <thead>\n",
       "    <tr style=\"text-align: right;\">\n",
       "      <th></th>\n",
       "      <th>ranking_metrics</th>\n",
       "    </tr>\n",
       "  </thead>\n",
       "  <tbody>\n",
       "    <tr>\n",
       "      <th>precision_at_20000</th>\n",
       "      <td>0.330333</td>\n",
       "    </tr>\n",
       "    <tr>\n",
       "      <th>recall_at_20000</th>\n",
       "      <td>0.707236</td>\n",
       "    </tr>\n",
       "  </tbody>\n",
       "</table>\n",
       "</div>"
      ],
      "text/plain": [
       "                    ranking_metrics\n",
       "precision_at_20000         0.330333\n",
       "recall_at_20000            0.707236"
      ]
     },
     "execution_count": 31,
     "metadata": {},
     "output_type": "execute_result"
    }
   ],
   "source": [
    "metrics = validation_metrics(df_validated, 20000)\n",
    "metrics"
   ]
  },
  {
   "cell_type": "code",
   "execution_count": 32,
   "metadata": {
    "ExecuteTime": {
     "end_time": "2021-03-07T01:12:53.461319Z",
     "start_time": "2021-03-07T01:12:53.455620Z"
    },
    "cell_style": "center",
    "hidden": true,
    "hide_input": false,
    "scrolled": true
   },
   "outputs": [
    {
     "data": {
      "text/html": [
       "<div>\n",
       "<style scoped>\n",
       "    .dataframe tbody tr th:only-of-type {\n",
       "        vertical-align: middle;\n",
       "    }\n",
       "\n",
       "    .dataframe tbody tr th {\n",
       "        vertical-align: top;\n",
       "    }\n",
       "\n",
       "    .dataframe thead th {\n",
       "        text-align: right;\n",
       "    }\n",
       "</style>\n",
       "<table border=\"1\" class=\"dataframe\">\n",
       "  <thead>\n",
       "    <tr style=\"text-align: right;\">\n",
       "      <th></th>\n",
       "      <th>ranking_metrics</th>\n",
       "    </tr>\n",
       "  </thead>\n",
       "  <tbody>\n",
       "    <tr>\n",
       "      <th>precision_at_40000</th>\n",
       "      <td>0.232294</td>\n",
       "    </tr>\n",
       "    <tr>\n",
       "      <th>recall_at_40000</th>\n",
       "      <td>0.994648</td>\n",
       "    </tr>\n",
       "  </tbody>\n",
       "</table>\n",
       "</div>"
      ],
      "text/plain": [
       "                    ranking_metrics\n",
       "precision_at_40000         0.232294\n",
       "recall_at_40000            0.994648"
      ]
     },
     "execution_count": 32,
     "metadata": {},
     "output_type": "execute_result"
    }
   ],
   "source": [
    "metrics = validation_metrics(df_validated, 40000)\n",
    "metrics"
   ]
  },
  {
   "cell_type": "code",
   "execution_count": 33,
   "metadata": {
    "ExecuteTime": {
     "end_time": "2021-03-07T01:12:53.968363Z",
     "start_time": "2021-03-07T01:12:53.462503Z"
    },
    "hidden": true,
    "hide_input": false
   },
   "outputs": [],
   "source": [
    "# separate X and Y data:\n",
    "xval = df_validation.drop(['id', 'response'], axis=1)\n",
    "yval = df_validation.response\n",
    "\n",
    "# predict_proba:\n",
    "yhat_proba = bal_rf_validated.predict_proba(xval)"
   ]
  },
  {
   "cell_type": "code",
   "execution_count": 34,
   "metadata": {
    "ExecuteTime": {
     "end_time": "2021-03-07T01:12:54.157806Z",
     "start_time": "2021-03-07T01:12:53.969366Z"
    },
    "cell_style": "center",
    "hidden": true,
    "hide_input": false
   },
   "outputs": [
    {
     "data": {
      "image/png": "[encoded data removed]",
      "text/plain": [
       "<Figure size 432x288 with 1 Axes>"
      ]
     },
     "metadata": {
      "needs_background": "light"
     },
     "output_type": "display_data"
    }
   ],
   "source": [
    "skplt.metrics.plot_cumulative_gain(yval, yhat_proba);"
   ]
  },
  {
   "cell_type": "code",
   "execution_count": 35,
   "metadata": {
    "ExecuteTime": {
     "end_time": "2021-03-07T01:12:54.336772Z",
     "start_time": "2021-03-07T01:12:54.159537Z"
    },
    "cell_style": "center",
    "hidden": true,
    "hide_input": false,
    "scrolled": true
   },
   "outputs": [
    {
     "data": {
      "image/png": "[encoded data removed]",
      "text/plain": [
       "<Figure size 432x288 with 1 Axes>"
      ]
     },
     "metadata": {
      "needs_background": "light"
     },
     "output_type": "display_data"
    }
   ],
   "source": [
    "skplt.metrics.plot_lift_curve(yval, yhat_proba);"
   ]
  },
  {
   "cell_type": "code",
   "execution_count": 36,
   "metadata": {
    "ExecuteTime": {
     "end_time": "2021-03-07T01:12:54.591055Z",
     "start_time": "2021-03-07T01:12:54.338864Z"
    },
    "cell_style": "center",
    "hidden": true,
    "hide_input": false
   },
   "outputs": [
    {
     "data": {
      "image/png": "[encoded data removed]",
      "text/plain": [
       "<Figure size 432x288 with 1 Axes>"
      ]
     },
     "metadata": {
      "needs_background": "light"
     },
     "output_type": "display_data"
    }
   ],
   "source": [
    "skplt.metrics.plot_roc(yval, yhat_proba);"
   ]
  },
  {
   "cell_type": "markdown",
   "metadata": {
    "heading_collapsed": true,
    "hidden": true
   },
   "source": [
    "### 9.1.1 80% of potentially interested"
   ]
  },
  {
   "cell_type": "code",
   "execution_count": 37,
   "metadata": {
    "ExecuteTime": {
     "end_time": "2021-03-07T01:12:54.603593Z",
     "start_time": "2021-03-07T01:12:54.593362Z"
    },
    "cell_style": "center",
    "hidden": true,
    "hide_input": false,
    "scrolled": true
   },
   "outputs": [
    {
     "name": "stdout",
     "output_type": "stream",
     "text": [
      "The marketing team will call 80% of the interested customers if they call 23917 people.\n"
     ]
    }
   ],
   "source": [
    "interested_80 = df_validated[df_validated['recall_at_k'] >= 0.8].index.min()\n",
    "print('The marketing team will call 80% of the interested customers if they call {} people.'.format(interested_80))"
   ]
  },
  {
   "cell_type": "markdown",
   "metadata": {
    "heading_collapsed": true,
    "hidden": true
   },
   "source": [
    "## 9.2 Business performance"
   ]
  },
  {
   "cell_type": "code",
   "execution_count": 38,
   "metadata": {
    "ExecuteTime": {
     "end_time": "2021-03-07T01:12:55.455436Z",
     "start_time": "2021-03-07T01:12:54.605709Z"
    },
    "hidden": true
   },
   "outputs": [],
   "source": [
    "df9_predictions = model_predict(bal_rf_validated, df9)"
   ]
  },
  {
   "cell_type": "code",
   "execution_count": 39,
   "metadata": {
    "ExecuteTime": {
     "end_time": "2021-03-07T01:12:55.468799Z",
     "start_time": "2021-03-07T01:12:55.456556Z"
    },
    "hidden": true
   },
   "outputs": [
    {
     "data": {
      "text/html": [
       "<div>\n",
       "<style scoped>\n",
       "    .dataframe tbody tr th:only-of-type {\n",
       "        vertical-align: middle;\n",
       "    }\n",
       "\n",
       "    .dataframe tbody tr th {\n",
       "        vertical-align: top;\n",
       "    }\n",
       "\n",
       "    .dataframe thead th {\n",
       "        text-align: right;\n",
       "    }\n",
       "</style>\n",
       "<table border=\"1\" class=\"dataframe\">\n",
       "  <thead>\n",
       "    <tr style=\"text-align: right;\">\n",
       "      <th></th>\n",
       "      <th>vintage</th>\n",
       "      <th>annual_premium</th>\n",
       "      <th>age</th>\n",
       "      <th>region_code</th>\n",
       "      <th>policy_sales_channel</th>\n",
       "      <th>vehicle_hist</th>\n",
       "      <th>vehicle_damage</th>\n",
       "      <th>previously_insured</th>\n",
       "      <th>weight_ages</th>\n",
       "      <th>id</th>\n",
       "      <th>score</th>\n",
       "    </tr>\n",
       "  </thead>\n",
       "  <tbody>\n",
       "    <tr>\n",
       "      <th>0</th>\n",
       "      <td>0.975779</td>\n",
       "      <td>1.174900</td>\n",
       "      <td>0.215385</td>\n",
       "      <td>0.278831</td>\n",
       "      <td>0.208953</td>\n",
       "      <td>2</td>\n",
       "      <td>1</td>\n",
       "      <td>0</td>\n",
       "      <td>5</td>\n",
       "      <td>469349</td>\n",
       "      <td>0.829103</td>\n",
       "    </tr>\n",
       "    <tr>\n",
       "      <th>1</th>\n",
       "      <td>0.903114</td>\n",
       "      <td>1.308991</td>\n",
       "      <td>0.200000</td>\n",
       "      <td>0.278831</td>\n",
       "      <td>0.208953</td>\n",
       "      <td>2</td>\n",
       "      <td>1</td>\n",
       "      <td>0</td>\n",
       "      <td>5</td>\n",
       "      <td>490183</td>\n",
       "      <td>0.827992</td>\n",
       "    </tr>\n",
       "    <tr>\n",
       "      <th>2</th>\n",
       "      <td>0.854671</td>\n",
       "      <td>0.922604</td>\n",
       "      <td>0.215385</td>\n",
       "      <td>0.278831</td>\n",
       "      <td>0.208953</td>\n",
       "      <td>2</td>\n",
       "      <td>1</td>\n",
       "      <td>0</td>\n",
       "      <td>5</td>\n",
       "      <td>447911</td>\n",
       "      <td>0.827866</td>\n",
       "    </tr>\n",
       "    <tr>\n",
       "      <th>3</th>\n",
       "      <td>0.906574</td>\n",
       "      <td>1.344006</td>\n",
       "      <td>0.200000</td>\n",
       "      <td>0.278831</td>\n",
       "      <td>0.208953</td>\n",
       "      <td>2</td>\n",
       "      <td>1</td>\n",
       "      <td>0</td>\n",
       "      <td>5</td>\n",
       "      <td>461035</td>\n",
       "      <td>0.827661</td>\n",
       "    </tr>\n",
       "    <tr>\n",
       "      <th>4</th>\n",
       "      <td>0.920415</td>\n",
       "      <td>0.781035</td>\n",
       "      <td>0.169231</td>\n",
       "      <td>0.278831</td>\n",
       "      <td>0.208953</td>\n",
       "      <td>2</td>\n",
       "      <td>1</td>\n",
       "      <td>0</td>\n",
       "      <td>5</td>\n",
       "      <td>448299</td>\n",
       "      <td>0.827477</td>\n",
       "    </tr>\n",
       "    <tr>\n",
       "      <th>...</th>\n",
       "      <td>...</td>\n",
       "      <td>...</td>\n",
       "      <td>...</td>\n",
       "      <td>...</td>\n",
       "      <td>...</td>\n",
       "      <td>...</td>\n",
       "      <td>...</td>\n",
       "      <td>...</td>\n",
       "      <td>...</td>\n",
       "      <td>...</td>\n",
       "      <td>...</td>\n",
       "    </tr>\n",
       "    <tr>\n",
       "      <th>127029</th>\n",
       "      <td>0.024221</td>\n",
       "      <td>-0.092321</td>\n",
       "      <td>0.046154</td>\n",
       "      <td>0.028801</td>\n",
       "      <td>0.353259</td>\n",
       "      <td>0</td>\n",
       "      <td>0</td>\n",
       "      <td>1</td>\n",
       "      <td>4</td>\n",
       "      <td>455354</td>\n",
       "      <td>0.000261</td>\n",
       "    </tr>\n",
       "    <tr>\n",
       "      <th>127030</th>\n",
       "      <td>0.740484</td>\n",
       "      <td>1.312295</td>\n",
       "      <td>0.030769</td>\n",
       "      <td>0.028801</td>\n",
       "      <td>0.353259</td>\n",
       "      <td>0</td>\n",
       "      <td>0</td>\n",
       "      <td>1</td>\n",
       "      <td>4</td>\n",
       "      <td>443675</td>\n",
       "      <td>0.000257</td>\n",
       "    </tr>\n",
       "    <tr>\n",
       "      <th>127031</th>\n",
       "      <td>0.771626</td>\n",
       "      <td>0.980924</td>\n",
       "      <td>0.046154</td>\n",
       "      <td>0.028801</td>\n",
       "      <td>0.353259</td>\n",
       "      <td>0</td>\n",
       "      <td>0</td>\n",
       "      <td>1</td>\n",
       "      <td>4</td>\n",
       "      <td>389997</td>\n",
       "      <td>0.000251</td>\n",
       "    </tr>\n",
       "    <tr>\n",
       "      <th>127032</th>\n",
       "      <td>0.726644</td>\n",
       "      <td>1.087478</td>\n",
       "      <td>0.046154</td>\n",
       "      <td>0.028801</td>\n",
       "      <td>0.353259</td>\n",
       "      <td>0</td>\n",
       "      <td>0</td>\n",
       "      <td>1</td>\n",
       "      <td>4</td>\n",
       "      <td>470869</td>\n",
       "      <td>0.000251</td>\n",
       "    </tr>\n",
       "    <tr>\n",
       "      <th>127033</th>\n",
       "      <td>0.754325</td>\n",
       "      <td>0.933213</td>\n",
       "      <td>0.030769</td>\n",
       "      <td>0.028801</td>\n",
       "      <td>0.353259</td>\n",
       "      <td>0</td>\n",
       "      <td>0</td>\n",
       "      <td>1</td>\n",
       "      <td>4</td>\n",
       "      <td>480883</td>\n",
       "      <td>0.000249</td>\n",
       "    </tr>\n",
       "  </tbody>\n",
       "</table>\n",
       "<p>127034 rows × 11 columns</p>\n",
       "</div>"
      ],
      "text/plain": [
       "         vintage  annual_premium       age  region_code  policy_sales_channel  \\\n",
       "0       0.975779        1.174900  0.215385     0.278831              0.208953   \n",
       "1       0.903114        1.308991  0.200000     0.278831              0.208953   \n",
       "2       0.854671        0.922604  0.215385     0.278831              0.208953   \n",
       "3       0.906574        1.344006  0.200000     0.278831              0.208953   \n",
       "4       0.920415        0.781035  0.169231     0.278831              0.208953   \n",
       "...          ...             ...       ...          ...                   ...   \n",
       "127029  0.024221       -0.092321  0.046154     0.028801              0.353259   \n",
       "127030  0.740484        1.312295  0.030769     0.028801              0.353259   \n",
       "127031  0.771626        0.980924  0.046154     0.028801              0.353259   \n",
       "127032  0.726644        1.087478  0.046154     0.028801              0.353259   \n",
       "127033  0.754325        0.933213  0.030769     0.028801              0.353259   \n",
       "\n",
       "        vehicle_hist  vehicle_damage  previously_insured  weight_ages      id  \\\n",
       "0                  2               1                   0            5  469349   \n",
       "1                  2               1                   0            5  490183   \n",
       "2                  2               1                   0            5  447911   \n",
       "3                  2               1                   0            5  461035   \n",
       "4                  2               1                   0            5  448299   \n",
       "...              ...             ...                 ...          ...     ...   \n",
       "127029             0               0                   1            4  455354   \n",
       "127030             0               0                   1            4  443675   \n",
       "127031             0               0                   1            4  389997   \n",
       "127032             0               0                   1            4  470869   \n",
       "127033             0               0                   1            4  480883   \n",
       "\n",
       "           score  \n",
       "0       0.829103  \n",
       "1       0.827992  \n",
       "2       0.827866  \n",
       "3       0.827661  \n",
       "4       0.827477  \n",
       "...          ...  \n",
       "127029  0.000261  \n",
       "127030  0.000257  \n",
       "127031  0.000251  \n",
       "127032  0.000251  \n",
       "127033  0.000249  \n",
       "\n",
       "[127034 rows x 11 columns]"
      ]
     },
     "execution_count": 39,
     "metadata": {},
     "output_type": "execute_result"
    }
   ],
   "source": [
    "df9_predictions"
   ]
  },
  {
   "cell_type": "code",
   "execution_count": 40,
   "metadata": {
    "ExecuteTime": {
     "end_time": "2021-03-07T01:12:55.493937Z",
     "start_time": "2021-03-07T01:12:55.470207Z"
    },
    "hidden": true
   },
   "outputs": [],
   "source": [
    "df9_predictions.to_pickle(home_path + '/interim/predictions_bal_tree.pkl')"
   ]
  }
 ],
 "metadata": {
  "kernelspec": {
   "display_name": "Python 3",
   "language": "python",
   "name": "python3"
  },
  "language_info": {
   "codemirror_mode": {
    "name": "ipython",
    "version": 3
   },
   "file_extension": ".py",
   "mimetype": "text/x-python",
   "name": "python",
   "nbconvert_exporter": "python",
   "pygments_lexer": "ipython3",
   "version": "3.8.5"
  }
 },
 "nbformat": 4,
 "nbformat_minor": 4
}
