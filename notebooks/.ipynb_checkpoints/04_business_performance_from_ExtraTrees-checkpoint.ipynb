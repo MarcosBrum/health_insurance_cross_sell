{
 "cells": [
  {
   "cell_type": "markdown",
   "metadata": {
    "heading_collapsed": true
   },
   "source": [
    "# 0.0 Imports"
   ]
  },
  {
   "cell_type": "code",
   "execution_count": 1,
   "metadata": {
    "ExecuteTime": {
     "end_time": "2021-02-25T22:17:24.355623Z",
     "start_time": "2021-02-25T22:17:23.418470Z"
    },
    "hidden": true
   },
   "outputs": [],
   "source": [
    "import pandas as pd\n",
    "import numpy as np\n",
    "import pickle\n",
    "import random\n",
    "\n",
    "import matplotlib.pyplot as plt\n",
    "import seaborn as sns\n",
    "import scikitplot as skplt\n",
    "\n",
    "import xgboost as xgb"
   ]
  },
  {
   "cell_type": "markdown",
   "metadata": {
    "heading_collapsed": true,
    "hidden": true
   },
   "source": [
    "### 0.0.1 Problema"
   ]
  },
  {
   "cell_type": "markdown",
   "metadata": {
    "hidden": true
   },
   "source": [
    "Uma seguradora de planos de saúde pretende passar a vender, também, seguros de automóveis.\n",
    "\n",
    "A seguradora realizou pesquisa com cerca de 380.000 clientes para saber se teriam interesse, ou não, em contratar o novo seguro. Todos os clientes responderam.\n",
    "\n",
    "A seguradora selecionou cerca de 127.000 potenciais clientes para participar de uma campanha. Este grupo receberá a oferta de adesão ao seguro de automóvel via ligação telefônica.\n",
    "\n",
    "**Problema**: o time de vendas tem condições de ligar para, somente, 20.000 pessoas. Como selecionar, dentre os potenciais clientes, aqueles que tem maior probabilidade de adquirir o seguro?"
   ]
  },
  {
   "cell_type": "markdown",
   "metadata": {
    "hidden": true
   },
   "source": [
    "O *relatório* deve responder às seguintes questões:\n",
    "\n",
    "1. Fornecer *insights* sobre os atributos mais relevantes de clientes interessados em adquirir o seguro.\n",
    "\n",
    "2. Qual porcentagem dos potenciais clientes interessados o time de vendas vai conseguir contatar fazendo 20.000 ligações?\n",
    "\n",
    "3. Se o time de vendas fizer 40.000 ligações, qual será a porcentagem de clientes interessados contatada?\n",
    "\n",
    "4. Quantas ligações o time de vendas precisariaria fazer para contatar 80% dos potenciais clientes interessados?"
   ]
  },
  {
   "cell_type": "markdown",
   "metadata": {
    "heading_collapsed": true,
    "hidden": true
   },
   "source": [
    "## 0.1 Load Data"
   ]
  },
  {
   "cell_type": "code",
   "execution_count": 2,
   "metadata": {
    "ExecuteTime": {
     "end_time": "2021-02-25T22:17:24.360139Z",
     "start_time": "2021-02-25T22:17:24.357162Z"
    },
    "hidden": true
   },
   "outputs": [],
   "source": [
    "home_path = \"/home/marcos/Documentos/comunidade_DS/pa004_health_insurance_cross_sell/\""
   ]
  },
  {
   "cell_type": "code",
   "execution_count": 3,
   "metadata": {
    "ExecuteTime": {
     "end_time": "2021-02-25T22:17:24.480052Z",
     "start_time": "2021-02-25T22:17:24.362442Z"
    },
    "hidden": true
   },
   "outputs": [],
   "source": [
    "df_test_raw = pd.read_csv(home_path + \"data/test.csv\")"
   ]
  },
  {
   "cell_type": "code",
   "execution_count": 4,
   "metadata": {
    "ExecuteTime": {
     "end_time": "2021-02-25T22:17:24.488848Z",
     "start_time": "2021-02-25T22:17:24.481832Z"
    },
    "hidden": true
   },
   "outputs": [
    {
     "data": {
      "text/plain": [
       "Index(['id', 'Gender', 'Age', 'Driving_License', 'Region_Code',\n",
       "       'Previously_Insured', 'Vehicle_Age', 'Vehicle_Damage', 'Annual_Premium',\n",
       "       'Policy_Sales_Channel', 'Vintage'],\n",
       "      dtype='object')"
      ]
     },
     "execution_count": 4,
     "metadata": {},
     "output_type": "execute_result"
    }
   ],
   "source": [
    "df_test_raw.columns"
   ]
  },
  {
   "cell_type": "code",
   "execution_count": 5,
   "metadata": {
    "ExecuteTime": {
     "end_time": "2021-02-25T22:17:24.504411Z",
     "start_time": "2021-02-25T22:17:24.490937Z"
    },
    "hidden": true
   },
   "outputs": [],
   "source": [
    "df_tree_validation = pd.read_pickle(home_path + \"interim/df6_tree_val.pkl\")"
   ]
  },
  {
   "cell_type": "code",
   "execution_count": 6,
   "metadata": {
    "ExecuteTime": {
     "end_time": "2021-02-25T22:17:24.514301Z",
     "start_time": "2021-02-25T22:17:24.506658Z"
    },
    "hidden": true
   },
   "outputs": [
    {
     "data": {
      "text/plain": [
       "vintage                 0\n",
       "annual_premium          0\n",
       "age                     0\n",
       "region_code             0\n",
       "vehicle_damage          0\n",
       "policy_sales_channel    3\n",
       "previously_insured      0\n",
       "id                      0\n",
       "response                0\n",
       "dtype: int64"
      ]
     },
     "execution_count": 6,
     "metadata": {},
     "output_type": "execute_result"
    }
   ],
   "source": [
    "df_tree_validation.isna().sum()"
   ]
  },
  {
   "cell_type": "code",
   "execution_count": 7,
   "metadata": {
    "ExecuteTime": {
     "end_time": "2021-02-25T22:17:24.536468Z",
     "start_time": "2021-02-25T22:17:24.516158Z"
    },
    "hidden": true
   },
   "outputs": [
    {
     "data": {
      "text/plain": [
       "vintage                 0\n",
       "annual_premium          0\n",
       "age                     0\n",
       "region_code             0\n",
       "vehicle_damage          0\n",
       "policy_sales_channel    0\n",
       "previously_insured      0\n",
       "id                      0\n",
       "response                0\n",
       "dtype: int64"
      ]
     },
     "execution_count": 7,
     "metadata": {},
     "output_type": "execute_result"
    }
   ],
   "source": [
    "df_tree_validation.dropna(axis=0, inplace=True)\n",
    "df_tree_validation.isna().sum()"
   ]
  },
  {
   "cell_type": "markdown",
   "metadata": {
    "hidden": true
   },
   "source": [
    "Validation data is already encoded, rescaled, and the features are already selected! No transformation is needed in this dataframe."
   ]
  },
  {
   "cell_type": "code",
   "execution_count": 8,
   "metadata": {
    "ExecuteTime": {
     "end_time": "2021-02-25T22:17:24.541359Z",
     "start_time": "2021-02-25T22:17:24.539197Z"
    },
    "hidden": true
   },
   "outputs": [],
   "source": [
    "cols_selected_tree = ['vintage', 'annual_premium', 'age', 'region_code', 'vehicle_damage',\n",
    "                      'policy_sales_channel', 'previously_insured']"
   ]
  },
  {
   "cell_type": "code",
   "execution_count": 9,
   "metadata": {
    "ExecuteTime": {
     "end_time": "2021-02-25T22:17:24.545150Z",
     "start_time": "2021-02-25T22:17:24.543023Z"
    },
    "hidden": true
   },
   "outputs": [],
   "source": [
    "col_id = ['id']\n",
    "\n",
    "cols_selected_tree_full = cols_selected_tree.copy()\n",
    "cols_selected_tree_full.extend(col_id)"
   ]
  },
  {
   "cell_type": "markdown",
   "metadata": {
    "heading_collapsed": true,
    "hidden": true
   },
   "source": [
    "### 0.1.1 Load encoders"
   ]
  },
  {
   "cell_type": "code",
   "execution_count": 10,
   "metadata": {
    "ExecuteTime": {
     "end_time": "2021-02-25T22:17:24.553669Z",
     "start_time": "2021-02-25T22:17:24.546436Z"
    },
    "hidden": true
   },
   "outputs": [],
   "source": [
    "# vehicle_damage - LabelEncoder\n",
    "damage_encoder = pickle.load(open(home_path + \"encoders/v_dam_tree_scaler.pkl\", \"rb\"))\n",
    "\n",
    "# age - MinMaxScaler\n",
    "mms_age = pickle.load(open(home_path + \"encoders/age_tree_scaler.pkl\", \"rb\"))\n",
    "\n",
    "# policy_sales_channel - frequency encoding\n",
    "channel_freq = pickle.load(open(home_path + \"encoders/channel_tree_scaler.pkl\", \"rb\"))\n",
    "\n",
    "# region_code - frequency encoding\n",
    "region_freq = pickle.load(open(home_path + \"encoders/region_freq_tree_scaler.pkl\", \"rb\"))\n",
    "\n",
    "# annual_premium - StandardScaler\n",
    "ss_premium = pickle.load(open(home_path + \"encoders/premium_tree_scaler.pkl\", \"rb\"))\n",
    "\n",
    "# vintage - MinMaxScaler\n",
    "mms_vintage = pickle.load(open(home_path + \"encoders/vintage_tree_scaler.pkl\", \"rb\"))"
   ]
  },
  {
   "cell_type": "markdown",
   "metadata": {
    "heading_collapsed": true,
    "hidden": true
   },
   "source": [
    "### 0.1.2 Load trained model"
   ]
  },
  {
   "cell_type": "code",
   "execution_count": 11,
   "metadata": {
    "ExecuteTime": {
     "end_time": "2021-02-25T22:17:26.504230Z",
     "start_time": "2021-02-25T22:17:24.556111Z"
    },
    "hidden": true
   },
   "outputs": [],
   "source": [
    "xgb_validated = pickle.load(open(home_path + \"ml_models_comp/xgb_validated_tree.pkl\", \"rb\"))"
   ]
  },
  {
   "cell_type": "markdown",
   "metadata": {
    "heading_collapsed": true,
    "hidden": true
   },
   "source": [
    "## 0.2 Helper Functions"
   ]
  },
  {
   "cell_type": "code",
   "execution_count": 12,
   "metadata": {
    "ExecuteTime": {
     "end_time": "2021-02-25T22:17:26.514261Z",
     "start_time": "2021-02-25T22:17:26.505636Z"
    },
    "hidden": true
   },
   "outputs": [],
   "source": [
    "# model predict\n",
    "def model_predict(trained_model, data_test):\n",
    "    # drop id\n",
    "    data_testing = data_test.drop(['id'], axis=1).copy()\n",
    "    # predict_proba:\n",
    "    yhat_proba = trained_model.predict_proba(data_testing)\n",
    "    \n",
    "    # transform yhat_proba to 1D-array\n",
    "    yhat_proba_1d = yhat_proba[:, 1].tolist()\n",
    "    \n",
    "    # include in dataframe\n",
    "    testing_data = data_test.copy()\n",
    "    testing_data['score'] = yhat_proba_1d\n",
    "    # sort\n",
    "    testing_data = testing_data.sort_values('score', ascending=False)\n",
    "    # reset index\n",
    "    testing_data.reset_index(drop=True, inplace=True)\n",
    "    return testing_data\n",
    "\n",
    "\n",
    "# precision_at_k, recall_at_k, cumulative_gain and lift_curve on training data\n",
    "# precision_at_k\n",
    "def precision_at_k(data, k):\n",
    "    data = data.reset_index(drop=True)\n",
    "    data['n_samples'] = data.index + 1\n",
    "    data['precision_at_k'] = data['response'].cumsum() / data['n_samples']\n",
    "    return data.loc[k, 'precision_at_k']\n",
    "\n",
    "\n",
    "# recall_at_k\n",
    "def recall_at_k(data, k):\n",
    "    data = data.reset_index(drop=True)\n",
    "    data['recall_at_k'] = data['response'].cumsum() / data['response'].sum()\n",
    "    return data.loc[k, 'recall_at_k']\n",
    "\n",
    "\n",
    "# validation metrics\n",
    "def validation_metrics(trained_model, data_val, k):\n",
    "    # separate X and Y data:\n",
    "    xval = data_val.drop(['id', 'response'], axis=1)\n",
    "    yval = data_val.response\n",
    "    \n",
    "    # predict_proba:\n",
    "    yhat_proba = trained_model.predict_proba(xval)\n",
    "    \n",
    "    # transform yhat_proba to 1D-array\n",
    "    yhat_proba_1d = yhat_proba[:, 1].tolist()\n",
    "    \n",
    "    # include in dataframe\n",
    "    validation_data = data_val.copy()\n",
    "    validation_data['score'] = yhat_proba_1d\n",
    "    # sort\n",
    "    validation_data = validation_data.sort_values('score', ascending=False)\n",
    "    \n",
    "    return pd.DataFrame({'precision_at_{}'.format(k):precision_at_k(validation_data, k),\n",
    "                         'recall_at_{}'.format(k):recall_at_k(validation_data, k)}, index=['ranking_metrics']).T\n",
    "\n",
    "\n",
    "# gain plots\n",
    "# def gain_plots(trained_model, data_val):\n",
    "#     # separate X and Y data:\n",
    "#     xval = data_val.drop(['id', 'response'], axis=1)\n",
    "#     yval = data_val.response\n",
    "    \n",
    "#     # predict_proba:\n",
    "#     yhat_proba = trained_model.predict_proba(xval)\n",
    "    \n",
    "#     # plot\n",
    "#     skplt.metrics.plot_cumulative_gain(yval, yhat_proba);\n",
    "#     skplt.metrics.plot_lift_curve(yval, yhat_proba);\n",
    "    \n",
    "#     return None"
   ]
  },
  {
   "cell_type": "markdown",
   "metadata": {
    "heading_collapsed": true,
    "hidden": true
   },
   "source": [
    "## 0.3 Apply encoders and feature selection to data"
   ]
  },
  {
   "cell_type": "code",
   "execution_count": 13,
   "metadata": {
    "ExecuteTime": {
     "end_time": "2021-02-25T22:17:26.523267Z",
     "start_time": "2021-02-25T22:17:26.516641Z"
    },
    "hidden": true
   },
   "outputs": [],
   "source": [
    "df9 = df_test_raw.copy()"
   ]
  },
  {
   "cell_type": "code",
   "execution_count": 14,
   "metadata": {
    "ExecuteTime": {
     "end_time": "2021-02-25T22:17:26.528818Z",
     "start_time": "2021-02-25T22:17:26.525694Z"
    },
    "hidden": true
   },
   "outputs": [],
   "source": [
    "cols_list = df9.columns.tolist()\n",
    "cols_lower = [x.lower() for x in cols_list]\n",
    "df9.columns = cols_lower"
   ]
  },
  {
   "cell_type": "code",
   "execution_count": 15,
   "metadata": {
    "ExecuteTime": {
     "end_time": "2021-02-25T22:17:26.536298Z",
     "start_time": "2021-02-25T22:17:26.530790Z"
    },
    "hidden": true
   },
   "outputs": [
    {
     "data": {
      "text/plain": [
       "id                        int64\n",
       "gender                   object\n",
       "age                       int64\n",
       "driving_license           int64\n",
       "region_code             float64\n",
       "previously_insured        int64\n",
       "vehicle_age              object\n",
       "vehicle_damage           object\n",
       "annual_premium          float64\n",
       "policy_sales_channel    float64\n",
       "vintage                   int64\n",
       "dtype: object"
      ]
     },
     "execution_count": 15,
     "metadata": {},
     "output_type": "execute_result"
    }
   ],
   "source": [
    "df9.dtypes"
   ]
  },
  {
   "cell_type": "code",
   "execution_count": 16,
   "metadata": {
    "ExecuteTime": {
     "end_time": "2021-02-25T22:17:26.543834Z",
     "start_time": "2021-02-25T22:17:26.538105Z"
    },
    "hidden": true
   },
   "outputs": [],
   "source": [
    "df9['region_code'] = df9['region_code'].astype(int)\n",
    "df9['policy_sales_channel'] = df9['policy_sales_channel'].astype(int)"
   ]
  },
  {
   "cell_type": "code",
   "execution_count": 17,
   "metadata": {
    "ExecuteTime": {
     "end_time": "2021-02-25T22:17:26.573301Z",
     "start_time": "2021-02-25T22:17:26.545824Z"
    },
    "hidden": true
   },
   "outputs": [
    {
     "data": {
      "text/plain": [
       "id                      0\n",
       "gender                  0\n",
       "age                     0\n",
       "driving_license         0\n",
       "region_code             0\n",
       "previously_insured      0\n",
       "vehicle_age             0\n",
       "vehicle_damage          0\n",
       "annual_premium          0\n",
       "policy_sales_channel    0\n",
       "vintage                 0\n",
       "dtype: int64"
      ]
     },
     "execution_count": 17,
     "metadata": {},
     "output_type": "execute_result"
    }
   ],
   "source": [
    "df9.isna().sum()"
   ]
  },
  {
   "cell_type": "code",
   "execution_count": 18,
   "metadata": {
    "ExecuteTime": {
     "end_time": "2021-02-25T22:17:26.589563Z",
     "start_time": "2021-02-25T22:17:26.574791Z"
    },
    "hidden": true
   },
   "outputs": [],
   "source": [
    "df9 = df9[cols_selected_tree_full].copy()"
   ]
  },
  {
   "cell_type": "code",
   "execution_count": 19,
   "metadata": {
    "ExecuteTime": {
     "end_time": "2021-02-25T22:17:26.635277Z",
     "start_time": "2021-02-25T22:17:26.591148Z"
    },
    "hidden": true
   },
   "outputs": [],
   "source": [
    "# vehicle_damage - LabelEncoder\n",
    "df9['vehicle_damage'] = damage_encoder.transform(df9['vehicle_damage'])\n",
    "\n",
    "# age - MinMaxScaler\n",
    "df9['age'] = mms_age.transform(df9[['age']].values)\n",
    "\n",
    "# policy_sales_channel - frequency encoding\n",
    "df9['policy_sales_channel'] = df9['policy_sales_channel'].map(channel_freq)\n",
    "\n",
    "# region_code - frequency encoding\n",
    "df9['region_code'] = df9['region_code'].map(region_freq)\n",
    "\n",
    "# annual_premium - StandardScaler\n",
    "df9['annual_premium'] = ss_premium.transform(df9[['annual_premium']].values)\n",
    "\n",
    "# vintage - MinMaxScaler\n",
    "df9['vintage'] = mms_vintage.transform(df9[['vintage']].values)"
   ]
  },
  {
   "cell_type": "code",
   "execution_count": 20,
   "metadata": {
    "ExecuteTime": {
     "end_time": "2021-02-25T22:17:26.641656Z",
     "start_time": "2021-02-25T22:17:26.636983Z"
    },
    "hidden": true
   },
   "outputs": [],
   "source": [
    "df_validation = df_tree_validation.copy()"
   ]
  },
  {
   "cell_type": "markdown",
   "metadata": {
    "heading_collapsed": true
   },
   "source": [
    "# 9.0 Business Performance"
   ]
  },
  {
   "cell_type": "markdown",
   "metadata": {
    "heading_collapsed": true,
    "hidden": true
   },
   "source": [
    "## 9.1 Model Performance - metrics on validation"
   ]
  },
  {
   "cell_type": "code",
   "execution_count": 21,
   "metadata": {
    "ExecuteTime": {
     "end_time": "2021-02-25T22:17:27.156497Z",
     "start_time": "2021-02-25T22:17:26.644853Z"
    },
    "cell_style": "center",
    "hidden": true,
    "hide_input": false,
    "scrolled": true
   },
   "outputs": [
    {
     "data": {
      "text/html": [
       "<div>\n",
       "<style scoped>\n",
       "    .dataframe tbody tr th:only-of-type {\n",
       "        vertical-align: middle;\n",
       "    }\n",
       "\n",
       "    .dataframe tbody tr th {\n",
       "        vertical-align: top;\n",
       "    }\n",
       "\n",
       "    .dataframe thead th {\n",
       "        text-align: right;\n",
       "    }\n",
       "</style>\n",
       "<table border=\"1\" class=\"dataframe\">\n",
       "  <thead>\n",
       "    <tr style=\"text-align: right;\">\n",
       "      <th></th>\n",
       "      <th>ranking_metrics</th>\n",
       "    </tr>\n",
       "  </thead>\n",
       "  <tbody>\n",
       "    <tr>\n",
       "      <th>precision_at_20000</th>\n",
       "      <td>0.334133</td>\n",
       "    </tr>\n",
       "    <tr>\n",
       "      <th>recall_at_20000</th>\n",
       "      <td>0.715371</td>\n",
       "    </tr>\n",
       "  </tbody>\n",
       "</table>\n",
       "</div>"
      ],
      "text/plain": [
       "                    ranking_metrics\n",
       "precision_at_20000         0.334133\n",
       "recall_at_20000            0.715371"
      ]
     },
     "execution_count": 21,
     "metadata": {},
     "output_type": "execute_result"
    }
   ],
   "source": [
    "metrics = validation_metrics(xgb_validated, df_validation, 20000)\n",
    "metrics"
   ]
  },
  {
   "cell_type": "code",
   "execution_count": 22,
   "metadata": {
    "ExecuteTime": {
     "end_time": "2021-02-25T22:17:27.654052Z",
     "start_time": "2021-02-25T22:17:27.158725Z"
    },
    "cell_style": "center",
    "hidden": true,
    "hide_input": false,
    "scrolled": true
   },
   "outputs": [
    {
     "data": {
      "text/html": [
       "<div>\n",
       "<style scoped>\n",
       "    .dataframe tbody tr th:only-of-type {\n",
       "        vertical-align: middle;\n",
       "    }\n",
       "\n",
       "    .dataframe tbody tr th {\n",
       "        vertical-align: top;\n",
       "    }\n",
       "\n",
       "    .dataframe thead th {\n",
       "        text-align: right;\n",
       "    }\n",
       "</style>\n",
       "<table border=\"1\" class=\"dataframe\">\n",
       "  <thead>\n",
       "    <tr style=\"text-align: right;\">\n",
       "      <th></th>\n",
       "      <th>ranking_metrics</th>\n",
       "    </tr>\n",
       "  </thead>\n",
       "  <tbody>\n",
       "    <tr>\n",
       "      <th>precision_at_40000</th>\n",
       "      <td>0.232269</td>\n",
       "    </tr>\n",
       "    <tr>\n",
       "      <th>recall_at_40000</th>\n",
       "      <td>0.994541</td>\n",
       "    </tr>\n",
       "  </tbody>\n",
       "</table>\n",
       "</div>"
      ],
      "text/plain": [
       "                    ranking_metrics\n",
       "precision_at_40000         0.232269\n",
       "recall_at_40000            0.994541"
      ]
     },
     "execution_count": 22,
     "metadata": {},
     "output_type": "execute_result"
    }
   ],
   "source": [
    "metrics = validation_metrics(xgb_validated, df_validation, 40000)\n",
    "metrics"
   ]
  },
  {
   "cell_type": "code",
   "execution_count": 23,
   "metadata": {
    "ExecuteTime": {
     "end_time": "2021-02-25T22:17:28.045322Z",
     "start_time": "2021-02-25T22:17:27.657848Z"
    },
    "hidden": true,
    "hide_input": false
   },
   "outputs": [],
   "source": [
    "# separate X and Y data:\n",
    "xval = df_validation.drop(['id', 'response'], axis=1)\n",
    "yval = df_validation.response\n",
    "\n",
    "# predict_proba:\n",
    "yhat_proba = xgb_validated.predict_proba(xval)"
   ]
  },
  {
   "cell_type": "code",
   "execution_count": 24,
   "metadata": {
    "ExecuteTime": {
     "end_time": "2021-02-25T22:17:28.224737Z",
     "start_time": "2021-02-25T22:17:28.047091Z"
    },
    "cell_style": "center",
    "hidden": true,
    "hide_input": false,
    "scrolled": false
   },
   "outputs": [
    {
     "data": {
      "image/png": "[encoded data removed]",
      "text/plain": [
       "<Figure size 432x288 with 1 Axes>"
      ]
     },
     "metadata": {
      "needs_background": "light"
     },
     "output_type": "display_data"
    }
   ],
   "source": [
    "skplt.metrics.plot_cumulative_gain(yval, yhat_proba);"
   ]
  },
  {
   "cell_type": "code",
   "execution_count": 25,
   "metadata": {
    "ExecuteTime": {
     "end_time": "2021-02-25T22:17:28.406637Z",
     "start_time": "2021-02-25T22:17:28.226398Z"
    },
    "cell_style": "center",
    "hidden": true,
    "hide_input": false,
    "scrolled": true
   },
   "outputs": [
    {
     "data": {
      "image/png": "[encoded data removed]",
      "text/plain": [
       "<Figure size 432x288 with 1 Axes>"
      ]
     },
     "metadata": {
      "needs_background": "light"
     },
     "output_type": "display_data"
    }
   ],
   "source": [
    "skplt.metrics.plot_lift_curve(yval, yhat_proba);"
   ]
  },
  {
   "cell_type": "code",
   "execution_count": 26,
   "metadata": {
    "ExecuteTime": {
     "end_time": "2021-02-25T22:17:28.628965Z",
     "start_time": "2021-02-25T22:17:28.408666Z"
    },
    "cell_style": "center",
    "hidden": true,
    "hide_input": false,
    "scrolled": false
   },
   "outputs": [
    {
     "data": {
      "image/png": "[encoded data removed]",
      "text/plain": [
       "<Figure size 432x288 with 1 Axes>"
      ]
     },
     "metadata": {
      "needs_background": "light"
     },
     "output_type": "display_data"
    }
   ],
   "source": [
    "skplt.metrics.plot_roc(yval, yhat_proba);"
   ]
  },
  {
   "cell_type": "markdown",
   "metadata": {
    "heading_collapsed": true,
    "hidden": true
   },
   "source": [
    "### 9.1.1 80% of potentially interested"
   ]
  },
  {
   "cell_type": "code",
   "execution_count": 27,
   "metadata": {
    "ExecuteTime": {
     "end_time": "2021-02-25T22:17:29.082514Z",
     "start_time": "2021-02-25T22:17:28.630744Z"
    },
    "cell_style": "center",
    "hidden": true,
    "hide_input": false,
    "scrolled": true
   },
   "outputs": [
    {
     "data": {
      "text/html": [
       "<div>\n",
       "<style scoped>\n",
       "    .dataframe tbody tr th:only-of-type {\n",
       "        vertical-align: middle;\n",
       "    }\n",
       "\n",
       "    .dataframe tbody tr th {\n",
       "        vertical-align: top;\n",
       "    }\n",
       "\n",
       "    .dataframe thead th {\n",
       "        text-align: right;\n",
       "    }\n",
       "</style>\n",
       "<table border=\"1\" class=\"dataframe\">\n",
       "  <thead>\n",
       "    <tr style=\"text-align: right;\">\n",
       "      <th></th>\n",
       "      <th>ranking_metrics</th>\n",
       "    </tr>\n",
       "  </thead>\n",
       "  <tbody>\n",
       "    <tr>\n",
       "      <th>precision_at_24000</th>\n",
       "      <td>0.313529</td>\n",
       "    </tr>\n",
       "    <tr>\n",
       "      <th>recall_at_24000</th>\n",
       "      <td>0.805502</td>\n",
       "    </tr>\n",
       "  </tbody>\n",
       "</table>\n",
       "</div>"
      ],
      "text/plain": [
       "                    ranking_metrics\n",
       "precision_at_24000         0.313529\n",
       "recall_at_24000            0.805502"
      ]
     },
     "execution_count": 27,
     "metadata": {},
     "output_type": "execute_result"
    }
   ],
   "source": [
    "metrics = validation_metrics(xgb_validated, df_validation, 24000)\n",
    "metrics"
   ]
  },
  {
   "cell_type": "markdown",
   "metadata": {
    "heading_collapsed": true,
    "hidden": true
   },
   "source": [
    "## 9.2 Business performance"
   ]
  },
  {
   "cell_type": "code",
   "execution_count": 28,
   "metadata": {
    "ExecuteTime": {
     "end_time": "2021-02-25T22:17:29.742943Z",
     "start_time": "2021-02-25T22:17:29.084185Z"
    },
    "hidden": true
   },
   "outputs": [],
   "source": [
    "df9_predictions = model_predict(xgb_validated, df9)"
   ]
  },
  {
   "cell_type": "code",
   "execution_count": 29,
   "metadata": {
    "ExecuteTime": {
     "end_time": "2021-02-25T22:17:29.761369Z",
     "start_time": "2021-02-25T22:17:29.744349Z"
    },
    "hidden": true
   },
   "outputs": [
    {
     "data": {
      "text/html": [
       "<div>\n",
       "<style scoped>\n",
       "    .dataframe tbody tr th:only-of-type {\n",
       "        vertical-align: middle;\n",
       "    }\n",
       "\n",
       "    .dataframe tbody tr th {\n",
       "        vertical-align: top;\n",
       "    }\n",
       "\n",
       "    .dataframe thead th {\n",
       "        text-align: right;\n",
       "    }\n",
       "</style>\n",
       "<table border=\"1\" class=\"dataframe\">\n",
       "  <thead>\n",
       "    <tr style=\"text-align: right;\">\n",
       "      <th></th>\n",
       "      <th>vintage</th>\n",
       "      <th>annual_premium</th>\n",
       "      <th>age</th>\n",
       "      <th>region_code</th>\n",
       "      <th>vehicle_damage</th>\n",
       "      <th>policy_sales_channel</th>\n",
       "      <th>previously_insured</th>\n",
       "      <th>id</th>\n",
       "      <th>score</th>\n",
       "    </tr>\n",
       "  </thead>\n",
       "  <tbody>\n",
       "    <tr>\n",
       "      <th>0</th>\n",
       "      <td>0.166090</td>\n",
       "      <td>-0.603638</td>\n",
       "      <td>0.200000</td>\n",
       "      <td>0.047896</td>\n",
       "      <td>1</td>\n",
       "      <td>0.003234</td>\n",
       "      <td>0</td>\n",
       "      <td>474441</td>\n",
       "      <td>0.613559</td>\n",
       "    </tr>\n",
       "    <tr>\n",
       "      <th>1</th>\n",
       "      <td>0.252595</td>\n",
       "      <td>-0.590768</td>\n",
       "      <td>0.200000</td>\n",
       "      <td>0.024025</td>\n",
       "      <td>1</td>\n",
       "      <td>0.208953</td>\n",
       "      <td>0</td>\n",
       "      <td>410705</td>\n",
       "      <td>0.587261</td>\n",
       "    </tr>\n",
       "    <tr>\n",
       "      <th>2</th>\n",
       "      <td>0.169550</td>\n",
       "      <td>-0.359400</td>\n",
       "      <td>0.169231</td>\n",
       "      <td>0.052026</td>\n",
       "      <td>1</td>\n",
       "      <td>0.003234</td>\n",
       "      <td>0</td>\n",
       "      <td>428148</td>\n",
       "      <td>0.584045</td>\n",
       "    </tr>\n",
       "    <tr>\n",
       "      <th>3</th>\n",
       "      <td>0.965398</td>\n",
       "      <td>0.527347</td>\n",
       "      <td>0.200000</td>\n",
       "      <td>0.024025</td>\n",
       "      <td>1</td>\n",
       "      <td>0.007514</td>\n",
       "      <td>0</td>\n",
       "      <td>470610</td>\n",
       "      <td>0.582413</td>\n",
       "    </tr>\n",
       "    <tr>\n",
       "      <th>4</th>\n",
       "      <td>0.782007</td>\n",
       "      <td>-0.128727</td>\n",
       "      <td>0.215385</td>\n",
       "      <td>0.047896</td>\n",
       "      <td>1</td>\n",
       "      <td>0.007514</td>\n",
       "      <td>0</td>\n",
       "      <td>412618</td>\n",
       "      <td>0.578668</td>\n",
       "    </tr>\n",
       "    <tr>\n",
       "      <th>...</th>\n",
       "      <td>...</td>\n",
       "      <td>...</td>\n",
       "      <td>...</td>\n",
       "      <td>...</td>\n",
       "      <td>...</td>\n",
       "      <td>...</td>\n",
       "      <td>...</td>\n",
       "      <td>...</td>\n",
       "      <td>...</td>\n",
       "    </tr>\n",
       "    <tr>\n",
       "      <th>127032</th>\n",
       "      <td>0.737024</td>\n",
       "      <td>0.260906</td>\n",
       "      <td>0.876923</td>\n",
       "      <td>0.089377</td>\n",
       "      <td>0</td>\n",
       "      <td>0.353259</td>\n",
       "      <td>1</td>\n",
       "      <td>394468</td>\n",
       "      <td>0.000146</td>\n",
       "    </tr>\n",
       "    <tr>\n",
       "      <th>127033</th>\n",
       "      <td>0.290657</td>\n",
       "      <td>6.039663</td>\n",
       "      <td>0.000000</td>\n",
       "      <td>0.089377</td>\n",
       "      <td>0</td>\n",
       "      <td>0.057415</td>\n",
       "      <td>1</td>\n",
       "      <td>499485</td>\n",
       "      <td>0.000143</td>\n",
       "    </tr>\n",
       "    <tr>\n",
       "      <th>127034</th>\n",
       "      <td>0.290657</td>\n",
       "      <td>2.427686</td>\n",
       "      <td>0.015385</td>\n",
       "      <td>0.089377</td>\n",
       "      <td>0</td>\n",
       "      <td>0.057415</td>\n",
       "      <td>1</td>\n",
       "      <td>442653</td>\n",
       "      <td>0.000141</td>\n",
       "    </tr>\n",
       "    <tr>\n",
       "      <th>127035</th>\n",
       "      <td>0.380623</td>\n",
       "      <td>3.029557</td>\n",
       "      <td>0.000000</td>\n",
       "      <td>0.089377</td>\n",
       "      <td>0</td>\n",
       "      <td>0.057415</td>\n",
       "      <td>1</td>\n",
       "      <td>386058</td>\n",
       "      <td>0.000136</td>\n",
       "    </tr>\n",
       "    <tr>\n",
       "      <th>127036</th>\n",
       "      <td>0.242215</td>\n",
       "      <td>2.774246</td>\n",
       "      <td>0.000000</td>\n",
       "      <td>0.089377</td>\n",
       "      <td>0</td>\n",
       "      <td>0.057415</td>\n",
       "      <td>1</td>\n",
       "      <td>463733</td>\n",
       "      <td>0.000118</td>\n",
       "    </tr>\n",
       "  </tbody>\n",
       "</table>\n",
       "<p>127037 rows × 9 columns</p>\n",
       "</div>"
      ],
      "text/plain": [
       "         vintage  annual_premium       age  region_code  vehicle_damage  \\\n",
       "0       0.166090       -0.603638  0.200000     0.047896               1   \n",
       "1       0.252595       -0.590768  0.200000     0.024025               1   \n",
       "2       0.169550       -0.359400  0.169231     0.052026               1   \n",
       "3       0.965398        0.527347  0.200000     0.024025               1   \n",
       "4       0.782007       -0.128727  0.215385     0.047896               1   \n",
       "...          ...             ...       ...          ...             ...   \n",
       "127032  0.737024        0.260906  0.876923     0.089377               0   \n",
       "127033  0.290657        6.039663  0.000000     0.089377               0   \n",
       "127034  0.290657        2.427686  0.015385     0.089377               0   \n",
       "127035  0.380623        3.029557  0.000000     0.089377               0   \n",
       "127036  0.242215        2.774246  0.000000     0.089377               0   \n",
       "\n",
       "        policy_sales_channel  previously_insured      id     score  \n",
       "0                   0.003234                   0  474441  0.613559  \n",
       "1                   0.208953                   0  410705  0.587261  \n",
       "2                   0.003234                   0  428148  0.584045  \n",
       "3                   0.007514                   0  470610  0.582413  \n",
       "4                   0.007514                   0  412618  0.578668  \n",
       "...                      ...                 ...     ...       ...  \n",
       "127032              0.353259                   1  394468  0.000146  \n",
       "127033              0.057415                   1  499485  0.000143  \n",
       "127034              0.057415                   1  442653  0.000141  \n",
       "127035              0.057415                   1  386058  0.000136  \n",
       "127036              0.057415                   1  463733  0.000118  \n",
       "\n",
       "[127037 rows x 9 columns]"
      ]
     },
     "execution_count": 29,
     "metadata": {},
     "output_type": "execute_result"
    }
   ],
   "source": [
    "df9_predictions"
   ]
  },
  {
   "cell_type": "code",
   "execution_count": 30,
   "metadata": {
    "ExecuteTime": {
     "end_time": "2021-02-25T22:17:29.776838Z",
     "start_time": "2021-02-25T22:17:29.762843Z"
    },
    "hidden": true
   },
   "outputs": [],
   "source": [
    "df9_predictions.to_pickle(home_path + '/interim/predictions_tree.pkl')"
   ]
  }
 ],
 "metadata": {
  "kernelspec": {
   "display_name": "Python 3",
   "language": "python",
   "name": "python3"
  },
  "language_info": {
   "codemirror_mode": {
    "name": "ipython",
    "version": 3
   },
   "file_extension": ".py",
   "mimetype": "text/x-python",
   "name": "python",
   "nbconvert_exporter": "python",
   "pygments_lexer": "ipython3",
   "version": "3.8.5"
  }
 },
 "nbformat": 4,
 "nbformat_minor": 4
}
