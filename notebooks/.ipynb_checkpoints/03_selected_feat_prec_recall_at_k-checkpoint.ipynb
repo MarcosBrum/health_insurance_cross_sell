{
 "cells": [
  {
   "cell_type": "markdown",
   "metadata": {
    "heading_collapsed": true
   },
   "source": [
    "# 0.0 Imports"
   ]
  },
  {
   "cell_type": "code",
   "execution_count": 1,
   "metadata": {
    "ExecuteTime": {
     "end_time": "2021-02-22T23:00:02.761069Z",
     "start_time": "2021-02-22T23:00:02.007743Z"
    },
    "hidden": true
   },
   "outputs": [],
   "source": [
    "import pandas as pd\n",
    "import numpy as np\n",
    "import pickle\n",
    "import random\n",
    "\n",
    "import matplotlib.pyplot as plt\n",
    "import seaborn as sns\n",
    "\n",
    "from sklearn.linear_model import LogisticRegression as LogReg\n",
    "from sklearn.ensemble import RandomForestClassifier as RF\n",
    "from sklearn import neighbors as nh\n",
    "import scikitplot as skplt\n",
    "#from sklearn.metrics import top_k_accuracy_score, accuracy_score\n",
    "from sklearn.model_selection import StratifiedShuffleSplit as sss\n",
    "\n",
    "import xgboost as xgb"
   ]
  },
  {
   "cell_type": "markdown",
   "metadata": {
    "heading_collapsed": true,
    "hidden": true
   },
   "source": [
    "## 0.1 Load data"
   ]
  },
  {
   "cell_type": "code",
   "execution_count": 2,
   "metadata": {
    "ExecuteTime": {
     "end_time": "2021-02-22T23:00:02.764187Z",
     "start_time": "2021-02-22T23:00:02.762235Z"
    },
    "hidden": true
   },
   "outputs": [],
   "source": [
    "home_path = \"/home/marcos/Documentos/comunidade_DS/pa004_health_insurance_cross_sell/\""
   ]
  },
  {
   "cell_type": "code",
   "execution_count": 3,
   "metadata": {
    "ExecuteTime": {
     "end_time": "2021-02-22T23:00:02.794903Z",
     "start_time": "2021-02-22T23:00:02.766339Z"
    },
    "hidden": true
   },
   "outputs": [],
   "source": [
    "df_train_res = pd.read_pickle(home_path + \"interim/df_train_res_nn.pkl\")\n",
    "\n",
    "df_val = pd.read_pickle(home_path + \"interim/df_val.pkl\")\n",
    "\n",
    "cols_selected_boruta_resampled = pickle.load(open(home_path + \"interim/cols_selected_boruta_resampled_nn.pkl\", \"rb\"))"
   ]
  },
  {
   "cell_type": "code",
   "execution_count": 4,
   "metadata": {
    "ExecuteTime": {
     "end_time": "2021-02-22T23:00:02.800439Z",
     "start_time": "2021-02-22T23:00:02.796604Z"
    },
    "hidden": true
   },
   "outputs": [
    {
     "data": {
      "text/plain": [
       "['age',\n",
       " 'policy_sales_channel',\n",
       " 'vehicle_age',\n",
       " 'previously_insured',\n",
       " 'annual_premium',\n",
       " 'vintage',\n",
       " 'gender_Male']"
      ]
     },
     "execution_count": 4,
     "metadata": {},
     "output_type": "execute_result"
    }
   ],
   "source": [
    "cols_selected_boruta_resampled"
   ]
  },
  {
   "cell_type": "code",
   "execution_count": 5,
   "metadata": {
    "ExecuteTime": {
     "end_time": "2021-02-22T23:00:02.804847Z",
     "start_time": "2021-02-22T23:00:02.801523Z"
    },
    "hidden": true
   },
   "outputs": [],
   "source": [
    "resp = ['id', 'gender_Female', 'response']\n",
    "cols_selected_boruta_resampled_full = cols_selected_boruta_resampled.copy()\n",
    "cols_selected_boruta_resampled_full.extend(resp)"
   ]
  },
  {
   "cell_type": "markdown",
   "metadata": {
    "heading_collapsed": true,
    "hidden": true
   },
   "source": [
    "## 0.2 Separate train and validation data"
   ]
  },
  {
   "cell_type": "code",
   "execution_count": 6,
   "metadata": {
    "ExecuteTime": {
     "end_time": "2021-02-22T23:00:02.834702Z",
     "start_time": "2021-02-22T23:00:02.805936Z"
    },
    "hidden": true
   },
   "outputs": [],
   "source": [
    "df7 = df_train_res[cols_selected_boruta_resampled_full].copy()"
   ]
  },
  {
   "cell_type": "code",
   "execution_count": 7,
   "metadata": {
    "ExecuteTime": {
     "end_time": "2021-02-22T23:00:02.844221Z",
     "start_time": "2021-02-22T23:00:02.835904Z"
    },
    "hidden": true
   },
   "outputs": [],
   "source": [
    "X_train_res = df7.drop(['response'], axis=1)\n",
    "y_train_res = df7.response"
   ]
  },
  {
   "cell_type": "code",
   "execution_count": 8,
   "metadata": {
    "ExecuteTime": {
     "end_time": "2021-02-22T23:00:02.855165Z",
     "start_time": "2021-02-22T23:00:02.846687Z"
    },
    "hidden": true
   },
   "outputs": [],
   "source": [
    "df7_validation = df_val[cols_selected_boruta_resampled_full].copy()"
   ]
  },
  {
   "cell_type": "code",
   "execution_count": 9,
   "metadata": {
    "ExecuteTime": {
     "end_time": "2021-02-22T23:00:02.859682Z",
     "start_time": "2021-02-22T23:00:02.856652Z"
    },
    "hidden": true
   },
   "outputs": [],
   "source": [
    "X_validation = df7_validation.drop(['response'], axis=1)\n",
    "y_validation = df7_validation.response"
   ]
  },
  {
   "cell_type": "code",
   "execution_count": 10,
   "metadata": {
    "ExecuteTime": {
     "end_time": "2021-02-22T23:00:02.871485Z",
     "start_time": "2021-02-22T23:00:02.860693Z"
    },
    "hidden": true
   },
   "outputs": [
    {
     "data": {
      "text/plain": [
       "age                     0\n",
       "policy_sales_channel    0\n",
       "vehicle_age             0\n",
       "previously_insured      0\n",
       "annual_premium          0\n",
       "vintage                 0\n",
       "gender_Male             0\n",
       "id                      0\n",
       "gender_Female           0\n",
       "response                0\n",
       "dtype: int64"
      ]
     },
     "execution_count": 10,
     "metadata": {},
     "output_type": "execute_result"
    }
   ],
   "source": [
    "df7.isna().sum()"
   ]
  },
  {
   "cell_type": "code",
   "execution_count": 11,
   "metadata": {
    "ExecuteTime": {
     "end_time": "2021-02-22T23:00:02.876783Z",
     "start_time": "2021-02-22T23:00:02.872546Z"
    },
    "hidden": true
   },
   "outputs": [
    {
     "data": {
      "text/plain": [
       "age                     0\n",
       "policy_sales_channel    0\n",
       "vehicle_age             0\n",
       "previously_insured      0\n",
       "annual_premium          0\n",
       "vintage                 0\n",
       "gender_Male             0\n",
       "id                      0\n",
       "gender_Female           0\n",
       "response                0\n",
       "dtype: int64"
      ]
     },
     "execution_count": 11,
     "metadata": {},
     "output_type": "execute_result"
    }
   ],
   "source": [
    "df7_validation.isna().sum()"
   ]
  },
  {
   "cell_type": "markdown",
   "metadata": {
    "heading_collapsed": true,
    "hidden": true
   },
   "source": [
    "## 0.3 Helper Functions"
   ]
  },
  {
   "cell_type": "code",
   "execution_count": 12,
   "metadata": {
    "ExecuteTime": {
     "end_time": "2021-02-22T23:00:02.886226Z",
     "start_time": "2021-02-22T23:00:02.878063Z"
    },
    "hidden": true
   },
   "outputs": [],
   "source": [
    "# precision_at_k\n",
    "def precision_at_k(data, k):\n",
    "    data = data.reset_index(drop=True)\n",
    "    data['n_samples'] = data.index + 1\n",
    "    data['precision_at_k'] = data['response'].cumsum() / data['n_samples']\n",
    "    return data.loc[k, 'precision_at_k']\n",
    "\n",
    "# recall_at_k\n",
    "def recall_at_k(data, k):\n",
    "    data = data.reset_index(drop=True)\n",
    "    data['recall_at_k'] = data['response'].cumsum() / data['response'].sum()\n",
    "    return data.loc[k, 'recall_at_k']\n",
    "\n",
    "# model predict\n",
    "def model_evaluate(model, model_name, data_train, data_val, k):\n",
    "    # separate X and Y data:\n",
    "    xtrain = data_train.drop(['id', 'response'], axis=1)\n",
    "    ytrain = data_train.response\n",
    "    xval = data_val.drop(['id', 'response'], axis=1)\n",
    "    yval = data_val.response\n",
    "    \n",
    "    # fit and predict_proba:\n",
    "    model.fit(xtrain, ytrain)\n",
    "    yhat_proba = model.predict_proba(xval)\n",
    "    \n",
    "    # transform yhat_proba to 1D-array\n",
    "    yhat_proba_1d = yhat_proba[:, 1].tolist()\n",
    "    \n",
    "    # include in dataframe\n",
    "    validation_data = data_val.copy()\n",
    "    validation_data['score'] = yhat_proba_1d\n",
    "    # sort\n",
    "    validation_data = validation_data.sort_values('score', ascending=False)\n",
    "    \n",
    "    # plot\n",
    "    skplt.metrics.plot_cumulative_gain(yval, yhat_proba);\n",
    "    \n",
    "    return pd.DataFrame({'Model name':model_name,\n",
    "                         'precision_at_k':precision_at_k(validation_data, k),\n",
    "                         'recall_at_k':recall_at_k(validation_data, k)}, index=[0])\n",
    "\n",
    "# model fit\n",
    "def model_fit(model, data):\n",
    "    # separate X and Y data:\n",
    "    xtrain = data.drop(['id', 'response'], axis=1)\n",
    "    ytrain = data.response\n",
    "    \n",
    "    # fit\n",
    "    model_fitted = model.fit(xtrain, ytrain)\n",
    "    \n",
    "    return model_fitted\n",
    "\n",
    "\n",
    "\n",
    "def cross_validation(model, model_name, training_data, k_top, kfolds, verbose=False):\n",
    "    # X separate X and Y data:\n",
    "    xtraining = training_data.drop(['response'], axis=1)\n",
    "    ytraining = training_data.response\n",
    "    \n",
    "    # cross-validation:\n",
    "    cv = sss(n_splits=kfolds)\n",
    "    prec_k_list = []\n",
    "    rec_k_list = []\n",
    "    for train_index, prim_val_index in cv.split(xtraining, ytraining):\n",
    "        X_training, X_prim_val = xtraining.iloc[train_index], xtraining.iloc[prim_val_index]\n",
    "        y_training, y_prim_val = ytraining.iloc[train_index], ytraining.iloc[prim_val_index]\n",
    "        \n",
    "        # remove id from training, and create new validation without id\n",
    "        X_training = X_training.drop(['id'], axis=1)\n",
    "        X_prim_val_no_id = X_prim_val.drop(['id'], axis=1)\n",
    "        \n",
    "        # fit and predict_proba\n",
    "        model.fit(X_training, y_training)\n",
    "        yhat_proba = model.predict_proba(X_prim_val_no_id)\n",
    "        \n",
    "        # transform yhat_proba to 1D-array\n",
    "        yhat_proba_1d = yhat_proba[:, 1].tolist()\n",
    "        \n",
    "        # reconstruct dataframe\n",
    "        prim_val = pd.concat([X_prim_val, y_prim_val], axis=1)\n",
    "        prim_val['score'] = yhat_proba_1d\n",
    "        prim_val = prim_val.sort_values('score', ascending=False)\n",
    "        \n",
    "        # evaluate accuracy and store in list\n",
    "        prec_k_list.append(precision_at_k(prim_val, k_top))\n",
    "        rec_k_list.append(recall_at_k(prim_val, k_top))\n",
    "    \n",
    "    #evaluate mean and std\n",
    "    prec_k_pred = np.round(np.mean(prec_k_list), 4).astype(str) + '+/-' + np.round(np.std(prec_k_list), 4).astype(str)\n",
    "    rec_k_pred = np.round(np.mean(rec_k_list), 4).astype(str) + '+/-' + np.round(np.std(rec_k_list), 4).astype(str)\n",
    "    \n",
    "    return pd.DataFrame({'Model name':model_name,\n",
    "                         'precision_at_k':prec_k_pred,\n",
    "                         'recall_at_k':rec_k_pred}, index=[0])"
   ]
  },
  {
   "cell_type": "markdown",
   "metadata": {
    "heading_collapsed": true
   },
   "source": [
    "# 7.0 Machine Learning Model"
   ]
  },
  {
   "cell_type": "markdown",
   "metadata": {
    "heading_collapsed": true,
    "hidden": true
   },
   "source": [
    "## 7.1 Models"
   ]
  },
  {
   "cell_type": "markdown",
   "metadata": {
    "heading_collapsed": true,
    "hidden": true
   },
   "source": [
    "### 7.1.1 Logistic Classifier"
   ]
  },
  {
   "cell_type": "code",
   "execution_count": 13,
   "metadata": {
    "ExecuteTime": {
     "end_time": "2021-02-22T23:00:19.020672Z",
     "start_time": "2021-02-22T23:00:02.887283Z"
    },
    "hidden": true,
    "scrolled": false
   },
   "outputs": [
    {
     "name": "stderr",
     "output_type": "stream",
     "text": [
      "/home/marcos/.local/lib/python3.8/site-packages/sklearn/linear_model/_sag.py:328: ConvergenceWarning: The max_iter was reached which means the coef_ did not converge\n",
      "  warnings.warn(\"The max_iter was reached which means \"\n"
     ]
    },
    {
     "data": {
      "text/html": [
       "<div>\n",
       "<style scoped>\n",
       "    .dataframe tbody tr th:only-of-type {\n",
       "        vertical-align: middle;\n",
       "    }\n",
       "\n",
       "    .dataframe tbody tr th {\n",
       "        vertical-align: top;\n",
       "    }\n",
       "\n",
       "    .dataframe thead th {\n",
       "        text-align: right;\n",
       "    }\n",
       "</style>\n",
       "<table border=\"1\" class=\"dataframe\">\n",
       "  <thead>\n",
       "    <tr style=\"text-align: right;\">\n",
       "      <th></th>\n",
       "      <th>Model name</th>\n",
       "      <th>precision_at_k</th>\n",
       "      <th>recall_at_k</th>\n",
       "    </tr>\n",
       "  </thead>\n",
       "  <tbody>\n",
       "    <tr>\n",
       "      <th>0</th>\n",
       "      <td>Logistic Regression Classifier</td>\n",
       "      <td>0.264387</td>\n",
       "      <td>0.566046</td>\n",
       "    </tr>\n",
       "  </tbody>\n",
       "</table>\n",
       "</div>"
      ],
      "text/plain": [
       "                       Model name  precision_at_k  recall_at_k\n",
       "0  Logistic Regression Classifier        0.264387     0.566046"
      ]
     },
     "execution_count": 13,
     "metadata": {},
     "output_type": "execute_result"
    },
    {
     "data": {
      "image/png": "[encoded data removed]",
      "text/plain": [
       "<Figure size 432x288 with 1 Axes>"
      ]
     },
     "metadata": {
      "needs_background": "light"
     },
     "output_type": "display_data"
    }
   ],
   "source": [
    "model_logreg = LogReg(random_state=30, solver='saga', n_jobs=-1)\n",
    "\n",
    "logreg_ranking = model_evaluate(model_logreg, \"Logistic Regression Classifier\", df7, df7_validation, 20000)\n",
    "\n",
    "logreg_ranking"
   ]
  },
  {
   "cell_type": "markdown",
   "metadata": {
    "heading_collapsed": true,
    "hidden": true
   },
   "source": [
    "### 7.1.2 KNN"
   ]
  },
  {
   "cell_type": "code",
   "execution_count": 14,
   "metadata": {
    "ExecuteTime": {
     "end_time": "2021-02-22T23:01:18.476531Z",
     "start_time": "2021-02-22T23:00:19.021788Z"
    },
    "hidden": true
   },
   "outputs": [
    {
     "data": {
      "text/html": [
       "<div>\n",
       "<style scoped>\n",
       "    .dataframe tbody tr th:only-of-type {\n",
       "        vertical-align: middle;\n",
       "    }\n",
       "\n",
       "    .dataframe tbody tr th {\n",
       "        vertical-align: top;\n",
       "    }\n",
       "\n",
       "    .dataframe thead th {\n",
       "        text-align: right;\n",
       "    }\n",
       "</style>\n",
       "<table border=\"1\" class=\"dataframe\">\n",
       "  <thead>\n",
       "    <tr style=\"text-align: right;\">\n",
       "      <th></th>\n",
       "      <th>Model name</th>\n",
       "      <th>precision_at_k</th>\n",
       "      <th>recall_at_k</th>\n",
       "    </tr>\n",
       "  </thead>\n",
       "  <tbody>\n",
       "    <tr>\n",
       "      <th>0</th>\n",
       "      <td>Nearest Neighbors Classifier</td>\n",
       "      <td>0.291985</td>\n",
       "      <td>0.625134</td>\n",
       "    </tr>\n",
       "  </tbody>\n",
       "</table>\n",
       "</div>"
      ],
      "text/plain": [
       "                     Model name  precision_at_k  recall_at_k\n",
       "0  Nearest Neighbors Classifier        0.291985     0.625134"
      ]
     },
     "execution_count": 14,
     "metadata": {},
     "output_type": "execute_result"
    },
    {
     "data": {
      "image/png": "[encoded data removed]",
      "text/plain": [
       "<Figure size 432x288 with 1 Axes>"
      ]
     },
     "metadata": {
      "needs_background": "light"
     },
     "output_type": "display_data"
    }
   ],
   "source": [
    "model_knn = nh.KNeighborsClassifier(n_neighbors=20)\n",
    "\n",
    "knn_ranking = model_evaluate(model_knn, \"Nearest Neighbors Classifier\", df7, df7_validation, 20000)\n",
    "\n",
    "knn_ranking"
   ]
  },
  {
   "cell_type": "markdown",
   "metadata": {
    "heading_collapsed": true,
    "hidden": true
   },
   "source": [
    "### 7.1.3 Random Forest Classifier"
   ]
  },
  {
   "cell_type": "code",
   "execution_count": 15,
   "metadata": {
    "ExecuteTime": {
     "end_time": "2021-02-22T23:02:16.869873Z",
     "start_time": "2021-02-22T23:01:18.477781Z"
    },
    "hidden": true,
    "scrolled": true
   },
   "outputs": [
    {
     "data": {
      "text/html": [
       "<div>\n",
       "<style scoped>\n",
       "    .dataframe tbody tr th:only-of-type {\n",
       "        vertical-align: middle;\n",
       "    }\n",
       "\n",
       "    .dataframe tbody tr th {\n",
       "        vertical-align: top;\n",
       "    }\n",
       "\n",
       "    .dataframe thead th {\n",
       "        text-align: right;\n",
       "    }\n",
       "</style>\n",
       "<table border=\"1\" class=\"dataframe\">\n",
       "  <thead>\n",
       "    <tr style=\"text-align: right;\">\n",
       "      <th></th>\n",
       "      <th>Model name</th>\n",
       "      <th>precision_at_k</th>\n",
       "      <th>recall_at_k</th>\n",
       "    </tr>\n",
       "  </thead>\n",
       "  <tbody>\n",
       "    <tr>\n",
       "      <th>0</th>\n",
       "      <td>Random Forest Classifier</td>\n",
       "      <td>0.298935</td>\n",
       "      <td>0.640013</td>\n",
       "    </tr>\n",
       "  </tbody>\n",
       "</table>\n",
       "</div>"
      ],
      "text/plain": [
       "                 Model name  precision_at_k  recall_at_k\n",
       "0  Random Forest Classifier        0.298935     0.640013"
      ]
     },
     "execution_count": 15,
     "metadata": {},
     "output_type": "execute_result"
    },
    {
     "data": {
      "image/png": "[encoded data removed]",
      "text/plain": [
       "<Figure size 432x288 with 1 Axes>"
      ]
     },
     "metadata": {
      "needs_background": "light"
     },
     "output_type": "display_data"
    }
   ],
   "source": [
    "model_rf = RF(n_estimators=500, max_depth=10, random_state=30, n_jobs=-1)\n",
    "\n",
    "rf_ranking = model_evaluate(model_rf, \"Random Forest Classifier\", df7, df7_validation, 20000)\n",
    "\n",
    "rf_ranking"
   ]
  },
  {
   "cell_type": "markdown",
   "metadata": {
    "heading_collapsed": true,
    "hidden": true
   },
   "source": [
    "### 7.1.4 XGBoost Classifier"
   ]
  },
  {
   "cell_type": "code",
   "execution_count": 16,
   "metadata": {
    "ExecuteTime": {
     "end_time": "2021-02-22T23:02:32.336116Z",
     "start_time": "2021-02-22T23:02:16.870887Z"
    },
    "hidden": true
   },
   "outputs": [
    {
     "data": {
      "text/html": [
       "<div>\n",
       "<style scoped>\n",
       "    .dataframe tbody tr th:only-of-type {\n",
       "        vertical-align: middle;\n",
       "    }\n",
       "\n",
       "    .dataframe tbody tr th {\n",
       "        vertical-align: top;\n",
       "    }\n",
       "\n",
       "    .dataframe thead th {\n",
       "        text-align: right;\n",
       "    }\n",
       "</style>\n",
       "<table border=\"1\" class=\"dataframe\">\n",
       "  <thead>\n",
       "    <tr style=\"text-align: right;\">\n",
       "      <th></th>\n",
       "      <th>Model name</th>\n",
       "      <th>precision_at_k</th>\n",
       "      <th>recall_at_k</th>\n",
       "    </tr>\n",
       "  </thead>\n",
       "  <tbody>\n",
       "    <tr>\n",
       "      <th>0</th>\n",
       "      <td>XGBoost Classifier</td>\n",
       "      <td>0.305085</td>\n",
       "      <td>0.653179</td>\n",
       "    </tr>\n",
       "  </tbody>\n",
       "</table>\n",
       "</div>"
      ],
      "text/plain": [
       "           Model name  precision_at_k  recall_at_k\n",
       "0  XGBoost Classifier        0.305085     0.653179"
      ]
     },
     "execution_count": 16,
     "metadata": {},
     "output_type": "execute_result"
    },
    {
     "data": {
      "image/png": "[encoded data removed]",
      "text/plain": [
       "<Figure size 432x288 with 1 Axes>"
      ]
     },
     "metadata": {
      "needs_background": "light"
     },
     "output_type": "display_data"
    }
   ],
   "source": [
    "model_xgb = xgb.XGBClassifier(objective='binary:logistic',\n",
    "                              use_label_encoder=False,\n",
    "                              n_estimators=100,\n",
    "                              eta=0.01,\n",
    "                              max_depth=10,\n",
    "                              n_jobs=-1,\n",
    "                              subsample=0.7,\n",
    "                              colsample_bytree=0.9,\n",
    "                              verbosity=0)\n",
    "\n",
    "xgb_ranking = model_evaluate(model_xgb, \"XGBoost Classifier\", df7, df7_validation, 20000)\n",
    "\n",
    "xgb_ranking"
   ]
  },
  {
   "cell_type": "markdown",
   "metadata": {
    "heading_collapsed": true,
    "hidden": true
   },
   "source": [
    "## 7.2 Cross-validation"
   ]
  },
  {
   "cell_type": "markdown",
   "metadata": {
    "heading_collapsed": true,
    "hidden": true
   },
   "source": [
    "### 7.2.1 Logistic Regression"
   ]
  },
  {
   "cell_type": "code",
   "execution_count": 17,
   "metadata": {
    "ExecuteTime": {
     "end_time": "2021-02-22T23:03:43.034293Z",
     "start_time": "2021-02-22T23:02:32.337287Z"
    },
    "hidden": true
   },
   "outputs": [
    {
     "name": "stderr",
     "output_type": "stream",
     "text": [
      "/home/marcos/.local/lib/python3.8/site-packages/sklearn/linear_model/_sag.py:328: ConvergenceWarning: The max_iter was reached which means the coef_ did not converge\n",
      "  warnings.warn(\"The max_iter was reached which means \"\n",
      "/home/marcos/.local/lib/python3.8/site-packages/sklearn/linear_model/_sag.py:328: ConvergenceWarning: The max_iter was reached which means the coef_ did not converge\n",
      "  warnings.warn(\"The max_iter was reached which means \"\n",
      "/home/marcos/.local/lib/python3.8/site-packages/sklearn/linear_model/_sag.py:328: ConvergenceWarning: The max_iter was reached which means the coef_ did not converge\n",
      "  warnings.warn(\"The max_iter was reached which means \"\n",
      "/home/marcos/.local/lib/python3.8/site-packages/sklearn/linear_model/_sag.py:328: ConvergenceWarning: The max_iter was reached which means the coef_ did not converge\n",
      "  warnings.warn(\"The max_iter was reached which means \"\n",
      "/home/marcos/.local/lib/python3.8/site-packages/sklearn/linear_model/_sag.py:328: ConvergenceWarning: The max_iter was reached which means the coef_ did not converge\n",
      "  warnings.warn(\"The max_iter was reached which means \"\n"
     ]
    },
    {
     "data": {
      "text/html": [
       "<div>\n",
       "<style scoped>\n",
       "    .dataframe tbody tr th:only-of-type {\n",
       "        vertical-align: middle;\n",
       "    }\n",
       "\n",
       "    .dataframe tbody tr th {\n",
       "        vertical-align: top;\n",
       "    }\n",
       "\n",
       "    .dataframe thead th {\n",
       "        text-align: right;\n",
       "    }\n",
       "</style>\n",
       "<table border=\"1\" class=\"dataframe\">\n",
       "  <thead>\n",
       "    <tr style=\"text-align: right;\">\n",
       "      <th></th>\n",
       "      <th>Model name</th>\n",
       "      <th>precision_at_k</th>\n",
       "      <th>recall_at_k</th>\n",
       "    </tr>\n",
       "  </thead>\n",
       "  <tbody>\n",
       "    <tr>\n",
       "      <th>0</th>\n",
       "      <td>Logistic Regression Classifier</td>\n",
       "      <td>0.8234+/-0.0022</td>\n",
       "      <td>0.6852+/-0.0018</td>\n",
       "    </tr>\n",
       "  </tbody>\n",
       "</table>\n",
       "</div>"
      ],
      "text/plain": [
       "                       Model name   precision_at_k      recall_at_k\n",
       "0  Logistic Regression Classifier  0.8234+/-0.0022  0.6852+/-0.0018"
      ]
     },
     "execution_count": 17,
     "metadata": {},
     "output_type": "execute_result"
    }
   ],
   "source": [
    "model_logreg = LogReg(random_state=30, solver='saga', n_jobs=-1)\n",
    "\n",
    "logreg_cv_metrics = cross_validation(model_logreg, \"Logistic Regression Classifier\", df7, 20000, 5)\n",
    "\n",
    "logreg_cv_metrics"
   ]
  },
  {
   "cell_type": "markdown",
   "metadata": {
    "heading_collapsed": true,
    "hidden": true
   },
   "source": [
    "### 7.2.2 KNN"
   ]
  },
  {
   "cell_type": "code",
   "execution_count": 18,
   "metadata": {
    "ExecuteTime": {
     "end_time": "2021-02-22T23:07:09.484266Z",
     "start_time": "2021-02-22T23:03:43.036118Z"
    },
    "hidden": true
   },
   "outputs": [
    {
     "data": {
      "text/html": [
       "<div>\n",
       "<style scoped>\n",
       "    .dataframe tbody tr th:only-of-type {\n",
       "        vertical-align: middle;\n",
       "    }\n",
       "\n",
       "    .dataframe tbody tr th {\n",
       "        vertical-align: top;\n",
       "    }\n",
       "\n",
       "    .dataframe thead th {\n",
       "        text-align: right;\n",
       "    }\n",
       "</style>\n",
       "<table border=\"1\" class=\"dataframe\">\n",
       "  <thead>\n",
       "    <tr style=\"text-align: right;\">\n",
       "      <th></th>\n",
       "      <th>Model name</th>\n",
       "      <th>precision_at_k</th>\n",
       "      <th>recall_at_k</th>\n",
       "    </tr>\n",
       "  </thead>\n",
       "  <tbody>\n",
       "    <tr>\n",
       "      <th>0</th>\n",
       "      <td>Nearest Neighbors Classifier</td>\n",
       "      <td>0.927+/-0.0022</td>\n",
       "      <td>0.7713+/-0.0018</td>\n",
       "    </tr>\n",
       "  </tbody>\n",
       "</table>\n",
       "</div>"
      ],
      "text/plain": [
       "                     Model name  precision_at_k      recall_at_k\n",
       "0  Nearest Neighbors Classifier  0.927+/-0.0022  0.7713+/-0.0018"
      ]
     },
     "execution_count": 18,
     "metadata": {},
     "output_type": "execute_result"
    }
   ],
   "source": [
    "model_knn = nh.KNeighborsClassifier(n_neighbors=50, n_jobs=-1)\n",
    "\n",
    "knn_cv_metrics = cross_validation(model_knn, \"Nearest Neighbors Classifier\", df7, 20000, 5)\n",
    "\n",
    "knn_cv_metrics"
   ]
  },
  {
   "cell_type": "markdown",
   "metadata": {
    "heading_collapsed": true,
    "hidden": true
   },
   "source": [
    "### 7.2.3 Random Forest Classifier"
   ]
  },
  {
   "cell_type": "code",
   "execution_count": 19,
   "metadata": {
    "ExecuteTime": {
     "end_time": "2021-02-22T23:08:02.531106Z",
     "start_time": "2021-02-22T23:07:09.485660Z"
    },
    "hidden": true,
    "scrolled": true
   },
   "outputs": [
    {
     "data": {
      "text/html": [
       "<div>\n",
       "<style scoped>\n",
       "    .dataframe tbody tr th:only-of-type {\n",
       "        vertical-align: middle;\n",
       "    }\n",
       "\n",
       "    .dataframe tbody tr th {\n",
       "        vertical-align: top;\n",
       "    }\n",
       "\n",
       "    .dataframe thead th {\n",
       "        text-align: right;\n",
       "    }\n",
       "</style>\n",
       "<table border=\"1\" class=\"dataframe\">\n",
       "  <thead>\n",
       "    <tr style=\"text-align: right;\">\n",
       "      <th></th>\n",
       "      <th>Model name</th>\n",
       "      <th>precision_at_k</th>\n",
       "      <th>recall_at_k</th>\n",
       "    </tr>\n",
       "  </thead>\n",
       "  <tbody>\n",
       "    <tr>\n",
       "      <th>0</th>\n",
       "      <td>Random Forest Classifier</td>\n",
       "      <td>0.9221+/-0.0023</td>\n",
       "      <td>0.7673+/-0.0019</td>\n",
       "    </tr>\n",
       "  </tbody>\n",
       "</table>\n",
       "</div>"
      ],
      "text/plain": [
       "                 Model name   precision_at_k      recall_at_k\n",
       "0  Random Forest Classifier  0.9221+/-0.0023  0.7673+/-0.0019"
      ]
     },
     "execution_count": 19,
     "metadata": {},
     "output_type": "execute_result"
    }
   ],
   "source": [
    "model_rf = RF(n_estimators=100, max_depth=10, random_state=30, n_jobs=-1)\n",
    "\n",
    "rf_cv_metrics = cross_validation(model_rf, \"Random Forest Classifier\", df7, 20000, 5)\n",
    "\n",
    "rf_cv_metrics"
   ]
  },
  {
   "cell_type": "markdown",
   "metadata": {
    "heading_collapsed": true,
    "hidden": true
   },
   "source": [
    "### 7.2.4 XGBoost Classifier"
   ]
  },
  {
   "cell_type": "code",
   "execution_count": 20,
   "metadata": {
    "ExecuteTime": {
     "end_time": "2021-02-22T23:09:16.743844Z",
     "start_time": "2021-02-22T23:08:02.532876Z"
    },
    "hidden": true
   },
   "outputs": [
    {
     "data": {
      "text/html": [
       "<div>\n",
       "<style scoped>\n",
       "    .dataframe tbody tr th:only-of-type {\n",
       "        vertical-align: middle;\n",
       "    }\n",
       "\n",
       "    .dataframe tbody tr th {\n",
       "        vertical-align: top;\n",
       "    }\n",
       "\n",
       "    .dataframe thead th {\n",
       "        text-align: right;\n",
       "    }\n",
       "</style>\n",
       "<table border=\"1\" class=\"dataframe\">\n",
       "  <thead>\n",
       "    <tr style=\"text-align: right;\">\n",
       "      <th></th>\n",
       "      <th>Model name</th>\n",
       "      <th>precision_at_k</th>\n",
       "      <th>recall_at_k</th>\n",
       "    </tr>\n",
       "  </thead>\n",
       "  <tbody>\n",
       "    <tr>\n",
       "      <th>0</th>\n",
       "      <td>XGBoost Classifier</td>\n",
       "      <td>0.929+/-0.0015</td>\n",
       "      <td>0.7731+/-0.0013</td>\n",
       "    </tr>\n",
       "  </tbody>\n",
       "</table>\n",
       "</div>"
      ],
      "text/plain": [
       "           Model name  precision_at_k      recall_at_k\n",
       "0  XGBoost Classifier  0.929+/-0.0015  0.7731+/-0.0013"
      ]
     },
     "execution_count": 20,
     "metadata": {},
     "output_type": "execute_result"
    }
   ],
   "source": [
    "model_xgb = xgb.XGBClassifier(objective='binary:logistic',\n",
    "                              use_label_encoder=False,\n",
    "                              n_estimators=100,\n",
    "                              eta=0.01,\n",
    "                              max_depth=10,\n",
    "                              n_jobs=-1,\n",
    "                              subsample=0.7,\n",
    "                              colsample_bytree=0.9,\n",
    "                              min_child_weight=1,\n",
    "                              verbosity=0)\n",
    "\n",
    "xgb_cv_metrics = cross_validation(model_xgb, \"XGBoost Classifier\", df7, 20000, 5)\n",
    "\n",
    "xgb_cv_metrics"
   ]
  },
  {
   "cell_type": "markdown",
   "metadata": {
    "heading_collapsed": true
   },
   "source": [
    "# 8.0 Hyperparameter Fine Tunning"
   ]
  },
  {
   "cell_type": "markdown",
   "metadata": {
    "heading_collapsed": true,
    "hidden": true
   },
   "source": [
    "## 8.1 XGBoost Classifier"
   ]
  },
  {
   "cell_type": "code",
   "execution_count": 21,
   "metadata": {
    "ExecuteTime": {
     "end_time": "2021-02-22T23:09:16.747403Z",
     "start_time": "2021-02-22T23:09:16.745021Z"
    },
    "hidden": true
   },
   "outputs": [],
   "source": [
    "param = {'n_estimators':[1500, 1700, 2500, 3000, 3500],\n",
    "         'eta':[0.01, 0.03],\n",
    "         'gamma':[0, 3, 10, 20],\n",
    "         'max_depth':[3, 5, 9],\n",
    "         'subsample':[0.1, 0.5, 0.7],\n",
    "         'colsample_bytree':[0.3, 0.7, 0.9],\n",
    "         'min_child_weight':[3, 8, 15],\n",
    "        }\n",
    "\n",
    "MAX_EVAL = 5"
   ]
  },
  {
   "cell_type": "code",
   "execution_count": 22,
   "metadata": {
    "ExecuteTime": {
     "end_time": "2021-02-23T00:05:24.314374Z",
     "start_time": "2021-02-22T23:09:16.748809Z"
    },
    "hidden": true
   },
   "outputs": [
    {
     "name": "stdout",
     "output_type": "stream",
     "text": [
      "{'n_estimators': 3500, 'eta': 0.01, 'gamma': 20, 'max_depth': 9, 'subsample': 0.1, 'colsample_bytree': 0.7, 'min_child_weight': 15}\n",
      "{'n_estimators': 2500, 'eta': 0.03, 'gamma': 0, 'max_depth': 3, 'subsample': 0.1, 'colsample_bytree': 0.7, 'min_child_weight': 15}\n",
      "{'n_estimators': 3000, 'eta': 0.03, 'gamma': 20, 'max_depth': 5, 'subsample': 0.1, 'colsample_bytree': 0.3, 'min_child_weight': 3}\n",
      "{'n_estimators': 1500, 'eta': 0.03, 'gamma': 3, 'max_depth': 3, 'subsample': 0.7, 'colsample_bytree': 0.9, 'min_child_weight': 8}\n",
      "{'n_estimators': 1500, 'eta': 0.03, 'gamma': 3, 'max_depth': 5, 'subsample': 0.1, 'colsample_bytree': 0.7, 'min_child_weight': 15}\n"
     ]
    },
    {
     "data": {
      "text/html": [
       "<div>\n",
       "<style scoped>\n",
       "    .dataframe tbody tr th:only-of-type {\n",
       "        vertical-align: middle;\n",
       "    }\n",
       "\n",
       "    .dataframe tbody tr th {\n",
       "        vertical-align: top;\n",
       "    }\n",
       "\n",
       "    .dataframe thead th {\n",
       "        text-align: right;\n",
       "    }\n",
       "</style>\n",
       "<table border=\"1\" class=\"dataframe\">\n",
       "  <thead>\n",
       "    <tr style=\"text-align: right;\">\n",
       "      <th></th>\n",
       "      <th>Model name</th>\n",
       "      <th>precision_at_k</th>\n",
       "      <th>recall_at_k</th>\n",
       "      <th>Iter_nr</th>\n",
       "    </tr>\n",
       "  </thead>\n",
       "  <tbody>\n",
       "    <tr>\n",
       "      <th>0</th>\n",
       "      <td>XGBoost Classifier</td>\n",
       "      <td>0.9329+/-0.0014</td>\n",
       "      <td>0.7763+/-0.0012</td>\n",
       "      <td>4</td>\n",
       "    </tr>\n",
       "    <tr>\n",
       "      <th>1</th>\n",
       "      <td>XGBoost Classifier</td>\n",
       "      <td>0.9314+/-0.0011</td>\n",
       "      <td>0.7751+/-0.0009</td>\n",
       "      <td>3</td>\n",
       "    </tr>\n",
       "    <tr>\n",
       "      <th>2</th>\n",
       "      <td>XGBoost Classifier</td>\n",
       "      <td>0.9314+/-0.0009</td>\n",
       "      <td>0.775+/-0.0007</td>\n",
       "      <td>0</td>\n",
       "    </tr>\n",
       "    <tr>\n",
       "      <th>3</th>\n",
       "      <td>XGBoost Classifier</td>\n",
       "      <td>0.9307+/-0.0014</td>\n",
       "      <td>0.7745+/-0.0012</td>\n",
       "      <td>1</td>\n",
       "    </tr>\n",
       "    <tr>\n",
       "      <th>4</th>\n",
       "      <td>XGBoost Classifier</td>\n",
       "      <td>0.9295+/-0.0013</td>\n",
       "      <td>0.7735+/-0.0011</td>\n",
       "      <td>2</td>\n",
       "    </tr>\n",
       "  </tbody>\n",
       "</table>\n",
       "</div>"
      ],
      "text/plain": [
       "           Model name   precision_at_k      recall_at_k  Iter_nr\n",
       "0  XGBoost Classifier  0.9329+/-0.0014  0.7763+/-0.0012        4\n",
       "1  XGBoost Classifier  0.9314+/-0.0011  0.7751+/-0.0009        3\n",
       "2  XGBoost Classifier  0.9314+/-0.0009   0.775+/-0.0007        0\n",
       "3  XGBoost Classifier  0.9307+/-0.0014  0.7745+/-0.0012        1\n",
       "4  XGBoost Classifier  0.9295+/-0.0013  0.7735+/-0.0011        2"
      ]
     },
     "execution_count": 22,
     "metadata": {},
     "output_type": "execute_result"
    }
   ],
   "source": [
    "final_result = pd.DataFrame()\n",
    "hyperparam_lst = []\n",
    "\n",
    "for i in range(MAX_EVAL):\n",
    "    #randomly selected hyperparameters\n",
    "    hp = {k:random.sample(v, 1)[0] for k, v in param.items()}\n",
    "    #print the selected ones\n",
    "    print(hp)\n",
    "    #store in list\n",
    "    hyperparam_lst.append(hp.copy())\n",
    "    #model\n",
    "    model_xgb = xgb.XGBClassifier(objective='binary:logistic',\n",
    "                                  use_label_encoder=False,\n",
    "                                  n_estimators=hp['n_estimators'],\n",
    "                                  eta=hp['eta'],\n",
    "                                  gamma=hp['gamma'],\n",
    "                                  max_depth=hp['max_depth'],\n",
    "                                  n_jobs=-1,\n",
    "                                  subsample=hp['subsample'],\n",
    "                                  colsample_bytree=hp['colsample_bytree'],\n",
    "                                  min_child_weight=hp['min_child_weight'],\n",
    "                                  verbosity=0)\n",
    "    result = cross_validation(model_xgb, 'XGBoost Classifier', df7, 20000, 5)\n",
    "    iter_nr = pd.Series([i], name='Iter_nr')\n",
    "    result_w_nr = pd.concat([result, iter_nr], axis=1)\n",
    "    final_result = pd.concat([final_result, result_w_nr], ignore_index=True)\n",
    "\n",
    "final_result.sort_values(by=['precision_at_k'], ascending=False, inplace=True, ignore_index=True)\n",
    "final_result"
   ]
  },
  {
   "cell_type": "code",
   "execution_count": 23,
   "metadata": {
    "ExecuteTime": {
     "end_time": "2021-02-23T00:05:24.320246Z",
     "start_time": "2021-02-23T00:05:24.317226Z"
    },
    "hidden": true
   },
   "outputs": [],
   "source": [
    "final_result.to_pickle(home_path + 'interim/xgb_tunning_acc_cv.pkl')"
   ]
  },
  {
   "cell_type": "code",
   "execution_count": 24,
   "metadata": {
    "ExecuteTime": {
     "end_time": "2021-02-23T00:05:24.325682Z",
     "start_time": "2021-02-23T00:05:24.322288Z"
    },
    "hidden": true
   },
   "outputs": [],
   "source": [
    "# select the hyperparameters that resulted in best accuracy\n",
    "best_param_nr = final_result.loc[0, 'Iter_nr']\n",
    "\n",
    "param_tuned = hyperparam_lst[best_param_nr]"
   ]
  },
  {
   "cell_type": "code",
   "execution_count": 25,
   "metadata": {
    "ExecuteTime": {
     "end_time": "2021-02-23T00:05:24.330305Z",
     "start_time": "2021-02-23T00:05:24.327204Z"
    },
    "hidden": true
   },
   "outputs": [],
   "source": [
    "#model\n",
    "model_xgb_tuned = xgb.XGBClassifier(objective='binary:logistic',\n",
    "                                    use_label_encoder=False,\n",
    "                                    n_estimators=param_tuned['n_estimators'],\n",
    "                                    eta=param_tuned['eta'],\n",
    "                                    gamma=param_tuned['gamma'],\n",
    "                                    max_depth=param_tuned['max_depth'],\n",
    "                                    n_jobs=-1,\n",
    "                                    subsample=param_tuned['subsample'],\n",
    "                                    colsample_bytree=param_tuned['colsample_bytree'],\n",
    "                                    min_child_weight=param_tuned['min_child_weight'],\n",
    "                                    verbosity=0)"
   ]
  },
  {
   "cell_type": "code",
   "execution_count": 26,
   "metadata": {
    "ExecuteTime": {
     "end_time": "2021-02-23T00:06:57.545342Z",
     "start_time": "2021-02-23T00:05:24.332880Z"
    },
    "hidden": true
   },
   "outputs": [
    {
     "data": {
      "text/html": [
       "<div>\n",
       "<style scoped>\n",
       "    .dataframe tbody tr th:only-of-type {\n",
       "        vertical-align: middle;\n",
       "    }\n",
       "\n",
       "    .dataframe tbody tr th {\n",
       "        vertical-align: top;\n",
       "    }\n",
       "\n",
       "    .dataframe thead th {\n",
       "        text-align: right;\n",
       "    }\n",
       "</style>\n",
       "<table border=\"1\" class=\"dataframe\">\n",
       "  <thead>\n",
       "    <tr style=\"text-align: right;\">\n",
       "      <th></th>\n",
       "      <th>Model name</th>\n",
       "      <th>precision_at_k</th>\n",
       "      <th>recall_at_k</th>\n",
       "    </tr>\n",
       "  </thead>\n",
       "  <tbody>\n",
       "    <tr>\n",
       "      <th>0</th>\n",
       "      <td>XGBoost Classifier</td>\n",
       "      <td>0.302835</td>\n",
       "      <td>0.648362</td>\n",
       "    </tr>\n",
       "  </tbody>\n",
       "</table>\n",
       "</div>"
      ],
      "text/plain": [
       "           Model name  precision_at_k  recall_at_k\n",
       "0  XGBoost Classifier        0.302835     0.648362"
      ]
     },
     "execution_count": 26,
     "metadata": {},
     "output_type": "execute_result"
    },
    {
     "data": {
      "image/png": "[encoded data removed]",
      "text/plain": [
       "<Figure size 432x288 with 1 Axes>"
      ]
     },
     "metadata": {
      "needs_background": "light"
     },
     "output_type": "display_data"
    }
   ],
   "source": [
    "xgb_tuned_ranking = model_evaluate(model_xgb_tuned, \"XGBoost Classifier\", df7, df7_validation, 20000)\n",
    "\n",
    "xgb_tuned_ranking"
   ]
  },
  {
   "cell_type": "code",
   "execution_count": 27,
   "metadata": {
    "ExecuteTime": {
     "end_time": "2021-02-23T00:08:30.775709Z",
     "start_time": "2021-02-23T00:06:57.546982Z"
    },
    "hidden": true
   },
   "outputs": [],
   "source": [
    "xgb_tuned = model_fit(model_xgb_tuned, df7)"
   ]
  },
  {
   "cell_type": "code",
   "execution_count": 28,
   "metadata": {
    "ExecuteTime": {
     "end_time": "2021-02-23T00:08:30.902909Z",
     "start_time": "2021-02-23T00:08:30.777327Z"
    },
    "hidden": true
   },
   "outputs": [],
   "source": [
    "pickle.dump(xgb_tuned, open(home_path + \"ml_models_comp/xgb_tuned.pkl\", \"wb\"))"
   ]
  },
  {
   "cell_type": "markdown",
   "metadata": {
    "heading_collapsed": true,
    "hidden": true
   },
   "source": [
    "### 8.1.1 Validation"
   ]
  },
  {
   "cell_type": "code",
   "execution_count": 29,
   "metadata": {
    "ExecuteTime": {
     "end_time": "2021-02-23T00:20:11.817436Z",
     "start_time": "2021-02-23T00:08:30.904584Z"
    },
    "hidden": true,
    "scrolled": true
   },
   "outputs": [
    {
     "name": "stdout",
     "output_type": "stream",
     "text": [
      "{'n_estimators': 1500, 'eta': 0.03, 'gamma': 3, 'max_depth': 5, 'subsample': 0.1, 'colsample_bytree': 0.7, 'min_child_weight': 15}\n"
     ]
    },
    {
     "data": {
      "text/html": [
       "<div>\n",
       "<style scoped>\n",
       "    .dataframe tbody tr th:only-of-type {\n",
       "        vertical-align: middle;\n",
       "    }\n",
       "\n",
       "    .dataframe tbody tr th {\n",
       "        vertical-align: top;\n",
       "    }\n",
       "\n",
       "    .dataframe thead th {\n",
       "        text-align: right;\n",
       "    }\n",
       "</style>\n",
       "<table border=\"1\" class=\"dataframe\">\n",
       "  <thead>\n",
       "    <tr style=\"text-align: right;\">\n",
       "      <th></th>\n",
       "      <th>Model name</th>\n",
       "      <th>precision_at_k</th>\n",
       "      <th>recall_at_k</th>\n",
       "    </tr>\n",
       "  </thead>\n",
       "  <tbody>\n",
       "    <tr>\n",
       "      <th>0</th>\n",
       "      <td>XGBoost Classifier</td>\n",
       "      <td>0.302835</td>\n",
       "      <td>0.648362</td>\n",
       "    </tr>\n",
       "  </tbody>\n",
       "</table>\n",
       "</div>"
      ],
      "text/plain": [
       "           Model name  precision_at_k  recall_at_k\n",
       "0  XGBoost Classifier        0.302835     0.648362"
      ]
     },
     "metadata": {},
     "output_type": "display_data"
    },
    {
     "name": "stdout",
     "output_type": "stream",
     "text": [
      "{'n_estimators': 1500, 'eta': 0.03, 'gamma': 3, 'max_depth': 3, 'subsample': 0.7, 'colsample_bytree': 0.9, 'min_child_weight': 8}\n"
     ]
    },
    {
     "data": {
      "text/html": [
       "<div>\n",
       "<style scoped>\n",
       "    .dataframe tbody tr th:only-of-type {\n",
       "        vertical-align: middle;\n",
       "    }\n",
       "\n",
       "    .dataframe tbody tr th {\n",
       "        vertical-align: top;\n",
       "    }\n",
       "\n",
       "    .dataframe thead th {\n",
       "        text-align: right;\n",
       "    }\n",
       "</style>\n",
       "<table border=\"1\" class=\"dataframe\">\n",
       "  <thead>\n",
       "    <tr style=\"text-align: right;\">\n",
       "      <th></th>\n",
       "      <th>Model name</th>\n",
       "      <th>precision_at_k</th>\n",
       "      <th>recall_at_k</th>\n",
       "    </tr>\n",
       "  </thead>\n",
       "  <tbody>\n",
       "    <tr>\n",
       "      <th>0</th>\n",
       "      <td>XGBoost Classifier</td>\n",
       "      <td>0.302485</td>\n",
       "      <td>0.647613</td>\n",
       "    </tr>\n",
       "  </tbody>\n",
       "</table>\n",
       "</div>"
      ],
      "text/plain": [
       "           Model name  precision_at_k  recall_at_k\n",
       "0  XGBoost Classifier        0.302485     0.647613"
      ]
     },
     "metadata": {},
     "output_type": "display_data"
    },
    {
     "name": "stdout",
     "output_type": "stream",
     "text": [
      "{'n_estimators': 3500, 'eta': 0.01, 'gamma': 20, 'max_depth': 9, 'subsample': 0.1, 'colsample_bytree': 0.7, 'min_child_weight': 15}\n"
     ]
    },
    {
     "data": {
      "text/html": [
       "<div>\n",
       "<style scoped>\n",
       "    .dataframe tbody tr th:only-of-type {\n",
       "        vertical-align: middle;\n",
       "    }\n",
       "\n",
       "    .dataframe tbody tr th {\n",
       "        vertical-align: top;\n",
       "    }\n",
       "\n",
       "    .dataframe thead th {\n",
       "        text-align: right;\n",
       "    }\n",
       "</style>\n",
       "<table border=\"1\" class=\"dataframe\">\n",
       "  <thead>\n",
       "    <tr style=\"text-align: right;\">\n",
       "      <th></th>\n",
       "      <th>Model name</th>\n",
       "      <th>precision_at_k</th>\n",
       "      <th>recall_at_k</th>\n",
       "    </tr>\n",
       "  </thead>\n",
       "  <tbody>\n",
       "    <tr>\n",
       "      <th>0</th>\n",
       "      <td>XGBoost Classifier</td>\n",
       "      <td>0.301835</td>\n",
       "      <td>0.646221</td>\n",
       "    </tr>\n",
       "  </tbody>\n",
       "</table>\n",
       "</div>"
      ],
      "text/plain": [
       "           Model name  precision_at_k  recall_at_k\n",
       "0  XGBoost Classifier        0.301835     0.646221"
      ]
     },
     "metadata": {},
     "output_type": "display_data"
    },
    {
     "name": "stdout",
     "output_type": "stream",
     "text": [
      "{'n_estimators': 2500, 'eta': 0.03, 'gamma': 0, 'max_depth': 3, 'subsample': 0.1, 'colsample_bytree': 0.7, 'min_child_weight': 15}\n"
     ]
    },
    {
     "data": {
      "text/html": [
       "<div>\n",
       "<style scoped>\n",
       "    .dataframe tbody tr th:only-of-type {\n",
       "        vertical-align: middle;\n",
       "    }\n",
       "\n",
       "    .dataframe tbody tr th {\n",
       "        vertical-align: top;\n",
       "    }\n",
       "\n",
       "    .dataframe thead th {\n",
       "        text-align: right;\n",
       "    }\n",
       "</style>\n",
       "<table border=\"1\" class=\"dataframe\">\n",
       "  <thead>\n",
       "    <tr style=\"text-align: right;\">\n",
       "      <th></th>\n",
       "      <th>Model name</th>\n",
       "      <th>precision_at_k</th>\n",
       "      <th>recall_at_k</th>\n",
       "    </tr>\n",
       "  </thead>\n",
       "  <tbody>\n",
       "    <tr>\n",
       "      <th>0</th>\n",
       "      <td>XGBoost Classifier</td>\n",
       "      <td>0.302085</td>\n",
       "      <td>0.646757</td>\n",
       "    </tr>\n",
       "  </tbody>\n",
       "</table>\n",
       "</div>"
      ],
      "text/plain": [
       "           Model name  precision_at_k  recall_at_k\n",
       "0  XGBoost Classifier        0.302085     0.646757"
      ]
     },
     "metadata": {},
     "output_type": "display_data"
    },
    {
     "name": "stdout",
     "output_type": "stream",
     "text": [
      "{'n_estimators': 3000, 'eta': 0.03, 'gamma': 20, 'max_depth': 5, 'subsample': 0.1, 'colsample_bytree': 0.3, 'min_child_weight': 3}\n"
     ]
    },
    {
     "data": {
      "text/html": [
       "<div>\n",
       "<style scoped>\n",
       "    .dataframe tbody tr th:only-of-type {\n",
       "        vertical-align: middle;\n",
       "    }\n",
       "\n",
       "    .dataframe tbody tr th {\n",
       "        vertical-align: top;\n",
       "    }\n",
       "\n",
       "    .dataframe thead th {\n",
       "        text-align: right;\n",
       "    }\n",
       "</style>\n",
       "<table border=\"1\" class=\"dataframe\">\n",
       "  <thead>\n",
       "    <tr style=\"text-align: right;\">\n",
       "      <th></th>\n",
       "      <th>Model name</th>\n",
       "      <th>precision_at_k</th>\n",
       "      <th>recall_at_k</th>\n",
       "    </tr>\n",
       "  </thead>\n",
       "  <tbody>\n",
       "    <tr>\n",
       "      <th>0</th>\n",
       "      <td>XGBoost Classifier</td>\n",
       "      <td>0.299985</td>\n",
       "      <td>0.642261</td>\n",
       "    </tr>\n",
       "  </tbody>\n",
       "</table>\n",
       "</div>"
      ],
      "text/plain": [
       "           Model name  precision_at_k  recall_at_k\n",
       "0  XGBoost Classifier        0.299985     0.642261"
      ]
     },
     "metadata": {},
     "output_type": "display_data"
    },
    {
     "data": {
      "image/png": "[encoded data removed]",
      "text/plain": [
       "<Figure size 432x288 with 1 Axes>"
      ]
     },
     "metadata": {
      "needs_background": "light"
     },
     "output_type": "display_data"
    },
    {
     "data": {
      "image/png": "[encoded data removed]",
      "text/plain": [
       "<Figure size 432x288 with 1 Axes>"
      ]
     },
     "metadata": {
      "needs_background": "light"
     },
     "output_type": "display_data"
    },
    {
     "data": {
      "image/png": "[encoded data removed]",
      "text/plain": [
       "<Figure size 432x288 with 1 Axes>"
      ]
     },
     "metadata": {
      "needs_background": "light"
     },
     "output_type": "display_data"
    },
    {
     "data": {
      "image/png": "[encoded data removed]",
      "text/plain": [
       "<Figure size 432x288 with 1 Axes>"
      ]
     },
     "metadata": {
      "needs_background": "light"
     },
     "output_type": "display_data"
    },
    {
     "data": {
      "image/png": "[encoded data removed]",
      "text/plain": [
       "<Figure size 432x288 with 1 Axes>"
      ]
     },
     "metadata": {
      "needs_background": "light"
     },
     "output_type": "display_data"
    }
   ],
   "source": [
    "for i in range(final_result.shape[0]):\n",
    "    j = final_result.loc[i, 'Iter_nr']\n",
    "    param_dict = hyperparam_lst[j]\n",
    "    \n",
    "    # model\n",
    "    model = xgb.XGBClassifier(objective='binary:logistic',\n",
    "                              use_label_encoder=False,\n",
    "                              n_estimators=param_dict['n_estimators'],\n",
    "                              eta=param_dict['eta'],\n",
    "                              gamma=param_dict['gamma'],\n",
    "                              max_depth=param_dict['max_depth'],\n",
    "                              n_jobs=-1,\n",
    "                              subsample=param_dict['subsample'],\n",
    "                              colsample_bytree=param_dict['colsample_bytree'],\n",
    "                              min_child_weight=param_dict['min_child_weight'],\n",
    "                              verbosity=0)\n",
    "    \n",
    "    # print results\n",
    "    print(param_dict)\n",
    "    xgb_ranking = model_evaluate(model, \"XGBoost Classifier\", df7, df7_validation, 20000)\n",
    "    display(xgb_ranking)"
   ]
  },
  {
   "cell_type": "markdown",
   "metadata": {
    "hidden": true
   },
   "source": [
    "The model with better performance on the test set has the parameters {'n_estimators': 1500, 'eta': 0.03, 'gamma': 3, 'max_depth': 5, 'subsample': 0.1, 'colsample_bytree': 0.7, 'min_child_weight': 15. The 1st (index=0) element in final_result (Iter_nr=4)."
   ]
  },
  {
   "cell_type": "code",
   "execution_count": 30,
   "metadata": {
    "ExecuteTime": {
     "end_time": "2021-02-23T00:43:36.495477Z",
     "start_time": "2021-02-23T00:42:33.255990Z"
    },
    "hidden": true
   },
   "outputs": [
    {
     "data": {
      "text/html": [
       "<div>\n",
       "<style scoped>\n",
       "    .dataframe tbody tr th:only-of-type {\n",
       "        vertical-align: middle;\n",
       "    }\n",
       "\n",
       "    .dataframe tbody tr th {\n",
       "        vertical-align: top;\n",
       "    }\n",
       "\n",
       "    .dataframe thead th {\n",
       "        text-align: right;\n",
       "    }\n",
       "</style>\n",
       "<table border=\"1\" class=\"dataframe\">\n",
       "  <thead>\n",
       "    <tr style=\"text-align: right;\">\n",
       "      <th></th>\n",
       "      <th>Model name</th>\n",
       "      <th>precision_at_k</th>\n",
       "      <th>recall_at_k</th>\n",
       "    </tr>\n",
       "  </thead>\n",
       "  <tbody>\n",
       "    <tr>\n",
       "      <th>0</th>\n",
       "      <td>XGBoost Classifier</td>\n",
       "      <td>0.302835</td>\n",
       "      <td>0.648362</td>\n",
       "    </tr>\n",
       "  </tbody>\n",
       "</table>\n",
       "</div>"
      ],
      "text/plain": [
       "           Model name  precision_at_k  recall_at_k\n",
       "0  XGBoost Classifier        0.302835     0.648362"
      ]
     },
     "execution_count": 30,
     "metadata": {},
     "output_type": "execute_result"
    },
    {
     "data": {
      "image/png": "[encoded data removed]",
      "text/plain": [
       "<Figure size 432x288 with 1 Axes>"
      ]
     },
     "metadata": {
      "needs_background": "light"
     },
     "output_type": "display_data"
    }
   ],
   "source": [
    "j = final_result.loc[0, 'Iter_nr']\n",
    "param_dict = hyperparam_lst[j]\n",
    "    \n",
    "# model\n",
    "model = xgb.XGBClassifier(objective='binary:logistic',\n",
    "                          use_label_encoder=False,\n",
    "                          n_estimators=param_dict['n_estimators'],\n",
    "                          eta=param_dict['eta'],\n",
    "                          gamma=param_dict['gamma'],\n",
    "                          max_depth=param_dict['max_depth'],\n",
    "                          n_jobs=-1,\n",
    "                          subsample=param_dict['subsample'],\n",
    "                          colsample_bytree=param_dict['colsample_bytree'],\n",
    "                          min_child_weight=param_dict['min_child_weight'],\n",
    "                          verbosity=0)\n",
    "\n",
    "xgb_ranking = model_evaluate(model, \"XGBoost Classifier\", df7, df7_validation, 20000)\n",
    "xgb_ranking"
   ]
  },
  {
   "cell_type": "code",
   "execution_count": 31,
   "metadata": {
    "ExecuteTime": {
     "end_time": "2021-02-23T00:44:39.329280Z",
     "start_time": "2021-02-23T00:43:36.496923Z"
    },
    "hidden": true
   },
   "outputs": [],
   "source": [
    "xgb_validated = model_fit(model, df7)"
   ]
  },
  {
   "cell_type": "code",
   "execution_count": 32,
   "metadata": {
    "ExecuteTime": {
     "end_time": "2021-02-23T00:44:39.427386Z",
     "start_time": "2021-02-23T00:44:39.330686Z"
    },
    "hidden": true
   },
   "outputs": [],
   "source": [
    "pickle.dump(xgb_validated, open(home_path + \"ml_models_comp/xgb_validated.pkl\", \"wb\"))"
   ]
  }
 ],
 "metadata": {
  "kernelspec": {
   "display_name": "Python 3",
   "language": "python",
   "name": "python3"
  },
  "language_info": {
   "codemirror_mode": {
    "name": "ipython",
    "version": 3
   },
   "file_extension": ".py",
   "mimetype": "text/x-python",
   "name": "python",
   "nbconvert_exporter": "python",
   "pygments_lexer": "ipython3",
   "version": "3.8.5"
  }
 },
 "nbformat": 4,
 "nbformat_minor": 4
}
