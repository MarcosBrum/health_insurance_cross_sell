{
 "cells": [
  {
   "cell_type": "markdown",
   "metadata": {
    "heading_collapsed": true,
    "tags": []
   },
   "source": [
    "# 0.0 Imports"
   ]
  },
  {
   "cell_type": "code",
   "execution_count": 1,
   "metadata": {
    "ExecuteTime": {
     "end_time": "2021-03-07T01:13:31.109522Z",
     "start_time": "2021-03-07T01:13:30.135627Z"
    },
    "hidden": true
   },
   "outputs": [],
   "source": [
    "import pandas as pd\n",
    "import numpy as np\n",
    "import pickle\n",
    "import random\n",
    "\n",
    "import matplotlib.pyplot as plt\n",
    "import seaborn as sns\n",
    "import scikitplot as skplt\n",
    "\n",
    "import xgboost as xgb"
   ]
  },
  {
   "cell_type": "markdown",
   "metadata": {
    "heading_collapsed": true,
    "hidden": true,
    "tags": []
   },
   "source": [
    "### 0.0.1 Problema"
   ]
  },
  {
   "cell_type": "markdown",
   "metadata": {
    "hidden": true
   },
   "source": [
    "Uma seguradora de planos de saúde pretende passar a vender, também, seguros de automóveis.\n",
    "\n",
    "A seguradora realizou pesquisa com cerca de 380.000 clientes para saber se teriam interesse, ou não, em contratar o novo seguro. Todos os clientes responderam.\n",
    "\n",
    "A seguradora selecionou cerca de 127.000 potenciais clientes para participar de uma campanha. Este grupo receberá a oferta de adesão ao seguro de automóvel via ligação telefônica.\n",
    "\n",
    "**Problema**: o time de vendas tem condições de ligar para, somente, 20.000 pessoas. Como selecionar, dentre os potenciais clientes, aqueles que tem maior probabilidade de adquirir o seguro?"
   ]
  },
  {
   "cell_type": "markdown",
   "metadata": {
    "hidden": true
   },
   "source": [
    "O *relatório* deve responder às seguintes questões:\n",
    "\n",
    "1. Fornecer *insights* sobre os atributos mais relevantes de clientes interessados em adquirir o seguro.\n",
    "\n",
    "2. Qual porcentagem dos potenciais clientes interessados o time de vendas vai conseguir contatar fazendo 20.000 ligações?\n",
    "\n",
    "3. Se o time de vendas fizer 40.000 ligações, qual será a porcentagem de clientes interessados contatada?\n",
    "\n",
    "4. Quantas ligações o time de vendas precisariaria fazer para contatar 80% dos potenciais clientes interessados?"
   ]
  },
  {
   "cell_type": "markdown",
   "metadata": {
    "heading_collapsed": true,
    "hidden": true,
    "tags": []
   },
   "source": [
    "## 0.1 Load Data"
   ]
  },
  {
   "cell_type": "code",
   "execution_count": 2,
   "metadata": {
    "ExecuteTime": {
     "end_time": "2021-03-07T01:13:31.112803Z",
     "start_time": "2021-03-07T01:13:31.110878Z"
    },
    "hidden": true
   },
   "outputs": [],
   "source": [
    "home_path = \"/home/marcos/Documentos/comunidade_DS/pa004_health_insurance_cross_sell/\""
   ]
  },
  {
   "cell_type": "code",
   "execution_count": 3,
   "metadata": {
    "ExecuteTime": {
     "end_time": "2021-03-07T01:13:31.210029Z",
     "start_time": "2021-03-07T01:13:31.114879Z"
    },
    "hidden": true
   },
   "outputs": [],
   "source": [
    "df_test_raw = pd.read_csv(home_path + \"data/test.csv\")"
   ]
  },
  {
   "cell_type": "code",
   "execution_count": 4,
   "metadata": {
    "ExecuteTime": {
     "end_time": "2021-03-07T01:13:31.216191Z",
     "start_time": "2021-03-07T01:13:31.211471Z"
    },
    "hidden": true
   },
   "outputs": [
    {
     "data": {
      "text/plain": [
       "Index(['id', 'Gender', 'Age', 'Driving_License', 'Region_Code',\n",
       "       'Previously_Insured', 'Vehicle_Age', 'Vehicle_Damage', 'Annual_Premium',\n",
       "       'Policy_Sales_Channel', 'Vintage'],\n",
       "      dtype='object')"
      ]
     },
     "execution_count": 4,
     "metadata": {},
     "output_type": "execute_result"
    }
   ],
   "source": [
    "df_test_raw.columns"
   ]
  },
  {
   "cell_type": "code",
   "execution_count": 5,
   "metadata": {
    "ExecuteTime": {
     "end_time": "2021-03-07T01:13:31.232573Z",
     "start_time": "2021-03-07T01:13:31.217703Z"
    },
    "hidden": true
   },
   "outputs": [],
   "source": [
    "df_validation = pd.read_pickle(home_path + \"interim/df_new_val.pkl\")"
   ]
  },
  {
   "cell_type": "code",
   "execution_count": 6,
   "metadata": {
    "ExecuteTime": {
     "end_time": "2021-03-07T01:13:31.240819Z",
     "start_time": "2021-03-07T01:13:31.233635Z"
    },
    "hidden": true
   },
   "outputs": [
    {
     "data": {
      "text/plain": [
       "id                      0\n",
       "age                     0\n",
       "region_code             0\n",
       "policy_sales_channel    0\n",
       "driving_license         0\n",
       "vehicle_age             0\n",
       "vehicle_damage          0\n",
       "previously_insured      0\n",
       "annual_premium          0\n",
       "vintage                 0\n",
       "weight_ages             0\n",
       "vehicle_hist            0\n",
       "gender_Female           0\n",
       "gender_Male             0\n",
       "response                0\n",
       "dtype: int64"
      ]
     },
     "execution_count": 6,
     "metadata": {},
     "output_type": "execute_result"
    }
   ],
   "source": [
    "df_validation.isna().sum()"
   ]
  },
  {
   "cell_type": "code",
   "execution_count": 7,
   "metadata": {
    "ExecuteTime": {
     "end_time": "2021-03-07T01:13:31.244218Z",
     "start_time": "2021-03-07T01:13:31.242016Z"
    },
    "hidden": true
   },
   "outputs": [],
   "source": [
    "cols_selected_boruta_resampled = pickle.load(open(home_path + \"interim/cols_selected_boruta_resampled_new_nn.pkl\", \"rb\"))"
   ]
  },
  {
   "cell_type": "code",
   "execution_count": 8,
   "metadata": {
    "ExecuteTime": {
     "end_time": "2021-03-07T01:13:31.248413Z",
     "start_time": "2021-03-07T01:13:31.246436Z"
    },
    "hidden": true
   },
   "outputs": [],
   "source": [
    "id_gender = ['id', 'gender_Female']\n",
    "cols_selected_boruta_resampled_full = cols_selected_boruta_resampled.copy()\n",
    "cols_selected_boruta_resampled_full.extend(id_gender)"
   ]
  },
  {
   "cell_type": "code",
   "execution_count": 9,
   "metadata": {
    "ExecuteTime": {
     "end_time": "2021-03-07T01:13:31.253657Z",
     "start_time": "2021-03-07T01:13:31.250444Z"
    },
    "hidden": true
   },
   "outputs": [],
   "source": [
    "col_resp = ['response']\n",
    "cols_selected_boruta_resampled_resp = cols_selected_boruta_resampled_full.copy()\n",
    "cols_selected_boruta_resampled_resp.extend(col_resp)"
   ]
  },
  {
   "cell_type": "markdown",
   "metadata": {
    "heading_collapsed": true,
    "hidden": true
   },
   "source": [
    "### 0.1.1 Load encoders"
   ]
  },
  {
   "cell_type": "code",
   "execution_count": 10,
   "metadata": {
    "ExecuteTime": {
     "end_time": "2021-03-07T01:13:31.266807Z",
     "start_time": "2021-03-07T01:13:31.254993Z"
    },
    "hidden": true
   },
   "outputs": [
    {
     "name": "stderr",
     "output_type": "stream",
     "text": [
      "/home/marcos/.pyenv/versions/pa004_marcos_brum/lib/python3.8/site-packages/sklearn/base.py:310: UserWarning: Trying to unpickle estimator RobustScaler from version 0.24.0 when using version 0.24.1. This might lead to breaking code or invalid results. Use at your own risk.\n",
      "  warnings.warn(\n",
      "/home/marcos/.pyenv/versions/pa004_marcos_brum/lib/python3.8/site-packages/sklearn/base.py:310: UserWarning: Trying to unpickle estimator LabelEncoder from version 0.24.0 when using version 0.24.1. This might lead to breaking code or invalid results. Use at your own risk.\n",
      "  warnings.warn(\n",
      "/home/marcos/.pyenv/versions/pa004_marcos_brum/lib/python3.8/site-packages/sklearn/base.py:310: UserWarning: Trying to unpickle estimator MinMaxScaler from version 0.24.0 when using version 0.24.1. This might lead to breaking code or invalid results. Use at your own risk.\n",
      "  warnings.warn(\n"
     ]
    }
   ],
   "source": [
    "# age - RobustScaler\n",
    "rs_age = pickle.load(open(home_path + \"encoders/age_new_scaler.pkl\", \"rb\"))\n",
    "\n",
    "# region_code - frequency encoding\n",
    "region_freq = pickle.load(open(home_path + \"encoders/region_freq_new_scaler.pkl\", \"rb\"))\n",
    "\n",
    "# policy_sales_channel - frequency encoding\n",
    "channel_freq = pickle.load(open(home_path + \"encoders/channel_freq_new_scaler.pkl\", \"rb\"))\n",
    "\n",
    "# annual_premium - RobustScaler\n",
    "rs_premium = pickle.load(open(home_path + \"encoders/premium_new_scaler.pkl\", \"rb\"))\n",
    "\n",
    "# vintage - MinMaxScaler\n",
    "mms_vintage = pickle.load(open(home_path + \"encoders/vintage_new_scaler.pkl\", \"rb\"))\n",
    "\n",
    "# vehicle_age - LabelEncoder\n",
    "age_encoder = pickle.load(open(home_path + \"encoders/v_age_new_encoder.pkl\", \"rb\"))\n",
    "\n",
    "# vehicle_damage - LabelEncoder\n",
    "damage_encoder = pickle.load(open(home_path + \"encoders/v_dam_new_encoder.pkl\", \"rb\"))"
   ]
  },
  {
   "cell_type": "markdown",
   "metadata": {
    "heading_collapsed": true,
    "hidden": true
   },
   "source": [
    "### 0.1.2 Load trained model"
   ]
  },
  {
   "cell_type": "code",
   "execution_count": 11,
   "metadata": {
    "ExecuteTime": {
     "end_time": "2021-03-07T01:13:34.396560Z",
     "start_time": "2021-03-07T01:13:31.267867Z"
    },
    "hidden": true
   },
   "outputs": [],
   "source": [
    "xgb_validated = pickle.load(open(home_path + \"ml_models_comp/xgb_validated_new.pkl\", \"rb\"))"
   ]
  },
  {
   "cell_type": "markdown",
   "metadata": {
    "heading_collapsed": true,
    "hidden": true,
    "tags": []
   },
   "source": [
    "## 0.2 Helper Functions"
   ]
  },
  {
   "cell_type": "code",
   "execution_count": 12,
   "metadata": {
    "ExecuteTime": {
     "end_time": "2021-03-07T01:13:34.403571Z",
     "start_time": "2021-03-07T01:13:34.397948Z"
    },
    "hidden": true
   },
   "outputs": [],
   "source": [
    "# model predict\n",
    "def model_predict(trained_model, data_test):\n",
    "    # drop id\n",
    "    data_testing = data_test.drop(['id'], axis=1).copy()\n",
    "    # predict_proba:\n",
    "    yhat_proba = trained_model.predict_proba(data_testing)\n",
    "    \n",
    "    # transform yhat_proba to 1D-array\n",
    "    yhat_proba_1d = yhat_proba[:, 1].tolist()\n",
    "    \n",
    "    # include in dataframe\n",
    "    testing_data = data_test.copy()\n",
    "    testing_data['score'] = yhat_proba_1d\n",
    "    # sort\n",
    "    testing_data = testing_data.sort_values('score', ascending=False)\n",
    "    # reset index\n",
    "    testing_data.reset_index(drop=True, inplace=True)\n",
    "    return testing_data\n",
    "\n",
    "\n",
    "# precision_at_k, recall_at_k,\n",
    "# precision_at_k\n",
    "# def precision_at_k(data, k):\n",
    "#     data = data.reset_index(drop=True)\n",
    "#     data['n_samples'] = data.index + 1\n",
    "#     data['precision_at_k'] = data['response'].cumsum() / data['n_samples']\n",
    "#     return data.loc[k, 'precision_at_k']\n",
    "\n",
    "\n",
    "# # recall_at_k\n",
    "# def recall_at_k(data, k):\n",
    "#     data = data.reset_index(drop=True)\n",
    "#     data['recall_at_k'] = data['response'].cumsum() / data['response'].sum()\n",
    "#     return data.loc[k, 'recall_at_k']\n",
    "\n",
    "\n",
    "# validation data\n",
    "def validation_data(trained_model, data_val):\n",
    "    # separate X and Y data:\n",
    "    xval = data_val.drop(['id', 'response'], axis=1)\n",
    "    yval = data_val.response\n",
    "    \n",
    "    # predict_proba:\n",
    "    yhat_proba = trained_model.predict_proba(xval)\n",
    "    \n",
    "    # transform yhat_proba to 1D-array\n",
    "    yhat_proba_1d = yhat_proba[:, 1].tolist()\n",
    "    \n",
    "    # include in dataframe\n",
    "    validation_data = data_val.copy()\n",
    "    validation_data['score'] = yhat_proba_1d\n",
    "    # sort\n",
    "    validation_data = validation_data.sort_values('score', ascending=False)\n",
    "    # precision and recall\n",
    "    validation_data = validation_data.reset_index(drop=True)\n",
    "    validation_data['n_samples'] = validation_data.index + 1\n",
    "    validation_data['precision_at_k'] = validation_data['response'].cumsum() / validation_data['n_samples']\n",
    "    validation_data['recall_at_k'] = validation_data['response'].cumsum() / validation_data['response'].sum()\n",
    "    \n",
    "    return validation_data\n",
    "\n",
    "\n",
    "# validation metrics\n",
    "def validation_metrics(validated_data, k):    \n",
    "    return pd.DataFrame({'precision_at_{}'.format(k):validated_data.loc[k, 'precision_at_k'],\n",
    "                         'recall_at_{}'.format(k):validated_data.loc[k, 'recall_at_k']},\n",
    "                         index=['ranking_metrics']).T"
   ]
  },
  {
   "cell_type": "markdown",
   "metadata": {
    "heading_collapsed": true,
    "hidden": true,
    "tags": []
   },
   "source": [
    "## 0.3 Apply encoders and feature selection to data"
   ]
  },
  {
   "cell_type": "code",
   "execution_count": 13,
   "metadata": {
    "ExecuteTime": {
     "end_time": "2021-03-07T01:13:34.411290Z",
     "start_time": "2021-03-07T01:13:34.405058Z"
    },
    "hidden": true
   },
   "outputs": [],
   "source": [
    "df9 = df_test_raw.copy()"
   ]
  },
  {
   "cell_type": "code",
   "execution_count": 14,
   "metadata": {
    "ExecuteTime": {
     "end_time": "2021-03-07T01:13:34.414938Z",
     "start_time": "2021-03-07T01:13:34.412708Z"
    },
    "hidden": true
   },
   "outputs": [],
   "source": [
    "cols_list = df9.columns.tolist()\n",
    "cols_lower = [x.lower() for x in cols_list]\n",
    "df9.columns = cols_lower"
   ]
  },
  {
   "cell_type": "code",
   "execution_count": 15,
   "metadata": {
    "ExecuteTime": {
     "end_time": "2021-03-07T01:13:34.420045Z",
     "start_time": "2021-03-07T01:13:34.416116Z"
    },
    "hidden": true
   },
   "outputs": [
    {
     "data": {
      "text/plain": [
       "id                        int64\n",
       "gender                   object\n",
       "age                       int64\n",
       "driving_license           int64\n",
       "region_code             float64\n",
       "previously_insured        int64\n",
       "vehicle_age              object\n",
       "vehicle_damage           object\n",
       "annual_premium          float64\n",
       "policy_sales_channel    float64\n",
       "vintage                   int64\n",
       "dtype: object"
      ]
     },
     "execution_count": 15,
     "metadata": {},
     "output_type": "execute_result"
    }
   ],
   "source": [
    "df9.dtypes"
   ]
  },
  {
   "cell_type": "code",
   "execution_count": 16,
   "metadata": {
    "ExecuteTime": {
     "end_time": "2021-03-07T01:13:34.424912Z",
     "start_time": "2021-03-07T01:13:34.421091Z"
    },
    "hidden": true
   },
   "outputs": [],
   "source": [
    "df9['region_code'] = df9['region_code'].astype(int)\n",
    "df9['policy_sales_channel'] = df9['policy_sales_channel'].astype(int)"
   ]
  },
  {
   "cell_type": "code",
   "execution_count": 17,
   "metadata": {
    "ExecuteTime": {
     "end_time": "2021-03-07T01:13:34.444236Z",
     "start_time": "2021-03-07T01:13:34.425835Z"
    },
    "hidden": true
   },
   "outputs": [
    {
     "data": {
      "text/plain": [
       "id                      0\n",
       "gender                  0\n",
       "age                     0\n",
       "driving_license         0\n",
       "region_code             0\n",
       "previously_insured      0\n",
       "vehicle_age             0\n",
       "vehicle_damage          0\n",
       "annual_premium          0\n",
       "policy_sales_channel    0\n",
       "vintage                 0\n",
       "dtype: int64"
      ]
     },
     "execution_count": 17,
     "metadata": {},
     "output_type": "execute_result"
    }
   ],
   "source": [
    "df9.isna().sum()"
   ]
  },
  {
   "cell_type": "code",
   "execution_count": 18,
   "metadata": {
    "ExecuteTime": {
     "end_time": "2021-03-07T01:13:34.447138Z",
     "start_time": "2021-03-07T01:13:34.445257Z"
    },
    "hidden": true
   },
   "outputs": [],
   "source": [
    "def damage_map(damage):\n",
    "    if damage == 'Yes':\n",
    "        return 1\n",
    "    else:\n",
    "        return 0"
   ]
  },
  {
   "cell_type": "code",
   "execution_count": 19,
   "metadata": {
    "ExecuteTime": {
     "end_time": "2021-03-07T01:13:34.485135Z",
     "start_time": "2021-03-07T01:13:34.448125Z"
    },
    "hidden": true
   },
   "outputs": [],
   "source": [
    "vehicle_hist = df9['vehicle_damage'].map(damage_map) + 1 - df9['previously_insured']"
   ]
  },
  {
   "cell_type": "code",
   "execution_count": 20,
   "metadata": {
    "ExecuteTime": {
     "end_time": "2021-03-07T01:13:34.489453Z",
     "start_time": "2021-03-07T01:13:34.486927Z"
    },
    "hidden": true
   },
   "outputs": [],
   "source": [
    "df9.insert(loc=len(df9.columns)-1, column='vehicle_hist', value=vehicle_hist)"
   ]
  },
  {
   "cell_type": "code",
   "execution_count": 21,
   "metadata": {
    "ExecuteTime": {
     "end_time": "2021-03-07T01:13:34.561156Z",
     "start_time": "2021-03-07T01:13:34.490522Z"
    },
    "hidden": true
   },
   "outputs": [],
   "source": [
    "#gender: \"One-hot\" encoder\n",
    "df9 = pd.get_dummies(df9, prefix='gender', columns=['gender'])\n",
    "\n",
    "# age - RobustScaler\n",
    "df9['age'] = rs_age.transform(df9[['age']].values)\n",
    "\n",
    "# region_code - frequency encoding\n",
    "df9['region_code'] = df9['region_code'].map(region_freq)\n",
    "\n",
    "# policy_sales_channel - frequency encoding\n",
    "df9['policy_sales_channel'] = df9['policy_sales_channel'].map(channel_freq)\n",
    "\n",
    "# annual_premium - RobustScaler\n",
    "df9['annual_premium'] = rs_premium.transform(df9[['annual_premium']].values)\n",
    "\n",
    "# vintage - MinMaxScaler\n",
    "df9['vintage'] = mms_vintage.transform(df9[['vintage']].values)\n",
    "\n",
    "# vehicle_age - LabelEncoder\n",
    "df9['vehicle_age'] = age_encoder.transform(df9['vehicle_age'])\n",
    "\n",
    "# vehicle_damage - LabelEncoder\n",
    "df9['vehicle_damage'] = damage_encoder.transform(df9['vehicle_damage'])"
   ]
  },
  {
   "cell_type": "code",
   "execution_count": 22,
   "metadata": {
    "ExecuteTime": {
     "end_time": "2021-03-07T01:13:34.569035Z",
     "start_time": "2021-03-07T01:13:34.562260Z"
    },
    "hidden": true
   },
   "outputs": [],
   "source": [
    "df9 = df9[cols_selected_boruta_resampled_full].copy()"
   ]
  },
  {
   "cell_type": "code",
   "execution_count": 23,
   "metadata": {
    "ExecuteTime": {
     "end_time": "2021-03-07T01:13:34.577911Z",
     "start_time": "2021-03-07T01:13:34.572108Z"
    },
    "hidden": true
   },
   "outputs": [],
   "source": [
    "df_validation = df_validation[cols_selected_boruta_resampled_resp].copy()"
   ]
  },
  {
   "cell_type": "markdown",
   "metadata": {
    "heading_collapsed": true
   },
   "source": [
    "# 9.0 Business Performance"
   ]
  },
  {
   "cell_type": "code",
   "execution_count": 24,
   "metadata": {
    "ExecuteTime": {
     "end_time": "2021-03-07T01:13:34.900740Z",
     "start_time": "2021-03-07T01:13:34.579389Z"
    },
    "hidden": true
   },
   "outputs": [],
   "source": [
    "df_validated = validation_data(xgb_validated, df_validation)"
   ]
  },
  {
   "cell_type": "markdown",
   "metadata": {
    "heading_collapsed": true,
    "hidden": true
   },
   "source": [
    "## 9.1 Model Performance - metrics on validation"
   ]
  },
  {
   "cell_type": "code",
   "execution_count": 25,
   "metadata": {
    "ExecuteTime": {
     "end_time": "2021-03-07T01:13:34.909579Z",
     "start_time": "2021-03-07T01:13:34.901917Z"
    },
    "cell_style": "center",
    "hidden": true,
    "hide_input": false,
    "scrolled": true
   },
   "outputs": [
    {
     "data": {
      "text/html": [
       "<div>\n",
       "<style scoped>\n",
       "    .dataframe tbody tr th:only-of-type {\n",
       "        vertical-align: middle;\n",
       "    }\n",
       "\n",
       "    .dataframe tbody tr th {\n",
       "        vertical-align: top;\n",
       "    }\n",
       "\n",
       "    .dataframe thead th {\n",
       "        text-align: right;\n",
       "    }\n",
       "</style>\n",
       "<table border=\"1\" class=\"dataframe\">\n",
       "  <thead>\n",
       "    <tr style=\"text-align: right;\">\n",
       "      <th></th>\n",
       "      <th>ranking_metrics</th>\n",
       "    </tr>\n",
       "  </thead>\n",
       "  <tbody>\n",
       "    <tr>\n",
       "      <th>precision_at_20000</th>\n",
       "      <td>0.320234</td>\n",
       "    </tr>\n",
       "    <tr>\n",
       "      <th>recall_at_20000</th>\n",
       "      <td>0.685613</td>\n",
       "    </tr>\n",
       "  </tbody>\n",
       "</table>\n",
       "</div>"
      ],
      "text/plain": [
       "                    ranking_metrics\n",
       "precision_at_20000         0.320234\n",
       "recall_at_20000            0.685613"
      ]
     },
     "execution_count": 25,
     "metadata": {},
     "output_type": "execute_result"
    }
   ],
   "source": [
    "metrics = validation_metrics(df_validated, 20000)\n",
    "metrics"
   ]
  },
  {
   "cell_type": "code",
   "execution_count": 26,
   "metadata": {
    "ExecuteTime": {
     "end_time": "2021-03-07T01:13:34.915889Z",
     "start_time": "2021-03-07T01:13:34.910590Z"
    },
    "cell_style": "center",
    "hidden": true,
    "hide_input": false,
    "scrolled": true
   },
   "outputs": [
    {
     "data": {
      "text/html": [
       "<div>\n",
       "<style scoped>\n",
       "    .dataframe tbody tr th:only-of-type {\n",
       "        vertical-align: middle;\n",
       "    }\n",
       "\n",
       "    .dataframe tbody tr th {\n",
       "        vertical-align: top;\n",
       "    }\n",
       "\n",
       "    .dataframe thead th {\n",
       "        text-align: right;\n",
       "    }\n",
       "</style>\n",
       "<table border=\"1\" class=\"dataframe\">\n",
       "  <thead>\n",
       "    <tr style=\"text-align: right;\">\n",
       "      <th></th>\n",
       "      <th>ranking_metrics</th>\n",
       "    </tr>\n",
       "  </thead>\n",
       "  <tbody>\n",
       "    <tr>\n",
       "      <th>precision_at_40000</th>\n",
       "      <td>0.231669</td>\n",
       "    </tr>\n",
       "    <tr>\n",
       "      <th>recall_at_40000</th>\n",
       "      <td>0.991972</td>\n",
       "    </tr>\n",
       "  </tbody>\n",
       "</table>\n",
       "</div>"
      ],
      "text/plain": [
       "                    ranking_metrics\n",
       "precision_at_40000         0.231669\n",
       "recall_at_40000            0.991972"
      ]
     },
     "execution_count": 26,
     "metadata": {},
     "output_type": "execute_result"
    }
   ],
   "source": [
    "metrics = validation_metrics(df_validated, 40000)\n",
    "metrics"
   ]
  },
  {
   "cell_type": "code",
   "execution_count": 27,
   "metadata": {
    "ExecuteTime": {
     "end_time": "2021-03-07T01:13:35.277727Z",
     "start_time": "2021-03-07T01:13:34.916947Z"
    },
    "hidden": true,
    "hide_input": false
   },
   "outputs": [],
   "source": [
    "# separate X and Y data:\n",
    "xval = df_validation.drop(['id', 'response'], axis=1)\n",
    "yval = df_validation.response\n",
    "\n",
    "# predict_proba:\n",
    "yhat_proba = xgb_validated.predict_proba(xval)"
   ]
  },
  {
   "cell_type": "code",
   "execution_count": 28,
   "metadata": {
    "ExecuteTime": {
     "end_time": "2021-03-07T01:13:35.458188Z",
     "start_time": "2021-03-07T01:13:35.278956Z"
    },
    "cell_style": "center",
    "hidden": true,
    "hide_input": false
   },
   "outputs": [
    {
     "data": {
      "image/png": "[encoded data removed]",
      "text/plain": [
       "<Figure size 432x288 with 1 Axes>"
      ]
     },
     "metadata": {
      "needs_background": "light"
     },
     "output_type": "display_data"
    }
   ],
   "source": [
    "skplt.metrics.plot_cumulative_gain(yval, yhat_proba);"
   ]
  },
  {
   "cell_type": "code",
   "execution_count": 29,
   "metadata": {
    "ExecuteTime": {
     "end_time": "2021-03-07T01:13:35.617094Z",
     "start_time": "2021-03-07T01:13:35.459311Z"
    },
    "cell_style": "center",
    "hidden": true,
    "hide_input": false,
    "scrolled": true
   },
   "outputs": [
    {
     "data": {
      "image/png": "[encoded data removed]",
      "text/plain": [
       "<Figure size 432x288 with 1 Axes>"
      ]
     },
     "metadata": {
      "needs_background": "light"
     },
     "output_type": "display_data"
    }
   ],
   "source": [
    "skplt.metrics.plot_lift_curve(yval, yhat_proba);"
   ]
  },
  {
   "cell_type": "code",
   "execution_count": 30,
   "metadata": {
    "ExecuteTime": {
     "end_time": "2021-03-07T01:13:35.822003Z",
     "start_time": "2021-03-07T01:13:35.618234Z"
    },
    "cell_style": "center",
    "hidden": true,
    "hide_input": false
   },
   "outputs": [
    {
     "data": {
      "image/png": "[encoded data removed]",
      "text/plain": [
       "<Figure size 432x288 with 1 Axes>"
      ]
     },
     "metadata": {
      "needs_background": "light"
     },
     "output_type": "display_data"
    }
   ],
   "source": [
    "skplt.metrics.plot_roc(yval, yhat_proba);"
   ]
  },
  {
   "cell_type": "markdown",
   "metadata": {
    "heading_collapsed": true,
    "hidden": true
   },
   "source": [
    "### 9.1.1 80% of potentially interested"
   ]
  },
  {
   "cell_type": "code",
   "execution_count": 31,
   "metadata": {
    "ExecuteTime": {
     "end_time": "2021-03-07T01:13:35.831244Z",
     "start_time": "2021-03-07T01:13:35.823634Z"
    },
    "cell_style": "center",
    "hidden": true,
    "hide_input": false,
    "scrolled": true
   },
   "outputs": [
    {
     "name": "stdout",
     "output_type": "stream",
     "text": [
      "The marketing team will call 80% of the interested customers if they call 24309 people.\n"
     ]
    }
   ],
   "source": [
    "interested_80 = df_validated[df_validated['recall_at_k'] >= 0.8].index.min()\n",
    "print('The marketing team will call 80% of the interested customers if they call {} people.'.format(interested_80))"
   ]
  },
  {
   "cell_type": "markdown",
   "metadata": {
    "heading_collapsed": true,
    "hidden": true
   },
   "source": [
    "## 9.2 Business performance"
   ]
  },
  {
   "cell_type": "code",
   "execution_count": 32,
   "metadata": {
    "ExecuteTime": {
     "end_time": "2021-03-07T01:13:36.407856Z",
     "start_time": "2021-03-07T01:13:35.832303Z"
    },
    "hidden": true
   },
   "outputs": [],
   "source": [
    "df9_predictions = model_predict(xgb_validated, df9)"
   ]
  },
  {
   "cell_type": "code",
   "execution_count": 33,
   "metadata": {
    "ExecuteTime": {
     "end_time": "2021-03-07T01:13:36.424490Z",
     "start_time": "2021-03-07T01:13:36.409077Z"
    },
    "hidden": true
   },
   "outputs": [
    {
     "data": {
      "text/html": [
       "<div>\n",
       "<style scoped>\n",
       "    .dataframe tbody tr th:only-of-type {\n",
       "        vertical-align: middle;\n",
       "    }\n",
       "\n",
       "    .dataframe tbody tr th {\n",
       "        vertical-align: top;\n",
       "    }\n",
       "\n",
       "    .dataframe thead th {\n",
       "        text-align: right;\n",
       "    }\n",
       "</style>\n",
       "<table border=\"1\" class=\"dataframe\">\n",
       "  <thead>\n",
       "    <tr style=\"text-align: right;\">\n",
       "      <th></th>\n",
       "      <th>age</th>\n",
       "      <th>policy_sales_channel</th>\n",
       "      <th>previously_insured</th>\n",
       "      <th>annual_premium</th>\n",
       "      <th>vintage</th>\n",
       "      <th>vehicle_hist</th>\n",
       "      <th>gender_Male</th>\n",
       "      <th>id</th>\n",
       "      <th>gender_Female</th>\n",
       "      <th>score</th>\n",
       "    </tr>\n",
       "  </thead>\n",
       "  <tbody>\n",
       "    <tr>\n",
       "      <th>0</th>\n",
       "      <td>-0.428571</td>\n",
       "      <td>0.001831</td>\n",
       "      <td>0</td>\n",
       "      <td>5.480563</td>\n",
       "      <td>0.332180</td>\n",
       "      <td>2</td>\n",
       "      <td>1</td>\n",
       "      <td>465250</td>\n",
       "      <td>0</td>\n",
       "      <td>0.992677</td>\n",
       "    </tr>\n",
       "    <tr>\n",
       "      <th>1</th>\n",
       "      <td>-0.142857</td>\n",
       "      <td>0.001910</td>\n",
       "      <td>0</td>\n",
       "      <td>0.614371</td>\n",
       "      <td>0.387543</td>\n",
       "      <td>2</td>\n",
       "      <td>1</td>\n",
       "      <td>402420</td>\n",
       "      <td>0</td>\n",
       "      <td>0.992603</td>\n",
       "    </tr>\n",
       "    <tr>\n",
       "      <th>2</th>\n",
       "      <td>-0.238095</td>\n",
       "      <td>0.001910</td>\n",
       "      <td>0</td>\n",
       "      <td>-0.095367</td>\n",
       "      <td>0.449827</td>\n",
       "      <td>2</td>\n",
       "      <td>1</td>\n",
       "      <td>407285</td>\n",
       "      <td>0</td>\n",
       "      <td>0.991615</td>\n",
       "    </tr>\n",
       "    <tr>\n",
       "      <th>3</th>\n",
       "      <td>-0.047619</td>\n",
       "      <td>0.001882</td>\n",
       "      <td>0</td>\n",
       "      <td>0.742103</td>\n",
       "      <td>0.394464</td>\n",
       "      <td>2</td>\n",
       "      <td>1</td>\n",
       "      <td>396054</td>\n",
       "      <td>0</td>\n",
       "      <td>0.991526</td>\n",
       "    </tr>\n",
       "    <tr>\n",
       "      <th>4</th>\n",
       "      <td>-0.190476</td>\n",
       "      <td>0.001886</td>\n",
       "      <td>0</td>\n",
       "      <td>-0.137153</td>\n",
       "      <td>0.626298</td>\n",
       "      <td>2</td>\n",
       "      <td>1</td>\n",
       "      <td>482054</td>\n",
       "      <td>0</td>\n",
       "      <td>0.990970</td>\n",
       "    </tr>\n",
       "    <tr>\n",
       "      <th>...</th>\n",
       "      <td>...</td>\n",
       "      <td>...</td>\n",
       "      <td>...</td>\n",
       "      <td>...</td>\n",
       "      <td>...</td>\n",
       "      <td>...</td>\n",
       "      <td>...</td>\n",
       "      <td>...</td>\n",
       "      <td>...</td>\n",
       "      <td>...</td>\n",
       "    </tr>\n",
       "    <tr>\n",
       "      <th>127032</th>\n",
       "      <td>1.428571</td>\n",
       "      <td>0.156798</td>\n",
       "      <td>1</td>\n",
       "      <td>2.075183</td>\n",
       "      <td>0.349481</td>\n",
       "      <td>0</td>\n",
       "      <td>0</td>\n",
       "      <td>474611</td>\n",
       "      <td>1</td>\n",
       "      <td>0.000238</td>\n",
       "    </tr>\n",
       "    <tr>\n",
       "      <th>127033</th>\n",
       "      <td>1.857143</td>\n",
       "      <td>0.156798</td>\n",
       "      <td>1</td>\n",
       "      <td>1.183493</td>\n",
       "      <td>0.598616</td>\n",
       "      <td>0</td>\n",
       "      <td>0</td>\n",
       "      <td>443807</td>\n",
       "      <td>1</td>\n",
       "      <td>0.000236</td>\n",
       "    </tr>\n",
       "    <tr>\n",
       "      <th>127034</th>\n",
       "      <td>1.761905</td>\n",
       "      <td>0.156798</td>\n",
       "      <td>1</td>\n",
       "      <td>1.250917</td>\n",
       "      <td>0.377163</td>\n",
       "      <td>0</td>\n",
       "      <td>0</td>\n",
       "      <td>426280</td>\n",
       "      <td>1</td>\n",
       "      <td>0.000235</td>\n",
       "    </tr>\n",
       "    <tr>\n",
       "      <th>127035</th>\n",
       "      <td>1.904762</td>\n",
       "      <td>0.156798</td>\n",
       "      <td>1</td>\n",
       "      <td>1.235535</td>\n",
       "      <td>0.546713</td>\n",
       "      <td>0</td>\n",
       "      <td>0</td>\n",
       "      <td>398264</td>\n",
       "      <td>1</td>\n",
       "      <td>0.000230</td>\n",
       "    </tr>\n",
       "    <tr>\n",
       "      <th>127036</th>\n",
       "      <td>1.904762</td>\n",
       "      <td>0.156798</td>\n",
       "      <td>1</td>\n",
       "      <td>1.104919</td>\n",
       "      <td>0.304498</td>\n",
       "      <td>0</td>\n",
       "      <td>0</td>\n",
       "      <td>411158</td>\n",
       "      <td>1</td>\n",
       "      <td>0.000224</td>\n",
       "    </tr>\n",
       "  </tbody>\n",
       "</table>\n",
       "<p>127037 rows × 10 columns</p>\n",
       "</div>"
      ],
      "text/plain": [
       "             age  policy_sales_channel  previously_insured  annual_premium  \\\n",
       "0      -0.428571              0.001831                   0        5.480563   \n",
       "1      -0.142857              0.001910                   0        0.614371   \n",
       "2      -0.238095              0.001910                   0       -0.095367   \n",
       "3      -0.047619              0.001882                   0        0.742103   \n",
       "4      -0.190476              0.001886                   0       -0.137153   \n",
       "...          ...                   ...                 ...             ...   \n",
       "127032  1.428571              0.156798                   1        2.075183   \n",
       "127033  1.857143              0.156798                   1        1.183493   \n",
       "127034  1.761905              0.156798                   1        1.250917   \n",
       "127035  1.904762              0.156798                   1        1.235535   \n",
       "127036  1.904762              0.156798                   1        1.104919   \n",
       "\n",
       "         vintage  vehicle_hist  gender_Male      id  gender_Female     score  \n",
       "0       0.332180             2            1  465250              0  0.992677  \n",
       "1       0.387543             2            1  402420              0  0.992603  \n",
       "2       0.449827             2            1  407285              0  0.991615  \n",
       "3       0.394464             2            1  396054              0  0.991526  \n",
       "4       0.626298             2            1  482054              0  0.990970  \n",
       "...          ...           ...          ...     ...            ...       ...  \n",
       "127032  0.349481             0            0  474611              1  0.000238  \n",
       "127033  0.598616             0            0  443807              1  0.000236  \n",
       "127034  0.377163             0            0  426280              1  0.000235  \n",
       "127035  0.546713             0            0  398264              1  0.000230  \n",
       "127036  0.304498             0            0  411158              1  0.000224  \n",
       "\n",
       "[127037 rows x 10 columns]"
      ]
     },
     "execution_count": 33,
     "metadata": {},
     "output_type": "execute_result"
    }
   ],
   "source": [
    "df9_predictions"
   ]
  },
  {
   "cell_type": "code",
   "execution_count": 34,
   "metadata": {
    "ExecuteTime": {
     "end_time": "2021-03-07T01:13:36.438304Z",
     "start_time": "2021-03-07T01:13:36.425544Z"
    },
    "hidden": true
   },
   "outputs": [],
   "source": [
    "df9_predictions.to_pickle(home_path + '/interim/predictions_nn_boruta_new.pkl')"
   ]
  }
 ],
 "metadata": {
  "kernelspec": {
   "display_name": "Python 3",
   "language": "python",
   "name": "python3"
  },
  "language_info": {
   "codemirror_mode": {
    "name": "ipython",
    "version": 3
   },
   "file_extension": ".py",
   "mimetype": "text/x-python",
   "name": "python",
   "nbconvert_exporter": "python",
   "pygments_lexer": "ipython3",
   "version": "3.8.5"
  }
 },
 "nbformat": 4,
 "nbformat_minor": 4
}
