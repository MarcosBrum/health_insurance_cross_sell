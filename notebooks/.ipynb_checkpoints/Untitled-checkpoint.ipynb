{
 "cells": [
  {
   "cell_type": "code",
   "execution_count": 1,
   "id": "dried-beach",
   "metadata": {
    "ExecuteTime": {
     "end_time": "2021-03-06T20:07:21.528854Z",
     "start_time": "2021-03-06T20:07:21.357289Z"
    }
   },
   "outputs": [],
   "source": [
    "import pickle\n",
    "import joblib"
   ]
  },
  {
   "cell_type": "code",
   "execution_count": 2,
   "id": "changing-cloud",
   "metadata": {
    "ExecuteTime": {
     "end_time": "2021-03-06T20:10:27.267596Z",
     "start_time": "2021-03-06T20:10:27.261171Z"
    }
   },
   "outputs": [],
   "source": [
    "home_path = \"/home/marcos/Documentos/comunidade_DS/pa004_health_insurance_cross_sell/\""
   ]
  },
  {
   "cell_type": "code",
   "execution_count": 3,
   "id": "light-lambda",
   "metadata": {
    "ExecuteTime": {
     "end_time": "2021-03-06T20:10:30.630316Z",
     "start_time": "2021-03-06T20:10:28.285921Z"
    }
   },
   "outputs": [],
   "source": [
    "bal_rf_tuned = pickle.load(open(home_path + 'ml_models_comp/bal_rf_validated.pkl', 'rb'))"
   ]
  },
  {
   "cell_type": "code",
   "execution_count": 6,
   "id": "detailed-break",
   "metadata": {
    "ExecuteTime": {
     "end_time": "2021-03-06T20:40:53.114536Z",
     "start_time": "2021-03-06T20:25:09.436100Z"
    }
   },
   "outputs": [],
   "source": [
    "joblib.dump(bal_rf_tuned, open(home_path + 'ml_models_comp/bal_rf_validated.joblib', 'wb'), compress=('zlib', 9))"
   ]
  }
 ],
 "metadata": {
  "kernelspec": {
   "display_name": "Python 3",
   "language": "python",
   "name": "python3"
  },
  "language_info": {
   "codemirror_mode": {
    "name": "ipython",
    "version": 3
   },
   "file_extension": ".py",
   "mimetype": "text/x-python",
   "name": "python",
   "nbconvert_exporter": "python",
   "pygments_lexer": "ipython3",
   "version": "3.8.5"
  }
 },
 "nbformat": 4,
 "nbformat_minor": 5
}
