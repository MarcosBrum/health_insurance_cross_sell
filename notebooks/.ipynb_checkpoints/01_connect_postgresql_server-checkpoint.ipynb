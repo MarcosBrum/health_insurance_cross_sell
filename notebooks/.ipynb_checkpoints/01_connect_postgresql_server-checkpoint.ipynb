{
 "cells": [
  {
   "cell_type": "markdown",
   "metadata": {
    "heading_collapsed": true
   },
   "source": [
    "# 0.0 Load modules"
   ]
  },
  {
   "cell_type": "markdown",
   "metadata": {
    "hidden": true
   },
   "source": [
    "Load the necessary modules to connect to the cloud database, import the tables and create a dataframe:"
   ]
  },
  {
   "cell_type": "code",
   "execution_count": 1,
   "metadata": {
    "ExecuteTime": {
     "end_time": "2021-03-12T12:59:53.604635Z",
     "start_time": "2021-03-12T12:59:53.321239Z"
    },
    "hidden": true
   },
   "outputs": [],
   "source": [
    "import psycopg2 as pg2\n",
    "import json\n",
    "\n",
    "import pandas as pd"
   ]
  },
  {
   "cell_type": "markdown",
   "metadata": {
    "heading_collapsed": true
   },
   "source": [
    "# 1.0 Connect to database"
   ]
  },
  {
   "cell_type": "markdown",
   "metadata": {
    "hidden": true
   },
   "source": [
    "Create connection:"
   ]
  },
  {
   "cell_type": "code",
   "execution_count": 2,
   "metadata": {
    "ExecuteTime": {
     "end_time": "2021-03-12T12:59:53.610225Z",
     "start_time": "2021-03-12T12:59:53.606352Z"
    },
    "hidden": true
   },
   "outputs": [],
   "source": [
    "def create_connection(db_host, db_port, db_database, db_user, db_password):\n",
    "    conn = None\n",
    "    try:\n",
    "        conn = pg2.connect(\n",
    "        host = db_host,\n",
    "        port = db_port,\n",
    "        database = db_database,\n",
    "        user = db_user,\n",
    "        password = db_password,\n",
    "        )\n",
    "        print('Conexão do banco de dados PostreSQL bem-sucedida!')\n",
    "    except pg2.OperationalError as e:\n",
    "        print('Erro {} ocorreu.'.format(e))\n",
    "    return conn"
   ]
  },
  {
   "cell_type": "markdown",
   "metadata": {
    "hidden": true
   },
   "source": [
    "Connect to the PA database:"
   ]
  },
  {
   "cell_type": "code",
   "execution_count": 3,
   "metadata": {
    "ExecuteTime": {
     "end_time": "2021-03-12T13:00:03.157514Z",
     "start_time": "2021-03-12T12:59:53.615035Z"
    },
    "hidden": true
   },
   "outputs": [
    {
     "name": "stdout",
     "output_type": "stream",
     "text": [
      "Conexão do banco de dados PostreSQL bem-sucedida!\n"
     ]
    }
   ],
   "source": [
    "credentials = json.load(open('.credentials.json', 'r'))\n",
    "\n",
    "connect_db = create_connection(credentials['host'],\n",
    "                               credentials['port'],\n",
    "                               credentials['database'],\n",
    "                               credentials['user'],\n",
    "                              credentials['password'])"
   ]
  },
  {
   "cell_type": "markdown",
   "metadata": {
    "heading_collapsed": true
   },
   "source": [
    "# 2.0 Extract the tables"
   ]
  },
  {
   "cell_type": "markdown",
   "metadata": {
    "hidden": true
   },
   "source": [
    "Create a cursor"
   ]
  },
  {
   "cell_type": "code",
   "execution_count": 4,
   "metadata": {
    "ExecuteTime": {
     "end_time": "2021-03-12T13:00:03.915405Z",
     "start_time": "2021-03-12T13:00:03.162618Z"
    },
    "hidden": true
   },
   "outputs": [
    {
     "name": "stdout",
     "output_type": "stream",
     "text": [
      "('comunidadedsdb', 'pa004', 'users', 'BASE TABLE', None, None, None, None, None, 'YES', 'NO', None)\n",
      "('comunidadedsdb', 'pa004', 'vehicle', 'BASE TABLE', None, None, None, None, None, 'YES', 'NO', None)\n",
      "('comunidadedsdb', 'pa004', 'insurance', 'BASE TABLE', None, None, None, None, None, 'YES', 'NO', None)\n",
      "('comunidadedsdb', 'pg_catalog', 'pg_type', 'BASE TABLE', None, None, None, None, None, 'YES', 'NO', None)\n",
      "('comunidadedsdb', 'pg_catalog', 'pg_foreign_server', 'BASE TABLE', None, None, None, None, None, 'YES', 'NO', None)\n",
      "('comunidadedsdb', 'pg_catalog', 'pg_roles', 'VIEW', None, None, None, None, None, 'NO', 'NO', None)\n",
      "('comunidadedsdb', 'pg_catalog', 'pg_settings', 'VIEW', None, None, None, None, None, 'NO', 'NO', None)\n",
      "('comunidadedsdb', 'pg_catalog', 'pg_cursors', 'VIEW', None, None, None, None, None, 'NO', 'NO', None)\n",
      "('comunidadedsdb', 'pg_catalog', 'pg_stat_bgwriter', 'VIEW', None, None, None, None, None, 'NO', 'NO', None)\n",
      "('comunidadedsdb', 'pg_catalog', 'pg_subscription', 'BASE TABLE', None, None, None, None, None, 'YES', 'NO', None)\n",
      "('comunidadedsdb', 'pg_catalog', 'pg_stat_progress_vacuum', 'VIEW', None, None, None, None, None, 'NO', 'NO', None)\n",
      "('comunidadedsdb', 'pg_catalog', 'pg_stat_progress_cluster', 'VIEW', None, None, None, None, None, 'NO', 'NO', None)\n",
      "('comunidadedsdb', 'pg_catalog', 'pg_attribute', 'BASE TABLE', None, None, None, None, None, 'YES', 'NO', None)\n",
      "('comunidadedsdb', 'pg_catalog', 'pg_proc', 'BASE TABLE', None, None, None, None, None, 'YES', 'NO', None)\n",
      "('comunidadedsdb', 'pg_catalog', 'pg_class', 'BASE TABLE', None, None, None, None, None, 'YES', 'NO', None)\n",
      "('comunidadedsdb', 'pg_catalog', 'pg_attrdef', 'BASE TABLE', None, None, None, None, None, 'YES', 'NO', None)\n",
      "('comunidadedsdb', 'pg_catalog', 'pg_constraint', 'BASE TABLE', None, None, None, None, None, 'YES', 'NO', None)\n",
      "('comunidadedsdb', 'pg_catalog', 'pg_inherits', 'BASE TABLE', None, None, None, None, None, 'YES', 'NO', None)\n",
      "('comunidadedsdb', 'pg_catalog', 'pg_index', 'BASE TABLE', None, None, None, None, None, 'YES', 'NO', None)\n",
      "('comunidadedsdb', 'pg_catalog', 'pg_operator', 'BASE TABLE', None, None, None, None, None, 'YES', 'NO', None)\n",
      "('comunidadedsdb', 'pg_catalog', 'pg_opfamily', 'BASE TABLE', None, None, None, None, None, 'YES', 'NO', None)\n",
      "('comunidadedsdb', 'pg_catalog', 'pg_opclass', 'BASE TABLE', None, None, None, None, None, 'YES', 'NO', None)\n",
      "('comunidadedsdb', 'pg_catalog', 'pg_am', 'BASE TABLE', None, None, None, None, None, 'YES', 'NO', None)\n",
      "('comunidadedsdb', 'pg_catalog', 'pg_amop', 'BASE TABLE', None, None, None, None, None, 'YES', 'NO', None)\n",
      "('comunidadedsdb', 'pg_catalog', 'pg_amproc', 'BASE TABLE', None, None, None, None, None, 'YES', 'NO', None)\n",
      "('comunidadedsdb', 'pg_catalog', 'pg_language', 'BASE TABLE', None, None, None, None, None, 'YES', 'NO', None)\n",
      "('comunidadedsdb', 'pg_catalog', 'pg_largeobject_metadata', 'BASE TABLE', None, None, None, None, None, 'YES', 'NO', None)\n",
      "('comunidadedsdb', 'pg_catalog', 'pg_aggregate', 'BASE TABLE', None, None, None, None, None, 'YES', 'NO', None)\n",
      "('comunidadedsdb', 'pg_catalog', 'pg_stat_progress_create_index', 'VIEW', None, None, None, None, None, 'NO', 'NO', None)\n",
      "('comunidadedsdb', 'pg_catalog', 'pg_user_mappings', 'VIEW', None, None, None, None, None, 'NO', 'NO', None)\n",
      "('comunidadedsdb', 'pg_catalog', 'pg_statistic_ext', 'BASE TABLE', None, None, None, None, None, 'YES', 'NO', None)\n",
      "('comunidadedsdb', 'pg_catalog', 'pg_rewrite', 'BASE TABLE', None, None, None, None, None, 'YES', 'NO', None)\n",
      "('comunidadedsdb', 'pg_catalog', 'pg_trigger', 'BASE TABLE', None, None, None, None, None, 'YES', 'NO', None)\n",
      "('comunidadedsdb', 'pg_catalog', 'pg_event_trigger', 'BASE TABLE', None, None, None, None, None, 'YES', 'NO', None)\n",
      "('comunidadedsdb', 'pg_catalog', 'pg_description', 'BASE TABLE', None, None, None, None, None, 'YES', 'NO', None)\n",
      "('comunidadedsdb', 'pg_catalog', 'pg_cast', 'BASE TABLE', None, None, None, None, None, 'YES', 'NO', None)\n",
      "('comunidadedsdb', 'pg_catalog', 'pg_enum', 'BASE TABLE', None, None, None, None, None, 'YES', 'NO', None)\n",
      "('comunidadedsdb', 'pg_catalog', 'pg_namespace', 'BASE TABLE', None, None, None, None, None, 'YES', 'NO', None)\n",
      "('comunidadedsdb', 'pg_catalog', 'pg_conversion', 'BASE TABLE', None, None, None, None, None, 'YES', 'NO', None)\n",
      "('comunidadedsdb', 'pg_catalog', 'pg_depend', 'BASE TABLE', None, None, None, None, None, 'YES', 'NO', None)\n",
      "('comunidadedsdb', 'pg_catalog', 'pg_database', 'BASE TABLE', None, None, None, None, None, 'YES', 'NO', None)\n",
      "('comunidadedsdb', 'pg_catalog', 'pg_db_role_setting', 'BASE TABLE', None, None, None, None, None, 'YES', 'NO', None)\n",
      "('comunidadedsdb', 'pg_catalog', 'pg_tablespace', 'BASE TABLE', None, None, None, None, None, 'YES', 'NO', None)\n",
      "('comunidadedsdb', 'pg_catalog', 'pg_pltemplate', 'BASE TABLE', None, None, None, None, None, 'YES', 'NO', None)\n",
      "('comunidadedsdb', 'pg_catalog', 'pg_auth_members', 'BASE TABLE', None, None, None, None, None, 'YES', 'NO', None)\n",
      "('comunidadedsdb', 'pg_catalog', 'pg_shdepend', 'BASE TABLE', None, None, None, None, None, 'YES', 'NO', None)\n",
      "('comunidadedsdb', 'pg_catalog', 'pg_shdescription', 'BASE TABLE', None, None, None, None, None, 'YES', 'NO', None)\n",
      "('comunidadedsdb', 'pg_catalog', 'pg_ts_config', 'BASE TABLE', None, None, None, None, None, 'YES', 'NO', None)\n",
      "('comunidadedsdb', 'pg_catalog', 'pg_ts_config_map', 'BASE TABLE', None, None, None, None, None, 'YES', 'NO', None)\n",
      "('comunidadedsdb', 'pg_catalog', 'pg_ts_dict', 'BASE TABLE', None, None, None, None, None, 'YES', 'NO', None)\n",
      "('comunidadedsdb', 'pg_catalog', 'pg_ts_parser', 'BASE TABLE', None, None, None, None, None, 'YES', 'NO', None)\n",
      "('comunidadedsdb', 'pg_catalog', 'pg_ts_template', 'BASE TABLE', None, None, None, None, None, 'YES', 'NO', None)\n",
      "('comunidadedsdb', 'pg_catalog', 'pg_extension', 'BASE TABLE', None, None, None, None, None, 'YES', 'NO', None)\n",
      "('comunidadedsdb', 'pg_catalog', 'pg_foreign_data_wrapper', 'BASE TABLE', None, None, None, None, None, 'YES', 'NO', None)\n",
      "('comunidadedsdb', 'pg_catalog', 'pg_foreign_table', 'BASE TABLE', None, None, None, None, None, 'YES', 'NO', None)\n",
      "('comunidadedsdb', 'pg_catalog', 'pg_policy', 'BASE TABLE', None, None, None, None, None, 'YES', 'NO', None)\n",
      "('comunidadedsdb', 'pg_catalog', 'pg_replication_origin', 'BASE TABLE', None, None, None, None, None, 'YES', 'NO', None)\n",
      "('comunidadedsdb', 'pg_catalog', 'pg_default_acl', 'BASE TABLE', None, None, None, None, None, 'YES', 'NO', None)\n",
      "('comunidadedsdb', 'pg_catalog', 'pg_init_privs', 'BASE TABLE', None, None, None, None, None, 'YES', 'NO', None)\n",
      "('comunidadedsdb', 'pg_catalog', 'pg_seclabel', 'BASE TABLE', None, None, None, None, None, 'YES', 'NO', None)\n",
      "('comunidadedsdb', 'pg_catalog', 'pg_shseclabel', 'BASE TABLE', None, None, None, None, None, 'YES', 'NO', None)\n",
      "('comunidadedsdb', 'pg_catalog', 'pg_collation', 'BASE TABLE', None, None, None, None, None, 'YES', 'NO', None)\n",
      "('comunidadedsdb', 'pg_catalog', 'pg_partitioned_table', 'BASE TABLE', None, None, None, None, None, 'YES', 'NO', None)\n",
      "('comunidadedsdb', 'pg_catalog', 'pg_range', 'BASE TABLE', None, None, None, None, None, 'YES', 'NO', None)\n",
      "('comunidadedsdb', 'pg_catalog', 'pg_transform', 'BASE TABLE', None, None, None, None, None, 'YES', 'NO', None)\n",
      "('comunidadedsdb', 'pg_catalog', 'pg_sequence', 'BASE TABLE', None, None, None, None, None, 'YES', 'NO', None)\n",
      "('comunidadedsdb', 'pg_catalog', 'pg_publication', 'BASE TABLE', None, None, None, None, None, 'YES', 'NO', None)\n",
      "('comunidadedsdb', 'pg_catalog', 'pg_publication_rel', 'BASE TABLE', None, None, None, None, None, 'YES', 'NO', None)\n",
      "('comunidadedsdb', 'pg_catalog', 'pg_subscription_rel', 'BASE TABLE', None, None, None, None, None, 'YES', 'NO', None)\n",
      "('comunidadedsdb', 'pg_catalog', 'pg_group', 'VIEW', None, None, None, None, None, 'YES', 'NO', None)\n",
      "('comunidadedsdb', 'pg_catalog', 'pg_user', 'VIEW', None, None, None, None, None, 'NO', 'NO', None)\n",
      "('comunidadedsdb', 'pg_catalog', 'pg_policies', 'VIEW', None, None, None, None, None, 'NO', 'NO', None)\n",
      "('comunidadedsdb', 'pg_catalog', 'pg_rules', 'VIEW', None, None, None, None, None, 'NO', 'NO', None)\n",
      "('comunidadedsdb', 'pg_catalog', 'pg_views', 'VIEW', None, None, None, None, None, 'NO', 'NO', None)\n",
      "('comunidadedsdb', 'pg_catalog', 'pg_tables', 'VIEW', None, None, None, None, None, 'NO', 'NO', None)\n",
      "('comunidadedsdb', 'pg_catalog', 'pg_matviews', 'VIEW', None, None, None, None, None, 'NO', 'NO', None)\n",
      "('comunidadedsdb', 'pg_catalog', 'pg_indexes', 'VIEW', None, None, None, None, None, 'NO', 'NO', None)\n",
      "('comunidadedsdb', 'pg_catalog', 'pg_sequences', 'VIEW', None, None, None, None, None, 'NO', 'NO', None)\n",
      "('comunidadedsdb', 'pg_catalog', 'pg_stats', 'VIEW', None, None, None, None, None, 'NO', 'NO', None)\n",
      "('comunidadedsdb', 'pg_catalog', 'pg_stats_ext', 'VIEW', None, None, None, None, None, 'NO', 'NO', None)\n",
      "('comunidadedsdb', 'pg_catalog', 'pg_publication_tables', 'VIEW', None, None, None, None, None, 'NO', 'NO', None)\n",
      "('comunidadedsdb', 'pg_catalog', 'pg_locks', 'VIEW', None, None, None, None, None, 'NO', 'NO', None)\n",
      "('comunidadedsdb', 'pg_catalog', 'pg_available_extensions', 'VIEW', None, None, None, None, None, 'NO', 'NO', None)\n",
      "('comunidadedsdb', 'pg_catalog', 'pg_available_extension_versions', 'VIEW', None, None, None, None, None, 'NO', 'NO', None)\n",
      "('comunidadedsdb', 'pg_catalog', 'pg_prepared_xacts', 'VIEW', None, None, None, None, None, 'NO', 'NO', None)\n",
      "('comunidadedsdb', 'pg_catalog', 'pg_prepared_statements', 'VIEW', None, None, None, None, None, 'NO', 'NO', None)\n",
      "('comunidadedsdb', 'pg_catalog', 'pg_seclabels', 'VIEW', None, None, None, None, None, 'NO', 'NO', None)\n",
      "('comunidadedsdb', 'pg_catalog', 'pg_statio_sys_tables', 'VIEW', None, None, None, None, None, 'NO', 'NO', None)\n",
      "('comunidadedsdb', 'pg_catalog', 'pg_timezone_abbrevs', 'VIEW', None, None, None, None, None, 'NO', 'NO', None)\n",
      "('comunidadedsdb', 'pg_catalog', 'pg_timezone_names', 'VIEW', None, None, None, None, None, 'NO', 'NO', None)\n",
      "('comunidadedsdb', 'pg_catalog', 'pg_statio_user_tables', 'VIEW', None, None, None, None, None, 'NO', 'NO', None)\n",
      "('comunidadedsdb', 'pg_catalog', 'pg_stat_all_tables', 'VIEW', None, None, None, None, None, 'NO', 'NO', None)\n",
      "('comunidadedsdb', 'pg_catalog', 'pg_stat_xact_all_tables', 'VIEW', None, None, None, None, None, 'NO', 'NO', None)\n",
      "('comunidadedsdb', 'pg_catalog', 'pg_stat_sys_tables', 'VIEW', None, None, None, None, None, 'NO', 'NO', None)\n",
      "('comunidadedsdb', 'pg_catalog', 'pg_stat_xact_sys_tables', 'VIEW', None, None, None, None, None, 'NO', 'NO', None)\n",
      "('comunidadedsdb', 'pg_catalog', 'pg_stat_user_tables', 'VIEW', None, None, None, None, None, 'NO', 'NO', None)\n",
      "('comunidadedsdb', 'pg_catalog', 'pg_stat_xact_user_tables', 'VIEW', None, None, None, None, None, 'NO', 'NO', None)\n",
      "('comunidadedsdb', 'pg_catalog', 'pg_statio_all_tables', 'VIEW', None, None, None, None, None, 'NO', 'NO', None)\n",
      "('comunidadedsdb', 'pg_catalog', 'pg_stat_all_indexes', 'VIEW', None, None, None, None, None, 'NO', 'NO', None)\n",
      "('comunidadedsdb', 'pg_catalog', 'pg_stat_sys_indexes', 'VIEW', None, None, None, None, None, 'NO', 'NO', None)\n",
      "('comunidadedsdb', 'pg_catalog', 'pg_stat_user_indexes', 'VIEW', None, None, None, None, None, 'NO', 'NO', None)\n",
      "('comunidadedsdb', 'pg_catalog', 'pg_statio_all_indexes', 'VIEW', None, None, None, None, None, 'NO', 'NO', None)\n",
      "('comunidadedsdb', 'pg_catalog', 'pg_statio_sys_indexes', 'VIEW', None, None, None, None, None, 'NO', 'NO', None)\n",
      "('comunidadedsdb', 'pg_catalog', 'pg_statio_user_indexes', 'VIEW', None, None, None, None, None, 'NO', 'NO', None)\n",
      "('comunidadedsdb', 'pg_catalog', 'pg_statio_all_sequences', 'VIEW', None, None, None, None, None, 'NO', 'NO', None)\n",
      "('comunidadedsdb', 'pg_catalog', 'pg_statio_sys_sequences', 'VIEW', None, None, None, None, None, 'NO', 'NO', None)\n",
      "('comunidadedsdb', 'pg_catalog', 'pg_statio_user_sequences', 'VIEW', None, None, None, None, None, 'NO', 'NO', None)\n",
      "('comunidadedsdb', 'pg_catalog', 'pg_stat_activity', 'VIEW', None, None, None, None, None, 'NO', 'NO', None)\n",
      "('comunidadedsdb', 'pg_catalog', 'pg_stat_replication', 'VIEW', None, None, None, None, None, 'NO', 'NO', None)\n",
      "('comunidadedsdb', 'pg_catalog', 'pg_stat_wal_receiver', 'VIEW', None, None, None, None, None, 'NO', 'NO', None)\n",
      "('comunidadedsdb', 'pg_catalog', 'pg_stat_subscription', 'VIEW', None, None, None, None, None, 'NO', 'NO', None)\n",
      "('comunidadedsdb', 'pg_catalog', 'pg_stat_ssl', 'VIEW', None, None, None, None, None, 'NO', 'NO', None)\n",
      "('comunidadedsdb', 'pg_catalog', 'pg_stat_gssapi', 'VIEW', None, None, None, None, None, 'NO', 'NO', None)\n",
      "('comunidadedsdb', 'pg_catalog', 'pg_replication_slots', 'VIEW', None, None, None, None, None, 'NO', 'NO', None)\n",
      "('comunidadedsdb', 'pg_catalog', 'pg_stat_database', 'VIEW', None, None, None, None, None, 'NO', 'NO', None)\n",
      "('comunidadedsdb', 'pg_catalog', 'pg_stat_database_conflicts', 'VIEW', None, None, None, None, None, 'YES', 'NO', None)\n",
      "('comunidadedsdb', 'pg_catalog', 'pg_stat_user_functions', 'VIEW', None, None, None, None, None, 'NO', 'NO', None)\n",
      "('comunidadedsdb', 'pg_catalog', 'pg_stat_xact_user_functions', 'VIEW', None, None, None, None, None, 'NO', 'NO', None)\n",
      "('comunidadedsdb', 'pg_catalog', 'pg_stat_archiver', 'VIEW', None, None, None, None, None, 'NO', 'NO', None)\n",
      "('comunidadedsdb', 'information_schema', 'information_schema_catalog_name', 'VIEW', None, None, None, None, None, 'NO', 'NO', None)\n",
      "('comunidadedsdb', 'information_schema', 'check_constraint_routine_usage', 'VIEW', None, None, None, None, None, 'NO', 'NO', None)\n",
      "('comunidadedsdb', 'information_schema', 'applicable_roles', 'VIEW', None, None, None, None, None, 'NO', 'NO', None)\n",
      "('comunidadedsdb', 'information_schema', 'administrable_role_authorizations', 'VIEW', None, None, None, None, None, 'NO', 'NO', None)\n",
      "('comunidadedsdb', 'information_schema', 'collation_character_set_applicability', 'VIEW', None, None, None, None, None, 'NO', 'NO', None)\n",
      "('comunidadedsdb', 'information_schema', 'attributes', 'VIEW', None, None, None, None, None, 'NO', 'NO', None)\n",
      "('comunidadedsdb', 'information_schema', 'check_constraints', 'VIEW', None, None, None, None, None, 'NO', 'NO', None)\n",
      "('comunidadedsdb', 'information_schema', 'character_sets', 'VIEW', None, None, None, None, None, 'NO', 'NO', None)\n",
      "('comunidadedsdb', 'information_schema', 'collations', 'VIEW', None, None, None, None, None, 'NO', 'NO', None)\n",
      "('comunidadedsdb', 'information_schema', 'column_domain_usage', 'VIEW', None, None, None, None, None, 'NO', 'NO', None)\n",
      "('comunidadedsdb', 'information_schema', 'column_column_usage', 'VIEW', None, None, None, None, None, 'NO', 'NO', None)\n",
      "('comunidadedsdb', 'information_schema', 'column_privileges', 'VIEW', None, None, None, None, None, 'NO', 'NO', None)\n",
      "('comunidadedsdb', 'information_schema', 'column_udt_usage', 'VIEW', None, None, None, None, None, 'NO', 'NO', None)\n",
      "('comunidadedsdb', 'information_schema', 'columns', 'VIEW', None, None, None, None, None, 'NO', 'NO', None)\n",
      "('comunidadedsdb', 'information_schema', 'constraint_column_usage', 'VIEW', None, None, None, None, None, 'NO', 'NO', None)\n",
      "('comunidadedsdb', 'information_schema', 'schemata', 'VIEW', None, None, None, None, None, 'NO', 'NO', None)\n",
      "('comunidadedsdb', 'information_schema', 'constraint_table_usage', 'VIEW', None, None, None, None, None, 'NO', 'NO', None)\n",
      "('comunidadedsdb', 'information_schema', 'domain_constraints', 'VIEW', None, None, None, None, None, 'NO', 'NO', None)\n",
      "('comunidadedsdb', 'information_schema', 'sql_packages', 'BASE TABLE', None, None, None, None, None, 'YES', 'NO', None)\n",
      "('comunidadedsdb', 'information_schema', 'domain_udt_usage', 'VIEW', None, None, None, None, None, 'NO', 'NO', None)\n",
      "('comunidadedsdb', 'information_schema', 'sequences', 'VIEW', None, None, None, None, None, 'NO', 'NO', None)\n",
      "('comunidadedsdb', 'information_schema', 'domains', 'VIEW', None, None, None, None, None, 'NO', 'NO', None)\n",
      "('comunidadedsdb', 'information_schema', 'enabled_roles', 'VIEW', None, None, None, None, None, 'NO', 'NO', None)\n",
      "('comunidadedsdb', 'information_schema', 'key_column_usage', 'VIEW', None, None, None, None, None, 'NO', 'NO', None)\n",
      "('comunidadedsdb', 'information_schema', 'parameters', 'VIEW', None, None, None, None, None, 'NO', 'NO', None)\n",
      "('comunidadedsdb', 'information_schema', 'referential_constraints', 'VIEW', None, None, None, None, None, 'NO', 'NO', None)\n",
      "('comunidadedsdb', 'information_schema', 'sql_features', 'BASE TABLE', None, None, None, None, None, 'YES', 'NO', None)\n",
      "('comunidadedsdb', 'information_schema', 'role_column_grants', 'VIEW', None, None, None, None, None, 'NO', 'NO', None)\n",
      "('comunidadedsdb', 'information_schema', 'routine_privileges', 'VIEW', None, None, None, None, None, 'NO', 'NO', None)\n",
      "('comunidadedsdb', 'information_schema', 'role_routine_grants', 'VIEW', None, None, None, None, None, 'NO', 'NO', None)\n",
      "('comunidadedsdb', 'information_schema', 'routines', 'VIEW', None, None, None, None, None, 'NO', 'NO', None)\n",
      "('comunidadedsdb', 'information_schema', 'sql_implementation_info', 'BASE TABLE', None, None, None, None, None, 'YES', 'NO', None)\n",
      "('comunidadedsdb', 'information_schema', 'sql_languages', 'BASE TABLE', None, None, None, None, None, 'YES', 'NO', None)\n",
      "('comunidadedsdb', 'information_schema', 'sql_sizing', 'BASE TABLE', None, None, None, None, None, 'YES', 'NO', None)\n",
      "('comunidadedsdb', 'information_schema', 'sql_sizing_profiles', 'BASE TABLE', None, None, None, None, None, 'YES', 'NO', None)\n",
      "('comunidadedsdb', 'information_schema', 'table_constraints', 'VIEW', None, None, None, None, None, 'NO', 'NO', None)\n",
      "('comunidadedsdb', 'information_schema', 'table_privileges', 'VIEW', None, None, None, None, None, 'NO', 'NO', None)\n",
      "('comunidadedsdb', 'information_schema', 'role_table_grants', 'VIEW', None, None, None, None, None, 'NO', 'NO', None)\n",
      "('comunidadedsdb', 'information_schema', 'views', 'VIEW', None, None, None, None, None, 'NO', 'NO', None)\n",
      "('comunidadedsdb', 'information_schema', 'tables', 'VIEW', None, None, None, None, None, 'NO', 'NO', None)\n",
      "('comunidadedsdb', 'information_schema', 'triggered_update_columns', 'VIEW', None, None, None, None, None, 'NO', 'NO', None)\n",
      "('comunidadedsdb', 'information_schema', 'triggers', 'VIEW', None, None, None, None, None, 'NO', 'NO', None)\n",
      "('comunidadedsdb', 'information_schema', 'data_type_privileges', 'VIEW', None, None, None, None, None, 'NO', 'NO', None)\n",
      "('comunidadedsdb', 'information_schema', 'udt_privileges', 'VIEW', None, None, None, None, None, 'NO', 'NO', None)\n",
      "('comunidadedsdb', 'information_schema', 'role_udt_grants', 'VIEW', None, None, None, None, None, 'NO', 'NO', None)\n",
      "('comunidadedsdb', 'information_schema', 'usage_privileges', 'VIEW', None, None, None, None, None, 'NO', 'NO', None)\n",
      "('comunidadedsdb', 'information_schema', 'element_types', 'VIEW', None, None, None, None, None, 'NO', 'NO', None)\n",
      "('comunidadedsdb', 'information_schema', 'role_usage_grants', 'VIEW', None, None, None, None, None, 'NO', 'NO', None)\n",
      "('comunidadedsdb', 'information_schema', 'user_defined_types', 'VIEW', None, None, None, None, None, 'NO', 'NO', None)\n",
      "('comunidadedsdb', 'information_schema', 'view_column_usage', 'VIEW', None, None, None, None, None, 'NO', 'NO', None)\n",
      "('comunidadedsdb', 'information_schema', 'view_routine_usage', 'VIEW', None, None, None, None, None, 'NO', 'NO', None)\n",
      "('comunidadedsdb', 'information_schema', 'view_table_usage', 'VIEW', None, None, None, None, None, 'NO', 'NO', None)\n",
      "('comunidadedsdb', 'information_schema', 'foreign_server_options', 'VIEW', None, None, None, None, None, 'NO', 'NO', None)\n",
      "('comunidadedsdb', 'information_schema', 'column_options', 'VIEW', None, None, None, None, None, 'NO', 'NO', None)\n",
      "('comunidadedsdb', 'information_schema', 'foreign_data_wrapper_options', 'VIEW', None, None, None, None, None, 'NO', 'NO', None)\n",
      "('comunidadedsdb', 'information_schema', 'foreign_tables', 'VIEW', None, None, None, None, None, 'NO', 'NO', None)\n",
      "('comunidadedsdb', 'information_schema', 'foreign_data_wrappers', 'VIEW', None, None, None, None, None, 'NO', 'NO', None)\n",
      "('comunidadedsdb', 'information_schema', 'foreign_servers', 'VIEW', None, None, None, None, None, 'NO', 'NO', None)\n",
      "('comunidadedsdb', 'information_schema', 'foreign_table_options', 'VIEW', None, None, None, None, None, 'NO', 'NO', None)\n",
      "('comunidadedsdb', 'information_schema', 'user_mappings', 'VIEW', None, None, None, None, None, 'NO', 'NO', None)\n",
      "('comunidadedsdb', 'information_schema', 'user_mapping_options', 'VIEW', None, None, None, None, None, 'NO', 'NO', None)\n"
     ]
    }
   ],
   "source": [
    "cur = connect_db.cursor()\n",
    "\n",
    "cur.execute('SELECT * FROM comunidadedsdb.INFORMATION_SCHEMA.TABLES;')\n",
    "\n",
    "recset = cur.fetchall()\n",
    "\n",
    "for rec in recset:\n",
    "    print(rec)"
   ]
  },
  {
   "cell_type": "markdown",
   "metadata": {
    "hidden": true
   },
   "source": [
    "I only want the three tables under 'pa004'"
   ]
  },
  {
   "cell_type": "code",
   "execution_count": 5,
   "metadata": {
    "ExecuteTime": {
     "end_time": "2021-03-12T13:00:04.149626Z",
     "start_time": "2021-03-12T13:00:03.930206Z"
    },
    "hidden": true
   },
   "outputs": [
    {
     "name": "stdout",
     "output_type": "stream",
     "text": [
      "('comunidadedsdb', 'pa004', 'users', 'BASE TABLE', None, None, None, None, None, 'YES', 'NO', None)\n",
      "('comunidadedsdb', 'pa004', 'vehicle', 'BASE TABLE', None, None, None, None, None, 'YES', 'NO', None)\n",
      "('comunidadedsdb', 'pa004', 'insurance', 'BASE TABLE', None, None, None, None, None, 'YES', 'NO', None)\n"
     ]
    }
   ],
   "source": [
    "sql = \"SELECT * FROM information_schema.tables WHERE table_type = 'BASE TABLE' AND table_schema = 'pa004';\"\n",
    "cur.execute(sql)\n",
    "\n",
    "recset = cur.fetchall()\n",
    "\n",
    "for rec in recset:\n",
    "    print(rec)"
   ]
  },
  {
   "cell_type": "code",
   "execution_count": 6,
   "metadata": {
    "ExecuteTime": {
     "end_time": "2021-03-12T13:00:04.404613Z",
     "start_time": "2021-03-12T13:00:04.155162Z"
    },
    "hidden": true
   },
   "outputs": [
    {
     "data": {
      "text/plain": [
       "['users', 'vehicle', 'insurance']"
      ]
     },
     "execution_count": 6,
     "metadata": {},
     "output_type": "execute_result"
    }
   ],
   "source": [
    "cur.execute(\"SELECT table_name FROM information_schema.tables WHERE table_schema = 'pa004';\")\n",
    "recset = cur.fetchall()\n",
    "\n",
    "lst = [rec[0] for rec in recset]\n",
    "\n",
    "lst"
   ]
  },
  {
   "cell_type": "code",
   "execution_count": 7,
   "metadata": {
    "ExecuteTime": {
     "end_time": "2021-03-12T13:00:04.418890Z",
     "start_time": "2021-03-12T13:00:04.412241Z"
    },
    "hidden": true
   },
   "outputs": [],
   "source": [
    "from collections import defaultdict"
   ]
  },
  {
   "cell_type": "code",
   "execution_count": 8,
   "metadata": {
    "ExecuteTime": {
     "end_time": "2021-03-12T13:00:05.004836Z",
     "start_time": "2021-03-12T13:00:04.425379Z"
    },
    "hidden": true
   },
   "outputs": [
    {
     "data": {
      "text/plain": [
       "defaultdict(list,\n",
       "            {'users': [['id',\n",
       "               'gender',\n",
       "               'age',\n",
       "               'region_code',\n",
       "               'policy_sales_channel']],\n",
       "             'vehicle': [['id',\n",
       "               'driving_license',\n",
       "               'vehicle_age',\n",
       "               'vehicle_damage']],\n",
       "             'insurance': [['id',\n",
       "               'previously_insured',\n",
       "               'annual_premium',\n",
       "               'vintage',\n",
       "               'response']]})"
      ]
     },
     "execution_count": 8,
     "metadata": {},
     "output_type": "execute_result"
    }
   ],
   "source": [
    "d = defaultdict(list)\n",
    "for element in lst:\n",
    "    cur.execute(\"SELECT column_name FROM INFORMATION_SCHEMA.COLUMNS\\\n",
    "    WHERE TABLE_SCHEMA = 'pa004' AND TABLE_NAME = '{}';\".format(element))\n",
    "    recset = cur.fetchall()\n",
    "    d[element].append([rec[0] for rec in recset])\n",
    "\n",
    "d"
   ]
  },
  {
   "cell_type": "markdown",
   "metadata": {
    "heading_collapsed": true
   },
   "source": [
    "# 3.0 Put the tables in a Dataframe"
   ]
  },
  {
   "cell_type": "markdown",
   "metadata": {
    "heading_collapsed": true,
    "hidden": true
   },
   "source": [
    "## 3.1 Use SQL to merge the tables before putting them in a dataframe"
   ]
  },
  {
   "cell_type": "markdown",
   "metadata": {
    "hidden": true
   },
   "source": [
    "Use SQL directly to merge the tables before passing them to a DataFrame:"
   ]
  },
  {
   "cell_type": "markdown",
   "metadata": {
    "hidden": true
   },
   "source": [
    "The cell below is not going to be executed because I don't want to create another table in the schema. I was never going to commit it, but even in memory, it could cause confusion."
   ]
  },
  {
   "cell_type": "markdown",
   "metadata": {
    "ExecuteTime": {
     "end_time": "2021-01-13T16:21:03.001216Z",
     "start_time": "2021-01-13T16:21:01.593601Z"
    },
    "hidden": true
   },
   "source": [
    "cur.execute(\"CREATE TABLE pa004.total AS SELECT U.id,\\\n",
    "            U.gender,\\\n",
    "            U.age,\\\n",
    "            U.region_code,\\\n",
    "            U.policy_sales_channel,\\\n",
    "            V.driving_license,\\\n",
    "            V.vehicle_age,\\\n",
    "            V.vehicle_damage,\\\n",
    "            I.previously_insured,\\\n",
    "            I.annual_premium,\\\n",
    "            I.vintage,\\\n",
    "            I.response\\\n",
    "            from pa004.users as U\\\n",
    "            LEFT JOIN pa004.vehicle as V ON U.id = V.id\\\n",
    "            LEFT JOIN pa004.insurance as I ON U.id = I.id;\")"
   ]
  },
  {
   "cell_type": "code",
   "execution_count": 9,
   "metadata": {
    "ExecuteTime": {
     "end_time": "2021-03-12T13:01:03.548420Z",
     "start_time": "2021-03-12T13:00:05.009587Z"
    },
    "hidden": true
   },
   "outputs": [],
   "source": [
    "df_total = pd.read_sql(\"SELECT U.id,\\\n",
    "            U.gender,\\\n",
    "            U.age,\\\n",
    "            U.region_code,\\\n",
    "            U.policy_sales_channel,\\\n",
    "            V.driving_license,\\\n",
    "            V.vehicle_age,\\\n",
    "            V.vehicle_damage,\\\n",
    "            I.previously_insured,\\\n",
    "            I.annual_premium,\\\n",
    "            I.vintage,\\\n",
    "            I.response\\\n",
    "            from pa004.users as U\\\n",
    "            LEFT JOIN pa004.vehicle as V ON U.id = V.id\\\n",
    "            LEFT JOIN pa004.insurance as I ON U.id = I.id;\", con=connect_db)\n",
    "df_total.sort_values(by=['id'], inplace=True)"
   ]
  },
  {
   "cell_type": "code",
   "execution_count": 10,
   "metadata": {
    "ExecuteTime": {
     "end_time": "2021-03-12T13:01:03.569241Z",
     "start_time": "2021-03-12T13:01:03.550873Z"
    },
    "hidden": true
   },
   "outputs": [
    {
     "data": {
      "text/html": [
       "<div>\n",
       "<style scoped>\n",
       "    .dataframe tbody tr th:only-of-type {\n",
       "        vertical-align: middle;\n",
       "    }\n",
       "\n",
       "    .dataframe tbody tr th {\n",
       "        vertical-align: top;\n",
       "    }\n",
       "\n",
       "    .dataframe thead th {\n",
       "        text-align: right;\n",
       "    }\n",
       "</style>\n",
       "<table border=\"1\" class=\"dataframe\">\n",
       "  <thead>\n",
       "    <tr style=\"text-align: right;\">\n",
       "      <th></th>\n",
       "      <th>id</th>\n",
       "      <th>gender</th>\n",
       "      <th>age</th>\n",
       "      <th>region_code</th>\n",
       "      <th>policy_sales_channel</th>\n",
       "      <th>driving_license</th>\n",
       "      <th>vehicle_age</th>\n",
       "      <th>vehicle_damage</th>\n",
       "      <th>previously_insured</th>\n",
       "      <th>annual_premium</th>\n",
       "      <th>vintage</th>\n",
       "      <th>response</th>\n",
       "    </tr>\n",
       "  </thead>\n",
       "  <tbody>\n",
       "    <tr>\n",
       "      <th>0</th>\n",
       "      <td>1</td>\n",
       "      <td>Male</td>\n",
       "      <td>44</td>\n",
       "      <td>28.0</td>\n",
       "      <td>26.0</td>\n",
       "      <td>1</td>\n",
       "      <td>&gt; 2 Years</td>\n",
       "      <td>Yes</td>\n",
       "      <td>0</td>\n",
       "      <td>40454.0</td>\n",
       "      <td>217</td>\n",
       "      <td>1</td>\n",
       "    </tr>\n",
       "    <tr>\n",
       "      <th>1</th>\n",
       "      <td>2</td>\n",
       "      <td>Male</td>\n",
       "      <td>76</td>\n",
       "      <td>3.0</td>\n",
       "      <td>26.0</td>\n",
       "      <td>1</td>\n",
       "      <td>1-2 Year</td>\n",
       "      <td>No</td>\n",
       "      <td>0</td>\n",
       "      <td>33536.0</td>\n",
       "      <td>183</td>\n",
       "      <td>0</td>\n",
       "    </tr>\n",
       "    <tr>\n",
       "      <th>2</th>\n",
       "      <td>3</td>\n",
       "      <td>Male</td>\n",
       "      <td>47</td>\n",
       "      <td>28.0</td>\n",
       "      <td>26.0</td>\n",
       "      <td>1</td>\n",
       "      <td>&gt; 2 Years</td>\n",
       "      <td>Yes</td>\n",
       "      <td>0</td>\n",
       "      <td>38294.0</td>\n",
       "      <td>27</td>\n",
       "      <td>1</td>\n",
       "    </tr>\n",
       "    <tr>\n",
       "      <th>3</th>\n",
       "      <td>4</td>\n",
       "      <td>Male</td>\n",
       "      <td>21</td>\n",
       "      <td>11.0</td>\n",
       "      <td>152.0</td>\n",
       "      <td>1</td>\n",
       "      <td>&lt; 1 Year</td>\n",
       "      <td>No</td>\n",
       "      <td>1</td>\n",
       "      <td>28619.0</td>\n",
       "      <td>203</td>\n",
       "      <td>0</td>\n",
       "    </tr>\n",
       "    <tr>\n",
       "      <th>4</th>\n",
       "      <td>5</td>\n",
       "      <td>Female</td>\n",
       "      <td>29</td>\n",
       "      <td>41.0</td>\n",
       "      <td>152.0</td>\n",
       "      <td>1</td>\n",
       "      <td>&lt; 1 Year</td>\n",
       "      <td>No</td>\n",
       "      <td>1</td>\n",
       "      <td>27496.0</td>\n",
       "      <td>39</td>\n",
       "      <td>0</td>\n",
       "    </tr>\n",
       "  </tbody>\n",
       "</table>\n",
       "</div>"
      ],
      "text/plain": [
       "   id  gender  age  region_code  policy_sales_channel  driving_license  \\\n",
       "0   1    Male   44         28.0                  26.0                1   \n",
       "1   2    Male   76          3.0                  26.0                1   \n",
       "2   3    Male   47         28.0                  26.0                1   \n",
       "3   4    Male   21         11.0                 152.0                1   \n",
       "4   5  Female   29         41.0                 152.0                1   \n",
       "\n",
       "  vehicle_age vehicle_damage  previously_insured  annual_premium  vintage  \\\n",
       "0   > 2 Years            Yes                   0         40454.0      217   \n",
       "1    1-2 Year             No                   0         33536.0      183   \n",
       "2   > 2 Years            Yes                   0         38294.0       27   \n",
       "3    < 1 Year             No                   1         28619.0      203   \n",
       "4    < 1 Year             No                   1         27496.0       39   \n",
       "\n",
       "   response  \n",
       "0         1  \n",
       "1         0  \n",
       "2         1  \n",
       "3         0  \n",
       "4         0  "
      ]
     },
     "execution_count": 10,
     "metadata": {},
     "output_type": "execute_result"
    }
   ],
   "source": [
    "df_total.reset_index(inplace=True, drop=True)\n",
    "df_total.head()"
   ]
  },
  {
   "cell_type": "markdown",
   "metadata": {
    "heading_collapsed": true,
    "hidden": true
   },
   "source": [
    "## 3.2 Create a dataframe for each table and merge using Pandas"
   ]
  },
  {
   "cell_type": "markdown",
   "metadata": {
    "hidden": true
   },
   "source": [
    "Import the tables into dataframes"
   ]
  },
  {
   "cell_type": "code",
   "execution_count": 11,
   "metadata": {
    "ExecuteTime": {
     "end_time": "2021-03-12T13:02:09.034100Z",
     "start_time": "2021-03-12T13:01:03.571988Z"
    },
    "hidden": true
   },
   "outputs": [],
   "source": [
    "dct = {}\n",
    "for element in lst:\n",
    "    dct[element] = pd.read_sql(\"SELECT * FROM pa004.{};\".format(element), con=connect_db)"
   ]
  },
  {
   "cell_type": "markdown",
   "metadata": {
    "hidden": true
   },
   "source": [
    "Concatenate the dataframes"
   ]
  },
  {
   "cell_type": "code",
   "execution_count": 12,
   "metadata": {
    "ExecuteTime": {
     "end_time": "2021-03-12T13:02:09.059187Z",
     "start_time": "2021-03-12T13:02:09.035443Z"
    },
    "hidden": true
   },
   "outputs": [],
   "source": [
    "df_full = pd.concat([dct[element] for element in lst], axis=1)"
   ]
  },
  {
   "cell_type": "markdown",
   "metadata": {
    "hidden": true
   },
   "source": [
    "Drop duplicated columns"
   ]
  },
  {
   "cell_type": "code",
   "execution_count": 13,
   "metadata": {
    "ExecuteTime": {
     "end_time": "2021-03-12T13:02:09.215303Z",
     "start_time": "2021-03-12T13:02:09.060584Z"
    },
    "hidden": true
   },
   "outputs": [
    {
     "data": {
      "text/html": [
       "<div>\n",
       "<style scoped>\n",
       "    .dataframe tbody tr th:only-of-type {\n",
       "        vertical-align: middle;\n",
       "    }\n",
       "\n",
       "    .dataframe tbody tr th {\n",
       "        vertical-align: top;\n",
       "    }\n",
       "\n",
       "    .dataframe thead th {\n",
       "        text-align: right;\n",
       "    }\n",
       "</style>\n",
       "<table border=\"1\" class=\"dataframe\">\n",
       "  <thead>\n",
       "    <tr style=\"text-align: right;\">\n",
       "      <th></th>\n",
       "      <th>id</th>\n",
       "      <th>gender</th>\n",
       "      <th>age</th>\n",
       "      <th>region_code</th>\n",
       "      <th>policy_sales_channel</th>\n",
       "      <th>driving_license</th>\n",
       "      <th>vehicle_age</th>\n",
       "      <th>vehicle_damage</th>\n",
       "      <th>previously_insured</th>\n",
       "      <th>annual_premium</th>\n",
       "      <th>vintage</th>\n",
       "      <th>response</th>\n",
       "    </tr>\n",
       "  </thead>\n",
       "  <tbody>\n",
       "    <tr>\n",
       "      <th>0</th>\n",
       "      <td>1</td>\n",
       "      <td>Male</td>\n",
       "      <td>44</td>\n",
       "      <td>28.0</td>\n",
       "      <td>26.0</td>\n",
       "      <td>1</td>\n",
       "      <td>&gt; 2 Years</td>\n",
       "      <td>Yes</td>\n",
       "      <td>0</td>\n",
       "      <td>40454.0</td>\n",
       "      <td>217</td>\n",
       "      <td>1</td>\n",
       "    </tr>\n",
       "    <tr>\n",
       "      <th>1</th>\n",
       "      <td>2</td>\n",
       "      <td>Male</td>\n",
       "      <td>76</td>\n",
       "      <td>3.0</td>\n",
       "      <td>26.0</td>\n",
       "      <td>1</td>\n",
       "      <td>1-2 Year</td>\n",
       "      <td>No</td>\n",
       "      <td>0</td>\n",
       "      <td>33536.0</td>\n",
       "      <td>183</td>\n",
       "      <td>0</td>\n",
       "    </tr>\n",
       "    <tr>\n",
       "      <th>2</th>\n",
       "      <td>3</td>\n",
       "      <td>Male</td>\n",
       "      <td>47</td>\n",
       "      <td>28.0</td>\n",
       "      <td>26.0</td>\n",
       "      <td>1</td>\n",
       "      <td>&gt; 2 Years</td>\n",
       "      <td>Yes</td>\n",
       "      <td>0</td>\n",
       "      <td>38294.0</td>\n",
       "      <td>27</td>\n",
       "      <td>1</td>\n",
       "    </tr>\n",
       "    <tr>\n",
       "      <th>3</th>\n",
       "      <td>4</td>\n",
       "      <td>Male</td>\n",
       "      <td>21</td>\n",
       "      <td>11.0</td>\n",
       "      <td>152.0</td>\n",
       "      <td>1</td>\n",
       "      <td>&lt; 1 Year</td>\n",
       "      <td>No</td>\n",
       "      <td>1</td>\n",
       "      <td>28619.0</td>\n",
       "      <td>203</td>\n",
       "      <td>0</td>\n",
       "    </tr>\n",
       "    <tr>\n",
       "      <th>4</th>\n",
       "      <td>5</td>\n",
       "      <td>Female</td>\n",
       "      <td>29</td>\n",
       "      <td>41.0</td>\n",
       "      <td>152.0</td>\n",
       "      <td>1</td>\n",
       "      <td>&lt; 1 Year</td>\n",
       "      <td>No</td>\n",
       "      <td>1</td>\n",
       "      <td>27496.0</td>\n",
       "      <td>39</td>\n",
       "      <td>0</td>\n",
       "    </tr>\n",
       "  </tbody>\n",
       "</table>\n",
       "</div>"
      ],
      "text/plain": [
       "   id  gender  age  region_code  policy_sales_channel  driving_license  \\\n",
       "0   1    Male   44         28.0                  26.0                1   \n",
       "1   2    Male   76          3.0                  26.0                1   \n",
       "2   3    Male   47         28.0                  26.0                1   \n",
       "3   4    Male   21         11.0                 152.0                1   \n",
       "4   5  Female   29         41.0                 152.0                1   \n",
       "\n",
       "  vehicle_age vehicle_damage  previously_insured  annual_premium  vintage  \\\n",
       "0   > 2 Years            Yes                   0         40454.0      217   \n",
       "1    1-2 Year             No                   0         33536.0      183   \n",
       "2   > 2 Years            Yes                   0         38294.0       27   \n",
       "3    < 1 Year             No                   1         28619.0      203   \n",
       "4    < 1 Year             No                   1         27496.0       39   \n",
       "\n",
       "   response  \n",
       "0         1  \n",
       "1         0  \n",
       "2         1  \n",
       "3         0  \n",
       "4         0  "
      ]
     },
     "execution_count": 13,
     "metadata": {},
     "output_type": "execute_result"
    }
   ],
   "source": [
    "df_full = df_full.loc[:, ~df_full.columns.duplicated()]\n",
    "df_full.head()"
   ]
  },
  {
   "cell_type": "markdown",
   "metadata": {
    "heading_collapsed": true,
    "hidden": true
   },
   "source": [
    "## 3.3 Check consistency"
   ]
  },
  {
   "cell_type": "code",
   "execution_count": 14,
   "metadata": {
    "ExecuteTime": {
     "end_time": "2021-03-12T13:02:09.329251Z",
     "start_time": "2021-03-12T13:02:09.217993Z"
    },
    "hidden": true
   },
   "outputs": [
    {
     "data": {
      "text/plain": [
       "True"
      ]
     },
     "execution_count": 14,
     "metadata": {},
     "output_type": "execute_result"
    }
   ],
   "source": [
    "df_full.equals(df_total)"
   ]
  },
  {
   "cell_type": "code",
   "execution_count": 15,
   "metadata": {
    "ExecuteTime": {
     "end_time": "2021-03-12T13:02:09.397965Z",
     "start_time": "2021-03-12T13:02:09.330717Z"
    },
    "hidden": true
   },
   "outputs": [
    {
     "data": {
      "text/plain": [
       "id                      0\n",
       "gender                  0\n",
       "age                     0\n",
       "region_code             0\n",
       "policy_sales_channel    0\n",
       "driving_license         0\n",
       "vehicle_age             0\n",
       "vehicle_damage          0\n",
       "previously_insured      0\n",
       "annual_premium          0\n",
       "vintage                 0\n",
       "response                0\n",
       "dtype: int64"
      ]
     },
     "execution_count": 15,
     "metadata": {},
     "output_type": "execute_result"
    }
   ],
   "source": [
    "df_full.isna().sum()"
   ]
  },
  {
   "cell_type": "code",
   "execution_count": 16,
   "metadata": {
    "ExecuteTime": {
     "end_time": "2021-03-12T13:02:09.404801Z",
     "start_time": "2021-03-12T13:02:09.400040Z"
    },
    "hidden": true
   },
   "outputs": [
    {
     "data": {
      "text/plain": [
       "(381109, 12)"
      ]
     },
     "execution_count": 16,
     "metadata": {},
     "output_type": "execute_result"
    }
   ],
   "source": [
    "df_full.shape"
   ]
  },
  {
   "cell_type": "markdown",
   "metadata": {
    "hidden": true
   },
   "source": [
    "Close connections"
   ]
  },
  {
   "cell_type": "code",
   "execution_count": 17,
   "metadata": {
    "ExecuteTime": {
     "end_time": "2021-03-12T13:02:09.410427Z",
     "start_time": "2021-03-12T13:02:09.407274Z"
    },
    "hidden": true
   },
   "outputs": [],
   "source": [
    "cur.close()\n",
    "connect_db.close()"
   ]
  },
  {
   "cell_type": "markdown",
   "metadata": {
    "heading_collapsed": true
   },
   "source": [
    "# 4.0 Export to csv file"
   ]
  },
  {
   "cell_type": "code",
   "execution_count": 18,
   "metadata": {
    "ExecuteTime": {
     "end_time": "2021-03-12T13:02:09.415447Z",
     "start_time": "2021-03-12T13:02:09.412196Z"
    },
    "hidden": true
   },
   "outputs": [],
   "source": [
    "home_path = \"/home/marcos/Documentos/comunidade_DS/pa004_health_insurance_cross_sell/\""
   ]
  },
  {
   "cell_type": "code",
   "execution_count": 19,
   "metadata": {
    "ExecuteTime": {
     "end_time": "2021-03-12T13:02:10.758147Z",
     "start_time": "2021-03-12T13:02:09.418116Z"
    },
    "hidden": true
   },
   "outputs": [],
   "source": [
    "df_full.to_csv(home_path + 'data/table.csv', index=False)"
   ]
  }
 ],
 "metadata": {
  "kernelspec": {
   "display_name": "Python 3",
   "language": "python",
   "name": "python3"
  },
  "language_info": {
   "codemirror_mode": {
    "name": "ipython",
    "version": 3
   },
   "file_extension": ".py",
   "mimetype": "text/x-python",
   "name": "python",
   "nbconvert_exporter": "python",
   "pygments_lexer": "ipython3",
   "version": "3.8.5"
  },
  "toc": {
   "base_numbering": 1,
   "nav_menu": {},
   "number_sections": false,
   "sideBar": true,
   "skip_h1_title": false,
   "title_cell": "Table of Contents",
   "title_sidebar": "Contents",
   "toc_cell": false,
   "toc_position": {},
   "toc_section_display": true,
   "toc_window_display": false
  }
 },
 "nbformat": 4,
 "nbformat_minor": 4
}
