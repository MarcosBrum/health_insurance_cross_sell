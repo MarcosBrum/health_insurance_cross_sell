{
 "cells": [
  {
   "cell_type": "markdown",
   "metadata": {},
   "source": [
    "# 0.0 Imports"
   ]
  },
  {
   "cell_type": "code",
   "execution_count": null,
   "metadata": {
    "ExecuteTime": {
     "end_time": "2021-02-24T13:30:01.427360Z",
     "start_time": "2021-02-24T13:30:00.228492Z"
    }
   },
   "outputs": [],
   "source": [
    "import pandas as pd\n",
    "import numpy as np\n",
    "import pickle\n",
    "import random\n",
    "\n",
    "import matplotlib.pyplot as plt\n",
    "import seaborn as sns\n",
    "\n",
    "import scikitplot as skplt\n",
    "from sklearn.model_selection import StratifiedShuffleSplit as sss\n",
    "\n",
    "from imblearn.ensemble import BalancedBaggingClassifier, BalancedRandomForestClassifier,\\\n",
    "                              RUSBoostClassifier, EasyEnsembleClassifier"
   ]
  },
  {
   "cell_type": "markdown",
   "metadata": {
    "heading_collapsed": true
   },
   "source": [
    "## 0.1 Load data"
   ]
  },
  {
   "cell_type": "code",
   "execution_count": null,
   "metadata": {
    "ExecuteTime": {
     "end_time": "2021-02-24T13:30:01.430408Z",
     "start_time": "2021-02-24T13:30:01.428576Z"
    },
    "hidden": true
   },
   "outputs": [],
   "source": [
    "home_path = \"/home/marcos/Documentos/comunidade_DS/pa004_health_insurance_cross_sell/\""
   ]
  },
  {
   "cell_type": "code",
   "execution_count": null,
   "metadata": {
    "ExecuteTime": {
     "end_time": "2021-02-24T13:30:01.466112Z",
     "start_time": "2021-02-24T13:30:01.431819Z"
    },
    "hidden": true
   },
   "outputs": [],
   "source": [
    "df_tree_train = pd.read_pickle(home_path + \"interim/df6_bal_tree_train.pkl\")\n",
    "\n",
    "df_tree_validation = pd.read_pickle(home_path + \"interim/df6_bal_tree_val.pkl\")"
   ]
  },
  {
   "cell_type": "markdown",
   "metadata": {
    "heading_collapsed": true
   },
   "source": [
    "## 0.2 Separate train and validation data"
   ]
  },
  {
   "cell_type": "code",
   "execution_count": null,
   "metadata": {
    "ExecuteTime": {
     "end_time": "2021-02-24T13:30:01.478441Z",
     "start_time": "2021-02-24T13:30:01.467534Z"
    },
    "hidden": true
   },
   "outputs": [],
   "source": [
    "df7_train = df_tree_train.copy()\n",
    "\n",
    "df7_validation = df_tree_validation.copy()"
   ]
  },
  {
   "cell_type": "code",
   "execution_count": null,
   "metadata": {
    "ExecuteTime": {
     "end_time": "2021-02-24T13:30:01.491526Z",
     "start_time": "2021-02-24T13:30:01.479754Z"
    },
    "hidden": true
   },
   "outputs": [],
   "source": [
    "df7_train.isna().sum()"
   ]
  },
  {
   "cell_type": "code",
   "execution_count": null,
   "metadata": {
    "ExecuteTime": {
     "end_time": "2021-02-24T13:30:01.498745Z",
     "start_time": "2021-02-24T13:30:01.492914Z"
    },
    "hidden": true
   },
   "outputs": [],
   "source": [
    "df7_validation.isna().sum()"
   ]
  },
  {
   "cell_type": "code",
   "execution_count": null,
   "metadata": {
    "ExecuteTime": {
     "end_time": "2021-02-24T13:30:01.503085Z",
     "start_time": "2021-02-24T13:30:01.499885Z"
    },
    "hidden": true
   },
   "outputs": [],
   "source": [
    "df7_validation.shape"
   ]
  },
  {
   "cell_type": "markdown",
   "metadata": {
    "hidden": true
   },
   "source": [
    "I will drop the rows containing NAs from df7_validation. Since it contains over 76k rows, this must not make a big difference."
   ]
  },
  {
   "cell_type": "code",
   "execution_count": null,
   "metadata": {
    "ExecuteTime": {
     "end_time": "2021-02-24T13:30:01.519768Z",
     "start_time": "2021-02-24T13:30:01.504859Z"
    },
    "hidden": true
   },
   "outputs": [],
   "source": [
    "df7_validation.dropna(axis=0, inplace=True)\n",
    "df7_validation.isna().sum()"
   ]
  },
  {
   "cell_type": "code",
   "execution_count": null,
   "metadata": {
    "ExecuteTime": {
     "end_time": "2021-02-24T13:30:01.525069Z",
     "start_time": "2021-02-24T13:30:01.521965Z"
    },
    "hidden": true
   },
   "outputs": [],
   "source": [
    "df7_validation.shape"
   ]
  },
  {
   "cell_type": "markdown",
   "metadata": {
    "heading_collapsed": true
   },
   "source": [
    "## 0.3 Helper Functions"
   ]
  },
  {
   "cell_type": "code",
   "execution_count": null,
   "metadata": {
    "ExecuteTime": {
     "end_time": "2021-02-24T13:30:01.534962Z",
     "start_time": "2021-02-24T13:30:01.526638Z"
    },
    "hidden": true
   },
   "outputs": [],
   "source": [
    "# precision_at_k\n",
    "def precision_at_k(data, k):\n",
    "    data = data.reset_index(drop=True)\n",
    "    data['n_samples'] = data.index + 1\n",
    "    data['precision_at_k'] = data['response'].cumsum() / data['n_samples']\n",
    "    return data.loc[k, 'precision_at_k']\n",
    "\n",
    "# recall_at_k\n",
    "def recall_at_k(data, k):\n",
    "    data = data.reset_index(drop=True)\n",
    "    data['recall_at_k'] = data['response'].cumsum() / data['response'].sum()\n",
    "    return data.loc[k, 'recall_at_k']\n",
    "\n",
    "# model predict\n",
    "def model_evaluate(model, model_name, data_train, data_val, k):\n",
    "    # separate X and Y data:\n",
    "    xtrain = data_train.drop(['id', 'response'], axis=1)\n",
    "    ytrain = data_train.response\n",
    "    xval = data_val.drop(['id', 'response'], axis=1)\n",
    "    yval = data_val.response\n",
    "    \n",
    "    # fit and predict_proba:\n",
    "    model.fit(xtrain, ytrain)\n",
    "    yhat_proba = model.predict_proba(xval)\n",
    "    \n",
    "    # transform yhat_proba to 1D-array\n",
    "    yhat_proba_1d = yhat_proba[:, 1].tolist()\n",
    "    \n",
    "    # include in dataframe\n",
    "    validation_data = data_val.copy()\n",
    "    validation_data['score'] = yhat_proba_1d\n",
    "    # sort\n",
    "    validation_data = validation_data.sort_values('score', ascending=False)\n",
    "    \n",
    "    # plot\n",
    "    skplt.metrics.plot_cumulative_gain(yval, yhat_proba);\n",
    "    \n",
    "    return pd.DataFrame({'Model name':model_name,\n",
    "                         'precision_at_k':precision_at_k(validation_data, k),\n",
    "                         'recall_at_k':recall_at_k(validation_data, k)}, index=[0])\n",
    "\n",
    "# model fit\n",
    "def model_fit(model, data):\n",
    "    # separate X and Y data:\n",
    "    xtrain = data.drop(['id', 'response'], axis=1)\n",
    "    ytrain = data.response\n",
    "    \n",
    "    # fit\n",
    "    model_fitted = model.fit(xtrain, ytrain)\n",
    "    \n",
    "    return model_fitted\n",
    "\n",
    "\n",
    "\n",
    "def cross_validation(model, model_name, training_data, k_top, kfolds, verbose=False):\n",
    "    # X separate X and Y data:\n",
    "    xtraining = training_data.drop(['response'], axis=1)\n",
    "    ytraining = training_data.response\n",
    "    \n",
    "    # cross-validation:\n",
    "    cv = sss(n_splits=kfolds)\n",
    "    prec_k_list = []\n",
    "    rec_k_list = []\n",
    "    for train_index, prim_val_index in cv.split(xtraining, ytraining):\n",
    "        X_training, X_prim_val = xtraining.iloc[train_index], xtraining.iloc[prim_val_index]\n",
    "        y_training, y_prim_val = ytraining.iloc[train_index], ytraining.iloc[prim_val_index]\n",
    "        \n",
    "        # remove id from training, and create new validation without id\n",
    "        X_training = X_training.drop(['id'], axis=1)\n",
    "        X_prim_val_no_id = X_prim_val.drop(['id'], axis=1)\n",
    "        \n",
    "        # fit and predict_proba\n",
    "        model.fit(X_training, y_training)\n",
    "        yhat_proba = model.predict_proba(X_prim_val_no_id)\n",
    "        \n",
    "        # transform yhat_proba to 1D-array\n",
    "        yhat_proba_1d = yhat_proba[:, 1].tolist()\n",
    "        \n",
    "        # reconstruct dataframe\n",
    "        prim_val = pd.concat([X_prim_val, y_prim_val], axis=1)\n",
    "        prim_val['score'] = yhat_proba_1d\n",
    "        prim_val = prim_val.sort_values('score', ascending=False)\n",
    "        \n",
    "        # evaluate accuracy and store in list\n",
    "        prec_k_list.append(precision_at_k(prim_val, k_top))\n",
    "        rec_k_list.append(recall_at_k(prim_val, k_top))\n",
    "    \n",
    "    #evaluate mean and std\n",
    "    prec_k_pred = np.round(np.mean(prec_k_list), 4).astype(str) + '+/-' + np.round(np.std(prec_k_list), 4).astype(str)\n",
    "    rec_k_pred = np.round(np.mean(rec_k_list), 4).astype(str) + '+/-' + np.round(np.std(rec_k_list), 4).astype(str)\n",
    "    \n",
    "    return pd.DataFrame({'Model name':model_name,\n",
    "                         'precision_at_k':prec_k_pred,\n",
    "                         'recall_at_k':rec_k_pred}, index=[0])"
   ]
  },
  {
   "cell_type": "markdown",
   "metadata": {},
   "source": [
    "# 7.0 Machine Learning Model"
   ]
  },
  {
   "cell_type": "markdown",
   "metadata": {},
   "source": [
    "## 7.1 Models"
   ]
  },
  {
   "cell_type": "markdown",
   "metadata": {
    "heading_collapsed": true
   },
   "source": [
    "### 7.1.1 Balanced Bagging"
   ]
  },
  {
   "cell_type": "code",
   "execution_count": null,
   "metadata": {
    "ExecuteTime": {
     "end_time": "2021-02-24T13:30:10.267648Z",
     "start_time": "2021-02-24T13:30:01.536933Z"
    },
    "hidden": true,
    "scrolled": false
   },
   "outputs": [],
   "source": [
    "bal_bag = BalancedBaggingClassifier(base_estimator = DecisionTreeClassifier(), n_estimators=150,\n",
    "                                    bootstrap=True, sampling_strategy=0.15, replacement=True,\n",
    "                                    random_state=30, n_jobs=-1)\n",
    "\n",
    "b_bag_rank = model_evaluate(bal_bag, \"Balanced Bagging Classifier\", df7_train, df7_validation, 20000)\n",
    "\n",
    "b_bag_rank"
   ]
  },
  {
   "cell_type": "markdown",
   "metadata": {
    "heading_collapsed": true
   },
   "source": [
    "### 7.1.2 Balanced Random Forest Classifier"
   ]
  },
  {
   "cell_type": "code",
   "execution_count": null,
   "metadata": {
    "ExecuteTime": {
     "end_time": "2021-02-24T13:30:53.243452Z",
     "start_time": "2021-02-24T13:30:20.683435Z"
    },
    "hidden": true,
    "scrolled": false
   },
   "outputs": [],
   "source": [
    "bal_rf = BalancedRandomForestClassifier(n_estimators=500, max_depth=10, bootstrap=True, sampling_strategy=0.15,\n",
    "                                        replacement=True, random_state=30, n_jobs=-1)\n",
    "\n",
    "b_rf_rank = model_evaluate(bal_rf, \"Balanced Random Forest Classifier\", df7_train, df7_validation, 20000)\n",
    "\n",
    "b_rf_rank"
   ]
  },
  {
   "cell_type": "markdown",
   "metadata": {
    "heading_collapsed": true
   },
   "source": [
    "### 7.1.3 Random Under Sampling Boost Classifier"
   ]
  },
  {
   "cell_type": "code",
   "execution_count": null,
   "metadata": {
    "ExecuteTime": {
     "end_time": "2021-02-24T13:30:20.682340Z",
     "start_time": "2021-02-24T13:30:10.268839Z"
    },
    "hidden": true
   },
   "outputs": [],
   "source": [
    "rus = RUSBoostClassifier(base_estimator=DecisionTreeClassifier(max_depth=1), n_estimators=150,\n",
    "                         sampling_strategy=0.15, replacement=True, random_state=50)\n",
    "\n",
    "rus_rank = model_evaluate(rus, \"Random Under Sampling Boost Classifier\", df7_train, df7_validation, 20000)\n",
    "\n",
    "rus_rank"
   ]
  },
  {
   "cell_type": "markdown",
   "metadata": {
    "heading_collapsed": true
   },
   "source": [
    "### 7.1.4 Easy Ensemble Classifier"
   ]
  },
  {
   "cell_type": "code",
   "execution_count": null,
   "metadata": {
    "ExecuteTime": {
     "end_time": "2021-02-24T13:31:01.648213Z",
     "start_time": "2021-02-24T13:30:53.244507Z"
    },
    "hidden": true
   },
   "outputs": [],
   "source": [
    "easy_ens = EasyEnsembleClassifier(n_estimators=150, base_estimator=AdaBoostClassifier(), sampling_strategy=0.15,\n",
    "                                  replacement=True, n_jobs=-1, random_state=50)\n",
    "\n",
    "e_ens_rank = model_evaluate(easy_ens, \"Easy Ensemble Classifier\", df7_train, df7_validation, 20000)\n",
    "\n",
    "e_ens_rank"
   ]
  },
  {
   "cell_type": "markdown",
   "metadata": {
    "heading_collapsed": true
   },
   "source": [
    "## 7.2 Cross-validation"
   ]
  },
  {
   "cell_type": "markdown",
   "metadata": {
    "heading_collapsed": true,
    "hidden": true
   },
   "source": [
    "### 7.2.1 Balanced Bagging"
   ]
  },
  {
   "cell_type": "code",
   "execution_count": null,
   "metadata": {
    "ExecuteTime": {
     "end_time": "2021-02-24T13:32:33.173224Z",
     "start_time": "2021-02-24T13:31:55.872793Z"
    },
    "hidden": true
   },
   "outputs": [],
   "source": [
    "bal_bag = BalancedBaggingClassifier(base_estimator = DecisionTreeClassifier(), n_estimators=150,\n",
    "                                    bootstrap=True, sampling_strategy=0.15, replacement=True,\n",
    "                                    random_state=30, n_jobs=-1)\n",
    "\n",
    "b_bag_cv_metrics = cross_validation(bal_bag, \"Balanced Bagging Classifier\", df7_train, 20000, 5)\n",
    "\n",
    "bal_bag_cv_metrics"
   ]
  },
  {
   "cell_type": "markdown",
   "metadata": {
    "heading_collapsed": true,
    "hidden": true
   },
   "source": [
    "### 7.2.2 Balanced Random Forest"
   ]
  },
  {
   "cell_type": "code",
   "execution_count": null,
   "metadata": {
    "ExecuteTime": {
     "end_time": "2021-02-24T13:32:55.905863Z",
     "start_time": "2021-02-24T13:32:33.175165Z"
    },
    "hidden": true
   },
   "outputs": [],
   "source": [
    "bal_rf = BalancedRandomForestClassifier(n_estimators=500, max_depth=10, bootstrap=True, sampling_strategy=0.15,\n",
    "                                        replacement=True, random_state=30, n_jobs=-1)\n",
    "\n",
    "bal_rf_cv_metrics = cross_validation(bal_rf, \"Balanced Random Forest Classifier\", df7_train, 20000, 5)\n",
    "\n",
    "bal_rf_cv_metrics"
   ]
  },
  {
   "cell_type": "markdown",
   "metadata": {
    "heading_collapsed": true,
    "hidden": true
   },
   "source": [
    "### 7.2.3 RUS Boost"
   ]
  },
  {
   "cell_type": "code",
   "execution_count": null,
   "metadata": {
    "ExecuteTime": {
     "end_time": "2021-02-24T13:33:24.038606Z",
     "start_time": "2021-02-24T13:32:55.907719Z"
    },
    "hidden": true,
    "scrolled": true
   },
   "outputs": [],
   "source": [
    "rus = RUSBoostClassifier(base_estimator=DecisionTreeClassifier(max_depth=1), n_estimators=150,\n",
    "                         sampling_strategy=0.15, replacement=True, random_state=50)\n",
    "\n",
    "rus_cv_metrics = cross_validation(rus, \"Random Under Sampling Classifier\", df7_train, 20000, 5)\n",
    "\n",
    "rus_cv_metrics"
   ]
  },
  {
   "cell_type": "markdown",
   "metadata": {
    "heading_collapsed": true,
    "hidden": true
   },
   "source": [
    "### 7.2.4 Easy Ensemble"
   ]
  },
  {
   "cell_type": "code",
   "execution_count": null,
   "metadata": {
    "ExecuteTime": {
     "end_time": "2021-02-24T13:34:00.818420Z",
     "start_time": "2021-02-24T13:33:24.040059Z"
    },
    "hidden": true,
    "scrolled": true
   },
   "outputs": [],
   "source": [
    "easy_ens = EasyEnsembleClassifier(n_estimators=150, base_estimator=AdaBoostClassifier(), sampling_strategy=0.15,\n",
    "                                  replacement=True, n_jobs=-1, random_state=50)\n",
    "\n",
    "e_ens_cv_metrics = cross_validation(easy_ens, \"Easy Ensemble Classifier\", df7_train, 20000, 5)\n",
    "\n",
    "e_ens_cv_metrics"
   ]
  },
  {
   "cell_type": "markdown",
   "metadata": {
    "heading_collapsed": true
   },
   "source": [
    "# 8.0 Hyperparameter Fine Tunning"
   ]
  },
  {
   "cell_type": "markdown",
   "metadata": {
    "heading_collapsed": true,
    "hidden": true
   },
   "source": [
    "## 8.1 XGBoost Classifier"
   ]
  },
  {
   "cell_type": "code",
   "execution_count": null,
   "metadata": {
    "ExecuteTime": {
     "end_time": "2021-02-24T13:37:18.466415Z",
     "start_time": "2021-02-24T13:37:18.463373Z"
    },
    "hidden": true
   },
   "outputs": [],
   "source": [
    "param = {'n_estimators':[2000, 2500, 3000, 3500],\n",
    "         'eta':[0.01, 0.03],\n",
    "         'gamma':[3, 10, 20],\n",
    "         'max_depth':[3, 5, 9],\n",
    "         'subsample':[0.1, 0.5, 0.7],\n",
    "         'colsample_bytree':[0.3, 0.7, 0.9],\n",
    "         'min_child_weight':[3, 8, 15],\n",
    "        }\n",
    "\n",
    "MAX_EVAL = 5"
   ]
  },
  {
   "cell_type": "code",
   "execution_count": null,
   "metadata": {
    "ExecuteTime": {
     "end_time": "2021-02-24T14:28:24.711625Z",
     "start_time": "2021-02-24T13:37:18.468361Z"
    },
    "hidden": true
   },
   "outputs": [],
   "source": [
    "final_result = pd.DataFrame()\n",
    "hyperparam_lst = []\n",
    "\n",
    "for i in range(MAX_EVAL):\n",
    "    #randomly selected hyperparameters\n",
    "    hp = {k:random.sample(v, 1)[0] for k, v in param.items()}\n",
    "    #print the selected ones\n",
    "    print(hp)\n",
    "    #store in list\n",
    "    hyperparam_lst.append(hp.copy())\n",
    "    #model\n",
    "    model_xgb = xgb.XGBClassifier(objective='binary:logistic',\n",
    "                                  use_label_encoder=False,\n",
    "                                  n_estimators=hp['n_estimators'],\n",
    "                                  eta=hp['eta'],\n",
    "                                  gamma=hp['gamma'],\n",
    "                                  max_depth=hp['max_depth'],\n",
    "                                  n_jobs=-1,\n",
    "                                  subsample=hp['subsample'],\n",
    "                                  colsample_bytree=hp['colsample_bytree'],\n",
    "                                  min_child_weight=hp['min_child_weight'],\n",
    "                                  verbosity=0)\n",
    "    result = cross_validation(model_xgb, 'XGBoost Classifier', df7_train, 20000, 5)\n",
    "    iter_nr = pd.Series([i], name='Iter_nr')\n",
    "    result_w_nr = pd.concat([result, iter_nr], axis=1)\n",
    "    final_result = pd.concat([final_result, result_w_nr], ignore_index=True)\n",
    "\n",
    "final_result.sort_values(by=['precision_at_k'], ascending=False, inplace=True, ignore_index=True)\n",
    "final_result"
   ]
  },
  {
   "cell_type": "code",
   "execution_count": null,
   "metadata": {
    "ExecuteTime": {
     "end_time": "2021-02-24T14:28:24.715358Z",
     "start_time": "2021-02-24T14:28:24.713316Z"
    },
    "hidden": true
   },
   "outputs": [],
   "source": [
    "final_result.to_pickle(home_path + 'interim/xgb_tunning_new_tree_cv.pkl')"
   ]
  },
  {
   "cell_type": "code",
   "execution_count": null,
   "metadata": {
    "ExecuteTime": {
     "end_time": "2021-02-24T14:28:24.720952Z",
     "start_time": "2021-02-24T14:28:24.716559Z"
    },
    "hidden": true
   },
   "outputs": [],
   "source": [
    "# select the hyperparameters that resulted in best accuracy\n",
    "best_param_nr = final_result.loc[0, 'Iter_nr']\n",
    "\n",
    "param_tuned = hyperparam_lst[best_param_nr]"
   ]
  },
  {
   "cell_type": "code",
   "execution_count": null,
   "metadata": {
    "ExecuteTime": {
     "end_time": "2021-02-24T14:28:24.725619Z",
     "start_time": "2021-02-24T14:28:24.722046Z"
    },
    "hidden": true
   },
   "outputs": [],
   "source": [
    "#model\n",
    "model_xgb_tuned = xgb.XGBClassifier(objective='binary:logistic',\n",
    "                                    use_label_encoder=False,\n",
    "                                    n_estimators=param_tuned['n_estimators'],\n",
    "                                    eta=param_tuned['eta'],\n",
    "                                    gamma=param_tuned['gamma'],\n",
    "                                    max_depth=param_tuned['max_depth'],\n",
    "                                    n_jobs=-1,\n",
    "                                    subsample=param_tuned['subsample'],\n",
    "                                    colsample_bytree=param_tuned['colsample_bytree'],\n",
    "                                    min_child_weight=param_tuned['min_child_weight'],\n",
    "                                    verbosity=0)"
   ]
  },
  {
   "cell_type": "code",
   "execution_count": null,
   "metadata": {
    "ExecuteTime": {
     "end_time": "2021-02-24T14:29:59.648005Z",
     "start_time": "2021-02-24T14:28:24.726771Z"
    },
    "hidden": true
   },
   "outputs": [],
   "source": [
    "xgb_tuned_ranking = model_evaluate(model_xgb_tuned, \"XGBoost Classifier\", df7_train, df7_validation, 20000)\n",
    "\n",
    "xgb_tuned_ranking"
   ]
  },
  {
   "cell_type": "code",
   "execution_count": null,
   "metadata": {
    "ExecuteTime": {
     "end_time": "2021-02-24T14:31:33.863465Z",
     "start_time": "2021-02-24T14:29:59.649510Z"
    },
    "hidden": true
   },
   "outputs": [],
   "source": [
    "xgb_tuned = model_fit(model_xgb_tuned, df7_train)"
   ]
  },
  {
   "cell_type": "code",
   "execution_count": null,
   "metadata": {
    "ExecuteTime": {
     "end_time": "2021-02-24T14:31:34.091116Z",
     "start_time": "2021-02-24T14:31:33.864920Z"
    },
    "hidden": true
   },
   "outputs": [],
   "source": [
    "pickle.dump(xgb_tuned, open(home_path + \"ml_models_comp/xgb_tuned_new_tree.pkl\", \"wb\"))"
   ]
  },
  {
   "cell_type": "markdown",
   "metadata": {
    "heading_collapsed": true,
    "hidden": true
   },
   "source": [
    "### 8.1.1 Validation"
   ]
  },
  {
   "cell_type": "code",
   "execution_count": null,
   "metadata": {
    "ExecuteTime": {
     "end_time": "2021-02-24T14:42:56.035258Z",
     "start_time": "2021-02-24T14:31:34.092203Z"
    },
    "hidden": true,
    "scrolled": true
   },
   "outputs": [],
   "source": [
    "for i in range(final_result.shape[0]):\n",
    "    j = final_result.loc[i, 'Iter_nr']\n",
    "    param_dict = hyperparam_lst[j]\n",
    "    \n",
    "    # model\n",
    "    model = xgb.XGBClassifier(objective='binary:logistic',\n",
    "                              use_label_encoder=False,\n",
    "                              n_estimators=param_dict['n_estimators'],\n",
    "                              eta=param_dict['eta'],\n",
    "                              gamma=param_dict['gamma'],\n",
    "                              max_depth=param_dict['max_depth'],\n",
    "                              n_jobs=-1,\n",
    "                              subsample=param_dict['subsample'],\n",
    "                              colsample_bytree=param_dict['colsample_bytree'],\n",
    "                              min_child_weight=param_dict['min_child_weight'],\n",
    "                              verbosity=0)\n",
    "    \n",
    "    # print results\n",
    "    print(param_dict)\n",
    "    xgb_ranking = model_evaluate(model, \"XGBoost Classifier\", df7_train, df7_validation, 20000)\n",
    "    display(xgb_ranking)"
   ]
  },
  {
   "cell_type": "markdown",
   "metadata": {
    "hidden": true
   },
   "source": [
    "All models perform very similarly. I will take the fourth one: {'n_estimators': 2000, 'eta': 0.01, 'gamma': 10, 'max_depth': 9, 'subsample': 0.7, 'colsample_bytree': 0.9, 'min_child_weight': 15}. The 4th (index=3) element in final_result (Iter_nr=2)."
   ]
  },
  {
   "cell_type": "code",
   "execution_count": null,
   "metadata": {
    "ExecuteTime": {
     "end_time": "2021-02-24T15:13:14.976074Z",
     "start_time": "2021-02-24T15:10:56.523832Z"
    },
    "hidden": true
   },
   "outputs": [],
   "source": [
    "j = final_result.loc[3, 'Iter_nr']\n",
    "param_dict = hyperparam_lst[j]\n",
    "    \n",
    "# model\n",
    "model = xgb.XGBClassifier(objective='binary:logistic',\n",
    "                          use_label_encoder=False,\n",
    "                          n_estimators=param_dict['n_estimators'],\n",
    "                          eta=param_dict['eta'],\n",
    "                          gamma=param_dict['gamma'],\n",
    "                          max_depth=param_dict['max_depth'],\n",
    "                          n_jobs=-1,\n",
    "                          subsample=param_dict['subsample'],\n",
    "                          colsample_bytree=param_dict['colsample_bytree'],\n",
    "                          min_child_weight=param_dict['min_child_weight'],\n",
    "                          verbosity=0)\n",
    "\n",
    "xgb_ranking = model_evaluate(model, \"XGBoost Classifier\", df7_train, df7_validation, 20000)\n",
    "xgb_ranking"
   ]
  },
  {
   "cell_type": "code",
   "execution_count": null,
   "metadata": {
    "ExecuteTime": {
     "end_time": "2021-02-24T15:15:43.650638Z",
     "start_time": "2021-02-24T15:13:25.109452Z"
    },
    "hidden": true
   },
   "outputs": [],
   "source": [
    "xgb_validated = model_fit(model, df7_train)"
   ]
  },
  {
   "cell_type": "code",
   "execution_count": null,
   "metadata": {
    "ExecuteTime": {
     "end_time": "2021-02-24T15:17:09.954850Z",
     "start_time": "2021-02-24T15:17:09.477910Z"
    },
    "hidden": true
   },
   "outputs": [],
   "source": [
    "pickle.dump(xgb_validated, open(home_path + \"ml_models_comp/xgb_validated_new_tree.pkl\", \"wb\"))"
   ]
  }
 ],
 "metadata": {
  "kernelspec": {
   "display_name": "Python 3",
   "language": "python",
   "name": "python3"
  },
  "language_info": {
   "codemirror_mode": {
    "name": "ipython",
    "version": 3
   },
   "file_extension": ".py",
   "mimetype": "text/x-python",
   "name": "python",
   "nbconvert_exporter": "python",
   "pygments_lexer": "ipython3",
   "version": "3.8.5"
  }
 },
 "nbformat": 4,
 "nbformat_minor": 4
}
