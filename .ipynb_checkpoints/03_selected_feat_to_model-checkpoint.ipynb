{
 "cells": [
  {
   "cell_type": "markdown",
   "metadata": {},
   "source": [
    "# 0.0 Imports"
   ]
  },
  {
   "cell_type": "code",
   "execution_count": 1,
   "metadata": {
    "ExecuteTime": {
     "end_time": "2021-01-30T00:56:46.534600Z",
     "start_time": "2021-01-30T00:56:45.133021Z"
    }
   },
   "outputs": [],
   "source": [
    "import pandas as pd\n",
    "import numpy as np\n",
    "import pickle\n",
    "\n",
    "from sklearn.linear_model import LogisticRegression as LogReg\n",
    "from sklearn.linear_model import SGDClassifier as sgd\n",
    "from sklearn.svm import SVC\n",
    "from sklearn.kernel_approximation import RBFSampler as rbf_s\n",
    "from sklearn.metrics import accuracy_score, balanced_accuracy_score, precision_score, recall_score, f1_score\n",
    "\n",
    "import xgboost as xgb\n",
    "\n",
    "from imblearn.ensemble import BalancedRandomForestClassifier as bal_rf"
   ]
  },
  {
   "cell_type": "markdown",
   "metadata": {},
   "source": [
    "## 0.1 Load data"
   ]
  },
  {
   "cell_type": "code",
   "execution_count": 2,
   "metadata": {
    "ExecuteTime": {
     "end_time": "2021-01-30T00:56:46.673338Z",
     "start_time": "2021-01-30T00:56:46.539663Z"
    }
   },
   "outputs": [],
   "source": [
    "df_train_res = pd.read_pickle(\"df_train_res.pkl\")\n",
    "\n",
    "df_val = pd.read_pickle(\"df_val.pkl\")\n",
    "\n",
    "cols_selected_boruta_resampled = pickle.load(open(\"cols_selected_boruta_resampled.pkl\", \"rb\"))"
   ]
  },
  {
   "cell_type": "code",
   "execution_count": 3,
   "metadata": {
    "ExecuteTime": {
     "end_time": "2021-01-30T00:56:46.683436Z",
     "start_time": "2021-01-30T00:56:46.675315Z"
    }
   },
   "outputs": [
    {
     "data": {
      "text/plain": [
       "['age', 'region_code', 'previously_insured', 'annual_premium', 'vintage']"
      ]
     },
     "execution_count": 3,
     "metadata": {},
     "output_type": "execute_result"
    }
   ],
   "source": [
    "cols_selected_boruta_resampled"
   ]
  },
  {
   "cell_type": "code",
   "execution_count": 4,
   "metadata": {
    "ExecuteTime": {
     "end_time": "2021-01-30T00:56:46.687975Z",
     "start_time": "2021-01-30T00:56:46.685382Z"
    }
   },
   "outputs": [],
   "source": [
    "resp = ['response']\n",
    "cols_selected_boruta_resampled_full = cols_selected_boruta_resampled.copy()\n",
    "cols_selected_boruta_resampled_full.extend(resp)"
   ]
  },
  {
   "cell_type": "markdown",
   "metadata": {},
   "source": [
    "## 0.2 Helper Functions"
   ]
  },
  {
   "cell_type": "code",
   "execution_count": 5,
   "metadata": {
    "ExecuteTime": {
     "end_time": "2021-01-30T00:56:46.693634Z",
     "start_time": "2021-01-30T00:56:46.689818Z"
    }
   },
   "outputs": [],
   "source": [
    "def metric_scores(y_true, y_pred):\n",
    "    return pd.DataFrame({'accuracy':accuracy_score(y_true, y_pred),\n",
    "                        'balanced_accuracy':balanced_accuracy_score(y_true, y_pred),\n",
    "                        'precision':precision_score(y_true, y_pred),\n",
    "                        'recall':recall_score(y_true, y_pred),\n",
    "                        'F1':f1_score(y_true, y_pred)}, index=[0])"
   ]
  },
  {
   "cell_type": "markdown",
   "metadata": {},
   "source": [
    "# 7.0 Machine Learning Model"
   ]
  },
  {
   "cell_type": "markdown",
   "metadata": {},
   "source": [
    "## 7.0.1 Separate train and validation data"
   ]
  },
  {
   "cell_type": "code",
   "execution_count": 6,
   "metadata": {
    "ExecuteTime": {
     "end_time": "2021-01-30T00:56:46.724543Z",
     "start_time": "2021-01-30T00:56:46.695197Z"
    }
   },
   "outputs": [],
   "source": [
    "df7 = df_train_res[cols_selected_boruta_resampled_full].copy()"
   ]
  },
  {
   "cell_type": "code",
   "execution_count": 7,
   "metadata": {
    "ExecuteTime": {
     "end_time": "2021-01-30T00:56:46.733268Z",
     "start_time": "2021-01-30T00:56:46.726437Z"
    }
   },
   "outputs": [],
   "source": [
    "X_train_res = df7.drop(['response'], axis=1)\n",
    "y_train_res = df7.response"
   ]
  },
  {
   "cell_type": "code",
   "execution_count": 8,
   "metadata": {
    "ExecuteTime": {
     "end_time": "2021-01-30T00:56:46.742028Z",
     "start_time": "2021-01-30T00:56:46.735557Z"
    }
   },
   "outputs": [],
   "source": [
    "df7_val = df_val[cols_selected_boruta_resampled_full].copy()"
   ]
  },
  {
   "cell_type": "code",
   "execution_count": 9,
   "metadata": {
    "ExecuteTime": {
     "end_time": "2021-01-30T00:56:46.747233Z",
     "start_time": "2021-01-30T00:56:46.743680Z"
    }
   },
   "outputs": [],
   "source": [
    "X_val = df7_val.drop(['response'], axis=1)\n",
    "y_val = df7_val.response"
   ]
  },
  {
   "cell_type": "markdown",
   "metadata": {},
   "source": [
    "## 7.1 Logistic Classifier"
   ]
  },
  {
   "cell_type": "code",
   "execution_count": 10,
   "metadata": {
    "ExecuteTime": {
     "end_time": "2021-01-30T00:56:50.377892Z",
     "start_time": "2021-01-30T00:56:46.748808Z"
    }
   },
   "outputs": [
    {
     "data": {
      "text/html": [
       "<div>\n",
       "<style scoped>\n",
       "    .dataframe tbody tr th:only-of-type {\n",
       "        vertical-align: middle;\n",
       "    }\n",
       "\n",
       "    .dataframe tbody tr th {\n",
       "        vertical-align: top;\n",
       "    }\n",
       "\n",
       "    .dataframe thead th {\n",
       "        text-align: right;\n",
       "    }\n",
       "</style>\n",
       "<table border=\"1\" class=\"dataframe\">\n",
       "  <thead>\n",
       "    <tr style=\"text-align: right;\">\n",
       "      <th></th>\n",
       "      <th>accuracy</th>\n",
       "      <th>balanced_accuracy</th>\n",
       "      <th>precision</th>\n",
       "      <th>recall</th>\n",
       "      <th>F1</th>\n",
       "    </tr>\n",
       "  </thead>\n",
       "  <tbody>\n",
       "    <tr>\n",
       "      <th>0</th>\n",
       "      <td>0.580095</td>\n",
       "      <td>0.759293</td>\n",
       "      <td>0.225524</td>\n",
       "      <td>0.996682</td>\n",
       "      <td>0.36782</td>\n",
       "    </tr>\n",
       "  </tbody>\n",
       "</table>\n",
       "</div>"
      ],
      "text/plain": [
       "   accuracy  balanced_accuracy  precision    recall       F1\n",
       "0  0.580095           0.759293   0.225524  0.996682  0.36782"
      ]
     },
     "execution_count": 10,
     "metadata": {},
     "output_type": "execute_result"
    }
   ],
   "source": [
    "logreg = LogReg(random_state=30, solver='saga', n_jobs=-1).fit(X_train_res, y_train_res)\n",
    "\n",
    "yhat_logreg = logreg.predict(X_val)\n",
    "\n",
    "score_table_logreg = metric_scores(y_val, yhat_logreg)\n",
    "score_table_logreg"
   ]
  },
  {
   "cell_type": "markdown",
   "metadata": {},
   "source": [
    "There are many false positives."
   ]
  },
  {
   "cell_type": "markdown",
   "metadata": {},
   "source": [
    "## 7.2 Support Vector Machines"
   ]
  },
  {
   "cell_type": "markdown",
   "metadata": {},
   "source": [
    "### 7.2.1 Linear Kernel"
   ]
  },
  {
   "cell_type": "code",
   "execution_count": 11,
   "metadata": {
    "ExecuteTime": {
     "end_time": "2021-01-30T00:56:50.381654Z",
     "start_time": "2021-01-30T00:56:50.379555Z"
    }
   },
   "outputs": [],
   "source": [
    "#svc_l = SVC(kernel='linear', random_state=30, verbose=True).fit(X_train_res, y_train_res)\n",
    "\n",
    "#yhat_svc_l = svc_l.predict(X_val)\n",
    "\n",
    "#score_table_svc_l = metric_scores(y_val, yhat_svc_l)\n",
    "#score_table_svc_l"
   ]
  },
  {
   "cell_type": "markdown",
   "metadata": {},
   "source": [
    "### 7.2.2 Radial Basis Function kernel"
   ]
  },
  {
   "cell_type": "code",
   "execution_count": 12,
   "metadata": {
    "ExecuteTime": {
     "end_time": "2021-01-30T00:56:50.386493Z",
     "start_time": "2021-01-30T00:56:50.383488Z"
    }
   },
   "outputs": [],
   "source": [
    "#svc_r = SVC(kernel='rbf', random_state=30, verbose=True).fit(X_train_res, y_train_res)\n",
    "\n",
    "#yhat_svc_r = svc_r.predict(X_val)\n",
    "\n",
    "#score_table_svc_r = metric_scores(y_val, yhat_svc_r)\n",
    "#score_table_svc_r"
   ]
  },
  {
   "cell_type": "markdown",
   "metadata": {},
   "source": [
    "## 7.3 SGD Classifier"
   ]
  },
  {
   "cell_type": "markdown",
   "metadata": {},
   "source": [
    "### 7.3.1 Hinge - linear SVC"
   ]
  },
  {
   "cell_type": "code",
   "execution_count": 13,
   "metadata": {
    "ExecuteTime": {
     "end_time": "2021-01-30T00:56:51.242626Z",
     "start_time": "2021-01-30T00:56:50.387916Z"
    }
   },
   "outputs": [
    {
     "data": {
      "text/html": [
       "<div>\n",
       "<style scoped>\n",
       "    .dataframe tbody tr th:only-of-type {\n",
       "        vertical-align: middle;\n",
       "    }\n",
       "\n",
       "    .dataframe tbody tr th {\n",
       "        vertical-align: top;\n",
       "    }\n",
       "\n",
       "    .dataframe thead th {\n",
       "        text-align: right;\n",
       "    }\n",
       "</style>\n",
       "<table border=\"1\" class=\"dataframe\">\n",
       "  <thead>\n",
       "    <tr style=\"text-align: right;\">\n",
       "      <th></th>\n",
       "      <th>accuracy</th>\n",
       "      <th>balanced_accuracy</th>\n",
       "      <th>precision</th>\n",
       "      <th>recall</th>\n",
       "      <th>F1</th>\n",
       "    </tr>\n",
       "  </thead>\n",
       "  <tbody>\n",
       "    <tr>\n",
       "      <th>0</th>\n",
       "      <td>0.580095</td>\n",
       "      <td>0.759293</td>\n",
       "      <td>0.225524</td>\n",
       "      <td>0.996682</td>\n",
       "      <td>0.36782</td>\n",
       "    </tr>\n",
       "  </tbody>\n",
       "</table>\n",
       "</div>"
      ],
      "text/plain": [
       "   accuracy  balanced_accuracy  precision    recall       F1\n",
       "0  0.580095           0.759293   0.225524  0.996682  0.36782"
      ]
     },
     "execution_count": 13,
     "metadata": {},
     "output_type": "execute_result"
    }
   ],
   "source": [
    "sgd_svc = sgd(loss='hinge', random_state=30, n_jobs=-1).fit(X_train_res, y_train_res)\n",
    "\n",
    "yhat_sgd_svc = sgd_svc.predict(X_val)\n",
    "\n",
    "score_table_sgd_svc = metric_scores(y_val, yhat_sgd_svc)\n",
    "score_table_sgd_svc"
   ]
  },
  {
   "cell_type": "markdown",
   "metadata": {},
   "source": [
    "The documentation says that the SGDClassifier with loss='hinge' is equivalent to a SVC classifier with linear kernel, but the result is exactly that of the logistic regression."
   ]
  },
  {
   "cell_type": "markdown",
   "metadata": {},
   "source": [
    "### 7.3.2 Perceptron"
   ]
  },
  {
   "cell_type": "code",
   "execution_count": 14,
   "metadata": {
    "ExecuteTime": {
     "end_time": "2021-01-30T00:56:51.992316Z",
     "start_time": "2021-01-30T00:56:51.245302Z"
    }
   },
   "outputs": [
    {
     "data": {
      "text/html": [
       "<div>\n",
       "<style scoped>\n",
       "    .dataframe tbody tr th:only-of-type {\n",
       "        vertical-align: middle;\n",
       "    }\n",
       "\n",
       "    .dataframe tbody tr th {\n",
       "        vertical-align: top;\n",
       "    }\n",
       "\n",
       "    .dataframe thead th {\n",
       "        text-align: right;\n",
       "    }\n",
       "</style>\n",
       "<table border=\"1\" class=\"dataframe\">\n",
       "  <thead>\n",
       "    <tr style=\"text-align: right;\">\n",
       "      <th></th>\n",
       "      <th>accuracy</th>\n",
       "      <th>balanced_accuracy</th>\n",
       "      <th>precision</th>\n",
       "      <th>recall</th>\n",
       "      <th>F1</th>\n",
       "    </tr>\n",
       "  </thead>\n",
       "  <tbody>\n",
       "    <tr>\n",
       "      <th>0</th>\n",
       "      <td>0.811301</td>\n",
       "      <td>0.539117</td>\n",
       "      <td>0.199117</td>\n",
       "      <td>0.178548</td>\n",
       "      <td>0.188272</td>\n",
       "    </tr>\n",
       "  </tbody>\n",
       "</table>\n",
       "</div>"
      ],
      "text/plain": [
       "   accuracy  balanced_accuracy  precision    recall        F1\n",
       "0  0.811301           0.539117   0.199117  0.178548  0.188272"
      ]
     },
     "execution_count": 14,
     "metadata": {},
     "output_type": "execute_result"
    }
   ],
   "source": [
    "sgd_per = sgd(loss='perceptron', random_state=30, n_jobs=-1).fit(X_train_res, y_train_res)\n",
    "\n",
    "yhat_sgd_per = sgd_per.predict(X_val)\n",
    "\n",
    "score_table_sgd_per = metric_scores(y_val, yhat_sgd_per)\n",
    "score_table_sgd_per"
   ]
  },
  {
   "cell_type": "markdown",
   "metadata": {},
   "source": [
    "### 7.3.3 with RBFSampler"
   ]
  },
  {
   "cell_type": "code",
   "execution_count": 15,
   "metadata": {
    "ExecuteTime": {
     "end_time": "2021-01-30T00:57:03.761149Z",
     "start_time": "2021-01-30T00:56:51.993860Z"
    }
   },
   "outputs": [
    {
     "data": {
      "text/html": [
       "<div>\n",
       "<style scoped>\n",
       "    .dataframe tbody tr th:only-of-type {\n",
       "        vertical-align: middle;\n",
       "    }\n",
       "\n",
       "    .dataframe tbody tr th {\n",
       "        vertical-align: top;\n",
       "    }\n",
       "\n",
       "    .dataframe thead th {\n",
       "        text-align: right;\n",
       "    }\n",
       "</style>\n",
       "<table border=\"1\" class=\"dataframe\">\n",
       "  <thead>\n",
       "    <tr style=\"text-align: right;\">\n",
       "      <th></th>\n",
       "      <th>accuracy</th>\n",
       "      <th>balanced_accuracy</th>\n",
       "      <th>precision</th>\n",
       "      <th>recall</th>\n",
       "      <th>F1</th>\n",
       "    </tr>\n",
       "  </thead>\n",
       "  <tbody>\n",
       "    <tr>\n",
       "      <th>0</th>\n",
       "      <td>0.580777</td>\n",
       "      <td>0.758945</td>\n",
       "      <td>0.225596</td>\n",
       "      <td>0.994969</td>\n",
       "      <td>0.367798</td>\n",
       "    </tr>\n",
       "  </tbody>\n",
       "</table>\n",
       "</div>"
      ],
      "text/plain": [
       "   accuracy  balanced_accuracy  precision    recall        F1\n",
       "0  0.580777           0.758945   0.225596  0.994969  0.367798"
      ]
     },
     "execution_count": 15,
     "metadata": {},
     "output_type": "execute_result"
    }
   ],
   "source": [
    "X_train_rbf = rbf_s(random_state=30, n_components=500).fit_transform(X_train_res)\n",
    "\n",
    "X_val_rbf = rbf_s(random_state=30, n_components=500).fit_transform(X_val)\n",
    "\n",
    "sgd_rbf = sgd(loss='hinge', random_state=30, n_jobs=-1).fit(X_train_rbf, y_train_res)\n",
    "\n",
    "yhat_sgd_rbf = sgd_rbf.predict(X_val_rbf)\n",
    "\n",
    "score_table_sgd_rbf = metric_scores(y_val, yhat_sgd_rbf)\n",
    "score_table_sgd_rbf"
   ]
  },
  {
   "cell_type": "markdown",
   "metadata": {},
   "source": [
    "It has to modify the validation data and doesn't produce better result. I don't like it."
   ]
  },
  {
   "cell_type": "markdown",
   "metadata": {},
   "source": [
    "## 7.4 XGBoost classifier"
   ]
  },
  {
   "cell_type": "code",
   "execution_count": 16,
   "metadata": {
    "ExecuteTime": {
     "end_time": "2021-01-30T00:57:22.725254Z",
     "start_time": "2021-01-30T00:57:03.763252Z"
    }
   },
   "outputs": [
    {
     "data": {
      "text/html": [
       "<div>\n",
       "<style scoped>\n",
       "    .dataframe tbody tr th:only-of-type {\n",
       "        vertical-align: middle;\n",
       "    }\n",
       "\n",
       "    .dataframe tbody tr th {\n",
       "        vertical-align: top;\n",
       "    }\n",
       "\n",
       "    .dataframe thead th {\n",
       "        text-align: right;\n",
       "    }\n",
       "</style>\n",
       "<table border=\"1\" class=\"dataframe\">\n",
       "  <thead>\n",
       "    <tr style=\"text-align: right;\">\n",
       "      <th></th>\n",
       "      <th>accuracy</th>\n",
       "      <th>balanced_accuracy</th>\n",
       "      <th>precision</th>\n",
       "      <th>recall</th>\n",
       "      <th>F1</th>\n",
       "    </tr>\n",
       "  </thead>\n",
       "  <tbody>\n",
       "    <tr>\n",
       "      <th>0</th>\n",
       "      <td>0.630527</td>\n",
       "      <td>0.731948</td>\n",
       "      <td>0.231189</td>\n",
       "      <td>0.866303</td>\n",
       "      <td>0.364977</td>\n",
       "    </tr>\n",
       "  </tbody>\n",
       "</table>\n",
       "</div>"
      ],
      "text/plain": [
       "   accuracy  balanced_accuracy  precision    recall        F1\n",
       "0  0.630527           0.731948   0.231189  0.866303  0.364977"
      ]
     },
     "execution_count": 16,
     "metadata": {},
     "output_type": "execute_result"
    }
   ],
   "source": [
    "xgb_cl = xgb.XGBClassifier(objective='binary:logistic',\n",
    "                              use_label_encoder=False,\n",
    "                              n_estimators=100,\n",
    "                              eta=0.01,\n",
    "                              max_depth=10,\n",
    "                              n_jobs=-1,\n",
    "                              subsample=0.7,\n",
    "                              colsample_bytree=0.9).fit(X_train_res, y_train_res, eval_metric='logloss')\n",
    "\n",
    "yhat_xgb = xgb_cl.predict(X_val)\n",
    "\n",
    "score_table_xgb = metric_scores(y_val, yhat_xgb)\n",
    "score_table_xgb"
   ]
  },
  {
   "cell_type": "markdown",
   "metadata": {},
   "source": [
    "## 7.5 Balanced Random Forest"
   ]
  },
  {
   "cell_type": "code",
   "execution_count": 17,
   "metadata": {
    "ExecuteTime": {
     "end_time": "2021-01-30T00:57:46.739036Z",
     "start_time": "2021-01-30T00:57:22.727142Z"
    }
   },
   "outputs": [
    {
     "data": {
      "text/html": [
       "<div>\n",
       "<style scoped>\n",
       "    .dataframe tbody tr th:only-of-type {\n",
       "        vertical-align: middle;\n",
       "    }\n",
       "\n",
       "    .dataframe tbody tr th {\n",
       "        vertical-align: top;\n",
       "    }\n",
       "\n",
       "    .dataframe thead th {\n",
       "        text-align: right;\n",
       "    }\n",
       "</style>\n",
       "<table border=\"1\" class=\"dataframe\">\n",
       "  <thead>\n",
       "    <tr style=\"text-align: right;\">\n",
       "      <th></th>\n",
       "      <th>accuracy</th>\n",
       "      <th>balanced_accuracy</th>\n",
       "      <th>precision</th>\n",
       "      <th>recall</th>\n",
       "      <th>F1</th>\n",
       "    </tr>\n",
       "  </thead>\n",
       "  <tbody>\n",
       "    <tr>\n",
       "      <th>0</th>\n",
       "      <td>0.621081</td>\n",
       "      <td>0.742359</td>\n",
       "      <td>0.231682</td>\n",
       "      <td>0.903019</td>\n",
       "      <td>0.368755</td>\n",
       "    </tr>\n",
       "  </tbody>\n",
       "</table>\n",
       "</div>"
      ],
      "text/plain": [
       "   accuracy  balanced_accuracy  precision    recall        F1\n",
       "0  0.621081           0.742359   0.231682  0.903019  0.368755"
      ]
     },
     "execution_count": 17,
     "metadata": {},
     "output_type": "execute_result"
    }
   ],
   "source": [
    "brf_clf = bal_rf(n_estimators = 100, max_depth=10, random_state=42, n_jobs=-1).fit(X_train_res, y_train_res)\n",
    "\n",
    "yhat_brf = brf_clf.predict(X_val)\n",
    "\n",
    "score_table_brf = metric_scores(y_val, yhat_brf)\n",
    "score_table_brf"
   ]
  }
 ],
 "metadata": {
  "kernelspec": {
   "display_name": "Python 3",
   "language": "python",
   "name": "python3"
  },
  "language_info": {
   "codemirror_mode": {
    "name": "ipython",
    "version": 3
   },
   "file_extension": ".py",
   "mimetype": "text/x-python",
   "name": "python",
   "nbconvert_exporter": "python",
   "pygments_lexer": "ipython3",
   "version": "3.8.5"
  }
 },
 "nbformat": 4,
 "nbformat_minor": 4
}
