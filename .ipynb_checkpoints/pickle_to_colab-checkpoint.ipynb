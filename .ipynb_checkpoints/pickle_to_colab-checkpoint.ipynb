{
 "cells": [
  {
   "cell_type": "code",
   "execution_count": 1,
   "metadata": {
    "ExecuteTime": {
     "end_time": "2021-02-01T20:56:01.766548Z",
     "start_time": "2021-02-01T20:56:01.547055Z"
    }
   },
   "outputs": [],
   "source": [
    "import pandas as pd\n",
    "import pickle5 as pickle"
   ]
  },
  {
   "cell_type": "code",
   "execution_count": 2,
   "metadata": {
    "ExecuteTime": {
     "end_time": "2021-02-01T20:56:01.803247Z",
     "start_time": "2021-02-01T20:56:01.767756Z"
    }
   },
   "outputs": [],
   "source": [
    "df_train_res = pd.read_pickle(\"data_in_progress/df_train_res_nn.pkl\")"
   ]
  },
  {
   "cell_type": "code",
   "execution_count": 3,
   "metadata": {
    "ExecuteTime": {
     "end_time": "2021-02-01T20:56:01.894790Z",
     "start_time": "2021-02-01T20:56:01.804685Z"
    }
   },
   "outputs": [],
   "source": [
    "df_train_res.to_pickle('data_in_progress/df_train_to_colab.pkl', protocol=4)"
   ]
  }
 ],
 "metadata": {
  "kernelspec": {
   "display_name": "Python 3",
   "language": "python",
   "name": "python3"
  },
  "language_info": {
   "codemirror_mode": {
    "name": "ipython",
    "version": 3
   },
   "file_extension": ".py",
   "mimetype": "text/x-python",
   "name": "python",
   "nbconvert_exporter": "python",
   "pygments_lexer": "ipython3",
   "version": "3.8.5"
  }
 },
 "nbformat": 4,
 "nbformat_minor": 4
}
