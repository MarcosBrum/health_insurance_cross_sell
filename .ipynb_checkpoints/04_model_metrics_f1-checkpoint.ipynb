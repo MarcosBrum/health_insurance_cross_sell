{
 "cells": [
  {
   "cell_type": "markdown",
   "metadata": {},
   "source": [
    "# 0.0 Imports"
   ]
  },
  {
   "cell_type": "code",
   "execution_count": 1,
   "metadata": {
    "ExecuteTime": {
     "end_time": "2021-02-03T00:26:02.879601Z",
     "start_time": "2021-02-03T00:26:02.332625Z"
    }
   },
   "outputs": [],
   "source": [
    "import pandas as pd\n",
    "import numpy as np\n",
    "import random\n",
    "import pickle\n",
    "\n",
    "from sklearn.metrics import accuracy_score, balanced_accuracy_score, precision_score, recall_score, f1_score\n",
    "from sklearn.model_selection import StratifiedShuffleSplit as sss\n",
    "\n",
    "import xgboost as xgb"
   ]
  },
  {
   "cell_type": "markdown",
   "metadata": {},
   "source": [
    "## 0.1 Load Data"
   ]
  },
  {
   "cell_type": "code",
   "execution_count": 2,
   "metadata": {
    "ExecuteTime": {
     "end_time": "2021-02-03T00:26:02.955728Z",
     "start_time": "2021-02-03T00:26:02.881448Z"
    }
   },
   "outputs": [],
   "source": [
    "df_train_res = pd.read_pickle(\"data_in_progress/df_train_res_nn.pkl\")\n",
    "\n",
    "df_val = pd.read_pickle(\"data_in_progress/df_val.pkl\")\n",
    "\n",
    "cols_selected_boruta_resampled = pickle.load(open(\"data_in_progress/cols_selected_boruta_resampled_nn.pkl\", \"rb\"))"
   ]
  },
  {
   "cell_type": "code",
   "execution_count": 3,
   "metadata": {
    "ExecuteTime": {
     "end_time": "2021-02-03T00:26:02.959123Z",
     "start_time": "2021-02-03T00:26:02.957194Z"
    }
   },
   "outputs": [],
   "source": [
    "resp = ['response']\n",
    "cols_selected_boruta_resampled_full = cols_selected_boruta_resampled.copy()\n",
    "cols_selected_boruta_resampled_full.extend(resp)"
   ]
  },
  {
   "cell_type": "markdown",
   "metadata": {},
   "source": [
    "## 0.2 Helper Functions"
   ]
  },
  {
   "cell_type": "code",
   "execution_count": 4,
   "metadata": {
    "ExecuteTime": {
     "end_time": "2021-02-03T00:26:02.970345Z",
     "start_time": "2021-02-03T00:26:02.960577Z"
    }
   },
   "outputs": [],
   "source": [
    "def metric_scores(y_true, y_pred):\n",
    "    return pd.DataFrame({'accuracy':accuracy_score(y_true, y_pred),\n",
    "                        'balanced_accuracy':balanced_accuracy_score(y_true, y_pred),\n",
    "                        'precision':precision_score(y_true, y_pred),\n",
    "                        'precision_0':precision_score(y_true, y_pred, pos_label=0),\n",
    "                        'recall':recall_score(y_true, y_pred),\n",
    "                        'specificity':recall_score(y_true, y_pred, pos_label=0),\n",
    "                        'F1':f1_score(y_true, y_pred),\n",
    "                        'F1_weighted':f1_score(y_true, y_pred, average='weighted'),\n",
    "                        'G_mean':np.sqrt(recall_score(y_true, y_pred)*recall_score(y_true, y_pred, pos_label=0))},\n",
    "                        index=[0])\n",
    "\n",
    "\n",
    "def cross_validation_xgb(training_data, kfolds, model, model_name, verbose=False):\n",
    "    xtraining = training_data.drop(['response'], axis=1)\n",
    "    ytraining = training_data.response\n",
    "    \n",
    "    cv = sss(n_splits=kfolds)\n",
    "    acc_list = []\n",
    "    bal_acc_list = []\n",
    "    prec_list = []\n",
    "    prec0_list = []\n",
    "    rec_list = []\n",
    "    spec_list = []\n",
    "    f1_list = []\n",
    "    f1w_list = []\n",
    "    g_list = []\n",
    "    for train_index, prim_val_index in cv.split(xtraining, ytraining):\n",
    "        X_training, X_prim_val = xtraining.iloc[train_index], xtraining.iloc[prim_val_index]\n",
    "        y_training, y_prim_val = ytraining.iloc[train_index], ytraining.iloc[prim_val_index]\n",
    "        \n",
    "        m = model.fit(X_training, y_training, eval_metric='logloss')\n",
    "        yhat = m.predict(X_prim_val)\n",
    "        \n",
    "        score_table = metric_scores(y_prim_val, yhat)\n",
    "        acc_list.append(score_table['accuracy'])\n",
    "        bal_acc_list.append(score_table['balanced_accuracy'])\n",
    "        prec_list.append(score_table['precision'])\n",
    "        prec0_list.append(score_table['precision_0'])\n",
    "        rec_list.append(score_table['recall'])\n",
    "        spec_list.append(score_table['specificity'])\n",
    "        f1_list.append(score_table['F1'])\n",
    "        f1w_list.append(score_table['F1_weighted'])\n",
    "        g_list.append(score_table['G_mean'])\n",
    "    \n",
    "    acc_pred = np.round(np.mean(acc_list), 4).astype(str) + '+/-' + np.round(np.std(acc_list), 4).astype(str)\n",
    "    bal_acc_pred = np.round(np.mean(bal_acc_list), 4).astype(str) + '+/-' + np.round(np.std(bal_acc_list), 4).astype(str)\n",
    "    prec_pred = np.round(np.mean(prec_list), 4).astype(str) + '+/-' + np.round(np.std(prec_list), 4).astype(str)\n",
    "    prec0_pred = np.round(np.mean(prec0_list), 4).astype(str) + '+/-' + np.round(np.std(prec0_list), 4).astype(str)\n",
    "    rec_pred = np.round(np.mean(rec_list), 4).astype(str) + '+/-' + np.round(np.std(rec_list), 4).astype(str)\n",
    "    spec_pred = np.round(np.mean(spec_list), 4).astype(str) + '+/-' + np.round(np.std(spec_list), 4).astype(str)\n",
    "    f1_pred = np.round(np.mean(f1_list), 4).astype(str) + '+/-' + np.round(np.std(f1_list), 4).astype(str)\n",
    "    f1w_pred = np.round(np.mean(f1w_list), 4).astype(str) + '+/-' + np.round(np.std(f1w_list), 4).astype(str)\n",
    "    g_pred = np.round(np.mean(g_list), 4).astype(str) + '+/-' + np.round(np.std(g_list), 4).astype(str)\n",
    "    return pd.DataFrame({'Model name':model_name,\n",
    "                         'accuracy':acc_pred,\n",
    "                         'balanced_accuracy':bal_acc_pred,\n",
    "                         'precision':prec_pred,\n",
    "                         'precision_0':prec0_pred,\n",
    "                         'recall':rec_pred,\n",
    "                         'specificity':spec_pred,\n",
    "                         'F1':f1_pred,\n",
    "                         'F1_weighted':f1w_pred,\n",
    "                         'G_mean':g_pred}, index=[0])"
   ]
  },
  {
   "cell_type": "markdown",
   "metadata": {},
   "source": [
    "# 8.0 Hyperparameter Fine Tunning"
   ]
  },
  {
   "cell_type": "code",
   "execution_count": 5,
   "metadata": {
    "ExecuteTime": {
     "end_time": "2021-02-03T00:26:02.993348Z",
     "start_time": "2021-02-03T00:26:02.971591Z"
    }
   },
   "outputs": [],
   "source": [
    "df8 = df_train_res[cols_selected_boruta_resampled_full].copy()"
   ]
  },
  {
   "cell_type": "code",
   "execution_count": 6,
   "metadata": {
    "ExecuteTime": {
     "end_time": "2021-02-03T00:26:02.999992Z",
     "start_time": "2021-02-03T00:26:02.994329Z"
    }
   },
   "outputs": [],
   "source": [
    "X_train_res = df8.drop(['response'], axis=1)\n",
    "y_train_res = df8.response"
   ]
  },
  {
   "cell_type": "code",
   "execution_count": 7,
   "metadata": {
    "ExecuteTime": {
     "end_time": "2021-02-03T00:26:03.007631Z",
     "start_time": "2021-02-03T00:26:03.001127Z"
    }
   },
   "outputs": [],
   "source": [
    "df8_val = df_val[cols_selected_boruta_resampled_full].copy()"
   ]
  },
  {
   "cell_type": "code",
   "execution_count": 8,
   "metadata": {
    "ExecuteTime": {
     "end_time": "2021-02-03T00:26:03.012414Z",
     "start_time": "2021-02-03T00:26:03.009453Z"
    }
   },
   "outputs": [],
   "source": [
    "X_val = df8_val.drop(['response'], axis=1)\n",
    "y_val = df8_val.response"
   ]
  },
  {
   "cell_type": "markdown",
   "metadata": {},
   "source": [
    "## 8.1 Random Search"
   ]
  },
  {
   "cell_type": "code",
   "execution_count": 9,
   "metadata": {
    "ExecuteTime": {
     "end_time": "2021-02-03T00:26:03.015859Z",
     "start_time": "2021-02-03T00:26:03.013439Z"
    }
   },
   "outputs": [],
   "source": [
    "param = {'n_estimators':[1500, 1700, 2500, 3000, 3500],\n",
    "         'eta':[0.01, 0.03],\n",
    "         'max_depth':[3, 5, 9],\n",
    "         'subsample':[0.1, 0.5, 0.7],\n",
    "         'colsample_bytree':[0.3, 0.7, 0.9],\n",
    "         'min_child_weight':[3, 8, 15],\n",
    "        }\n",
    "\n",
    "MAX_EVAL = 5"
   ]
  },
  {
   "cell_type": "code",
   "execution_count": 10,
   "metadata": {
    "ExecuteTime": {
     "end_time": "2021-02-03T01:33:23.264501Z",
     "start_time": "2021-02-03T00:26:03.016932Z"
    }
   },
   "outputs": [
    {
     "name": "stdout",
     "output_type": "stream",
     "text": [
      "{'n_estimators': 2500, 'eta': 0.01, 'max_depth': 5, 'subsample': 0.7, 'colsample_bytree': 0.9, 'min_child_weight': 15}\n",
      "{'n_estimators': 3000, 'eta': 0.03, 'max_depth': 9, 'subsample': 0.5, 'colsample_bytree': 0.9, 'min_child_weight': 3}\n",
      "{'n_estimators': 3500, 'eta': 0.03, 'max_depth': 5, 'subsample': 0.5, 'colsample_bytree': 0.3, 'min_child_weight': 8}\n",
      "{'n_estimators': 1700, 'eta': 0.01, 'max_depth': 9, 'subsample': 0.1, 'colsample_bytree': 0.9, 'min_child_weight': 3}\n",
      "{'n_estimators': 2500, 'eta': 0.01, 'max_depth': 3, 'subsample': 0.1, 'colsample_bytree': 0.9, 'min_child_weight': 15}\n"
     ]
    },
    {
     "data": {
      "text/html": [
       "<div>\n",
       "<style scoped>\n",
       "    .dataframe tbody tr th:only-of-type {\n",
       "        vertical-align: middle;\n",
       "    }\n",
       "\n",
       "    .dataframe tbody tr th {\n",
       "        vertical-align: top;\n",
       "    }\n",
       "\n",
       "    .dataframe thead th {\n",
       "        text-align: right;\n",
       "    }\n",
       "</style>\n",
       "<table border=\"1\" class=\"dataframe\">\n",
       "  <thead>\n",
       "    <tr style=\"text-align: right;\">\n",
       "      <th></th>\n",
       "      <th>Model name</th>\n",
       "      <th>accuracy</th>\n",
       "      <th>balanced_accuracy</th>\n",
       "      <th>precision</th>\n",
       "      <th>precision_0</th>\n",
       "      <th>recall</th>\n",
       "      <th>specificity</th>\n",
       "      <th>F1</th>\n",
       "      <th>F1_weighted</th>\n",
       "      <th>G_mean</th>\n",
       "      <th>Iter_nr</th>\n",
       "    </tr>\n",
       "  </thead>\n",
       "  <tbody>\n",
       "    <tr>\n",
       "      <th>0</th>\n",
       "      <td>XGBoost Classifier</td>\n",
       "      <td>0.8217+/-0.0007</td>\n",
       "      <td>0.8258+/-0.0007</td>\n",
       "      <td>0.7681+/-0.001</td>\n",
       "      <td>0.8838+/-0.0013</td>\n",
       "      <td>0.8842+/-0.0016</td>\n",
       "      <td>0.7673+/-0.0015</td>\n",
       "      <td>0.822+/-0.0007</td>\n",
       "      <td>0.8217+/-0.0007</td>\n",
       "      <td>0.8237+/-0.0007</td>\n",
       "      <td>1</td>\n",
       "    </tr>\n",
       "    <tr>\n",
       "      <th>1</th>\n",
       "      <td>XGBoost Classifier</td>\n",
       "      <td>0.8202+/-0.0019</td>\n",
       "      <td>0.8243+/-0.002</td>\n",
       "      <td>0.7655+/-0.0019</td>\n",
       "      <td>0.8838+/-0.0028</td>\n",
       "      <td>0.8847+/-0.0031</td>\n",
       "      <td>0.7639+/-0.0023</td>\n",
       "      <td>0.8208+/-0.002</td>\n",
       "      <td>0.8201+/-0.0019</td>\n",
       "      <td>0.8221+/-0.0019</td>\n",
       "      <td>3</td>\n",
       "    </tr>\n",
       "    <tr>\n",
       "      <th>2</th>\n",
       "      <td>XGBoost Classifier</td>\n",
       "      <td>0.8179+/-0.0016</td>\n",
       "      <td>0.8223+/-0.0015</td>\n",
       "      <td>0.7617+/-0.0019</td>\n",
       "      <td>0.8844+/-0.0014</td>\n",
       "      <td>0.8862+/-0.0014</td>\n",
       "      <td>0.7585+/-0.0024</td>\n",
       "      <td>0.8193+/-0.0014</td>\n",
       "      <td>0.8178+/-0.0016</td>\n",
       "      <td>0.8198+/-0.0016</td>\n",
       "      <td>0</td>\n",
       "    </tr>\n",
       "    <tr>\n",
       "      <th>3</th>\n",
       "      <td>XGBoost Classifier</td>\n",
       "      <td>0.8142+/-0.0012</td>\n",
       "      <td>0.8189+/-0.0011</td>\n",
       "      <td>0.7558+/-0.0015</td>\n",
       "      <td>0.8845+/-0.0008</td>\n",
       "      <td>0.8876+/-0.0008</td>\n",
       "      <td>0.7502+/-0.002</td>\n",
       "      <td>0.8164+/-0.001</td>\n",
       "      <td>0.814+/-0.0012</td>\n",
       "      <td>0.816+/-0.0012</td>\n",
       "      <td>4</td>\n",
       "    </tr>\n",
       "    <tr>\n",
       "      <th>4</th>\n",
       "      <td>XGBoost Classifier</td>\n",
       "      <td>0.8122+/-0.0012</td>\n",
       "      <td>0.8171+/-0.0012</td>\n",
       "      <td>0.753+/-0.0016</td>\n",
       "      <td>0.8844+/-0.0014</td>\n",
       "      <td>0.8881+/-0.0015</td>\n",
       "      <td>0.7461+/-0.0022</td>\n",
       "      <td>0.815+/-0.0011</td>\n",
       "      <td>0.812+/-0.0013</td>\n",
       "      <td>0.814+/-0.0013</td>\n",
       "      <td>2</td>\n",
       "    </tr>\n",
       "  </tbody>\n",
       "</table>\n",
       "</div>"
      ],
      "text/plain": [
       "           Model name         accuracy balanced_accuracy        precision  \\\n",
       "0  XGBoost Classifier  0.8217+/-0.0007   0.8258+/-0.0007   0.7681+/-0.001   \n",
       "1  XGBoost Classifier  0.8202+/-0.0019    0.8243+/-0.002  0.7655+/-0.0019   \n",
       "2  XGBoost Classifier  0.8179+/-0.0016   0.8223+/-0.0015  0.7617+/-0.0019   \n",
       "3  XGBoost Classifier  0.8142+/-0.0012   0.8189+/-0.0011  0.7558+/-0.0015   \n",
       "4  XGBoost Classifier  0.8122+/-0.0012   0.8171+/-0.0012   0.753+/-0.0016   \n",
       "\n",
       "       precision_0           recall      specificity               F1  \\\n",
       "0  0.8838+/-0.0013  0.8842+/-0.0016  0.7673+/-0.0015   0.822+/-0.0007   \n",
       "1  0.8838+/-0.0028  0.8847+/-0.0031  0.7639+/-0.0023   0.8208+/-0.002   \n",
       "2  0.8844+/-0.0014  0.8862+/-0.0014  0.7585+/-0.0024  0.8193+/-0.0014   \n",
       "3  0.8845+/-0.0008  0.8876+/-0.0008   0.7502+/-0.002   0.8164+/-0.001   \n",
       "4  0.8844+/-0.0014  0.8881+/-0.0015  0.7461+/-0.0022   0.815+/-0.0011   \n",
       "\n",
       "       F1_weighted           G_mean  Iter_nr  \n",
       "0  0.8217+/-0.0007  0.8237+/-0.0007        1  \n",
       "1  0.8201+/-0.0019  0.8221+/-0.0019        3  \n",
       "2  0.8178+/-0.0016  0.8198+/-0.0016        0  \n",
       "3   0.814+/-0.0012   0.816+/-0.0012        4  \n",
       "4   0.812+/-0.0013   0.814+/-0.0013        2  "
      ]
     },
     "execution_count": 10,
     "metadata": {},
     "output_type": "execute_result"
    }
   ],
   "source": [
    "final_result = pd.DataFrame()\n",
    "hyperparam_lst = []\n",
    "\n",
    "for i in range(MAX_EVAL):\n",
    "    #randomly selected hyperparameters\n",
    "    hp = {k:random.sample(v, 1)[0] for k, v in param.items()}\n",
    "    #print the selected ones\n",
    "    print(hp)\n",
    "    #store in list\n",
    "    hyperparam_lst.append(hp.copy())\n",
    "    #model\n",
    "    model_xgb = xgb.XGBClassifier(objective='binary:logistic',\n",
    "                                  use_label_encoder=False,\n",
    "                                  n_estimators=hp['n_estimators'],\n",
    "                                  eta=hp['eta'],\n",
    "                                  max_depth=hp['max_depth'],\n",
    "                                  n_jobs=-1,\n",
    "                                  subsample=hp['subsample'],\n",
    "                                  colsample_bytree=hp['colsample_bytree'],\n",
    "                                  min_child_weight=hp['min_child_weight'])\n",
    "    result = cross_validation_xgb(df8, 5, model_xgb, 'XGBoost Classifier', verbose=False)\n",
    "    iter_nr = pd.Series([i], name='Iter_nr')\n",
    "    result_w_nr = pd.concat([result, iter_nr], axis=1)\n",
    "    final_result = pd.concat([final_result, result_w_nr], ignore_index=True)\n",
    "\n",
    "final_result.sort_values(by=['F1'], ascending=False, inplace=True, ignore_index=True)\n",
    "final_result"
   ]
  },
  {
   "cell_type": "code",
   "execution_count": 11,
   "metadata": {
    "ExecuteTime": {
     "end_time": "2021-02-03T01:33:23.268017Z",
     "start_time": "2021-02-03T01:33:23.265709Z"
    }
   },
   "outputs": [],
   "source": [
    "final_result.to_pickle('data_in_progress/xgb_tunning_cv')"
   ]
  },
  {
   "cell_type": "markdown",
   "metadata": {},
   "source": [
    "## 8.2 Model Validation"
   ]
  },
  {
   "cell_type": "code",
   "execution_count": 12,
   "metadata": {
    "ExecuteTime": {
     "end_time": "2021-02-03T01:33:23.273918Z",
     "start_time": "2021-02-03T01:33:23.268996Z"
    }
   },
   "outputs": [
    {
     "data": {
      "text/plain": [
       "1"
      ]
     },
     "execution_count": 12,
     "metadata": {},
     "output_type": "execute_result"
    }
   ],
   "source": [
    "final_result.loc[0, 'Iter_nr']"
   ]
  },
  {
   "cell_type": "code",
   "execution_count": 13,
   "metadata": {
    "ExecuteTime": {
     "end_time": "2021-02-03T01:33:23.277128Z",
     "start_time": "2021-02-03T01:33:23.275171Z"
    }
   },
   "outputs": [],
   "source": [
    "best_param_nr = final_result.loc[0, 'Iter_nr']\n",
    "\n",
    "param_tuned = hyperparam_lst[best_param_nr]"
   ]
  },
  {
   "cell_type": "code",
   "execution_count": 16,
   "metadata": {
    "ExecuteTime": {
     "end_time": "2021-02-03T01:46:49.506864Z",
     "start_time": "2021-02-03T01:40:47.061617Z"
    }
   },
   "outputs": [
    {
     "data": {
      "text/html": [
       "<div>\n",
       "<style scoped>\n",
       "    .dataframe tbody tr th:only-of-type {\n",
       "        vertical-align: middle;\n",
       "    }\n",
       "\n",
       "    .dataframe tbody tr th {\n",
       "        vertical-align: top;\n",
       "    }\n",
       "\n",
       "    .dataframe thead th {\n",
       "        text-align: right;\n",
       "    }\n",
       "</style>\n",
       "<table border=\"1\" class=\"dataframe\">\n",
       "  <thead>\n",
       "    <tr style=\"text-align: right;\">\n",
       "      <th></th>\n",
       "      <th>accuracy</th>\n",
       "      <th>balanced_accuracy</th>\n",
       "      <th>precision</th>\n",
       "      <th>precision_0</th>\n",
       "      <th>recall</th>\n",
       "      <th>specificity</th>\n",
       "      <th>F1</th>\n",
       "      <th>F1_weighted</th>\n",
       "      <th>G_mean</th>\n",
       "    </tr>\n",
       "  </thead>\n",
       "  <tbody>\n",
       "    <tr>\n",
       "      <th>0</th>\n",
       "      <td>0.666658</td>\n",
       "      <td>0.705064</td>\n",
       "      <td>0.233919</td>\n",
       "      <td>0.950469</td>\n",
       "      <td>0.755941</td>\n",
       "      <td>0.654187</td>\n",
       "      <td>0.35728</td>\n",
       "      <td>0.723781</td>\n",
       "      <td>0.703226</td>\n",
       "    </tr>\n",
       "  </tbody>\n",
       "</table>\n",
       "</div>"
      ],
      "text/plain": [
       "   accuracy  balanced_accuracy  precision  precision_0    recall  specificity  \\\n",
       "0  0.666658           0.705064   0.233919     0.950469  0.755941     0.654187   \n",
       "\n",
       "        F1  F1_weighted    G_mean  \n",
       "0  0.35728     0.723781  0.703226  "
      ]
     },
     "execution_count": 16,
     "metadata": {},
     "output_type": "execute_result"
    }
   ],
   "source": [
    "#model\n",
    "model_xgb_tuned = xgb.XGBClassifier(objective='binary:logistic',\n",
    "                                    use_label_encoder=False,\n",
    "                                    n_estimators=param_tuned['n_estimators'],\n",
    "                                    eta=param_tuned['eta'],\n",
    "                                    max_depth=param_tuned['max_depth'],\n",
    "                                    subsample=param_tuned['subsample'],\n",
    "                                    colsample_bytree=param_tuned['colsample_bytree'],\n",
    "                                    min_child_weight=param_tuned['min_child_weight']\n",
    "                                    ).fit(X_train_res, y_train_res, eval_metric='logloss')\n",
    "\n",
    "yhat_xgb_tuned = model_xgb_tuned.predict(X_val)\n",
    "\n",
    "xgb_result = metric_scores(y_val, yhat_xgb_tuned)\n",
    "xgb_result"
   ]
  },
  {
   "cell_type": "markdown",
   "metadata": {},
   "source": [
    "Highly overfitted!"
   ]
  },
  {
   "cell_type": "code",
   "execution_count": 17,
   "metadata": {
    "ExecuteTime": {
     "end_time": "2021-02-03T01:47:10.410204Z",
     "start_time": "2021-02-03T01:47:10.408015Z"
    }
   },
   "outputs": [],
   "source": [
    "xgb_result.to_pickle('data_in_progress/xgb_result')"
   ]
  },
  {
   "cell_type": "code",
   "execution_count": 18,
   "metadata": {
    "ExecuteTime": {
     "end_time": "2021-02-03T01:47:12.812730Z",
     "start_time": "2021-02-03T01:47:11.630627Z"
    }
   },
   "outputs": [],
   "source": [
    "model_xgb_tuned.save_model('xgb_tuned.json')"
   ]
  }
 ],
 "metadata": {
  "kernelspec": {
   "display_name": "Python 3",
   "language": "python",
   "name": "python3"
  },
  "language_info": {
   "codemirror_mode": {
    "name": "ipython",
    "version": 3
   },
   "file_extension": ".py",
   "mimetype": "text/x-python",
   "name": "python",
   "nbconvert_exporter": "python",
   "pygments_lexer": "ipython3",
   "version": "3.8.5"
  }
 },
 "nbformat": 4,
 "nbformat_minor": 4
}
