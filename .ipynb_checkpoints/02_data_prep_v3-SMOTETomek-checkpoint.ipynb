{
 "cells": [
  {
   "cell_type": "markdown",
   "metadata": {},
   "source": [
    "# 0.0 Import modules"
   ]
  },
  {
   "cell_type": "code",
   "execution_count": 1,
   "metadata": {
    "ExecuteTime": {
     "end_time": "2021-01-29T21:39:46.670541Z",
     "start_time": "2021-01-29T21:39:45.855337Z"
    }
   },
   "outputs": [],
   "source": [
    "import pandas as pd\n",
    "import numpy as np\n",
    "\n",
    "import matplotlib.pyplot as plt\n",
    "import matplotlib.ticker as ticker\n",
    "import seaborn as sns\n",
    "%matplotlib inline\n",
    "\n",
    "from itertools import product as prod\n",
    "from collections import defaultdict\n",
    "\n",
    "from scipy import stats as ss\n",
    "\n",
    "from sklearn.preprocessing import MinMaxScaler, RobustScaler, LabelEncoder\n",
    "from sklearn.model_selection import train_test_split\n",
    "\n",
    "from imblearn import combine as c"
   ]
  },
  {
   "cell_type": "markdown",
   "metadata": {
    "heading_collapsed": true
   },
   "source": [
    "## 0.1 Problema"
   ]
  },
  {
   "cell_type": "markdown",
   "metadata": {
    "hidden": true
   },
   "source": [
    "Uma seguradora de planos de saúde pretende passar a vender, também, seguros de automóveis.\n",
    "\n",
    "A seguradora realizou pesquisa com cerca de 380.000 clientes para saber se teriam interesse, ou não, em contrtar o novo seguro. Todos os clientes responderam.\n",
    "\n",
    "A seguradora selecionou cerca de 127.000 potenciais clientes para participar de uma campanha. Este grupo receberá a oferta de adesão ao seguro de automóvel via ligação telefônica.\n",
    "\n",
    "**Problema**: o time de vendas tem condições de ligar para, somente, 20.000 pessoas. Como selecionar, dentre os potenciais clientes, aqueles que tem maior probabilidade de adquirir o seguro?"
   ]
  },
  {
   "cell_type": "markdown",
   "metadata": {
    "hidden": true
   },
   "source": [
    "O *relatório* deve responder às seguintes questões:\n",
    "\n",
    "1. Fornecer *insights* sobre os atributos mais relevantes de clientes interessados em adquirir o seguro.\n",
    "\n",
    "2. Qual porcentagem dos potenciais clientes interessados o time de vendas vai conseguir aontatar fazendo 20.000 ligações?\n",
    "\n",
    "3. Se o time de vendas fizer 40.000 ligações, qual será a porcentagem de clientes interessados contatada?\n",
    "\n",
    "4. Quantas ligações o time de vendas precisariaria fazer para contatar 80% dos potenciais clientes interessados?"
   ]
  },
  {
   "cell_type": "markdown",
   "metadata": {
    "heading_collapsed": true
   },
   "source": [
    "## 0.2 Load data"
   ]
  },
  {
   "cell_type": "markdown",
   "metadata": {
    "hidden": true
   },
   "source": [
    "The file \"table.csv\" contains only the train data. The test data is in a separate file, \"test.csv\", which was downloaded via Kaggle's API."
   ]
  },
  {
   "cell_type": "code",
   "execution_count": 2,
   "metadata": {
    "ExecuteTime": {
     "end_time": "2021-01-29T21:39:46.920429Z",
     "start_time": "2021-01-29T21:39:46.671889Z"
    },
    "hidden": true
   },
   "outputs": [],
   "source": [
    "df_train_raw = pd.read_csv('table.csv')"
   ]
  },
  {
   "cell_type": "code",
   "execution_count": 3,
   "metadata": {
    "ExecuteTime": {
     "end_time": "2021-01-29T21:39:46.933637Z",
     "start_time": "2021-01-29T21:39:46.921852Z"
    },
    "hidden": true
   },
   "outputs": [
    {
     "data": {
      "text/html": [
       "<div>\n",
       "<style scoped>\n",
       "    .dataframe tbody tr th:only-of-type {\n",
       "        vertical-align: middle;\n",
       "    }\n",
       "\n",
       "    .dataframe tbody tr th {\n",
       "        vertical-align: top;\n",
       "    }\n",
       "\n",
       "    .dataframe thead th {\n",
       "        text-align: right;\n",
       "    }\n",
       "</style>\n",
       "<table border=\"1\" class=\"dataframe\">\n",
       "  <thead>\n",
       "    <tr style=\"text-align: right;\">\n",
       "      <th></th>\n",
       "      <th>id</th>\n",
       "      <th>gender</th>\n",
       "      <th>age</th>\n",
       "      <th>region_code</th>\n",
       "      <th>policy_sales_channel</th>\n",
       "      <th>driving_license</th>\n",
       "      <th>vehicle_age</th>\n",
       "      <th>vehicle_damage</th>\n",
       "      <th>previously_insured</th>\n",
       "      <th>annual_premium</th>\n",
       "      <th>vintage</th>\n",
       "      <th>response</th>\n",
       "    </tr>\n",
       "  </thead>\n",
       "  <tbody>\n",
       "    <tr>\n",
       "      <th>0</th>\n",
       "      <td>1</td>\n",
       "      <td>Male</td>\n",
       "      <td>44</td>\n",
       "      <td>28.0</td>\n",
       "      <td>26.0</td>\n",
       "      <td>1</td>\n",
       "      <td>&gt; 2 Years</td>\n",
       "      <td>Yes</td>\n",
       "      <td>0</td>\n",
       "      <td>40454.0</td>\n",
       "      <td>217</td>\n",
       "      <td>1</td>\n",
       "    </tr>\n",
       "    <tr>\n",
       "      <th>1</th>\n",
       "      <td>2</td>\n",
       "      <td>Male</td>\n",
       "      <td>76</td>\n",
       "      <td>3.0</td>\n",
       "      <td>26.0</td>\n",
       "      <td>1</td>\n",
       "      <td>1-2 Year</td>\n",
       "      <td>No</td>\n",
       "      <td>0</td>\n",
       "      <td>33536.0</td>\n",
       "      <td>183</td>\n",
       "      <td>0</td>\n",
       "    </tr>\n",
       "    <tr>\n",
       "      <th>2</th>\n",
       "      <td>3</td>\n",
       "      <td>Male</td>\n",
       "      <td>47</td>\n",
       "      <td>28.0</td>\n",
       "      <td>26.0</td>\n",
       "      <td>1</td>\n",
       "      <td>&gt; 2 Years</td>\n",
       "      <td>Yes</td>\n",
       "      <td>0</td>\n",
       "      <td>38294.0</td>\n",
       "      <td>27</td>\n",
       "      <td>1</td>\n",
       "    </tr>\n",
       "    <tr>\n",
       "      <th>3</th>\n",
       "      <td>4</td>\n",
       "      <td>Male</td>\n",
       "      <td>21</td>\n",
       "      <td>11.0</td>\n",
       "      <td>152.0</td>\n",
       "      <td>1</td>\n",
       "      <td>&lt; 1 Year</td>\n",
       "      <td>No</td>\n",
       "      <td>1</td>\n",
       "      <td>28619.0</td>\n",
       "      <td>203</td>\n",
       "      <td>0</td>\n",
       "    </tr>\n",
       "    <tr>\n",
       "      <th>4</th>\n",
       "      <td>5</td>\n",
       "      <td>Female</td>\n",
       "      <td>29</td>\n",
       "      <td>41.0</td>\n",
       "      <td>152.0</td>\n",
       "      <td>1</td>\n",
       "      <td>&lt; 1 Year</td>\n",
       "      <td>No</td>\n",
       "      <td>1</td>\n",
       "      <td>27496.0</td>\n",
       "      <td>39</td>\n",
       "      <td>0</td>\n",
       "    </tr>\n",
       "  </tbody>\n",
       "</table>\n",
       "</div>"
      ],
      "text/plain": [
       "   id  gender  age  region_code  policy_sales_channel  driving_license  \\\n",
       "0   1    Male   44         28.0                  26.0                1   \n",
       "1   2    Male   76          3.0                  26.0                1   \n",
       "2   3    Male   47         28.0                  26.0                1   \n",
       "3   4    Male   21         11.0                 152.0                1   \n",
       "4   5  Female   29         41.0                 152.0                1   \n",
       "\n",
       "  vehicle_age vehicle_damage  previously_insured  annual_premium  vintage  \\\n",
       "0   > 2 Years            Yes                   0         40454.0      217   \n",
       "1    1-2 Year             No                   0         33536.0      183   \n",
       "2   > 2 Years            Yes                   0         38294.0       27   \n",
       "3    < 1 Year             No                   1         28619.0      203   \n",
       "4    < 1 Year             No                   1         27496.0       39   \n",
       "\n",
       "   response  \n",
       "0         1  \n",
       "1         0  \n",
       "2         1  \n",
       "3         0  \n",
       "4         0  "
      ]
     },
     "execution_count": 3,
     "metadata": {},
     "output_type": "execute_result"
    }
   ],
   "source": [
    "df_train_raw.head()"
   ]
  },
  {
   "cell_type": "markdown",
   "metadata": {
    "hidden": true
   },
   "source": [
    "A variável *response* é a variável resposta (target). As outras variáveis são as características (features)."
   ]
  },
  {
   "cell_type": "markdown",
   "metadata": {
    "heading_collapsed": true
   },
   "source": [
    "## 0.3 Plano de solução"
   ]
  },
  {
   "cell_type": "markdown",
   "metadata": {
    "hidden": true
   },
   "source": [
    "Após a limpeza dos dados, checarei algumas hipóteses (lista logo abaixo) que gerarão insights sobre a revelância dos atributos para o interesse dos clientes em adquirir o seguro de automóveis.\n",
    "\n",
    "Utilizarei algum método de redução de dimensionalidade para encontrar quais atributos mais contribuem para a variância (Boruta).\n",
    "\n",
    "Identificados os atributos, resta resolver um problema de clusterização: dividir os dados de teste em \"interesse\" e \"não interesse\", de acordo com os atributos daqueles dados. *Os dados de teste não tem a variável target, pois o time de vendas ainda não contatou aqueles potenciais clientes*. MiniBatchKMeans?\n",
    "\n",
    "Contar os potenciais clientes classificados como \"interesse\" e responder às demais perguntas do relatório."
   ]
  },
  {
   "cell_type": "markdown",
   "metadata": {
    "heading_collapsed": true
   },
   "source": [
    "# 1.0 Análise descritiva dos dados"
   ]
  },
  {
   "cell_type": "code",
   "execution_count": 4,
   "metadata": {
    "ExecuteTime": {
     "end_time": "2021-01-29T21:39:46.948421Z",
     "start_time": "2021-01-29T21:39:46.934935Z"
    },
    "hidden": true
   },
   "outputs": [],
   "source": [
    "df1 = df_train_raw.copy()"
   ]
  },
  {
   "cell_type": "markdown",
   "metadata": {
    "heading_collapsed": true,
    "hidden": true
   },
   "source": [
    "## 1.1 Check and fill NA"
   ]
  },
  {
   "cell_type": "code",
   "execution_count": 5,
   "metadata": {
    "ExecuteTime": {
     "end_time": "2021-01-29T21:39:46.989875Z",
     "start_time": "2021-01-29T21:39:46.949782Z"
    },
    "hidden": true
   },
   "outputs": [
    {
     "data": {
      "text/plain": [
       "id                      0\n",
       "gender                  0\n",
       "age                     0\n",
       "region_code             0\n",
       "policy_sales_channel    0\n",
       "driving_license         0\n",
       "vehicle_age             0\n",
       "vehicle_damage          0\n",
       "previously_insured      0\n",
       "annual_premium          0\n",
       "vintage                 0\n",
       "response                0\n",
       "dtype: int64"
      ]
     },
     "execution_count": 5,
     "metadata": {},
     "output_type": "execute_result"
    }
   ],
   "source": [
    "df1.isna().sum()"
   ]
  },
  {
   "cell_type": "markdown",
   "metadata": {
    "heading_collapsed": true,
    "hidden": true
   },
   "source": [
    "## 1.2 Data types"
   ]
  },
  {
   "cell_type": "code",
   "execution_count": 6,
   "metadata": {
    "ExecuteTime": {
     "end_time": "2021-01-29T21:39:46.994623Z",
     "start_time": "2021-01-29T21:39:46.991072Z"
    },
    "hidden": true
   },
   "outputs": [
    {
     "data": {
      "text/plain": [
       "id                        int64\n",
       "gender                   object\n",
       "age                       int64\n",
       "region_code             float64\n",
       "policy_sales_channel    float64\n",
       "driving_license           int64\n",
       "vehicle_age              object\n",
       "vehicle_damage           object\n",
       "previously_insured        int64\n",
       "annual_premium          float64\n",
       "vintage                   int64\n",
       "response                  int64\n",
       "dtype: object"
      ]
     },
     "execution_count": 6,
     "metadata": {},
     "output_type": "execute_result"
    }
   ],
   "source": [
    "df1.dtypes"
   ]
  },
  {
   "cell_type": "markdown",
   "metadata": {
    "hidden": true
   },
   "source": [
    "The features \"driving_license\", \"previously_insured\", \"id\", \"region_code\" and \"policy_sales_channel\" will remain as numerical variables. The only modification will be to write all of them as integers."
   ]
  },
  {
   "cell_type": "code",
   "execution_count": 7,
   "metadata": {
    "ExecuteTime": {
     "end_time": "2021-01-29T21:39:47.004837Z",
     "start_time": "2021-01-29T21:39:46.995734Z"
    },
    "hidden": true
   },
   "outputs": [],
   "source": [
    "df1['region_code'] = df1['region_code'].astype(int)\n",
    "df1['policy_sales_channel'] = df1['policy_sales_channel'].astype(int)"
   ]
  },
  {
   "cell_type": "code",
   "execution_count": 8,
   "metadata": {
    "ExecuteTime": {
     "end_time": "2021-01-29T21:39:47.009667Z",
     "start_time": "2021-01-29T21:39:47.006627Z"
    },
    "hidden": true
   },
   "outputs": [
    {
     "data": {
      "text/plain": [
       "id                        int64\n",
       "gender                   object\n",
       "age                       int64\n",
       "region_code               int64\n",
       "policy_sales_channel      int64\n",
       "driving_license           int64\n",
       "vehicle_age              object\n",
       "vehicle_damage           object\n",
       "previously_insured        int64\n",
       "annual_premium          float64\n",
       "vintage                   int64\n",
       "response                  int64\n",
       "dtype: object"
      ]
     },
     "execution_count": 8,
     "metadata": {},
     "output_type": "execute_result"
    }
   ],
   "source": [
    "df1.dtypes"
   ]
  },
  {
   "cell_type": "markdown",
   "metadata": {
    "hidden": true
   },
   "source": [
    "I don't know if it's better to separate the feature and target variables at this point. If I don't, I might alter the target values (by some mean, for example). Whereas if I do, I might, in the feature engineering process, change the order of the samples and create a mess! "
   ]
  },
  {
   "cell_type": "markdown",
   "metadata": {
    "heading_collapsed": true,
    "hidden": true
   },
   "source": [
    "## 1.3 Descriptive Statistics"
   ]
  },
  {
   "cell_type": "code",
   "execution_count": 9,
   "metadata": {
    "ExecuteTime": {
     "end_time": "2021-01-29T21:39:47.035249Z",
     "start_time": "2021-01-29T21:39:47.010833Z"
    },
    "hidden": true
   },
   "outputs": [],
   "source": [
    "num_attr = df1.select_dtypes(include=('int64', 'float64'))\n",
    "cat_attr = df1.select_dtypes(include=['object'])"
   ]
  },
  {
   "cell_type": "markdown",
   "metadata": {
    "heading_collapsed": true,
    "hidden": true
   },
   "source": [
    "### 1.3.1 Numerical attributes"
   ]
  },
  {
   "cell_type": "code",
   "execution_count": 10,
   "metadata": {
    "ExecuteTime": {
     "end_time": "2021-01-29T21:39:47.153207Z",
     "start_time": "2021-01-29T21:39:47.036333Z"
    },
    "hidden": true
   },
   "outputs": [
    {
     "data": {
      "text/html": [
       "<div>\n",
       "<style scoped>\n",
       "    .dataframe tbody tr th:only-of-type {\n",
       "        vertical-align: middle;\n",
       "    }\n",
       "\n",
       "    .dataframe tbody tr th {\n",
       "        vertical-align: top;\n",
       "    }\n",
       "\n",
       "    .dataframe thead th {\n",
       "        text-align: right;\n",
       "    }\n",
       "</style>\n",
       "<table border=\"1\" class=\"dataframe\">\n",
       "  <thead>\n",
       "    <tr style=\"text-align: right;\">\n",
       "      <th></th>\n",
       "      <th>mean</th>\n",
       "      <th>std</th>\n",
       "      <th>min</th>\n",
       "      <th>25%</th>\n",
       "      <th>50%</th>\n",
       "      <th>75%</th>\n",
       "      <th>max</th>\n",
       "      <th>range</th>\n",
       "      <th>skew</th>\n",
       "      <th>kurtosis</th>\n",
       "    </tr>\n",
       "  </thead>\n",
       "  <tbody>\n",
       "    <tr>\n",
       "      <th>age</th>\n",
       "      <td>38.822584</td>\n",
       "      <td>15.511611</td>\n",
       "      <td>20.0</td>\n",
       "      <td>25.0</td>\n",
       "      <td>36.0</td>\n",
       "      <td>49.0</td>\n",
       "      <td>85.0</td>\n",
       "      <td>65.0</td>\n",
       "      <td>0.672539</td>\n",
       "      <td>-0.565655</td>\n",
       "    </tr>\n",
       "    <tr>\n",
       "      <th>driving_license</th>\n",
       "      <td>0.997869</td>\n",
       "      <td>0.046110</td>\n",
       "      <td>0.0</td>\n",
       "      <td>1.0</td>\n",
       "      <td>1.0</td>\n",
       "      <td>1.0</td>\n",
       "      <td>1.0</td>\n",
       "      <td>1.0</td>\n",
       "      <td>-21.595182</td>\n",
       "      <td>464.354302</td>\n",
       "    </tr>\n",
       "    <tr>\n",
       "      <th>previously_insured</th>\n",
       "      <td>0.458210</td>\n",
       "      <td>0.498251</td>\n",
       "      <td>0.0</td>\n",
       "      <td>0.0</td>\n",
       "      <td>0.0</td>\n",
       "      <td>1.0</td>\n",
       "      <td>1.0</td>\n",
       "      <td>1.0</td>\n",
       "      <td>0.167747</td>\n",
       "      <td>-1.971871</td>\n",
       "    </tr>\n",
       "    <tr>\n",
       "      <th>annual_premium</th>\n",
       "      <td>30564.389581</td>\n",
       "      <td>17213.155057</td>\n",
       "      <td>2630.0</td>\n",
       "      <td>24405.0</td>\n",
       "      <td>31669.0</td>\n",
       "      <td>39400.0</td>\n",
       "      <td>540165.0</td>\n",
       "      <td>537535.0</td>\n",
       "      <td>1.766087</td>\n",
       "      <td>34.004569</td>\n",
       "    </tr>\n",
       "    <tr>\n",
       "      <th>vintage</th>\n",
       "      <td>154.347397</td>\n",
       "      <td>83.671304</td>\n",
       "      <td>10.0</td>\n",
       "      <td>82.0</td>\n",
       "      <td>154.0</td>\n",
       "      <td>227.0</td>\n",
       "      <td>299.0</td>\n",
       "      <td>289.0</td>\n",
       "      <td>0.003030</td>\n",
       "      <td>-1.200688</td>\n",
       "    </tr>\n",
       "    <tr>\n",
       "      <th>response</th>\n",
       "      <td>0.122563</td>\n",
       "      <td>0.327936</td>\n",
       "      <td>0.0</td>\n",
       "      <td>0.0</td>\n",
       "      <td>0.0</td>\n",
       "      <td>0.0</td>\n",
       "      <td>1.0</td>\n",
       "      <td>1.0</td>\n",
       "      <td>2.301906</td>\n",
       "      <td>3.298788</td>\n",
       "    </tr>\n",
       "  </tbody>\n",
       "</table>\n",
       "</div>"
      ],
      "text/plain": [
       "                            mean           std     min      25%      50%  \\\n",
       "age                    38.822584     15.511611    20.0     25.0     36.0   \n",
       "driving_license         0.997869      0.046110     0.0      1.0      1.0   \n",
       "previously_insured      0.458210      0.498251     0.0      0.0      0.0   \n",
       "annual_premium      30564.389581  17213.155057  2630.0  24405.0  31669.0   \n",
       "vintage               154.347397     83.671304    10.0     82.0    154.0   \n",
       "response                0.122563      0.327936     0.0      0.0      0.0   \n",
       "\n",
       "                        75%       max     range       skew    kurtosis  \n",
       "age                    49.0      85.0      65.0   0.672539   -0.565655  \n",
       "driving_license         1.0       1.0       1.0 -21.595182  464.354302  \n",
       "previously_insured      1.0       1.0       1.0   0.167747   -1.971871  \n",
       "annual_premium      39400.0  540165.0  537535.0   1.766087   34.004569  \n",
       "vintage               227.0     299.0     289.0   0.003030   -1.200688  \n",
       "response                0.0       1.0       1.0   2.301906    3.298788  "
      ]
     },
     "execution_count": 10,
     "metadata": {},
     "output_type": "execute_result"
    }
   ],
   "source": [
    "aux1 = num_attr.drop(columns=['id', 'region_code', 'policy_sales_channel'])\n",
    "\n",
    "num_desc = aux1.describe()\n",
    "num_range = pd.DataFrame(aux1.apply(lambda x: x.max() - x.min()), columns=['range']).T\n",
    "num_skew = pd.DataFrame(aux1.skew(), columns=['skew']).T\n",
    "num_kurt = pd.DataFrame(aux1.kurt(), columns=['kurtosis']).T\n",
    "\n",
    "num_stat = pd.concat([num_desc, num_range, num_skew, num_kurt]).T.drop(columns=['count'])\n",
    "num_stat"
   ]
  },
  {
   "cell_type": "markdown",
   "metadata": {
    "hidden": true
   },
   "source": [
    "Most customers answered that they are not interested in a car insurance. Only 12% answered 'yes' on the survey.\n",
    "\n",
    "Also, most customers have a driving license.\n",
    "\n",
    "Less than half of the customers were previously insured."
   ]
  },
  {
   "cell_type": "code",
   "execution_count": 11,
   "metadata": {
    "ExecuteTime": {
     "end_time": "2021-01-29T21:39:47.844471Z",
     "start_time": "2021-01-29T21:39:47.154387Z"
    },
    "hidden": true
   },
   "outputs": [
    {
     "data": {
      "image/png": "[encoded data removed]",
      "text/plain": [
       "<Figure size 1440x1080 with 1 Axes>"
      ]
     },
     "metadata": {
      "needs_background": "light"
     },
     "output_type": "display_data"
    }
   ],
   "source": [
    "plt.figure(figsize=(20,15));\n",
    "\n",
    "ax = plt.gca();\n",
    "\n",
    "sns.histplot(data=num_attr, x='region_code', hue='response', multiple='stack', binwidth=1);\n",
    "plt.xticks(rotation=90);\n",
    "ax.xaxis.set_major_locator(ticker.MultipleLocator(1));\n",
    "plt.show();"
   ]
  },
  {
   "cell_type": "markdown",
   "metadata": {
    "heading_collapsed": true,
    "hidden": true
   },
   "source": [
    "### 1.3.2 Categorical attributes"
   ]
  },
  {
   "cell_type": "markdown",
   "metadata": {
    "hidden": true
   },
   "source": [
    "Count number of categories in each feature"
   ]
  },
  {
   "cell_type": "code",
   "execution_count": 12,
   "metadata": {
    "ExecuteTime": {
     "end_time": "2021-01-29T21:39:47.891693Z",
     "start_time": "2021-01-29T21:39:47.845822Z"
    },
    "hidden": true
   },
   "outputs": [
    {
     "data": {
      "text/plain": [
       "gender            2\n",
       "vehicle_age       3\n",
       "vehicle_damage    2\n",
       "dtype: int64"
      ]
     },
     "execution_count": 12,
     "metadata": {},
     "output_type": "execute_result"
    }
   ],
   "source": [
    "cat_attr.apply(lambda x: x.unique().shape[0])"
   ]
  },
  {
   "cell_type": "markdown",
   "metadata": {
    "hidden": true
   },
   "source": [
    "I will drop 'id' and 'policy_sales_channel' from the descriptive statistics analysis"
   ]
  },
  {
   "cell_type": "code",
   "execution_count": 13,
   "metadata": {
    "ExecuteTime": {
     "end_time": "2021-01-29T21:39:48.728631Z",
     "start_time": "2021-01-29T21:39:47.893175Z"
    },
    "hidden": true
   },
   "outputs": [
    {
     "data": {
      "image/png": "[encoded data removed]",
      "text/plain": [
       "<Figure size 1440x1080 with 3 Axes>"
      ]
     },
     "metadata": {
      "needs_background": "light"
     },
     "output_type": "display_data"
    }
   ],
   "source": [
    "plt.figure(figsize=(20, 15))\n",
    "\n",
    "\n",
    "plt.subplot(1, 3, 1)\n",
    "sns.countplot(data=df1, x='gender', hue='response');#, multiple='stack');\n",
    "\n",
    "plt.subplot(1, 3, 2)\n",
    "sns.countplot(data=df1, x='vehicle_age', hue='response');#, multiple='stack');\n",
    "\n",
    "plt.subplot(1, 3, 3)\n",
    "sns.countplot(data=df1, x='vehicle_damage', hue='response');#, multiple='stack');"
   ]
  },
  {
   "cell_type": "markdown",
   "metadata": {
    "heading_collapsed": true
   },
   "source": [
    "# 2.0 Feature Engineering"
   ]
  },
  {
   "cell_type": "code",
   "execution_count": 14,
   "metadata": {
    "ExecuteTime": {
     "end_time": "2021-01-29T21:39:48.736535Z",
     "start_time": "2021-01-29T21:39:48.729716Z"
    },
    "hidden": true
   },
   "outputs": [],
   "source": [
    "df2 = df1.copy()"
   ]
  },
  {
   "cell_type": "markdown",
   "metadata": {
    "heading_collapsed": true,
    "hidden": true
   },
   "source": [
    "## 2.1 Hipóteses"
   ]
  },
  {
   "cell_type": "markdown",
   "metadata": {
    "hidden": true
   },
   "source": [
    "**1** Clientes sem licença tem menos probabilidade de adquirir seguro de automóvel.\n",
    "\n",
    "**2** Clientes menores de idade tem menos probabilidade de adquirir seguro de automóvel.\n",
    "\n",
    "**3** Clientes não-idosos tem maior probabilidade de adquirir seguro de automóvel.\n",
    "\n",
    "**4** Clientes mulheres tem maior probabilidade de adquirir seguro de automóvel.\n",
    "\n",
    "**5** Clientes com carros mais antigos tem menor probabilidade de adquirir seguro de automóvel.\n",
    "\n",
    "**6** Clientes que já tiveram seu veículo danificado tem maior probabilidade de adquirir seguro de automóvel.\n",
    "\n",
    "**7** Clientes há mais tempo tem maior probabilidade de adquirir seguro de automóvel.\n",
    "\n",
    "**8** Clientes que pagam mais pelo seguro saúde tem maior probabilidade de adquirir seguro de automóvel."
   ]
  },
  {
   "cell_type": "markdown",
   "metadata": {
    "heading_collapsed": true,
    "hidden": true
   },
   "source": [
    "## 2.2 Hipóteses que serão testadas:"
   ]
  },
  {
   "cell_type": "markdown",
   "metadata": {
    "hidden": true
   },
   "source": [
    "**1** Clientes sem licença tem meno probabilidade de adquirir seguro de automóvel.\n",
    "\n",
    "<s>**2** Clientes menores de idade tem menos probabilidade de adquirir seguro de automóvel.</s>\n",
    "Todos os clientes entrevistados são maiores de idade.\n",
    "\n",
    "**3** Clientes não-idosos tem maior probabilidade de adquirir seguro de automóvel.\n",
    "\n",
    "**4** Clientes mulheres tem maior probabilidade de adquirir seguro de automóvel.\n",
    "\n",
    "**5** Clientes com carros mais antigos tem menor probabilidade de adquirir seguro de automóvel.\n",
    "\n",
    "**6** Clientes que já tiveram seu veículo danificado tem maior probabilidade de adquirir seguro de automóvel.\n",
    "\n",
    "**7** Clientes há mais tempo tem maior probabilidade de adquirir seguro de automóvel.\n",
    "\n",
    "**8** Clientes que pagam mais pelo seguro saúde tem maior probabilidade de adquirir seguro de automóvel."
   ]
  },
  {
   "cell_type": "markdown",
   "metadata": {
    "heading_collapsed": true,
    "hidden": true
   },
   "source": [
    "## 2.3 Feature Engineering"
   ]
  },
  {
   "cell_type": "markdown",
   "metadata": {
    "hidden": true
   },
   "source": [
    "I will derive some new features, representing customer loyalty, history and income estimate."
   ]
  },
  {
   "cell_type": "code",
   "execution_count": 15,
   "metadata": {
    "ExecuteTime": {
     "end_time": "2021-01-29T21:39:48.746282Z",
     "start_time": "2021-01-29T21:39:48.737611Z"
    },
    "hidden": true
   },
   "outputs": [
    {
     "data": {
      "text/html": [
       "<div>\n",
       "<style scoped>\n",
       "    .dataframe tbody tr th:only-of-type {\n",
       "        vertical-align: middle;\n",
       "    }\n",
       "\n",
       "    .dataframe tbody tr th {\n",
       "        vertical-align: top;\n",
       "    }\n",
       "\n",
       "    .dataframe thead th {\n",
       "        text-align: right;\n",
       "    }\n",
       "</style>\n",
       "<table border=\"1\" class=\"dataframe\">\n",
       "  <thead>\n",
       "    <tr style=\"text-align: right;\">\n",
       "      <th></th>\n",
       "      <th>id</th>\n",
       "      <th>gender</th>\n",
       "      <th>age</th>\n",
       "      <th>region_code</th>\n",
       "      <th>policy_sales_channel</th>\n",
       "      <th>driving_license</th>\n",
       "      <th>vehicle_age</th>\n",
       "      <th>vehicle_damage</th>\n",
       "      <th>previously_insured</th>\n",
       "      <th>annual_premium</th>\n",
       "      <th>vintage</th>\n",
       "      <th>response</th>\n",
       "    </tr>\n",
       "  </thead>\n",
       "  <tbody>\n",
       "    <tr>\n",
       "      <th>0</th>\n",
       "      <td>1</td>\n",
       "      <td>Male</td>\n",
       "      <td>44</td>\n",
       "      <td>28</td>\n",
       "      <td>26</td>\n",
       "      <td>1</td>\n",
       "      <td>&gt; 2 Years</td>\n",
       "      <td>Yes</td>\n",
       "      <td>0</td>\n",
       "      <td>40454.0</td>\n",
       "      <td>217</td>\n",
       "      <td>1</td>\n",
       "    </tr>\n",
       "    <tr>\n",
       "      <th>1</th>\n",
       "      <td>2</td>\n",
       "      <td>Male</td>\n",
       "      <td>76</td>\n",
       "      <td>3</td>\n",
       "      <td>26</td>\n",
       "      <td>1</td>\n",
       "      <td>1-2 Year</td>\n",
       "      <td>No</td>\n",
       "      <td>0</td>\n",
       "      <td>33536.0</td>\n",
       "      <td>183</td>\n",
       "      <td>0</td>\n",
       "    </tr>\n",
       "    <tr>\n",
       "      <th>2</th>\n",
       "      <td>3</td>\n",
       "      <td>Male</td>\n",
       "      <td>47</td>\n",
       "      <td>28</td>\n",
       "      <td>26</td>\n",
       "      <td>1</td>\n",
       "      <td>&gt; 2 Years</td>\n",
       "      <td>Yes</td>\n",
       "      <td>0</td>\n",
       "      <td>38294.0</td>\n",
       "      <td>27</td>\n",
       "      <td>1</td>\n",
       "    </tr>\n",
       "    <tr>\n",
       "      <th>3</th>\n",
       "      <td>4</td>\n",
       "      <td>Male</td>\n",
       "      <td>21</td>\n",
       "      <td>11</td>\n",
       "      <td>152</td>\n",
       "      <td>1</td>\n",
       "      <td>&lt; 1 Year</td>\n",
       "      <td>No</td>\n",
       "      <td>1</td>\n",
       "      <td>28619.0</td>\n",
       "      <td>203</td>\n",
       "      <td>0</td>\n",
       "    </tr>\n",
       "    <tr>\n",
       "      <th>4</th>\n",
       "      <td>5</td>\n",
       "      <td>Female</td>\n",
       "      <td>29</td>\n",
       "      <td>41</td>\n",
       "      <td>152</td>\n",
       "      <td>1</td>\n",
       "      <td>&lt; 1 Year</td>\n",
       "      <td>No</td>\n",
       "      <td>1</td>\n",
       "      <td>27496.0</td>\n",
       "      <td>39</td>\n",
       "      <td>0</td>\n",
       "    </tr>\n",
       "  </tbody>\n",
       "</table>\n",
       "</div>"
      ],
      "text/plain": [
       "   id  gender  age  region_code  policy_sales_channel  driving_license  \\\n",
       "0   1    Male   44           28                    26                1   \n",
       "1   2    Male   76            3                    26                1   \n",
       "2   3    Male   47           28                    26                1   \n",
       "3   4    Male   21           11                   152                1   \n",
       "4   5  Female   29           41                   152                1   \n",
       "\n",
       "  vehicle_age vehicle_damage  previously_insured  annual_premium  vintage  \\\n",
       "0   > 2 Years            Yes                   0         40454.0      217   \n",
       "1    1-2 Year             No                   0         33536.0      183   \n",
       "2   > 2 Years            Yes                   0         38294.0       27   \n",
       "3    < 1 Year             No                   1         28619.0      203   \n",
       "4    < 1 Year             No                   1         27496.0       39   \n",
       "\n",
       "   response  \n",
       "0         1  \n",
       "1         0  \n",
       "2         1  \n",
       "3         0  \n",
       "4         0  "
      ]
     },
     "execution_count": 15,
     "metadata": {},
     "output_type": "execute_result"
    }
   ],
   "source": [
    "df2.head()"
   ]
  },
  {
   "cell_type": "markdown",
   "metadata": {
    "heading_collapsed": true
   },
   "source": [
    "# 3.0 Filtragem das variáveis"
   ]
  },
  {
   "cell_type": "code",
   "execution_count": 16,
   "metadata": {
    "ExecuteTime": {
     "end_time": "2021-01-29T21:39:48.761089Z",
     "start_time": "2021-01-29T21:39:48.747363Z"
    },
    "hidden": true
   },
   "outputs": [],
   "source": [
    "df3 = df2.copy()"
   ]
  },
  {
   "cell_type": "code",
   "execution_count": 17,
   "metadata": {
    "ExecuteTime": {
     "end_time": "2021-01-29T21:39:48.778664Z",
     "start_time": "2021-01-29T21:39:48.762152Z"
    },
    "hidden": true
   },
   "outputs": [],
   "source": [
    "df3 = df3.drop(columns=['policy_sales_channel'])"
   ]
  },
  {
   "cell_type": "markdown",
   "metadata": {
    "heading_collapsed": true
   },
   "source": [
    "# 4.0 Análise Exploratória dos Dados"
   ]
  },
  {
   "cell_type": "code",
   "execution_count": 18,
   "metadata": {
    "ExecuteTime": {
     "end_time": "2021-01-29T21:39:48.786465Z",
     "start_time": "2021-01-29T21:39:48.779794Z"
    },
    "hidden": true
   },
   "outputs": [],
   "source": [
    "df4 = df3.copy()"
   ]
  },
  {
   "cell_type": "code",
   "execution_count": 19,
   "metadata": {
    "ExecuteTime": {
     "end_time": "2021-01-29T21:39:48.804353Z",
     "start_time": "2021-01-29T21:39:48.787673Z"
    },
    "hidden": true
   },
   "outputs": [],
   "source": [
    "num_attr = df4.select_dtypes(include=('int64', 'float64'))\n",
    "cat_attr = df4.select_dtypes(include=['object'])"
   ]
  },
  {
   "cell_type": "markdown",
   "metadata": {
    "hidden": true
   },
   "source": [
    "## 4.1 Análise Univariada"
   ]
  },
  {
   "cell_type": "markdown",
   "metadata": {
    "heading_collapsed": true,
    "hidden": true
   },
   "source": [
    "### 4.1.1 Response Variable"
   ]
  },
  {
   "cell_type": "code",
   "execution_count": 20,
   "metadata": {
    "ExecuteTime": {
     "end_time": "2021-01-29T21:39:48.936442Z",
     "start_time": "2021-01-29T21:39:48.805472Z"
    },
    "hidden": true
   },
   "outputs": [
    {
     "data": {
      "image/png": "[encoded data removed]",
      "text/plain": [
       "<Figure size 432x288 with 1 Axes>"
      ]
     },
     "metadata": {
      "needs_background": "light"
     },
     "output_type": "display_data"
    }
   ],
   "source": [
    "sns.histplot(data = df4, x='response');"
   ]
  },
  {
   "cell_type": "markdown",
   "metadata": {
    "heading_collapsed": true,
    "hidden": true
   },
   "source": [
    "### 4.1.2 Numerical Variables"
   ]
  },
  {
   "cell_type": "code",
   "execution_count": 21,
   "metadata": {
    "ExecuteTime": {
     "end_time": "2021-01-29T21:39:49.539428Z",
     "start_time": "2021-01-29T21:39:48.937694Z"
    },
    "hidden": true,
    "scrolled": false
   },
   "outputs": [
    {
     "data": {
      "image/png": "[encoded data removed]",
      "text/plain": [
       "<Figure size 1440x1080 with 6 Axes>"
      ]
     },
     "metadata": {
      "needs_background": "light"
     },
     "output_type": "display_data"
    }
   ],
   "source": [
    "num_attr.drop(columns=['id', 'response']).hist(figsize=(20, 15));"
   ]
  },
  {
   "cell_type": "code",
   "execution_count": 22,
   "metadata": {
    "ExecuteTime": {
     "end_time": "2021-01-29T21:39:49.640240Z",
     "start_time": "2021-01-29T21:39:49.540651Z"
    },
    "hidden": true
   },
   "outputs": [
    {
     "data": {
      "image/png": "[encoded data removed]",
      "text/plain": [
       "<Figure size 1440x720 with 1 Axes>"
      ]
     },
     "metadata": {
      "needs_background": "light"
     },
     "output_type": "display_data"
    }
   ],
   "source": [
    "plt.figure(figsize=(20,10))\n",
    "sns.boxplot(data=num_attr, x='annual_premium');"
   ]
  },
  {
   "cell_type": "markdown",
   "metadata": {
    "heading_collapsed": true,
    "hidden": true
   },
   "source": [
    "### 4.1.3 Categorical Variables"
   ]
  },
  {
   "cell_type": "code",
   "execution_count": 23,
   "metadata": {
    "ExecuteTime": {
     "end_time": "2021-01-29T21:39:49.647997Z",
     "start_time": "2021-01-29T21:39:49.642696Z"
    },
    "hidden": true
   },
   "outputs": [
    {
     "data": {
      "text/html": [
       "<div>\n",
       "<style scoped>\n",
       "    .dataframe tbody tr th:only-of-type {\n",
       "        vertical-align: middle;\n",
       "    }\n",
       "\n",
       "    .dataframe tbody tr th {\n",
       "        vertical-align: top;\n",
       "    }\n",
       "\n",
       "    .dataframe thead th {\n",
       "        text-align: right;\n",
       "    }\n",
       "</style>\n",
       "<table border=\"1\" class=\"dataframe\">\n",
       "  <thead>\n",
       "    <tr style=\"text-align: right;\">\n",
       "      <th></th>\n",
       "      <th>gender</th>\n",
       "      <th>vehicle_age</th>\n",
       "      <th>vehicle_damage</th>\n",
       "    </tr>\n",
       "  </thead>\n",
       "  <tbody>\n",
       "    <tr>\n",
       "      <th>0</th>\n",
       "      <td>Male</td>\n",
       "      <td>&gt; 2 Years</td>\n",
       "      <td>Yes</td>\n",
       "    </tr>\n",
       "    <tr>\n",
       "      <th>1</th>\n",
       "      <td>Male</td>\n",
       "      <td>1-2 Year</td>\n",
       "      <td>No</td>\n",
       "    </tr>\n",
       "    <tr>\n",
       "      <th>2</th>\n",
       "      <td>Male</td>\n",
       "      <td>&gt; 2 Years</td>\n",
       "      <td>Yes</td>\n",
       "    </tr>\n",
       "    <tr>\n",
       "      <th>3</th>\n",
       "      <td>Male</td>\n",
       "      <td>&lt; 1 Year</td>\n",
       "      <td>No</td>\n",
       "    </tr>\n",
       "    <tr>\n",
       "      <th>4</th>\n",
       "      <td>Female</td>\n",
       "      <td>&lt; 1 Year</td>\n",
       "      <td>No</td>\n",
       "    </tr>\n",
       "  </tbody>\n",
       "</table>\n",
       "</div>"
      ],
      "text/plain": [
       "   gender vehicle_age vehicle_damage\n",
       "0    Male   > 2 Years            Yes\n",
       "1    Male    1-2 Year             No\n",
       "2    Male   > 2 Years            Yes\n",
       "3    Male    < 1 Year             No\n",
       "4  Female    < 1 Year             No"
      ]
     },
     "execution_count": 23,
     "metadata": {},
     "output_type": "execute_result"
    }
   ],
   "source": [
    "cat_attr.head()"
   ]
  },
  {
   "cell_type": "markdown",
   "metadata": {
    "hidden": true
   },
   "source": [
    "These variables will be displayed together with their percent counterparts"
   ]
  },
  {
   "cell_type": "code",
   "execution_count": 24,
   "metadata": {
    "ExecuteTime": {
     "end_time": "2021-01-29T21:39:50.256511Z",
     "start_time": "2021-01-29T21:39:49.649146Z"
    },
    "hidden": true
   },
   "outputs": [
    {
     "data": {
      "image/png": "[encoded data removed]",
      "text/plain": [
       "<Figure size 1440x720 with 3 Axes>"
      ]
     },
     "metadata": {
      "needs_background": "light"
     },
     "output_type": "display_data"
    }
   ],
   "source": [
    "plt.figure(figsize=(20, 10))\n",
    "\n",
    "\n",
    "plt.subplot(1, 3, 1)\n",
    "sns.histplot(data=cat_attr, x='gender');\n",
    "\n",
    "plt.subplot(1, 3, 2)\n",
    "sns.histplot(data=cat_attr, x='vehicle_age');\n",
    "\n",
    "plt.subplot(1, 3, 3)\n",
    "sns.histplot(data=cat_attr, x='vehicle_damage');"
   ]
  },
  {
   "cell_type": "markdown",
   "metadata": {
    "heading_collapsed": true,
    "hidden": true
   },
   "source": [
    "## 4.2 Análise Bivariada"
   ]
  },
  {
   "cell_type": "code",
   "execution_count": 25,
   "metadata": {
    "ExecuteTime": {
     "end_time": "2021-01-29T21:39:50.265191Z",
     "start_time": "2021-01-29T21:39:50.257801Z"
    },
    "hidden": true
   },
   "outputs": [],
   "source": [
    "df4_1 = df4[df4['response'] == 1]"
   ]
  },
  {
   "cell_type": "markdown",
   "metadata": {
    "hidden": true
   },
   "source": [
    "**H1** Clientes sem licença tem menor probabilidade de adquirir seguro de automóvel.\n",
    "\n",
    "**Verdadeira**"
   ]
  },
  {
   "cell_type": "code",
   "execution_count": 26,
   "metadata": {
    "ExecuteTime": {
     "end_time": "2021-01-29T21:39:50.585678Z",
     "start_time": "2021-01-29T21:39:50.266544Z"
    },
    "hidden": true
   },
   "outputs": [
    {
     "data": {
      "image/png": "[encoded data removed]",
      "text/plain": [
       "<Figure size 1440x720 with 2 Axes>"
      ]
     },
     "metadata": {
      "needs_background": "light"
     },
     "output_type": "display_data"
    }
   ],
   "source": [
    "plt.figure(figsize=(20,10))\n",
    "\n",
    "plt.subplot(1, 2, 1)\n",
    "sns.histplot(data=df4_1, x='driving_license');\n",
    "\n",
    "plt.subplot(1, 2, 2)\n",
    "sns.histplot(data=df4, x='driving_license', hue='response', multiple='stack');"
   ]
  },
  {
   "cell_type": "markdown",
   "metadata": {
    "hidden": true
   },
   "source": [
    "**H2** Clientes não-idosos tem maior probabilidade de adquirir seguro de automóvel.\n",
    "\n",
    "**Verdadeira**"
   ]
  },
  {
   "cell_type": "code",
   "execution_count": 27,
   "metadata": {
    "ExecuteTime": {
     "end_time": "2021-01-29T21:39:50.912976Z",
     "start_time": "2021-01-29T21:39:50.586919Z"
    },
    "hidden": true,
    "scrolled": false
   },
   "outputs": [
    {
     "data": {
      "image/png": "[encoded data removed]",
      "text/plain": [
       "<Figure size 1440x720 with 2 Axes>"
      ]
     },
     "metadata": {
      "needs_background": "light"
     },
     "output_type": "display_data"
    }
   ],
   "source": [
    "plt.figure(figsize=(20,10))\n",
    "\n",
    "plt.subplot(1, 2, 1)\n",
    "sns.histplot(data=df4_1, x='age', binwidth=25);\n",
    "\n",
    "plt.subplot(1, 2, 2)\n",
    "sns.histplot(data=df4, x='age', binwidth=25, hue='response', multiple='stack');"
   ]
  },
  {
   "cell_type": "markdown",
   "metadata": {
    "hidden": true
   },
   "source": [
    "**H3** Clientes mulheres tem maior probabilidade de adquirir seguro de automóvel.\n",
    "\n",
    "**Falsa** Clientes homens tem maior probabilidade de adquirir seguro de automóvel."
   ]
  },
  {
   "cell_type": "code",
   "execution_count": 28,
   "metadata": {
    "ExecuteTime": {
     "end_time": "2021-01-29T21:39:51.283760Z",
     "start_time": "2021-01-29T21:39:50.914202Z"
    },
    "hidden": true
   },
   "outputs": [
    {
     "data": {
      "image/png": "[encoded data removed]",
      "text/plain": [
       "<Figure size 1440x720 with 2 Axes>"
      ]
     },
     "metadata": {
      "needs_background": "light"
     },
     "output_type": "display_data"
    }
   ],
   "source": [
    "plt.figure(figsize=(20,10))\n",
    "\n",
    "plt.subplot(1, 2, 1)\n",
    "sns.histplot(data=df4_1, x='gender');\n",
    "\n",
    "plt.subplot(1, 2, 2)\n",
    "sns.histplot(data=df4, x='gender', hue='response', multiple='stack');"
   ]
  },
  {
   "cell_type": "markdown",
   "metadata": {
    "hidden": true
   },
   "source": [
    "**H4** Clientes com carros mais antigos tem menor probabilidade de adquirir seguro de automóvel.\n",
    "\n",
    "**Verdadeira**"
   ]
  },
  {
   "cell_type": "code",
   "execution_count": 29,
   "metadata": {
    "ExecuteTime": {
     "end_time": "2021-01-29T21:39:51.666612Z",
     "start_time": "2021-01-29T21:39:51.284885Z"
    },
    "hidden": true
   },
   "outputs": [
    {
     "data": {
      "image/png": "[encoded data removed]",
      "text/plain": [
       "<Figure size 1440x720 with 2 Axes>"
      ]
     },
     "metadata": {
      "needs_background": "light"
     },
     "output_type": "display_data"
    }
   ],
   "source": [
    "plt.figure(figsize=(20,10))\n",
    "\n",
    "plt.subplot(1, 2, 1)\n",
    "sns.histplot(data=df4_1, x='vehicle_age');\n",
    "\n",
    "plt.subplot(1, 2, 2)\n",
    "sns.histplot(data=df4, x='vehicle_age', hue='response', multiple='stack');"
   ]
  },
  {
   "cell_type": "markdown",
   "metadata": {
    "ExecuteTime": {
     "end_time": "2021-01-19T01:39:56.146827Z",
     "start_time": "2021-01-19T01:39:56.139168Z"
    },
    "hidden": true
   },
   "source": [
    "**H5** Clientes que já tiveram seu veículo danificado tem maior probabilidade de adquirir seguro de automóvel.\n",
    "\n",
    "**Verdadeira**"
   ]
  },
  {
   "cell_type": "code",
   "execution_count": 30,
   "metadata": {
    "ExecuteTime": {
     "end_time": "2021-01-29T21:39:52.032467Z",
     "start_time": "2021-01-29T21:39:51.667855Z"
    },
    "hidden": true
   },
   "outputs": [
    {
     "data": {
      "image/png": "[encoded data removed]",
      "text/plain": [
       "<Figure size 1440x720 with 2 Axes>"
      ]
     },
     "metadata": {
      "needs_background": "light"
     },
     "output_type": "display_data"
    }
   ],
   "source": [
    "plt.figure(figsize=(20,10))\n",
    "\n",
    "plt.subplot(1, 2, 1)\n",
    "sns.histplot(data=df4_1, x='vehicle_damage');\n",
    "\n",
    "plt.subplot(1, 2, 2)\n",
    "sns.histplot(data=df4, x='vehicle_damage', hue='response', multiple='stack');"
   ]
  },
  {
   "cell_type": "markdown",
   "metadata": {
    "hidden": true
   },
   "source": [
    "**H6** Clientes há mais tempo tem maior probabilidade de adquirir seguro de automóvel.\n",
    "\n",
    "**Falsa** Não há correlação notável entre \"vintage\" e o seguro de automóvel."
   ]
  },
  {
   "cell_type": "code",
   "execution_count": 31,
   "metadata": {
    "ExecuteTime": {
     "end_time": "2021-01-29T21:39:52.161304Z",
     "start_time": "2021-01-29T21:39:52.033553Z"
    },
    "hidden": true
   },
   "outputs": [
    {
     "data": {
      "image/png": "[encoded data removed]",
      "text/plain": [
       "<Figure size 432x288 with 1 Axes>"
      ]
     },
     "metadata": {
      "needs_background": "light"
     },
     "output_type": "display_data"
    }
   ],
   "source": [
    "sns.histplot(data=df4_1, x='vintage');"
   ]
  },
  {
   "cell_type": "markdown",
   "metadata": {
    "hidden": true
   },
   "source": [
    "**H7** Clientes que pagam mais pelo seguro saúde tem maior probabilidade de adquirir seguro de automóvel.\n",
    "\n",
    "**Falsa**"
   ]
  },
  {
   "cell_type": "code",
   "execution_count": 32,
   "metadata": {
    "ExecuteTime": {
     "end_time": "2021-01-29T21:39:52.877462Z",
     "start_time": "2021-01-29T21:39:52.162380Z"
    },
    "hidden": true
   },
   "outputs": [
    {
     "data": {
      "image/png": "[encoded data removed]",
      "text/plain": [
       "<Figure size 432x288 with 1 Axes>"
      ]
     },
     "metadata": {
      "needs_background": "light"
     },
     "output_type": "display_data"
    }
   ],
   "source": [
    "sns.histplot(data=df4_1, x='annual_premium');"
   ]
  },
  {
   "cell_type": "markdown",
   "metadata": {
    "hidden": true
   },
   "source": [
    "## 4.3 Análise Multivariada"
   ]
  },
  {
   "cell_type": "markdown",
   "metadata": {
    "heading_collapsed": true,
    "hidden": true
   },
   "source": [
    "### 4.3.1 Variáveis Numéricas"
   ]
  },
  {
   "cell_type": "code",
   "execution_count": 33,
   "metadata": {
    "ExecuteTime": {
     "end_time": "2021-01-29T21:39:53.342059Z",
     "start_time": "2021-01-29T21:39:52.878688Z"
    },
    "hidden": true
   },
   "outputs": [
    {
     "data": {
      "image/png": "[encoded data removed]",
      "text/plain": [
       "<Figure size 1440x1080 with 2 Axes>"
      ]
     },
     "metadata": {
      "needs_background": "light"
     },
     "output_type": "display_data"
    }
   ],
   "source": [
    "correl = num_attr.corr(method='pearson')\n",
    "plt.figure(figsize=(20,15))\n",
    "sns.heatmap(correl, annot=True);"
   ]
  },
  {
   "cell_type": "markdown",
   "metadata": {
    "heading_collapsed": true,
    "hidden": true
   },
   "source": [
    "### 4.3.2 Variáveis categóricas"
   ]
  },
  {
   "cell_type": "code",
   "execution_count": 34,
   "metadata": {
    "ExecuteTime": {
     "end_time": "2021-01-29T21:39:53.912262Z",
     "start_time": "2021-01-29T21:39:53.343147Z"
    },
    "hidden": true
   },
   "outputs": [
    {
     "data": {
      "image/png": "[encoded data removed]",
      "text/plain": [
       "<Figure size 1080x720 with 2 Axes>"
      ]
     },
     "metadata": {
      "needs_background": "light"
     },
     "output_type": "display_data"
    }
   ],
   "source": [
    "indexes = cat_attr.columns\n",
    "\n",
    "#for scalability, I will create a function that returns Cramér's V correlation:\n",
    "\n",
    "def cat_corr(x, y):\n",
    "    '''Cross frequencies'''\n",
    "    cont_mat = pd.crosstab(x, y).to_numpy()\n",
    "    \n",
    "    n = cont_mat.sum()\n",
    "    r, k = cont_mat.shape\n",
    "    \n",
    "    '''chi square statistics'''\n",
    "    chi2 = ss.chi2_contingency(cont_mat)[0]\n",
    "    \n",
    "    '''Corrected variables to compensate for bias:'''\n",
    "    chi2corr = max(0, (chi2/n) - (k - 1)*(r - 1)/(n-1))\n",
    "    r_corr = r - (r-1)**2/(n-1)\n",
    "    k_corr = k - (k-1)**2/(n-1)\n",
    "    \n",
    "    '''Cramérs V correlation'''''\n",
    "    cramer_v = np.sqrt((chi2corr)/(min(k_corr-1, r_corr-1)))\n",
    "    return cramer_v\n",
    "\n",
    "\n",
    "d = defaultdict(list)\n",
    "#d = {}\n",
    "for x, y in prod(indexes, repeat=2):\n",
    "    d[x].append(cat_corr(cat_attr[x],cat_attr[y]))\n",
    "\n",
    "a = pd.DataFrame(d, index=indexes)\n",
    "\n",
    "plt.figure(figsize=(15,10))\n",
    "sns.heatmap(a, annot=True);"
   ]
  },
  {
   "cell_type": "markdown",
   "metadata": {},
   "source": [
    "# 5.0 Data Preparation"
   ]
  },
  {
   "cell_type": "code",
   "execution_count": 35,
   "metadata": {
    "ExecuteTime": {
     "end_time": "2021-01-29T21:39:53.919766Z",
     "start_time": "2021-01-29T21:39:53.913319Z"
    }
   },
   "outputs": [],
   "source": [
    "df5 = df4.copy()"
   ]
  },
  {
   "cell_type": "code",
   "execution_count": 36,
   "metadata": {
    "ExecuteTime": {
     "end_time": "2021-01-29T21:39:53.935044Z",
     "start_time": "2021-01-29T21:39:53.920895Z"
    }
   },
   "outputs": [],
   "source": [
    "num_attr = df5.select_dtypes(include=('int64', 'float64'))\n",
    "cat_attr = df5.select_dtypes(include=['object'])"
   ]
  },
  {
   "cell_type": "code",
   "execution_count": 37,
   "metadata": {
    "ExecuteTime": {
     "end_time": "2021-01-29T21:39:53.943405Z",
     "start_time": "2021-01-29T21:39:53.936232Z"
    }
   },
   "outputs": [
    {
     "data": {
      "text/html": [
       "<div>\n",
       "<style scoped>\n",
       "    .dataframe tbody tr th:only-of-type {\n",
       "        vertical-align: middle;\n",
       "    }\n",
       "\n",
       "    .dataframe tbody tr th {\n",
       "        vertical-align: top;\n",
       "    }\n",
       "\n",
       "    .dataframe thead th {\n",
       "        text-align: right;\n",
       "    }\n",
       "</style>\n",
       "<table border=\"1\" class=\"dataframe\">\n",
       "  <thead>\n",
       "    <tr style=\"text-align: right;\">\n",
       "      <th></th>\n",
       "      <th>id</th>\n",
       "      <th>age</th>\n",
       "      <th>region_code</th>\n",
       "      <th>driving_license</th>\n",
       "      <th>previously_insured</th>\n",
       "      <th>annual_premium</th>\n",
       "      <th>vintage</th>\n",
       "      <th>response</th>\n",
       "    </tr>\n",
       "  </thead>\n",
       "  <tbody>\n",
       "    <tr>\n",
       "      <th>0</th>\n",
       "      <td>1</td>\n",
       "      <td>44</td>\n",
       "      <td>28</td>\n",
       "      <td>1</td>\n",
       "      <td>0</td>\n",
       "      <td>40454.0</td>\n",
       "      <td>217</td>\n",
       "      <td>1</td>\n",
       "    </tr>\n",
       "    <tr>\n",
       "      <th>1</th>\n",
       "      <td>2</td>\n",
       "      <td>76</td>\n",
       "      <td>3</td>\n",
       "      <td>1</td>\n",
       "      <td>0</td>\n",
       "      <td>33536.0</td>\n",
       "      <td>183</td>\n",
       "      <td>0</td>\n",
       "    </tr>\n",
       "    <tr>\n",
       "      <th>2</th>\n",
       "      <td>3</td>\n",
       "      <td>47</td>\n",
       "      <td>28</td>\n",
       "      <td>1</td>\n",
       "      <td>0</td>\n",
       "      <td>38294.0</td>\n",
       "      <td>27</td>\n",
       "      <td>1</td>\n",
       "    </tr>\n",
       "    <tr>\n",
       "      <th>3</th>\n",
       "      <td>4</td>\n",
       "      <td>21</td>\n",
       "      <td>11</td>\n",
       "      <td>1</td>\n",
       "      <td>1</td>\n",
       "      <td>28619.0</td>\n",
       "      <td>203</td>\n",
       "      <td>0</td>\n",
       "    </tr>\n",
       "    <tr>\n",
       "      <th>4</th>\n",
       "      <td>5</td>\n",
       "      <td>29</td>\n",
       "      <td>41</td>\n",
       "      <td>1</td>\n",
       "      <td>1</td>\n",
       "      <td>27496.0</td>\n",
       "      <td>39</td>\n",
       "      <td>0</td>\n",
       "    </tr>\n",
       "  </tbody>\n",
       "</table>\n",
       "</div>"
      ],
      "text/plain": [
       "   id  age  region_code  driving_license  previously_insured  annual_premium  \\\n",
       "0   1   44           28                1                   0         40454.0   \n",
       "1   2   76            3                1                   0         33536.0   \n",
       "2   3   47           28                1                   0         38294.0   \n",
       "3   4   21           11                1                   1         28619.0   \n",
       "4   5   29           41                1                   1         27496.0   \n",
       "\n",
       "   vintage  response  \n",
       "0      217         1  \n",
       "1      183         0  \n",
       "2       27         1  \n",
       "3      203         0  \n",
       "4       39         0  "
      ]
     },
     "execution_count": 37,
     "metadata": {},
     "output_type": "execute_result"
    }
   ],
   "source": [
    "num_attr.head()"
   ]
  },
  {
   "cell_type": "code",
   "execution_count": 38,
   "metadata": {
    "ExecuteTime": {
     "end_time": "2021-01-29T21:39:53.950718Z",
     "start_time": "2021-01-29T21:39:53.944517Z"
    }
   },
   "outputs": [
    {
     "data": {
      "text/html": [
       "<div>\n",
       "<style scoped>\n",
       "    .dataframe tbody tr th:only-of-type {\n",
       "        vertical-align: middle;\n",
       "    }\n",
       "\n",
       "    .dataframe tbody tr th {\n",
       "        vertical-align: top;\n",
       "    }\n",
       "\n",
       "    .dataframe thead th {\n",
       "        text-align: right;\n",
       "    }\n",
       "</style>\n",
       "<table border=\"1\" class=\"dataframe\">\n",
       "  <thead>\n",
       "    <tr style=\"text-align: right;\">\n",
       "      <th></th>\n",
       "      <th>gender</th>\n",
       "      <th>vehicle_age</th>\n",
       "      <th>vehicle_damage</th>\n",
       "    </tr>\n",
       "  </thead>\n",
       "  <tbody>\n",
       "    <tr>\n",
       "      <th>0</th>\n",
       "      <td>Male</td>\n",
       "      <td>&gt; 2 Years</td>\n",
       "      <td>Yes</td>\n",
       "    </tr>\n",
       "    <tr>\n",
       "      <th>1</th>\n",
       "      <td>Male</td>\n",
       "      <td>1-2 Year</td>\n",
       "      <td>No</td>\n",
       "    </tr>\n",
       "    <tr>\n",
       "      <th>2</th>\n",
       "      <td>Male</td>\n",
       "      <td>&gt; 2 Years</td>\n",
       "      <td>Yes</td>\n",
       "    </tr>\n",
       "    <tr>\n",
       "      <th>3</th>\n",
       "      <td>Male</td>\n",
       "      <td>&lt; 1 Year</td>\n",
       "      <td>No</td>\n",
       "    </tr>\n",
       "    <tr>\n",
       "      <th>4</th>\n",
       "      <td>Female</td>\n",
       "      <td>&lt; 1 Year</td>\n",
       "      <td>No</td>\n",
       "    </tr>\n",
       "  </tbody>\n",
       "</table>\n",
       "</div>"
      ],
      "text/plain": [
       "   gender vehicle_age vehicle_damage\n",
       "0    Male   > 2 Years            Yes\n",
       "1    Male    1-2 Year             No\n",
       "2    Male   > 2 Years            Yes\n",
       "3    Male    < 1 Year             No\n",
       "4  Female    < 1 Year             No"
      ]
     },
     "execution_count": 38,
     "metadata": {},
     "output_type": "execute_result"
    }
   ],
   "source": [
    "cat_attr.head()"
   ]
  },
  {
   "cell_type": "markdown",
   "metadata": {},
   "source": [
    "## 5.1 Balance Data"
   ]
  },
  {
   "cell_type": "markdown",
   "metadata": {},
   "source": [
    "The dataset will be split into train and validation, only the train data will be balanced."
   ]
  },
  {
   "cell_type": "markdown",
   "metadata": {},
   "source": [
    "### 5.1.1 Encode categorical variables"
   ]
  },
  {
   "cell_type": "code",
   "execution_count": 39,
   "metadata": {
    "ExecuteTime": {
     "end_time": "2021-01-29T21:39:54.205872Z",
     "start_time": "2021-01-29T21:39:53.951931Z"
    }
   },
   "outputs": [],
   "source": [
    "#encode numerical variables with values between 0 and n_classes-1\n",
    "le = LabelEncoder()\n",
    "\n",
    "#gender: \"One-hot\" encoder\n",
    "df5['gender'] = pd.get_dummies(df5, prefix='gender', columns=['gender'])\n",
    "\n",
    "#vehicle_age\n",
    "df5['vehicle_age'] = le.fit_transform(df5['vehicle_age'])\n",
    "\n",
    "#vehicle_age\n",
    "df5['vehicle_damage'] = le.fit_transform(df5['vehicle_damage'])"
   ]
  },
  {
   "cell_type": "markdown",
   "metadata": {},
   "source": [
    "### 5.1.2 Balancing Data"
   ]
  },
  {
   "cell_type": "code",
   "execution_count": 40,
   "metadata": {
    "ExecuteTime": {
     "end_time": "2021-01-29T21:39:54.372949Z",
     "start_time": "2021-01-29T21:39:54.207036Z"
    }
   },
   "outputs": [],
   "source": [
    "X = df5.drop(['response'], axis=1)\n",
    "y = df5.response\n",
    "\n",
    "X_train, X_val, y_train, y_val = train_test_split(X, y, test_size=0.2, random_state=50, stratify=y)"
   ]
  },
  {
   "cell_type": "code",
   "execution_count": 41,
   "metadata": {
    "ExecuteTime": {
     "end_time": "2021-01-29T21:39:58.117784Z",
     "start_time": "2021-01-29T21:39:54.374038Z"
    }
   },
   "outputs": [],
   "source": [
    "smtt = c.SMOTETomek(sampling_strategy='auto', random_state=42, n_jobs=-1)\n",
    "\n",
    "X_train_res, y_train_res = smtt.fit_resample(X_train, y_train)"
   ]
  },
  {
   "cell_type": "code",
   "execution_count": 42,
   "metadata": {
    "ExecuteTime": {
     "end_time": "2021-01-29T21:39:58.121662Z",
     "start_time": "2021-01-29T21:39:58.119102Z"
    }
   },
   "outputs": [
    {
     "data": {
      "text/plain": [
       "(304887, 10)"
      ]
     },
     "execution_count": 42,
     "metadata": {},
     "output_type": "execute_result"
    }
   ],
   "source": [
    "X_train.shape"
   ]
  },
  {
   "cell_type": "code",
   "execution_count": 43,
   "metadata": {
    "ExecuteTime": {
     "end_time": "2021-01-29T21:39:58.130854Z",
     "start_time": "2021-01-29T21:39:58.123467Z"
    }
   },
   "outputs": [
    {
     "data": {
      "text/plain": [
       "(487942, 10)"
      ]
     },
     "execution_count": 43,
     "metadata": {},
     "output_type": "execute_result"
    }
   ],
   "source": [
    "X_train_res.shape"
   ]
  },
  {
   "cell_type": "code",
   "execution_count": 44,
   "metadata": {
    "ExecuteTime": {
     "end_time": "2021-01-29T21:39:58.136287Z",
     "start_time": "2021-01-29T21:39:58.132226Z"
    }
   },
   "outputs": [
    {
     "data": {
      "text/plain": [
       "(487942,)"
      ]
     },
     "execution_count": 44,
     "metadata": {},
     "output_type": "execute_result"
    }
   ],
   "source": [
    "y_train_res.shape"
   ]
  },
  {
   "cell_type": "code",
   "execution_count": 45,
   "metadata": {
    "ExecuteTime": {
     "end_time": "2021-01-29T21:39:58.152905Z",
     "start_time": "2021-01-29T21:39:58.137849Z"
    }
   },
   "outputs": [],
   "source": [
    "df_train_res = pd.concat([X_train_res, y_train_res], axis=1)"
   ]
  },
  {
   "cell_type": "code",
   "execution_count": 46,
   "metadata": {
    "ExecuteTime": {
     "end_time": "2021-01-29T21:39:58.171217Z",
     "start_time": "2021-01-29T21:39:58.154505Z"
    }
   },
   "outputs": [],
   "source": [
    "df_train = pd.concat([X_train, y_train], axis=1)"
   ]
  },
  {
   "cell_type": "code",
   "execution_count": 47,
   "metadata": {
    "ExecuteTime": {
     "end_time": "2021-01-29T21:39:58.180119Z",
     "start_time": "2021-01-29T21:39:58.172805Z"
    }
   },
   "outputs": [],
   "source": [
    "df_val = pd.concat([X_val, y_val], axis=1)"
   ]
  },
  {
   "cell_type": "markdown",
   "metadata": {},
   "source": [
    "## 5.2 Normalization"
   ]
  },
  {
   "cell_type": "markdown",
   "metadata": {},
   "source": [
    "Normalization is more adequate when working with normal distributions. The univariate analysis shows that none of the features is represented by a normal distribution, so this step will not be performed now."
   ]
  },
  {
   "cell_type": "markdown",
   "metadata": {},
   "source": [
    "## 5.3 Rescaling"
   ]
  },
  {
   "cell_type": "markdown",
   "metadata": {},
   "source": [
    "Some numerical attributes will be rescaled."
   ]
  },
  {
   "cell_type": "markdown",
   "metadata": {
    "heading_collapsed": true
   },
   "source": [
    "### 5.3.1 Unbalanced Dataframe"
   ]
  },
  {
   "cell_type": "code",
   "execution_count": 48,
   "metadata": {
    "ExecuteTime": {
     "end_time": "2021-01-29T21:39:58.487663Z",
     "start_time": "2021-01-29T21:39:58.181382Z"
    },
    "hidden": true
   },
   "outputs": [
    {
     "data": {
      "image/png": "[encoded data removed]",
      "text/plain": [
       "<Figure size 1440x1440 with 4 Axes>"
      ]
     },
     "metadata": {
      "needs_background": "light"
     },
     "output_type": "display_data"
    }
   ],
   "source": [
    "plt.figure(figsize=(20, 20))\n",
    "\n",
    "\n",
    "plt.subplot(2, 2, 1)\n",
    "sns.boxplot(data=df5, x='age');\n",
    "\n",
    "plt.subplot(2, 2, 2)\n",
    "sns.boxplot(data=df5, x='region_code');\n",
    "\n",
    "plt.subplot(2, 2, 3)\n",
    "sns.boxplot(data=df5, x='annual_premium');\n",
    "\n",
    "plt.subplot(2, 2, 4)\n",
    "sns.boxplot(data=df5, x='vintage');"
   ]
  },
  {
   "cell_type": "markdown",
   "metadata": {},
   "source": [
    "### 5.3 2 Balanced Dataframe"
   ]
  },
  {
   "cell_type": "code",
   "execution_count": 49,
   "metadata": {
    "ExecuteTime": {
     "end_time": "2021-01-29T21:39:58.795981Z",
     "start_time": "2021-01-29T21:39:58.488872Z"
    }
   },
   "outputs": [
    {
     "data": {
      "image/png": "[encoded data removed]",
      "text/plain": [
       "<Figure size 1440x1440 with 4 Axes>"
      ]
     },
     "metadata": {
      "needs_background": "light"
     },
     "output_type": "display_data"
    }
   ],
   "source": [
    "plt.figure(figsize=(20, 20))\n",
    "\n",
    "\n",
    "plt.subplot(2, 2, 1)\n",
    "sns.boxplot(data=df_train_res, x='age');\n",
    "\n",
    "plt.subplot(2, 2, 2)\n",
    "sns.boxplot(data=df_train_res, x='region_code');\n",
    "\n",
    "plt.subplot(2, 2, 3)\n",
    "sns.boxplot(data=df_train_res, x='annual_premium');\n",
    "\n",
    "plt.subplot(2, 2, 4)\n",
    "sns.boxplot(data=df_train_res, x='vintage');"
   ]
  },
  {
   "cell_type": "markdown",
   "metadata": {},
   "source": [
    "Now there are outliers in \"age\"."
   ]
  },
  {
   "cell_type": "code",
   "execution_count": 50,
   "metadata": {
    "ExecuteTime": {
     "end_time": "2021-01-29T21:39:58.874292Z",
     "start_time": "2021-01-29T21:39:58.797078Z"
    }
   },
   "outputs": [],
   "source": [
    "rs = RobustScaler()\n",
    "minmax = MinMaxScaler()\n",
    "\n",
    "\n",
    "df_train_res['age'] = rs.fit_transform(df_train_res[['age']].values)\n",
    "\n",
    "df_train_res['region_code'] = minmax.fit_transform(df_train_res[['region_code']].values)\n",
    "\n",
    "df_train_res['annual_premium'] = rs.fit_transform(df_train_res[['annual_premium']].values)\n",
    "\n",
    "df_train_res['vintage'] = minmax.fit_transform(df_train_res[['vintage']].values)"
   ]
  },
  {
   "cell_type": "markdown",
   "metadata": {},
   "source": [
    "### 5.3.3 Unbalanced Validation Dataframe"
   ]
  },
  {
   "cell_type": "code",
   "execution_count": 51,
   "metadata": {
    "ExecuteTime": {
     "end_time": "2021-01-29T21:39:59.135598Z",
     "start_time": "2021-01-29T21:39:58.875509Z"
    }
   },
   "outputs": [
    {
     "data": {
      "image/png": "[encoded data removed]",
      "text/plain": [
       "<Figure size 1440x1440 with 4 Axes>"
      ]
     },
     "metadata": {
      "needs_background": "light"
     },
     "output_type": "display_data"
    }
   ],
   "source": [
    "plt.figure(figsize=(20, 20))\n",
    "\n",
    "\n",
    "plt.subplot(2, 2, 1)\n",
    "sns.boxplot(data=df_val, x='age');\n",
    "\n",
    "plt.subplot(2, 2, 2)\n",
    "sns.boxplot(data=df_val, x='region_code');\n",
    "\n",
    "plt.subplot(2, 2, 3)\n",
    "sns.boxplot(data=df_val, x='annual_premium');\n",
    "\n",
    "plt.subplot(2, 2, 4)\n",
    "sns.boxplot(data=df_val, x='vintage');"
   ]
  },
  {
   "cell_type": "markdown",
   "metadata": {},
   "source": [
    "The 'age' feature doesn't have outliers in this dataset. This variable will be rescaled using MinMaxScaler. This choice may give rise to difficulties for the ML model. This may be reviewed in a next CRISP round."
   ]
  },
  {
   "cell_type": "code",
   "execution_count": 52,
   "metadata": {
    "ExecuteTime": {
     "end_time": "2021-01-29T21:43:17.218705Z",
     "start_time": "2021-01-29T21:43:17.170473Z"
    }
   },
   "outputs": [],
   "source": [
    "rs = RobustScaler()\n",
    "minmax = MinMaxScaler()\n",
    "\n",
    "\n",
    "df_val['age'] = minmax.fit_transform(df_val[['age']].values)\n",
    "\n",
    "df_val['region_code'] = minmax.fit_transform(df_val[['region_code']].values)\n",
    "\n",
    "df_val['annual_premium'] = rs.fit_transform(df_val[['annual_premium']].values)\n",
    "\n",
    "df_val['vintage'] = minmax.fit_transform(df_val[['vintage']].values)"
   ]
  },
  {
   "cell_type": "markdown",
   "metadata": {},
   "source": [
    "## 5.4 Transformation"
   ]
  },
  {
   "cell_type": "markdown",
   "metadata": {},
   "source": [
    "The target variable doesn't need to be transformed. And since there are no cyclic variables, no nature transformation is necessary either."
   ]
  },
  {
   "cell_type": "markdown",
   "metadata": {},
   "source": [
    "## 5.5 Export prepared data"
   ]
  },
  {
   "cell_type": "code",
   "execution_count": 53,
   "metadata": {
    "ExecuteTime": {
     "end_time": "2021-01-29T21:43:24.750493Z",
     "start_time": "2021-01-29T21:43:24.376568Z"
    }
   },
   "outputs": [],
   "source": [
    "df5.to_pickle('df5.pkl')\n",
    "\n",
    "df_train_res.to_pickle('df_train_res.pkl')\n",
    "\n",
    "df_train.to_pickle('df_train.pkl')\n",
    "\n",
    "df_val.to_pickle('df_val.pkl')"
   ]
  }
 ],
 "metadata": {
  "kernelspec": {
   "display_name": "Python 3",
   "language": "python",
   "name": "python3"
  },
  "language_info": {
   "codemirror_mode": {
    "name": "ipython",
    "version": 3
   },
   "file_extension": ".py",
   "mimetype": "text/x-python",
   "name": "python",
   "nbconvert_exporter": "python",
   "pygments_lexer": "ipython3",
   "version": "3.8.5"
  },
  "toc": {
   "base_numbering": 1,
   "nav_menu": {},
   "number_sections": false,
   "sideBar": true,
   "skip_h1_title": false,
   "title_cell": "Table of Contents",
   "title_sidebar": "Contents",
   "toc_cell": false,
   "toc_position": {},
   "toc_section_display": true,
   "toc_window_display": false
  }
 },
 "nbformat": 4,
 "nbformat_minor": 4
}
