{
 "cells": [
  {
   "cell_type": "code",
   "execution_count": null,
   "metadata": {
    "ExecuteTime": {
     "end_time": "2021-02-25T20:43:44.707946Z",
     "start_time": "2021-02-25T20:43:43.932788Z"
    }
   },
   "outputs": [],
   "source": [
    "import pandas as pd\n",
    "import numpy as np\n",
    "import pickle"
   ]
  },
  {
   "cell_type": "markdown",
   "metadata": {
    "heading_collapsed": true
   },
   "source": [
    "# Class methods"
   ]
  },
  {
   "cell_type": "code",
   "execution_count": null,
   "metadata": {
    "ExecuteTime": {
     "end_time": "2021-02-25T20:43:44.710988Z",
     "start_time": "2021-02-25T20:43:44.709157Z"
    },
    "hidden": true
   },
   "outputs": [],
   "source": [
    "def __init__(self):\n",
    "    self.home_path = \"/home/marcos/Documentos/comunidade_DS/pa004_health_insurance_cross_sell/\"\n",
    "    self.mms_age = pickle.load(open(home_path + \"encoders/age_new_scaler.pkl\", \"rb\"))\n",
    "    self.region_freq = pickle.load(open(home_path + \"encoders/region_freq_new_scaler.pkl\", \"rb\"))\n",
    "    self.channel_freq = pickle.load(open(home_path + \"encoders/channel_freq_new_scaler.pkl\", \"rb\"))\n",
    "    self.age_encoder = pickle.load(open(home_path + \"encoders/v_age_new_encoder.pkl\", \"rb\"))\n",
    "    self.damage_encoder = pickle.load(open(home_path + \"encoders/v_dam_new_encoder.pkl\", \"rb\"))\n",
    "    self.ss_premium = pickle.load(open(home_path + \"encoders/premium_new_scaler.pkl\", \"rb\"))\n",
    "    self.mms_vintage = pickle.load(open(home_path + \"encoders/vintage_new_scaler.pkl\", \"rb\"))"
   ]
  },
  {
   "cell_type": "code",
   "execution_count": null,
   "metadata": {
    "hidden": true
   },
   "outputs": [],
   "source": [
    "def data_cleaning(self, data):\n",
    "    data['region_code'] = data['region_code'].astype(int)\n",
    "    data['policy_sales_channel'] = data['policy_sales_channel'].astype(int)\n",
    "    return data"
   ]
  },
  {
   "cell_type": "code",
   "execution_count": null,
   "metadata": {
    "hidden": true
   },
   "outputs": [],
   "source": [
    "def feature_engineering(self, data):\n",
    "    def damage_map(damage):\n",
    "        if damage == 'Yes':\n",
    "            return 1\n",
    "        else:\n",
    "            return 0\n",
    "\n",
    "    vehicle_hist = data['vehicle_damage'].map(damage_map) + 1 - data['previously_insured']\n",
    "\n",
    "    data.insert(loc=len(data.columns)-1, column='vehicle_hist', value=vehicle_hist)\n",
    "    return data"
   ]
  },
  {
   "cell_type": "code",
   "execution_count": null,
   "metadata": {
    "ExecuteTime": {
     "end_time": "2021-02-25T20:43:46.247709Z",
     "start_time": "2021-02-25T20:43:46.243797Z"
    },
    "hidden": true
   },
   "outputs": [],
   "source": [
    "def data_preparation(self, data):\n",
    "    df9 = data.copy()\n",
    "    \n",
    "    # lowercase columns\n",
    "    cols_list = df9.columns.tolist()\n",
    "    cols_lower = [x.lower() for x in cols_list]\n",
    "    df9.columns = cols_lower\n",
    "    \n",
    "    # apply encoders and scalers\n",
    "    # gender: \"One-hot\" encoder\n",
    "    df9 = pd.get_dummies(df9, prefix='gender', columns=['gender'])\n",
    "\n",
    "    # age - MinMaxScaler\n",
    "    df9['age'] = mms_age.transform(df9[['age']].values)\n",
    "\n",
    "    # region_code - frequency encoding\n",
    "    df9['region_code'] = df9['region_code'].map(region_freq)\n",
    "\n",
    "    # policy_sales_channel - frequency encoding\n",
    "    df9['policy_sales_channel'] = df9['policy_sales_channel'].map(channel_freq)\n",
    "\n",
    "    # vehicle_age - LabelEncoder\n",
    "    df9['vehicle_age'] = age_encoder.transform(df9['vehicle_age'])\n",
    "\n",
    "    # vehicle_damage - LabelEncoder\n",
    "    df9['vehicle_damage'] = damage_encoder.transform(df9['vehicle_damage'])\n",
    "\n",
    "    # annual_premium - StandardScaler\n",
    "    df9['annual_premium'] = ss_premium.transform(df9[['annual_premium']].values)\n",
    "\n",
    "    # vintage - MinMaxScaler\n",
    "    df9['vintage'] = mms_vintage.transform(df9[['vintage']].values)\n",
    "\n",
    "    # select columns\n",
    "    cols_selected_full = ['id', 'age', 'policy_sales_channel', 'previously_insured', 'annual_premium', 'vintage',\n",
    "                          'vehicle_hist', 'gender_Female', 'gender_Male']\n",
    "    df9 = df9[cols_selected_full].copy()\n",
    "    return df9"
   ]
  },
  {
   "cell_type": "code",
   "execution_count": null,
   "metadata": {
    "ExecuteTime": {
     "end_time": "2021-02-25T20:43:46.242451Z",
     "start_time": "2021-02-25T20:43:46.236838Z"
    },
    "hidden": true
   },
   "outputs": [],
   "source": [
    "def model_predict(trained_model, data_test):\n",
    "    # drop id\n",
    "    data_testing = data_test.drop(['id'], axis=1).copy()\n",
    "    # predict_proba:\n",
    "    yhat_proba = trained_model.predict_proba(data_testing)\n",
    "    \n",
    "    # transform yhat_proba to 1D-array\n",
    "    yhat_proba_1d = yhat_proba[:, 1].tolist()\n",
    "    \n",
    "    # include in dataframe\n",
    "    testing_data = data_test.copy()\n",
    "    testing_data['score'] = yhat_proba_1d\n",
    "    # sort\n",
    "    testing_data = testing_data.sort_values('score', ascending=False)\n",
    "    # reset index\n",
    "    testing_data.reset_index(drop=True, inplace=True)\n",
    "    return testing_data"
   ]
  }
 ],
 "metadata": {
  "kernelspec": {
   "display_name": "Python 3",
   "language": "python",
   "name": "python3"
  },
  "language_info": {
   "codemirror_mode": {
    "name": "ipython",
    "version": 3
   },
   "file_extension": ".py",
   "mimetype": "text/x-python",
   "name": "python",
   "nbconvert_exporter": "python",
   "pygments_lexer": "ipython3",
   "version": "3.8.5"
  }
 },
 "nbformat": 4,
 "nbformat_minor": 4
}
