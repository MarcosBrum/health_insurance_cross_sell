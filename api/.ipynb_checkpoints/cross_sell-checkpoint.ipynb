{
 "cells": [
  {
   "cell_type": "markdown",
   "metadata": {
    "heading_collapsed": true
   },
   "source": [
    "# Import modules"
   ]
  },
  {
   "cell_type": "code",
   "execution_count": null,
   "metadata": {
    "ExecuteTime": {
     "end_time": "2021-02-25T20:43:44.707946Z",
     "start_time": "2021-02-25T20:43:43.932788Z"
    },
    "hidden": true
   },
   "outputs": [],
   "source": [
    "import pandas as pd\n",
    "import numpy as np\n",
    "import pickle"
   ]
  },
  {
   "cell_type": "markdown",
   "metadata": {
    "heading_collapsed": true
   },
   "source": [
    "# Class"
   ]
  },
  {
   "cell_type": "code",
   "execution_count": null,
   "metadata": {
    "ExecuteTime": {
     "end_time": "2021-02-25T20:43:44.710988Z",
     "start_time": "2021-02-25T20:43:44.709157Z"
    },
    "hidden": true
   },
   "outputs": [],
   "source": [
    "class CrossSell:\n",
    "    def __init__(self):\n",
    "        self.home_path = \"/home/marcos/Documentos/comunidade_DS/pa004_health_insurance_cross_sell/\"\n",
    "        self.rs_age = pickle.load(open(self.home_path + \"encoders/age_new_scaler.pkl\", \"rb\"))\n",
    "        self.region_freq = pickle.load(open(self.home_path + \"encoders/region_freq_new_scaler.pkl\", \"rb\"))\n",
    "        self.channel_freq = pickle.load(open(self.home_path + \"encoders/channel_freq_new_scaler.pkl\", \"rb\"))\n",
    "        self.rs_premium = pickle.load(open(self.home_path + \"encoders/premium_new_scaler.pkl\", \"rb\"))\n",
    "        self.mms_vintage = pickle.load(open(self.home_path + \"encoders/vintage_new_scaler.pkl\", \"rb\"))\n",
    "        self.age_encoder = pickle.load(open(self.home_path + \"encoders/v_age_new_encoder.pkl\", \"rb\"))\n",
    "        self.damage_encoder = pickle.load(open(self.home_path + \"encoders/v_dam_new_encoder.pkl\", \"rb\"))\n",
    "\n",
    "    def data_cleaning(self, df1):\n",
    "        # lowercase columns\n",
    "        cols_list = df1.columns.tolist()\n",
    "        cols_lower = [x.lower() for x in cols_list]\n",
    "        df1.columns = cols_lower\n",
    "\n",
    "        # data types\n",
    "        df1['region_code'] = df1['region_code'].astype(int)\n",
    "        df1['policy_sales_channel'] = df1['policy_sales_channel'].astype(int)\n",
    "        return df1\n",
    "\n",
    "    def feature_engineering(self, df2):\n",
    "        def damage_map(damage):\n",
    "            if damage == 'Yes':\n",
    "                return 1\n",
    "            else:\n",
    "                return 0\n",
    "\n",
    "        vehicle_hist = df2['vehicle_damage'].map(damage_map) + 1 - df2['previously_insured']\n",
    "\n",
    "        df2.insert(loc=len(df2.columns)-1, column='vehicle_hist', value=vehicle_hist)\n",
    "        return df2\n",
    "\n",
    "    def data_preparation(self, df9):\n",
    "        df9 = df9.copy()\n",
    "\n",
    "        # apply encoders and scalers\n",
    "        #gender: \"One-hot\" encoder\n",
    "        df9 = pd.get_dummies(df9, prefix='gender', columns=['gender'])\n",
    "\n",
    "        # age - RobustScaler\n",
    "        df9['age'] = self.rs_age.transform(df9[['age']].values)\n",
    "\n",
    "        # region_code - frequency encoding\n",
    "        df9['region_code'] = df9['region_code'].map(self.region_freq)\n",
    "\n",
    "        # policy_sales_channel - frequency encoding\n",
    "        df9['policy_sales_channel'] = df9['policy_sales_channel'].map(self.channel_freq)\n",
    "\n",
    "        # annual_premium - RobustScaler\n",
    "        df9['annual_premium'] = self.rs_premium.transform(df9[['annual_premium']].values)\n",
    "\n",
    "        # vintage - MinMaxScaler\n",
    "        df9['vintage'] = self.mms_vintage.transform(df9[['vintage']].values)\n",
    "\n",
    "        # vehicle_age - LabelEncoder\n",
    "        df9['vehicle_age'] = self.age_encoder.transform(df9['vehicle_age'])\n",
    "\n",
    "        # vehicle_damage - LabelEncoder\n",
    "        df9['vehicle_damage'] = self.damage_encoder.transform(df9['vehicle_damage'])\n",
    "\n",
    "        # select columns\n",
    "        cols_selected_full = ['id', 'age', 'policy_sales_channel', 'previously_insured', 'annual_premium', 'vintage',\n",
    "                              'vehicle_hist', 'gender_Female', 'gender_Male']\n",
    "        df9 = df9[cols_selected_full].copy()\n",
    "        return df9\n",
    "\n",
    "    def model_predict(trained_model, data_test):\n",
    "        # drop id\n",
    "        data_testing = data_test.drop(['id'], axis=1).copy()\n",
    "        # predict_proba:\n",
    "        yhat_proba = trained_model.predict_proba(data_testing)\n",
    "\n",
    "        # transform yhat_proba to 1D-array\n",
    "        yhat_proba_1d = yhat_proba[:, 1].tolist()\n",
    "\n",
    "        # include in dataframe\n",
    "        testing_data = data_test.copy()\n",
    "        testing_data['score'] = yhat_proba_1d\n",
    "        # sort\n",
    "        testing_data = testing_data.sort_values('score', ascending=False)\n",
    "        # reset index\n",
    "        testing_data.reset_index(drop=True, inplace=True)\n",
    "        return testing_data"
   ]
  }
 ],
 "metadata": {
  "kernelspec": {
   "display_name": "Python 3",
   "language": "python",
   "name": "python3"
  },
  "language_info": {
   "codemirror_mode": {
    "name": "ipython",
    "version": 3
   },
   "file_extension": ".py",
   "mimetype": "text/x-python",
   "name": "python",
   "nbconvert_exporter": "python",
   "pygments_lexer": "ipython3",
   "version": "3.8.5"
  }
 },
 "nbformat": 4,
 "nbformat_minor": 4
}
